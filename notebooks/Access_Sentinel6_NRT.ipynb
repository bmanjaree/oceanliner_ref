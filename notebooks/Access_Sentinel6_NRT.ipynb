{
 "cells": [
  {
   "cell_type": "markdown",
   "metadata": {
    "toc": true
   },
   "source": [
    "<h1>Table of Contents<span class=\"tocSkip\"></span></h1>\n",
    "<div class=\"toc\"><ul class=\"toc-item\"><li><span><a href=\"#Before-you-start\" data-toc-modified-id=\"Before-you-start-1\"><span class=\"toc-item-num\">1&nbsp;&nbsp;</span>Before you start</a></span><ul class=\"toc-item\"><li><span><a href=\"#Requirements\" data-toc-modified-id=\"Requirements-1.1\"><span class=\"toc-item-num\">1.1&nbsp;&nbsp;</span>Requirements</a></span></li><li><span><a href=\"#Inputs\" data-toc-modified-id=\"Inputs-1.2\"><span class=\"toc-item-num\">1.2&nbsp;&nbsp;</span>Inputs</a></span></li></ul></li><li><span><a href=\"#Subscriptions\" data-toc-modified-id=\"Subscriptions-2\"><span class=\"toc-item-num\">2&nbsp;&nbsp;</span>Subscriptions</a></span><ul class=\"toc-item\"><li><span><a href=\"#Subscriptions-through-CMR-Search\" data-toc-modified-id=\"Subscriptions-through-CMR-Search-2.1\"><span class=\"toc-item-num\">2.1&nbsp;&nbsp;</span>Subscriptions through CMR Search</a></span></li><li><span><a href=\"#Temporary/alternative-approach\" data-toc-modified-id=\"Temporary/alternative-approach-2.2\"><span class=\"toc-item-num\">2.2&nbsp;&nbsp;</span>Temporary/alternative approach</a></span></li></ul></li><li><span><a href=\"#Echo-Tokens\" data-toc-modified-id=\"Echo-Tokens-3\"><span class=\"toc-item-num\">3&nbsp;&nbsp;</span>Echo Tokens</a></span></li></ul></div>"
   ]
  },
  {
   "cell_type": "markdown",
   "metadata": {},
   "source": [
    "# Access Sentinel-6 NRT Data Tutorial\n",
    "\n",
    "This notebook demonstrates a simple solution and starting point for more complex use cases that require routine access to Sentinel-6 NRT data products."
   ]
  },
  {
   "cell_type": "markdown",
   "metadata": {},
   "source": [
    "## Before you start\n",
    "\n",
    "A few housekeeping items before our simple demo.\n",
    "\n",
    "### Requirements\n",
    "\n",
    "Excluding the steps to retrieve an echo token (Earthdata login required), this notebook requires three imports. \n",
    "\n",
    "One is a community developed module called [`requests`](https://requests.readthedocs.io/en/master/), which provides convenient http request methods that are a little more user friendly than `urllib` or similar. You'll need to install it with pip, conda, or otherwise."
   ]
  },
  {
   "cell_type": "code",
   "execution_count": 1,
   "metadata": {
    "ExecuteTime": {
     "end_time": "2020-07-25T07:53:43.861287Z",
     "start_time": "2020-07-25T07:53:43.710296Z"
    }
   },
   "outputs": [],
   "source": [
    "from json import dumps, loads\n",
    "from datetime import datetime, timedelta\n",
    "from requests import get as GET"
   ]
  },
  {
   "cell_type": "markdown",
   "metadata": {},
   "source": [
    "The base URLs for CMR and CMR UAT instances are shown in the cell below."
   ]
  },
  {
   "cell_type": "code",
   "execution_count": 2,
   "metadata": {
    "ExecuteTime": {
     "end_time": "2020-07-25T07:53:43.864684Z",
     "start_time": "2020-07-25T07:53:43.862739Z"
    }
   },
   "outputs": [],
   "source": [
    "cmr = \"cmr.earthdata.nasa.gov\"\n",
    "#cmr = \"cmr.uat.earthdata.nasa.gov\""
   ]
  },
  {
   "cell_type": "markdown",
   "metadata": {},
   "source": [
    "### Inputs\n",
    "\n",
    "Start by defining some inputs that fit our requirements. They're covered in [the Subscriptions section](#Subscriptions), where the core content of the notebook is demoed. Brief explanations for each of the two \"inputs\" to this workflow is sufficient for now.\n",
    "\n",
    "**The target CMR Collection's unique *concept-id***\n",
    "\n",
    "New granules are ingested routinely at a rate of approximately `1` per `day` to the [GHRSST Level 4 MUR Global Foundation Sea Surface Temperature Analysis (v4.1)](https://podaac.jpl.nasa.gov/dataset/MUR-JPL-L4-GLOB-v4.1) collection in CMR.\n",
    "\n",
    "We use its `concept-id` as one input to our search queries in the next section. Set it as a string to variable `input_ccid`."
   ]
  },
  {
   "cell_type": "code",
   "execution_count": 3,
   "metadata": {
    "ExecuteTime": {
     "end_time": "2020-07-25T07:53:43.873684Z",
     "start_time": "2020-07-25T07:53:43.866719Z"
    }
   },
   "outputs": [
    {
     "data": {
      "text/plain": [
       "'C1664741463-PODAAC'"
      ]
     },
     "execution_count": 3,
     "metadata": {},
     "output_type": "execute_result"
    }
   ],
   "source": [
    "input_ccid = \"C1664741463-PODAAC\"\n",
    "input_ccid"
   ]
  },
  {
   "cell_type": "markdown",
   "metadata": {},
   "source": [
    "**A timestamp corresponding to exactly `24 hours` ago.**\n",
    "\n",
    "The generic input could be described as a period/interval over which to search. Whether you'll need one timestamp or two depends on the query - there are a few good options for this use case. And a good input timestamp depends on the production cycle for the target collection. Our simple use case should inform that `1` granules were ingested in the last `24 hours`.\n",
    "\n",
    "Finding an appropriate timestamp is fairly simple in Python. This approach relies on the `datetime` module.\n",
    "\n",
    "1. Call `datetime.now` to get a datetime object corresponding to the current date and time."
   ]
  },
  {
   "cell_type": "code",
   "execution_count": 4,
   "metadata": {
    "ExecuteTime": {
     "end_time": "2020-07-25T07:53:43.903276Z",
     "start_time": "2020-07-25T07:53:43.900079Z"
    }
   },
   "outputs": [
    {
     "data": {
      "text/plain": [
       "datetime.datetime(2020, 7, 25, 3, 53, 43, 900692)"
      ]
     },
     "execution_count": 4,
     "metadata": {},
     "output_type": "execute_result"
    }
   ],
   "source": [
    "now = datetime.now()\n",
    "now"
   ]
  },
  {
   "cell_type": "markdown",
   "metadata": {},
   "source": [
    "A dictionary below contains the time components permissible defining the period covered by a `datetime.timedelta` object. \n",
    "\n",
    "We only need `day`:"
   ]
  },
  {
   "cell_type": "code",
   "execution_count": 5,
   "metadata": {
    "ExecuteTime": {
     "end_time": "2020-07-25T07:53:43.963198Z",
     "start_time": "2020-07-25T07:53:43.959170Z"
    }
   },
   "outputs": [
    {
     "data": {
      "text/plain": [
       "{'microseconds': 0,\n",
       " 'milliseconds': 0,\n",
       " 'seconds': 0,\n",
       " 'minutes': 0,\n",
       " 'hours': 0,\n",
       " 'days': 1,\n",
       " 'weeks': 0}"
      ]
     },
     "execution_count": 5,
     "metadata": {},
     "output_type": "execute_result"
    }
   ],
   "source": [
    "input_datetime = dict(\n",
    "    microseconds=0,\n",
    "    milliseconds=0,\n",
    "    seconds=0,\n",
    "    minutes=0,\n",
    "    hours=0,\n",
    "    days=1,\n",
    "    weeks=0,\n",
    ")\n",
    "\n",
    "input_datetime"
   ]
  },
  {
   "cell_type": "markdown",
   "metadata": {},
   "source": [
    "2. Call `timedelta` to create an object that represents a period of `24 hours/1 day`."
   ]
  },
  {
   "cell_type": "code",
   "execution_count": 6,
   "metadata": {
    "ExecuteTime": {
     "end_time": "2020-07-25T07:53:44.023909Z",
     "start_time": "2020-07-25T07:53:44.020793Z"
    }
   },
   "outputs": [
    {
     "data": {
      "text/plain": [
       "datetime.timedelta(days=1)"
      ]
     },
     "execution_count": 6,
     "metadata": {},
     "output_type": "execute_result"
    }
   ],
   "source": [
    "period = timedelta(**input_datetime)\n",
    "period"
   ]
  },
  {
   "cell_type": "markdown",
   "metadata": {},
   "source": [
    "Now simple arithmetic gives us the period/interval over which to search for new granules. \n",
    "\n",
    "3. Get a timestamp corresponding to one day ago."
   ]
  },
  {
   "cell_type": "code",
   "execution_count": 7,
   "metadata": {
    "ExecuteTime": {
     "end_time": "2020-07-25T07:53:44.092430Z",
     "start_time": "2020-07-25T07:53:44.089472Z"
    }
   },
   "outputs": [
    {
     "data": {
      "text/plain": [
       "datetime.datetime(2020, 7, 24, 3, 53, 43, 900692)"
      ]
     },
     "execution_count": 7,
     "metadata": {},
     "output_type": "execute_result"
    }
   ],
   "source": [
    "yesterday = now - period\n",
    "yesterday"
   ]
  },
  {
   "cell_type": "markdown",
   "metadata": {},
   "source": [
    "Finally, get the timestamp as a string."
   ]
  },
  {
   "cell_type": "code",
   "execution_count": 8,
   "metadata": {
    "ExecuteTime": {
     "end_time": "2020-07-25T07:53:44.161008Z",
     "start_time": "2020-07-25T07:53:44.156927Z"
    }
   },
   "outputs": [
    {
     "data": {
      "text/plain": [
       "'2020-07-24T03:53:43Z'"
      ]
     },
     "execution_count": 8,
     "metadata": {},
     "output_type": "execute_result"
    }
   ],
   "source": [
    "input_timestamp = yesterday.strftime(\"%Y-%m-%dT%H:%M:%SZ\")\n",
    "input_timestamp"
   ]
  },
  {
   "cell_type": "markdown",
   "metadata": {},
   "source": [
    "We'll pass this timestamp with the query demonstrated in the next section."
   ]
  },
  {
   "cell_type": "markdown",
   "metadata": {},
   "source": [
    "## Subscriptions"
   ]
  },
  {
   "cell_type": "markdown",
   "metadata": {},
   "source": [
    "### Subscriptions through CMR Search\n",
    "\n",
    "*This feature of CMR is still in development so this notebook does not provide a demo.*\n",
    "\n",
    "A Subscription can trigger events when new metadata records are ingested/updated in CMR. The documentation for this feature of the CMR Search API is found in [the documentation](https://cmr.earthdata.nasa.gov/search/site/docs/search/api.html#subscription). An ECHO token is required to use CMR Subscriptions. See ([the Echo Tokens section](#Echo-Tokens)) for an explanation of ECHO tokens and how to retrieve one (valid for 24 hours). \n",
    "\n",
    "For now, just check CMR for available Subscription records at the corresponding endpoint."
   ]
  },
  {
   "cell_type": "code",
   "execution_count": 9,
   "metadata": {
    "ExecuteTime": {
     "end_time": "2020-07-25T07:53:45.409782Z",
     "start_time": "2020-07-25T07:53:44.366881Z"
    }
   },
   "outputs": [
    {
     "name": "stdout",
     "output_type": "stream",
     "text": [
      "https://cmr.earthdata.nasa.gov/search/subscriptions.umm_json?pretty=true\n",
      "{\n",
      "  \"hits\" : 0,\n",
      "  \"took\" : 3,\n",
      "  \"items\" : [ ]\n",
      "}"
     ]
    }
   ],
   "source": [
    "subscriptions = f\"https://{cmr}/search/subscriptions.umm_json?pretty=true\"\n",
    "print(subscriptions)\n",
    "!curl $subscriptions"
   ]
  },
  {
   "cell_type": "markdown",
   "metadata": {},
   "source": [
    "### Temporary/alternative approach\n",
    "\n",
    "The section implements a comparable \"Subscription\" using the CMR Search API. As we touched on above, the approach is to request the granule records ingested to CMR in the last `24 hours`. The collection should have grown by about `1` granules over that period.\n",
    "\n",
    "There are several ways to query for CMR updates that occured during a given timeframe. More in the CMR Search documentation:\n",
    "\n",
    "* https://cmr.earthdata.nasa.gov/search/site/docs/search/api.html#c-with-new-granules (Collections)\n",
    "* https://cmr.earthdata.nasa.gov/search/site/docs/search/api.html#c-with-revised-granules (Collections)\n",
    "* https://cmr.earthdata.nasa.gov/search/site/docs/search/api.html#g-production-date (Granules)\n",
    "* https://cmr.earthdata.nasa.gov/search/site/docs/search/api.html#g-created-at (Granules)\n",
    "\n",
    "We'll use the `created_at` parameter for granule search to retrieved the granule records ingested since the timestamp derived in the first section. Requisite parameters:"
   ]
  },
  {
   "cell_type": "code",
   "execution_count": 10,
   "metadata": {
    "ExecuteTime": {
     "end_time": "2020-07-25T07:53:45.415026Z",
     "start_time": "2020-07-25T07:53:45.411749Z"
    }
   },
   "outputs": [
    {
     "data": {
      "text/plain": [
       "{'collection_concept_id': 'C1664741463-PODAAC',\n",
       " 'created_at': '2020-07-24T03:53:43Z'}"
      ]
     },
     "execution_count": 10,
     "metadata": {},
     "output_type": "execute_result"
    }
   ],
   "source": [
    "params = {'collection_concept_id': input_ccid, 'created_at': input_timestamp}\n",
    "params"
   ]
  },
  {
   "cell_type": "markdown",
   "metadata": {},
   "source": [
    "Join the parameters dictionary into the query string by joining the parameters and values with `=`, then the `parameter=value` pairs to each other with `&`."
   ]
  },
  {
   "cell_type": "code",
   "execution_count": 11,
   "metadata": {
    "ExecuteTime": {
     "end_time": "2020-07-25T07:53:45.420391Z",
     "start_time": "2020-07-25T07:53:45.417265Z"
    }
   },
   "outputs": [
    {
     "data": {
      "text/plain": [
       "'collection_concept_id=C1664741463-PODAAC&created_at=2020-07-24T03:53:43Z'"
      ]
     },
     "execution_count": 11,
     "metadata": {},
     "output_type": "execute_result"
    }
   ],
   "source": [
    "query = \"&\".join([f\"{p}={v}\" for p,v in params.items()])\n",
    "query"
   ]
  },
  {
   "cell_type": "markdown",
   "metadata": {},
   "source": [
    "Append to the CMR Search endpoint for collections."
   ]
  },
  {
   "cell_type": "code",
   "execution_count": 12,
   "metadata": {
    "ExecuteTime": {
     "end_time": "2020-07-25T07:53:45.424856Z",
     "start_time": "2020-07-25T07:53:45.422475Z"
    }
   },
   "outputs": [
    {
     "name": "stdout",
     "output_type": "stream",
     "text": [
      "https://cmr.earthdata.nasa.gov/search/granules.umm_json?collection_concept_id=C1664741463-PODAAC&created_at=2020-07-24T03:53:43Z\n"
     ]
    }
   ],
   "source": [
    "url = f\"https://{cmr}/search/granules.umm_json?{query}\"\n",
    "print(url)"
   ]
  },
  {
   "cell_type": "markdown",
   "metadata": {},
   "source": [
    "Download the granule records that match our search parameters."
   ]
  },
  {
   "cell_type": "code",
   "execution_count": 13,
   "metadata": {
    "ExecuteTime": {
     "end_time": "2020-07-25T07:53:45.839613Z",
     "start_time": "2020-07-25T07:53:45.426327Z"
    }
   },
   "outputs": [
    {
     "name": "stdout",
     "output_type": "stream",
     "text": [
      "1 new granules ingested for 'C1664741463-PODAAC' since '2020-07-24T03:53:43Z'.\n"
     ]
    }
   ],
   "source": [
    "results = GET(url).json()\n",
    "print(f\"{results['hits']} new granules ingested for '{input_ccid}' since '{input_timestamp}'.\")"
   ]
  },
  {
   "cell_type": "markdown",
   "metadata": {},
   "source": [
    "Since it's only one record, display it in its entirety:"
   ]
  },
  {
   "cell_type": "code",
   "execution_count": 14,
   "metadata": {
    "ExecuteTime": {
     "end_time": "2020-07-25T07:53:45.844128Z",
     "start_time": "2020-07-25T07:53:45.841280Z"
    }
   },
   "outputs": [
    {
     "name": "stdout",
     "output_type": "stream",
     "text": [
      "{\n",
      "  \"TemporalExtent\": {\n",
      "    \"RangeDateTime\": {\n",
      "      \"BeginningDateTime\": \"2020-07-23T09:00:00.000Z\",\n",
      "      \"EndingDateTime\": \"2020-07-23T09:00:00.000Z\"\n",
      "    }\n",
      "  },\n",
      "  \"OrbitCalculatedSpatialDomains\": [\n",
      "    {}\n",
      "  ],\n",
      "  \"GranuleUR\": \"20200723090000-JPL-L4_GHRSST-SSTfnd-MUR-GLOB-v02.0-fv04.1.nc\",\n",
      "  \"SpatialExtent\": {\n",
      "    \"HorizontalSpatialDomain\": {\n",
      "      \"Geometry\": {\n",
      "        \"BoundingRectangles\": [\n",
      "          {\n",
      "            \"WestBoundingCoordinate\": -179.99,\n",
      "            \"EastBoundingCoordinate\": 180.0,\n",
      "            \"NorthBoundingCoordinate\": 89.99,\n",
      "            \"SouthBoundingCoordinate\": -89.99\n",
      "          }\n",
      "        ]\n",
      "      }\n",
      "    }\n",
      "  },\n",
      "  \"ProviderDates\": [\n",
      "    {\n",
      "      \"Date\": \"2020-07-24T09:15:21.849Z\",\n",
      "      \"Type\": \"Insert\"\n",
      "    },\n",
      "    {\n",
      "      \"Date\": \"2020-07-24T12:58:55.028Z\",\n",
      "      \"Type\": \"Update\"\n",
      "    }\n",
      "  ],\n",
      "  \"CollectionReference\": {\n",
      "    \"ShortName\": \"MUR-JPL-L4-GLOB-v4.1\",\n",
      "    \"Version\": \"4.1\"\n",
      "  },\n",
      "  \"RelatedUrls\": [\n",
      "    {\n",
      "      \"URL\": \"https://podaac-tools.jpl.nasa.gov/drive/files/allData/ghrsst/data/GDS2/L4/GLOB/JPL/MUR/v4.1/2020/205/20200723090000-JPL-L4_GHRSST-SSTfnd-MUR-GLOB-v02.0-fv04.1.nc\",\n",
      "      \"Type\": \"GET DATA\",\n",
      "      \"Description\": \"The HTTP location for the granule.\"\n",
      "    },\n",
      "    {\n",
      "      \"URL\": \"https://podaac-opendap.jpl.nasa.gov/opendap/allData/ghrsst/data/GDS2/L4/GLOB/JPL/MUR/v4.1/2020/205/20200723090000-JPL-L4_GHRSST-SSTfnd-MUR-GLOB-v02.0-fv04.1.nc.html\",\n",
      "      \"Type\": \"VIEW RELATED INFORMATION\",\n",
      "      \"Description\": \"The OPENDAP location for the granule.\",\n",
      "      \"MimeType\": \"text/html\"\n",
      "    }\n",
      "  ],\n",
      "  \"DataGranule\": {\n",
      "    \"DayNightFlag\": \"Unspecified\",\n",
      "    \"ProductionDateTime\": \"2020-07-24T09:10:13.000Z\",\n",
      "    \"ArchiveAndDistributionInformation\": [\n",
      "      {\n",
      "        \"Name\": \"Not provided\",\n",
      "        \"Size\": 689.4904584884644,\n",
      "        \"SizeUnit\": \"MB\"\n",
      "      }\n",
      "    ]\n",
      "  },\n",
      "  \"MetadataSpecification\": {\n",
      "    \"URL\": \"https://cdn.earthdata.nasa.gov/umm/granule/v1.6.1\",\n",
      "    \"Name\": \"UMM-G\",\n",
      "    \"Version\": \"1.6.1\"\n",
      "  }\n",
      "}\n"
     ]
    }
   ],
   "source": [
    "print(dumps(results['items'][0]['umm'], indent=2))"
   ]
  },
  {
   "cell_type": "markdown",
   "metadata": {},
   "source": [
    "The UMM-G record shown above provides a wealth of info about the new granule. Among the list of related web resources stored in the `RelatedUrls` section is a link for http access denoted by `\"Type\": \"GET DATA\"`.\n",
    "\n",
    "Grab the download URL, but do it in a way that'll work for search results returning any number of granule records:"
   ]
  },
  {
   "cell_type": "code",
   "execution_count": 15,
   "metadata": {
    "ExecuteTime": {
     "end_time": "2020-07-25T07:53:45.848790Z",
     "start_time": "2020-07-25T07:53:45.845669Z"
    }
   },
   "outputs": [
    {
     "data": {
      "text/plain": [
       "['https://podaac-tools.jpl.nasa.gov/drive/files/allData/ghrsst/data/GDS2/L4/GLOB/JPL/MUR/v4.1/2020/205/20200723090000-JPL-L4_GHRSST-SSTfnd-MUR-GLOB-v02.0-fv04.1.nc']"
      ]
     },
     "execution_count": 15,
     "metadata": {},
     "output_type": "execute_result"
    }
   ],
   "source": [
    "downloads = [r['umm']['RelatedUrls'][0]['URL'] for r in results['items']]\n",
    "downloads"
   ]
  },
  {
   "cell_type": "markdown",
   "metadata": {},
   "source": [
    "If a list of past records exists in the repo's resources directory (at [resources/nrt-granules.txt](resources/nrt-granules.txt), read it and update it by replacing the timestamp in the first line and appending the new URLs to the file. Otherwise, create the file for the first time."
   ]
  },
  {
   "cell_type": "code",
   "execution_count": 16,
   "metadata": {
    "ExecuteTime": {
     "end_time": "2020-07-25T07:53:45.855593Z",
     "start_time": "2020-07-25T07:53:45.851550Z"
    }
   },
   "outputs": [],
   "source": [
    "urls_file = \"resources/nrt-granules.txt\"\n",
    "urls_hist = [input_timestamp]\n",
    "\n",
    "# If nrt-granules.txt exists, read the lines.\n",
    "if isfile(urls_file):\n",
    "    with open(urls_file, \"r\") as f:\n",
    "        urls_hist = f.readlines()\n",
    "        \n",
    "        # Replace first row's timestamp with the new one.\n",
    "        urls_hist[0] = input_timestamp\n",
    "\n",
    "# Open file for writing and write merged list of URLs.\n",
    "with open(urls_file, \"w\") as f:\n",
    "    f.write(\"\\n\".join(urls_hist+downloads))"
   ]
  },
  {
   "cell_type": "markdown",
   "metadata": {},
   "source": [
    "## Echo Tokens\n",
    "\n",
    "A few user notes about this section and echo tokens in general:\n",
    "\n",
    "* You need an Earthdata Login account to request a token. Register at [https://uat.urs.earthdata.nasa.gov](https://uat.urs.earthdata.nasa.gov).\n",
    "* Tokens expire after 24 hours.\n",
    "\n",
    "Some of the DAAC-facing capabilities of the Search API require an Echo Token. The Echo Token allows CMR to know who is making a request. Once the requester has the token, the token can be placed into the http header for the necessary API calls. The Subscription service has this requirement.\n",
    "\n",
    "**Retrieve token by POSTing Earthdata credential as XML:**\n",
    "\n",
    "The format of the XML data that we POST to CMR Search to retrieve a temporary Echo Token:\n",
    "\n",
    "```xml\n",
    "<token>\n",
    "  <username>{USER}</username>\n",
    "  <password>{PASSWORD}</password>\n",
    "  <client_id>{CLIENT ID}</client_id>   \n",
    "  <user_ip_address>{IP ADDRESS}</user_ip_address>\n",
    "</token>\n",
    "```\n",
    "\n",
    "The XML data are POSTED to this service endpoint: [https://cmr.earthdata.nasa.gov/legacy-services/rest/tokens](https://cmr.earthdata.nasa.gov/legacy-services/rest/tokens). For example, if my XML are assigned to bash variable `$DATA`:\n",
    "\n",
    "```shell\n",
    "curl -X POST --header \"Content-Type: application/xml\" -d $DATA https://cmr.earthdata.nasa.gov/legacy-services/rest/tokens\n",
    "```\n",
    "\n",
    "Retrieve a new an echo token below:"
   ]
  },
  {
   "cell_type": "code",
   "execution_count": 17,
   "metadata": {
    "ExecuteTime": {
     "end_time": "2020-07-25T07:53:45.862806Z",
     "start_time": "2020-07-25T07:53:45.857389Z"
    }
   },
   "outputs": [],
   "source": [
    "# USER NOTE:\n",
    "#\n",
    "#  This function really isn't meant for use outside the notebook. \n",
    "#  There are simpler/safer approaches in the shell/Python interpreter.\n",
    "#\n",
    "from IPython.display import clear_output\n",
    "from socket import gethostname, gethostbyname\n",
    "from requests import post as POST\n",
    "from getpass import getpass\n",
    "\n",
    "\n",
    "def get_echo_token(client_ip: str=None, client_name: str=None):\n",
    "    \"\"\"Returns a temporary Echo-Token following URS authentication.\n",
    "\n",
    "    Parameters\n",
    "    ----------\n",
    "    cmr_or_uat (bool, optional): Want a UAT token? Or a CMR token?\n",
    "    client_name (str, optional): A name for the NRT client/app.\n",
    "    client_ip (str, optional): The host's IP address.\n",
    "\n",
    "    Returns\n",
    "    -------\n",
    "    str: a temporary Echo-Token (valid for 24 hours)\n",
    "\n",
    "    \"\"\"\n",
    "\n",
    "    # Get client's IP if not given in 'client_ip' argument (local).\n",
    "    ip = gethostbyname(gethostname()) if client_ip is None else client_ip\n",
    "    \n",
    "    # Use a fake client/application name if None was given.\n",
    "    name = \"PodaacTutorial\" if client_name is None else client_name\n",
    "\n",
    "    # Prompt user for URS credentials; POST as xml data.\n",
    "    response = POST(\n",
    "\n",
    "        # Format the end point for the ECHO-TOKENS.\n",
    "        url=f\"https://{cmr}/legacy-services/rest/tokens\",\n",
    "\n",
    "        # Data are in XML format.\n",
    "        headers={'Content-Type': \"application/xml\"}, \n",
    "\n",
    "        # Prompt for credentials, format XML string for the data argument.\n",
    "        data=(\"<token>\"\n",
    "\n",
    "            # Prompt user for their URS/Earthdata username:\n",
    "            f\"<username>{ input('Username: ') }</username>\"\n",
    "\n",
    "            # Prompt user for their password (Python stdlib 'getpass'):\n",
    "            f\"<password>{ getpass('Password: ') }</password>\"\n",
    "\n",
    "            # Provide a string identifier for client/application:\n",
    "            f\"<client_id>{ name }</client_id>\"\n",
    "\n",
    "            # Get the host's external IP address:\n",
    "            f\"<user_ip_address>{ ip }</user_ip_address>\"\n",
    "\n",
    "        \"</token>\")\n",
    "\n",
    "    )\n",
    "\n",
    "    # Clear prompts from output, return response text.\n",
    "    clear_output()\n",
    "\n",
    "    return response.text"
   ]
  },
  {
   "cell_type": "markdown",
   "metadata": {},
   "source": [
    "Call the function, enter credentials, get token xml response:"
   ]
  },
  {
   "cell_type": "code",
   "execution_count": 18,
   "metadata": {
    "ExecuteTime": {
     "end_time": "2020-07-25T07:53:55.565880Z",
     "start_time": "2020-07-25T07:53:45.864252Z"
    }
   },
   "outputs": [
    {
     "name": "stdout",
     "output_type": "stream",
     "text": [
      "<?xml version=\"1.0\" encoding=\"UTF-8\"?>\n",
      "<token>\n",
      "  <id>CA7D3FE8-D029-09BB-361E-489DCE1FCC6E</id>\n",
      "  <username>jmcnelis</username>\n",
      "  <client_id>PodaacTutorial</client_id>\n",
      "  <user_ip_address>192.168.1.189</user_ip_address>\n",
      "</token>\n",
      "\n"
     ]
    }
   ],
   "source": [
    "xml_response = get_echo_token()\n",
    "\n",
    "print(xml_response)"
   ]
  },
  {
   "cell_type": "markdown",
   "metadata": {
    "ExecuteTime": {
     "end_time": "2020-07-24T23:12:38.212837Z",
     "start_time": "2020-07-24T23:12:38.208741Z"
    }
   },
   "source": [
    "Select just the ECHO token string by splitting the block of text at the newline symbol (`\\n`) and slicing the third line in the resulting list:"
   ]
  },
  {
   "cell_type": "code",
   "execution_count": 19,
   "metadata": {
    "ExecuteTime": {
     "end_time": "2020-07-25T07:53:55.572038Z",
     "start_time": "2020-07-25T07:53:55.567968Z"
    }
   },
   "outputs": [
    {
     "data": {
      "text/plain": [
       "'CA7D3FE8-D029-09BB-361E-489DCE1FCC6E'"
      ]
     },
     "execution_count": 19,
     "metadata": {},
     "output_type": "execute_result"
    }
   ],
   "source": [
    "try:\n",
    "    token = xml_response.splitlines()[2][6:-5]\n",
    "except IndexError as e:\n",
    "    raise e\n",
    "    \n",
    "token"
   ]
  }
 ],
 "metadata": {
  "kernelspec": {
   "display_name": "Python 3",
   "language": "python",
   "name": "python3"
  },
  "language_info": {
   "codemirror_mode": {
    "name": "ipython",
    "version": 3
   },
   "file_extension": ".py",
   "mimetype": "text/x-python",
   "name": "python",
   "nbconvert_exporter": "python",
   "pygments_lexer": "ipython3",
   "version": "3.7.7"
  },
  "toc": {
   "base_numbering": 1,
   "nav_menu": {},
   "number_sections": true,
   "sideBar": true,
   "skip_h1_title": true,
   "title_cell": "Table of Contents",
   "title_sidebar": "Contents",
   "toc_cell": true,
   "toc_position": {
    "height": "calc(100% - 180px)",
    "left": "10px",
    "top": "150px",
    "width": "241.528px"
   },
   "toc_section_display": true,
   "toc_window_display": false
  }
 },
 "nbformat": 4,
 "nbformat_minor": 4
}
