{
 "cells": [
  {
   "cell_type": "markdown",
   "metadata": {
    "toc": true
   },
   "source": [
    "<h1>Table of Contents<span class=\"tocSkip\"></span></h1>\n",
    "<div class=\"toc\"><ul class=\"toc-item\"><li><span><a href=\"#Before-you-start\" data-toc-modified-id=\"Before-you-start-1\"><span class=\"toc-item-num\">1&nbsp;&nbsp;</span>Before you start</a></span><ul class=\"toc-item\"><li><span><a href=\"#Requirements\" data-toc-modified-id=\"Requirements-1.1\"><span class=\"toc-item-num\">1.1&nbsp;&nbsp;</span>Requirements</a></span></li><li><span><a href=\"#Inputs\" data-toc-modified-id=\"Inputs-1.2\"><span class=\"toc-item-num\">1.2&nbsp;&nbsp;</span>Inputs</a></span></li></ul></li><li><span><a href=\"#Subscriptions\" data-toc-modified-id=\"Subscriptions-2\"><span class=\"toc-item-num\">2&nbsp;&nbsp;</span>Subscriptions</a></span><ul class=\"toc-item\"><li><span><a href=\"#Subscriptions-through-CMR-Search\" data-toc-modified-id=\"Subscriptions-through-CMR-Search-2.1\"><span class=\"toc-item-num\">2.1&nbsp;&nbsp;</span>Subscriptions through CMR Search</a></span></li><li><span><a href=\"#Temporary/alternative-approach\" data-toc-modified-id=\"Temporary/alternative-approach-2.2\"><span class=\"toc-item-num\">2.2&nbsp;&nbsp;</span>Temporary/alternative approach</a></span></li></ul></li><li><span><a href=\"#Echo-Tokens\" data-toc-modified-id=\"Echo-Tokens-3\"><span class=\"toc-item-num\">3&nbsp;&nbsp;</span>Echo Tokens</a></span></li></ul></div>"
   ]
  },
  {
   "cell_type": "markdown",
   "metadata": {},
   "source": [
    "# Access Sentinel-6 NRT Data Tutorial\n",
    "\n",
    "This notebook demonstrates a simple solution and starting point for more complex use cases that require routine access to Sentinel-6 NRT data products."
   ]
  },
  {
   "cell_type": "markdown",
   "metadata": {},
   "source": [
    "## Before you start\n",
    "\n",
    "A few housekeeping items before our simple demo.\n",
    "\n",
    "### Requirements\n",
    "\n",
    "Excluding the steps to retrieve an echo token (Earthdata login required), this notebook requires three imports. \n",
    "\n",
    "One is a community developed module called [`requests`](https://requests.readthedocs.io/en/master/), which provides convenient http request methods that are a little more user friendly than `urllib` or similar. You'll need to install it with pip, conda, or otherwise."
   ]
  },
  {
   "cell_type": "code",
   "execution_count": 1,
   "metadata": {
    "ExecuteTime": {
     "end_time": "2020-07-25T07:03:44.000602Z",
     "start_time": "2020-07-25T07:03:43.862093Z"
    }
   },
   "outputs": [],
   "source": [
    "from json import dumps, loads\n",
    "from datetime import datetime, timedelta\n",
    "from requests import get as GET"
   ]
  },
  {
   "cell_type": "markdown",
   "metadata": {},
   "source": [
    "The base URLs for CMR and CMR UAT instances are set to Python variables in the cell below."
   ]
  },
  {
   "cell_type": "code",
   "execution_count": 2,
   "metadata": {
    "ExecuteTime": {
     "end_time": "2020-07-25T07:03:44.006121Z",
     "start_time": "2020-07-25T07:03:44.003241Z"
    }
   },
   "outputs": [],
   "source": [
    "cmr = \"https://cmr.earthdata.nasa.gov\"\n",
    "uat = \"https://cmr.uat.earthdata.nasa.gov\""
   ]
  },
  {
   "cell_type": "markdown",
   "metadata": {},
   "source": [
    "### Inputs\n",
    "\n",
    "Start by defining some inputs that fit our requirements. They're covered in [the Subscriptions section](#Subscriptions), where the core content of the notebook is demoed. Brief explanations for each of the two \"inputs\" to this workflow is sufficient for now.\n",
    "\n",
    "**The target CMR Collection's unique *concept-id***\n",
    "\n",
    "New granules are ingested routinely at a rate of approximately `1` per `day` to the [GHRSST Level 4 MUR Global Foundation Sea Surface Temperature Analysis (v4.1)](https://podaac.jpl.nasa.gov/dataset/MUR-JPL-L4-GLOB-v4.1) collection in CMR.\n",
    "\n",
    "We use its `concept-id` as one input to our search queries in the next section. Set it as a string to variable `input_ccid`."
   ]
  },
  {
   "cell_type": "code",
   "execution_count": 3,
   "metadata": {
    "ExecuteTime": {
     "end_time": "2020-07-25T07:03:44.017024Z",
     "start_time": "2020-07-25T07:03:44.010245Z"
    }
   },
   "outputs": [
    {
     "data": {
      "text/plain": [
       "'C1664741463-PODAAC'"
      ]
     },
     "execution_count": 3,
     "metadata": {},
     "output_type": "execute_result"
    }
   ],
   "source": [
    "input_ccid = \"C1664741463-PODAAC\"\n",
    "input_ccid"
   ]
  },
  {
   "cell_type": "markdown",
   "metadata": {},
   "source": [
    "**A timestamp corresponding to exactly `24 hours` ago.**\n",
    "\n",
    "The generic input could be described as a period/interval over which to search. Whether you'll need one timestamp or two depends on the query - there are a few good options for this use case. And a good input timestamp depends on the production cycle for the target collection. Our simple use case should inform that `1` granules were ingested in the last `24 hours`.\n",
    "\n",
    "Finding an appropriate timestamp is fairly simple in Python. This approach relies on the `datetime` module.\n",
    "\n",
    "1. Call `datetime.now` to get a datetime object corresponding to the current date and time."
   ]
  },
  {
   "cell_type": "code",
   "execution_count": 4,
   "metadata": {
    "ExecuteTime": {
     "end_time": "2020-07-25T07:03:44.089948Z",
     "start_time": "2020-07-25T07:03:44.087170Z"
    }
   },
   "outputs": [
    {
     "data": {
      "text/plain": [
       "datetime.datetime(2020, 7, 25, 3, 3, 44, 87870)"
      ]
     },
     "execution_count": 4,
     "metadata": {},
     "output_type": "execute_result"
    }
   ],
   "source": [
    "now = datetime.now()\n",
    "now"
   ]
  },
  {
   "cell_type": "markdown",
   "metadata": {},
   "source": [
    "A dictionary below contains the time components permissible defining the period covered by a `datetime.timedelta` object. \n",
    "\n",
    "We only need `day`:"
   ]
  },
  {
   "cell_type": "code",
   "execution_count": 5,
   "metadata": {
    "ExecuteTime": {
     "end_time": "2020-07-25T07:03:44.160792Z",
     "start_time": "2020-07-25T07:03:44.157261Z"
    }
   },
   "outputs": [
    {
     "data": {
      "text/plain": [
       "{'microseconds': 0,\n",
       " 'milliseconds': 0,\n",
       " 'seconds': 0,\n",
       " 'minutes': 0,\n",
       " 'hours': 0,\n",
       " 'days': 1,\n",
       " 'weeks': 0}"
      ]
     },
     "execution_count": 5,
     "metadata": {},
     "output_type": "execute_result"
    }
   ],
   "source": [
    "input_datetime = dict(\n",
    "    microseconds=0,\n",
    "    milliseconds=0,\n",
    "    seconds=0,\n",
    "    minutes=0,\n",
    "    hours=0,\n",
    "    days=1,\n",
    "    weeks=0,\n",
    ")\n",
    "\n",
    "input_datetime"
   ]
  },
  {
   "cell_type": "markdown",
   "metadata": {},
   "source": [
    "2. Call `timedelta` to create an object that represents a period of `24 hours/1 day`."
   ]
  },
  {
   "cell_type": "code",
   "execution_count": 6,
   "metadata": {
    "ExecuteTime": {
     "end_time": "2020-07-25T07:03:44.220593Z",
     "start_time": "2020-07-25T07:03:44.217689Z"
    }
   },
   "outputs": [
    {
     "data": {
      "text/plain": [
       "datetime.timedelta(days=1)"
      ]
     },
     "execution_count": 6,
     "metadata": {},
     "output_type": "execute_result"
    }
   ],
   "source": [
    "period = timedelta(**input_datetime)\n",
    "period"
   ]
  },
  {
   "cell_type": "markdown",
   "metadata": {},
   "source": [
    "Now simple arithmetic gives us the period/interval over which to search for new granules. \n",
    "\n",
    "3. Get a timestamp corresponding to one day ago."
   ]
  },
  {
   "cell_type": "code",
   "execution_count": 7,
   "metadata": {
    "ExecuteTime": {
     "end_time": "2020-07-25T07:03:44.288361Z",
     "start_time": "2020-07-25T07:03:44.285348Z"
    }
   },
   "outputs": [
    {
     "data": {
      "text/plain": [
       "datetime.datetime(2020, 7, 24, 3, 3, 44, 87870)"
      ]
     },
     "execution_count": 7,
     "metadata": {},
     "output_type": "execute_result"
    }
   ],
   "source": [
    "yesterday = now - period\n",
    "yesterday"
   ]
  },
  {
   "cell_type": "markdown",
   "metadata": {},
   "source": [
    "Finally, get the timestamp as a string."
   ]
  },
  {
   "cell_type": "code",
   "execution_count": 8,
   "metadata": {
    "ExecuteTime": {
     "end_time": "2020-07-25T07:03:44.352248Z",
     "start_time": "2020-07-25T07:03:44.348254Z"
    }
   },
   "outputs": [
    {
     "data": {
      "text/plain": [
       "'2020-07-24T03:03:44Z'"
      ]
     },
     "execution_count": 8,
     "metadata": {},
     "output_type": "execute_result"
    }
   ],
   "source": [
    "input_timestamp = yesterday.strftime(\"%Y-%m-%dT%H:%M:%SZ\")\n",
    "input_timestamp"
   ]
  },
  {
   "cell_type": "markdown",
   "metadata": {},
   "source": [
    "We'll pass this timestamp with the query demonstrated in the next section."
   ]
  },
  {
   "cell_type": "markdown",
   "metadata": {},
   "source": [
    "## Subscriptions"
   ]
  },
  {
   "cell_type": "markdown",
   "metadata": {},
   "source": [
    "### Subscriptions through CMR Search\n",
    "\n",
    "A Subscription can trigger events when new metadata records are ingested/updated in CMR. The documentation for this feature of the CMR Search API is found in the documentation [here](https://cmr.earthdata.nasa.gov/search/site/docs/search/api.html#subscription). This feature of CMR is still in development and inaccessible.\n",
    "\n",
    "*An ECHO token is required to use CMR Subscriptions.* See the next/last section ([Echo Tokens](#Echo-Tokens)) for an explanation of ECHO tokens and how to retrieve them. For now, just check the `cmr` and the CMR `uat` instances for available Subscription records at the corresponding endpoints.\n",
    "\n",
    "Production CMR:"
   ]
  },
  {
   "cell_type": "code",
   "execution_count": 9,
   "metadata": {
    "ExecuteTime": {
     "end_time": "2020-07-25T07:03:45.218378Z",
     "start_time": "2020-07-25T07:03:44.533839Z"
    }
   },
   "outputs": [
    {
     "name": "stdout",
     "output_type": "stream",
     "text": [
      "{\r\n",
      "  \"hits\" : 0,\r\n",
      "  \"took\" : 5,\r\n",
      "  \"items\" : [ ]\r\n",
      "}"
     ]
    }
   ],
   "source": [
    "!curl https://cmr.earthdata.nasa.gov/search/subscriptions.umm_json?pretty=true"
   ]
  },
  {
   "cell_type": "markdown",
   "metadata": {},
   "source": [
    "And CMR UAT:"
   ]
  },
  {
   "cell_type": "code",
   "execution_count": 10,
   "metadata": {
    "ExecuteTime": {
     "end_time": "2020-07-25T07:03:47.038979Z",
     "start_time": "2020-07-25T07:03:45.220614Z"
    }
   },
   "outputs": [
    {
     "name": "stdout",
     "output_type": "stream",
     "text": [
      "{\r\n",
      "  \"hits\" : 0,\r\n",
      "  \"took\" : 5,\r\n",
      "  \"items\" : [ ]\r\n",
      "}"
     ]
    }
   ],
   "source": [
    "!curl https://cmr.uat.earthdata.nasa.gov/search/subscriptions.umm_json?pretty=true"
   ]
  },
  {
   "cell_type": "markdown",
   "metadata": {},
   "source": [
    "### Temporary/alternative approach\n",
    "\n",
    "The section implements a comparable \"Subscription\" using the CMR Search API. As we touched on above, the approach is to request the granule records ingested to CMR in the last `24 hours`. The collection should have grown by about `1` granules over that period.\n",
    "\n",
    "There are several ways to query for CMR updates that occured during a given timeframe. More in the CMR Search documentation:\n",
    "\n",
    "* https://cmr.earthdata.nasa.gov/search/site/docs/search/api.html#c-with-new-granules (Collections)\n",
    "* https://cmr.earthdata.nasa.gov/search/site/docs/search/api.html#c-with-revised-granules (Collections)\n",
    "* https://cmr.earthdata.nasa.gov/search/site/docs/search/api.html#g-production-date (Granules)\n",
    "* https://cmr.earthdata.nasa.gov/search/site/docs/search/api.html#g-created-at (Granules)\n",
    "\n",
    "We'll use the `created_at` parameter for granule search to retrieved the granule records ingested since the timestamp derived in the first section. Requisite parameters:"
   ]
  },
  {
   "cell_type": "code",
   "execution_count": 11,
   "metadata": {
    "ExecuteTime": {
     "end_time": "2020-07-25T07:03:47.045104Z",
     "start_time": "2020-07-25T07:03:47.041533Z"
    }
   },
   "outputs": [
    {
     "data": {
      "text/plain": [
       "{'collection_concept_id': 'C1664741463-PODAAC',\n",
       " 'created_at': '2020-07-24T03:03:44Z'}"
      ]
     },
     "execution_count": 11,
     "metadata": {},
     "output_type": "execute_result"
    }
   ],
   "source": [
    "params = {'collection_concept_id': input_ccid, 'created_at': input_timestamp}\n",
    "params"
   ]
  },
  {
   "cell_type": "markdown",
   "metadata": {},
   "source": [
    "Join the parameters dictionary into the query string by joining the parameters and values with `=`, then the `parameter=value` pairs to each other with `&`."
   ]
  },
  {
   "cell_type": "code",
   "execution_count": 12,
   "metadata": {
    "ExecuteTime": {
     "end_time": "2020-07-25T07:03:47.050618Z",
     "start_time": "2020-07-25T07:03:47.047361Z"
    }
   },
   "outputs": [
    {
     "data": {
      "text/plain": [
       "'collection_concept_id=C1664741463-PODAAC&created_at=2020-07-24T03:03:44Z'"
      ]
     },
     "execution_count": 12,
     "metadata": {},
     "output_type": "execute_result"
    }
   ],
   "source": [
    "query = \"&\".join([f\"{p}={v}\" for p,v in params.items()])\n",
    "query"
   ]
  },
  {
   "cell_type": "markdown",
   "metadata": {},
   "source": [
    "Append to the CMR Search endpoint for collections."
   ]
  },
  {
   "cell_type": "code",
   "execution_count": 13,
   "metadata": {
    "ExecuteTime": {
     "end_time": "2020-07-25T07:03:47.054501Z",
     "start_time": "2020-07-25T07:03:47.051948Z"
    }
   },
   "outputs": [
    {
     "name": "stdout",
     "output_type": "stream",
     "text": [
      "https://cmr.earthdata.nasa.gov/search/granules.umm_json?collection_concept_id=C1664741463-PODAAC&created_at=2020-07-24T03:03:44Z\n"
     ]
    }
   ],
   "source": [
    "url = f\"{cmr}/search/granules.umm_json?{query}\"\n",
    "print(url)"
   ]
  },
  {
   "cell_type": "markdown",
   "metadata": {},
   "source": [
    "Download the granule records that match our search parameters."
   ]
  },
  {
   "cell_type": "code",
   "execution_count": 14,
   "metadata": {
    "ExecuteTime": {
     "end_time": "2020-07-25T07:03:47.553986Z",
     "start_time": "2020-07-25T07:03:47.056671Z"
    }
   },
   "outputs": [
    {
     "name": "stdout",
     "output_type": "stream",
     "text": [
      "1 new granules ingested for 'C1664741463-PODAAC' since '2020-07-24T03:03:44Z'.\n"
     ]
    }
   ],
   "source": [
    "results = GET(url).json()\n",
    "print(f\"{results['hits']} new granules ingested for '{input_ccid}' since '{input_timestamp}'.\")"
   ]
  },
  {
   "cell_type": "markdown",
   "metadata": {},
   "source": [
    "Since it's only one record, display it in its entirety:"
   ]
  },
  {
   "cell_type": "code",
   "execution_count": 15,
   "metadata": {
    "ExecuteTime": {
     "end_time": "2020-07-25T07:03:47.558954Z",
     "start_time": "2020-07-25T07:03:47.556030Z"
    }
   },
   "outputs": [
    {
     "name": "stdout",
     "output_type": "stream",
     "text": [
      "{\n",
      "  \"TemporalExtent\": {\n",
      "    \"RangeDateTime\": {\n",
      "      \"BeginningDateTime\": \"2020-07-23T09:00:00.000Z\",\n",
      "      \"EndingDateTime\": \"2020-07-23T09:00:00.000Z\"\n",
      "    }\n",
      "  },\n",
      "  \"OrbitCalculatedSpatialDomains\": [\n",
      "    {}\n",
      "  ],\n",
      "  \"GranuleUR\": \"20200723090000-JPL-L4_GHRSST-SSTfnd-MUR-GLOB-v02.0-fv04.1.nc\",\n",
      "  \"SpatialExtent\": {\n",
      "    \"HorizontalSpatialDomain\": {\n",
      "      \"Geometry\": {\n",
      "        \"BoundingRectangles\": [\n",
      "          {\n",
      "            \"WestBoundingCoordinate\": -179.99,\n",
      "            \"EastBoundingCoordinate\": 180.0,\n",
      "            \"NorthBoundingCoordinate\": 89.99,\n",
      "            \"SouthBoundingCoordinate\": -89.99\n",
      "          }\n",
      "        ]\n",
      "      }\n",
      "    }\n",
      "  },\n",
      "  \"ProviderDates\": [\n",
      "    {\n",
      "      \"Date\": \"2020-07-24T09:15:21.849Z\",\n",
      "      \"Type\": \"Insert\"\n",
      "    },\n",
      "    {\n",
      "      \"Date\": \"2020-07-24T12:58:55.028Z\",\n",
      "      \"Type\": \"Update\"\n",
      "    }\n",
      "  ],\n",
      "  \"CollectionReference\": {\n",
      "    \"ShortName\": \"MUR-JPL-L4-GLOB-v4.1\",\n",
      "    \"Version\": \"4.1\"\n",
      "  },\n",
      "  \"RelatedUrls\": [\n",
      "    {\n",
      "      \"URL\": \"https://podaac-tools.jpl.nasa.gov/drive/files/allData/ghrsst/data/GDS2/L4/GLOB/JPL/MUR/v4.1/2020/205/20200723090000-JPL-L4_GHRSST-SSTfnd-MUR-GLOB-v02.0-fv04.1.nc\",\n",
      "      \"Type\": \"GET DATA\",\n",
      "      \"Description\": \"The HTTP location for the granule.\"\n",
      "    },\n",
      "    {\n",
      "      \"URL\": \"https://podaac-opendap.jpl.nasa.gov/opendap/allData/ghrsst/data/GDS2/L4/GLOB/JPL/MUR/v4.1/2020/205/20200723090000-JPL-L4_GHRSST-SSTfnd-MUR-GLOB-v02.0-fv04.1.nc.html\",\n",
      "      \"Type\": \"VIEW RELATED INFORMATION\",\n",
      "      \"Description\": \"The OPENDAP location for the granule.\",\n",
      "      \"MimeType\": \"text/html\"\n",
      "    }\n",
      "  ],\n",
      "  \"DataGranule\": {\n",
      "    \"DayNightFlag\": \"Unspecified\",\n",
      "    \"ProductionDateTime\": \"2020-07-24T09:10:13.000Z\",\n",
      "    \"ArchiveAndDistributionInformation\": [\n",
      "      {\n",
      "        \"Name\": \"Not provided\",\n",
      "        \"Size\": 689.4904584884644,\n",
      "        \"SizeUnit\": \"MB\"\n",
      "      }\n",
      "    ]\n",
      "  },\n",
      "  \"MetadataSpecification\": {\n",
      "    \"URL\": \"https://cdn.earthdata.nasa.gov/umm/granule/v1.6.1\",\n",
      "    \"Name\": \"UMM-G\",\n",
      "    \"Version\": \"1.6.1\"\n",
      "  }\n",
      "}\n"
     ]
    }
   ],
   "source": [
    "print(dumps(results['items'][0]['umm'], indent=2))"
   ]
  },
  {
   "cell_type": "markdown",
   "metadata": {},
   "source": [
    "The UMM-G record shown above provides a wealth of info about the new granule. Among the list of related web resources stored in the `RelatedUrls` section is a link for http access denoted by `\"Type\": \"GET DATA\"`.\n",
    "\n",
    "Grab the download URL, but do it in a way that'll work for search results returning any number of granule records:"
   ]
  },
  {
   "cell_type": "code",
   "execution_count": 16,
   "metadata": {
    "ExecuteTime": {
     "end_time": "2020-07-25T07:03:47.565285Z",
     "start_time": "2020-07-25T07:03:47.562097Z"
    }
   },
   "outputs": [
    {
     "data": {
      "text/plain": [
       "['https://podaac-tools.jpl.nasa.gov/drive/files/allData/ghrsst/data/GDS2/L4/GLOB/JPL/MUR/v4.1/2020/205/20200723090000-JPL-L4_GHRSST-SSTfnd-MUR-GLOB-v02.0-fv04.1.nc']"
      ]
     },
     "execution_count": 16,
     "metadata": {},
     "output_type": "execute_result"
    }
   ],
   "source": [
    "downloads = [r['umm']['RelatedUrls'][0]['URL'] for r in results['items']]\n",
    "downloads"
   ]
  },
  {
   "cell_type": "markdown",
   "metadata": {},
   "source": [
    "Save the list of download URLs to a text file in the [resources/](resources/) directory. Put our timestamp somewhere in the filename to serve as a reference the next time this routine runs. You could also execute the script on a consistent interval using a cronjob or similar method, which would ensure that you keep a complete time series indefinitely."
   ]
  },
  {
   "cell_type": "code",
   "execution_count": 17,
   "metadata": {
    "ExecuteTime": {
     "end_time": "2020-07-25T07:03:47.569979Z",
     "start_time": "2020-07-25T07:03:47.567011Z"
    }
   },
   "outputs": [],
   "source": [
    "with open(f\"resources/cmr-granules-{input_timestamp}.txt\", \"w\") as f:\n",
    "    f.write(\"\\n\".join(downloads))"
   ]
  },
  {
   "cell_type": "markdown",
   "metadata": {},
   "source": [
    "## Echo Tokens\n",
    "\n",
    "A few user notes about this section and echo tokens in general:\n",
    "\n",
    "* You need an Earthdata Login account to request a token. Register at [https://uat.urs.earthdata.nasa.gov](https://uat.urs.earthdata.nasa.gov).\n",
    "* Tokens expire after 24 hours.\n",
    "\n",
    "Some of the DAAC-facing capabilities of the Search API require an Echo Token. The Echo Token allows CMR to know who is making a request. Once the requester has the token, the token can be placed into the http header for the necessary API calls. The Subscription service has this requirement.\n",
    "\n",
    "**Retrieve token by POSTing Earthdata credential as XML:**\n",
    "\n",
    "The format of the XML data that we POST to CMR Search to retrieve a temporary Echo Token:\n",
    "\n",
    "```xml\n",
    "<token>\n",
    "  <username>{USER}</username>\n",
    "  <password>{PASSWORD}</password>\n",
    "  <client_id>{CLIENT ID}</client_id>   \n",
    "  <user_ip_address>{IP ADDRESS}</user_ip_address>\n",
    "</token>\n",
    "```\n",
    "\n",
    "The XML data are POSTED to this service endpoint: [https://cmr.earthdata.nasa.gov/legacy-services/rest/tokens](https://cmr.earthdata.nasa.gov/legacy-services/rest/tokens). For example, if my XML are assigned to bash variable `$DATA`:\n",
    "\n",
    "```shell\n",
    "curl -X POST --header \"Content-Type: application/xml\" -d $DATA https://cmr.earthdata.nasa.gov/legacy-services/rest/tokens\n",
    "```\n",
    "\n",
    "Retrieve a new an echo token below:"
   ]
  },
  {
   "cell_type": "code",
   "execution_count": 18,
   "metadata": {
    "ExecuteTime": {
     "end_time": "2020-07-25T07:03:47.577352Z",
     "start_time": "2020-07-25T07:03:47.571398Z"
    }
   },
   "outputs": [],
   "source": [
    "#\n",
    "# USER NOTE:\n",
    "#  The function below isn't intended for reuse outside the notebook. \n",
    "#  I'd use a simpler, completely different way in the terminal.\n",
    "#  Don't know how to make it more secure, but I'm satisfied with\n",
    "#  it, personally. Finally, the function below makes no effort to\n",
    "#  work in a useful way outside of the notebook.\n",
    "#\n",
    "# TL;DR\n",
    "#  If your a user: don't learn from this function's example.\n",
    "#  If your a developer: share your wisdom, thanks!\n",
    "#\n",
    "from IPython.display import clear_output\n",
    "from socket import gethostname, gethostbyname\n",
    "from requests import post as POST\n",
    "from getpass import getpass\n",
    "\n",
    "\n",
    "def get_echo_token(\n",
    "        cmr_or_uat: bool=True,\n",
    "        client_ip: str=None,\n",
    "        client_name: str=None,\n",
    "    ):\n",
    "    \"\"\"Returns a temporary Echo-Token following URS authentication.\n",
    "\n",
    "    Parameters\n",
    "    ----------\n",
    "    cmr_or_uat (bool, optional): Want a UAT token? Or a CMR token?\n",
    "    client_name (str, optional): A name for the NRT client/app.\n",
    "    client_ip (str, optional): The host's IP address.\n",
    "\n",
    "    Returns\n",
    "    -------\n",
    "    str: a temporary Echo-Token (valid for 24 hours)\n",
    "\n",
    "    \"\"\"\n",
    "\n",
    "    # Use UAT url according to `useUAT` argument.\n",
    "    url = uat if cmr_or_uat else cmr\n",
    "    \n",
    "    # Get client's IP if not given in 'client_ip' argument (local).\n",
    "    ip = gethostbyname(gethostname()) if client_ip is None else client_ip\n",
    "    \n",
    "    # Use a fake client/application name if None was given.\n",
    "    name = \"PodaacTutorial\" if client_name is None else client_name\n",
    "\n",
    "    # Prompt user for URS credentials; POST as xml data.\n",
    "    response = POST(\n",
    "\n",
    "        # Format the end point for the ECHO-TOKENS.\n",
    "        url=f\"{url}/legacy-services/rest/tokens\",\n",
    "\n",
    "        # Data are in XML format.\n",
    "        headers={'Content-Type': \"application/xml\"}, \n",
    "\n",
    "        # Prompt for credentials, format XML string for the data argument.\n",
    "        data=(\"<token>\"\n",
    "\n",
    "            # Prompt user for their URS/Earthdata username:\n",
    "            f\"<username>{ input('Username: ') }</username>\"\n",
    "\n",
    "            # Prompt user for their password (Python stdlib 'getpass'):\n",
    "            f\"<password>{ getpass('Password: ') }</password>\"\n",
    "\n",
    "            # Provide a string identifier for client/application:\n",
    "            f\"<client_id>{ name }</client_id>\"\n",
    "\n",
    "            # Get the host's external IP address:\n",
    "            f\"<user_ip_address>{ ip }</user_ip_address>\"\n",
    "\n",
    "        \"</token>\")\n",
    "\n",
    "    )\n",
    "\n",
    "    # Clear prompts from output, return response text.\n",
    "    clear_output()\n",
    "\n",
    "    return response.text"
   ]
  },
  {
   "cell_type": "markdown",
   "metadata": {},
   "source": [
    "Call the function, enter credentials, get token xml response:"
   ]
  },
  {
   "cell_type": "code",
   "execution_count": 19,
   "metadata": {
    "ExecuteTime": {
     "end_time": "2020-07-25T07:04:03.125209Z",
     "start_time": "2020-07-25T07:03:47.578795Z"
    }
   },
   "outputs": [
    {
     "name": "stdout",
     "output_type": "stream",
     "text": [
      "<?xml version=\"1.0\" encoding=\"UTF-8\"?>\n",
      "<token>\n",
      "  <id>93167901-E6A0-91B4-F5CA-F3441F58B488</id>\n",
      "  <username>jmcnelis</username>\n",
      "  <client_id>PodaacTutorial</client_id>\n",
      "  <user_ip_address>192.168.1.189</user_ip_address>\n",
      "</token>\n",
      "\n"
     ]
    }
   ],
   "source": [
    "xml_response = get_echo_token()\n",
    "\n",
    "print(xml_response)"
   ]
  },
  {
   "cell_type": "markdown",
   "metadata": {
    "ExecuteTime": {
     "end_time": "2020-07-24T23:12:38.212837Z",
     "start_time": "2020-07-24T23:12:38.208741Z"
    }
   },
   "source": [
    "Select just the ECHO token string by splitting the block of text at the newline symbol (`\\n`) and slicing the third line in the resulting list:"
   ]
  },
  {
   "cell_type": "code",
   "execution_count": 20,
   "metadata": {
    "ExecuteTime": {
     "end_time": "2020-07-25T07:04:03.130199Z",
     "start_time": "2020-07-25T07:04:03.126870Z"
    }
   },
   "outputs": [
    {
     "data": {
      "text/plain": [
       "'93167901-E6A0-91B4-F5CA-F3441F58B488'"
      ]
     },
     "execution_count": 20,
     "metadata": {},
     "output_type": "execute_result"
    }
   ],
   "source": [
    "try:\n",
    "    token = xml_response.splitlines()[2][6:-5]\n",
    "except IndexError as e:\n",
    "    raise e\n",
    "    \n",
    "token"
   ]
  }
 ],
 "metadata": {
  "kernelspec": {
   "display_name": "Python 3",
   "language": "python",
   "name": "python3"
  },
  "language_info": {
   "codemirror_mode": {
    "name": "ipython",
    "version": 3
   },
   "file_extension": ".py",
   "mimetype": "text/x-python",
   "name": "python",
   "nbconvert_exporter": "python",
   "pygments_lexer": "ipython3",
   "version": "3.7.7"
  },
  "toc": {
   "base_numbering": 1,
   "nav_menu": {},
   "number_sections": true,
   "sideBar": true,
   "skip_h1_title": true,
   "title_cell": "Table of Contents",
   "title_sidebar": "Contents",
   "toc_cell": true,
   "toc_position": {
    "height": "calc(100% - 180px)",
    "left": "10px",
    "top": "150px",
    "width": "241.528px"
   },
   "toc_section_display": true,
   "toc_window_display": false
  }
 },
 "nbformat": 4,
 "nbformat_minor": 4
}
