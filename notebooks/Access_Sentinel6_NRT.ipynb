{
 "cells": [
  {
   "cell_type": "markdown",
   "metadata": {
    "toc": true
   },
   "source": [
    "<h1>Table of Contents<span class=\"tocSkip\"></span></h1>\n",
    "<div class=\"toc\"><ul class=\"toc-item\"><li><span><a href=\"#Before-you-start\" data-toc-modified-id=\"Before-you-start-1\"><span class=\"toc-item-num\">1&nbsp;&nbsp;</span>Before you start</a></span></li><li><span><a href=\"#Authentication-setup\" data-toc-modified-id=\"Authentication-setup-2\"><span class=\"toc-item-num\">2&nbsp;&nbsp;</span>Authentication setup</a></span></li><li><span><a href=\"#Hands-off-workflow\" data-toc-modified-id=\"Hands-off-workflow-3\"><span class=\"toc-item-num\">3&nbsp;&nbsp;</span>Hands-off workflow</a></span></li></ul></div>"
   ]
  },
  {
   "cell_type": "markdown",
   "metadata": {},
   "source": [
    "# Access Sentinel-6 NRT Data\n",
    "\n",
    "This notebook shows a simple way to maintain a local time series of [Sentinel-6](#) NRT data using the [CMR Search API](#). It downloads granules the ingested since the previous run to a designated data folder and overwrites a hidden file inside with the timestamp of the CMR Search request on success.\n",
    "\n",
    "> User note: The notebook actually points to a MODIS SST collection for now ([10.5067/GHMDA-2PJ19](https://doi.org/10.5067/GHMDA-2PJ19). It'll work just the same for Sentinel-6.\n",
    "\n",
    "## Before you start\n",
    "\n",
    "Before you beginning this tutorial, make sure you have an Earthdata account [https://uat.urs.earthdata.nasa.gov](https://uat.urs.earthdata.nasa.gov).\n",
    "\n",
    "Accounts are free to create and take just a moment to set up.\n",
    "\n",
    "## Authentication setup\n",
    "\n",
    "*You'll probably need to use the netrc method when running from command line.* \n",
    "\n",
    "We need some boilerplate up front to log in to Earthdata Login.  The function below will allow Python\n",
    "scripts to log into any Earthdata Login application programmatically.  To avoid being prompted for\n",
    "credentials every time you run and also allow clients such as curl to log in, you can add the following\n",
    "to a `.netrc` (`_netrc` on Windows) file in your home directory:\n",
    "\n",
    "```\n",
    "machine uat.urs.earthdata.nasa.gov\n",
    "    login <your username>\n",
    "    password <your password>\n",
    "```\n",
    "\n",
    "Make sure that this file is only readable by the current user or you will receive an error stating\n",
    "\"netrc access too permissive.\"\n",
    "\n",
    "`$ chmod 0600 ~/.netrc` \n"
   ]
  },
  {
   "cell_type": "code",
   "execution_count": 1,
   "metadata": {
    "ExecuteTime": {
     "end_time": "2020-07-27T22:16:40.101161Z",
     "start_time": "2020-07-27T22:16:40.088117Z"
    }
   },
   "outputs": [],
   "source": [
    "from urllib import request\n",
    "from http.cookiejar import CookieJar\n",
    "import getpass\n",
    "import netrc\n",
    "\n",
    "def setup_earthdata_login_auth(endpoint):\n",
    "    \"\"\"\n",
    "    Set up the request library so that it authenticates against the given Earthdata Login\n",
    "    endpoint and is able to track cookies between requests.  This looks in the .netrc file \n",
    "    first and if no credentials are found, it prompts for them.\n",
    "\n",
    "    Valid endpoints include:\n",
    "        uat.urs.earthdata.nasa.gov - Earthdata Login UAT (Harmony's current default)\n",
    "        urs.earthdata.nasa.gov - Earthdata Login production\n",
    "    \"\"\"\n",
    "    try:\n",
    "        username, _, password = netrc.netrc().authenticators(endpoint)\n",
    "    except (FileNotFoundError, TypeError):\n",
    "        # FileNotFound = There's no .netrc file\n",
    "        # TypeError = The endpoint isn't in the netrc file, causing the above to try unpacking None\n",
    "        print('Please provide your Earthdata Login credentials to allow data access')\n",
    "        print('Your credentials will only be passed to %s and will not be exposed in Jupyter' % (endpoint))\n",
    "        username = input('Username:')\n",
    "        password = getpass.getpass()\n",
    "\n",
    "    manager = request.HTTPPasswordMgrWithDefaultRealm()\n",
    "    manager.add_password(None, endpoint, username, password)\n",
    "    auth = request.HTTPBasicAuthHandler(manager)\n",
    "\n",
    "    jar = CookieJar()\n",
    "    processor = request.HTTPCookieProcessor(jar)\n",
    "    opener = request.build_opener(auth, processor)\n",
    "    request.install_opener(opener)"
   ]
  },
  {
   "cell_type": "code",
   "execution_count": 2,
   "metadata": {
    "ExecuteTime": {
     "end_time": "2020-07-27T22:16:40.269601Z",
     "start_time": "2020-07-27T22:16:40.259347Z"
    }
   },
   "outputs": [],
   "source": [
    "setup_earthdata_login_auth('uat.urs.earthdata.nasa.gov')"
   ]
  },
  {
   "cell_type": "markdown",
   "metadata": {},
   "source": [
    "## Hands-off workflow\n",
    "\n",
    "This first cell accepts parameters from [`papermill`](https://papermill.readthedocs.io) whenever this notebook is executed from the command line. It functions like any other notebook when run in the notebook server.\n",
    "\n",
    "Learn  how to run the notebook from the command line at this link:    \n",
    "https://papermill.readthedocs.io/en/latest/usage-execute.html#execute-a-notebook-with-parameters\n",
    "\n",
    "The variables below (`mins`, `cmr`, `ccid`, and `data`) determine the notebook defaults for when it's run from the command line with papermill."
   ]
  },
  {
   "cell_type": "code",
   "execution_count": 3,
   "metadata": {
    "ExecuteTime": {
     "end_time": "2020-07-27T22:16:40.561511Z",
     "start_time": "2020-07-27T22:16:40.559309Z"
    },
    "tags": [
     "parameters"
    ]
   },
   "outputs": [],
   "source": [
    "mins = 20  # how far back to search for granules, in minutes?\n",
    "\n",
    "cmr = \"cmr.uat.earthdata.nasa.gov\"  # CMR, UAT domain (cmr.earthdata.nasa.gov)\n",
    "\n",
    "ccid = \"C1234724470-POCLOUD\"  # CMR concept-id of the desired collection\n",
    "\n",
    "data = \"resources/nrt\"  # path to the local NRT data directory"
   ]
  },
  {
   "cell_type": "markdown",
   "metadata": {},
   "source": [
    "**In this initial example, I pointed the Python variable `data` at a test directory inside the *resources* folder adjacent to this notebook ([`resources/nrt`](resources/nrt/)).** That test data folder is `.gitignore`d. Because it doesn't get pushed to GitHub, this notebook makes it during the first run after the repo is cloned, assuming the user hasn't provided a local directory in the cell above or as an argument from the command line."
   ]
  },
  {
   "cell_type": "code",
   "execution_count": 4,
   "metadata": {
    "ExecuteTime": {
     "end_time": "2020-07-27T22:16:40.861891Z",
     "start_time": "2020-07-27T22:16:40.859375Z"
    }
   },
   "outputs": [],
   "source": [
    "from os import makedirs\n",
    "from os.path import isdir, basename\n",
    "from urllib.request import urlopen, urlretrieve\n",
    "from datetime import datetime, timedelta\n",
    "from json import dumps, loads"
   ]
  },
  {
   "cell_type": "markdown",
   "metadata": {},
   "source": [
    "**The search retrieves granules ingested during the last `n` minutes.** A file in your local data dir  file that tracks updates to your data directory, if one file exists. The CMR Search falls back on the ten minute window if not."
   ]
  },
  {
   "cell_type": "code",
   "execution_count": 5,
   "metadata": {
    "ExecuteTime": {
     "end_time": "2020-07-27T22:16:41.446910Z",
     "start_time": "2020-07-27T22:16:41.438524Z"
    }
   },
   "outputs": [
    {
     "data": {
      "text/plain": [
       "'2020-07-27T21:56:41Z'"
      ]
     },
     "execution_count": 5,
     "metadata": {},
     "output_type": "execute_result"
    }
   ],
   "source": [
    "timestamp = (datetime.utcnow()-timedelta(minutes=mins)).strftime(\"%Y-%m-%dT%H:%M:%SZ\")\n",
    "timestamp"
   ]
  },
  {
   "cell_type": "markdown",
   "metadata": {},
   "source": [
    "**How to use the notebook:**\n",
    "\n",
    "Run it to update your local copy of NRT data as needed. There are at least a few ways to do that:\n",
    "\n",
    "* from the notebook server, \n",
    "* from the command line with papermill as documented above, and\n",
    "* with a job scheduler like cron for routine updates.\n",
    "\n",
    "It overwrites a hidden file called `.update` with a timestamp after each successful run. That file lives hidden in your data directory. You can modify the snippet below if that requirement won't work for you. Saving a timestamp to a file isn't a requirement to do this."
   ]
  },
  {
   "cell_type": "code",
   "execution_count": 6,
   "metadata": {
    "ExecuteTime": {
     "end_time": "2020-07-27T22:16:41.841215Z",
     "start_time": "2020-07-27T22:16:41.837150Z"
    }
   },
   "outputs": [
    {
     "name": "stdout",
     "output_type": "stream",
     "text": [
      "WARN: No .update in the data directory. (Is this the first run?)\n"
     ]
    }
   ],
   "source": [
    "if not isdir(data):\n",
    "    print(f\"NOTE: Making new data directory at '{data}'. (This is the first run.)\")\n",
    "    makedirs(data)\n",
    "else:\n",
    "    try:\n",
    "        with open(f\"{data}/.update\", \"r\") as f:\n",
    "            timestamp = r.read()\n",
    "    except FileNotFoundError:\n",
    "        print(\"WARN: No .update in the data directory. (Is this the first run?)\")\n",
    "    else:\n",
    "        print(f\"NOTE: .update found in the data directory. (The last run was at {timestamp}.)\")"
   ]
  },
  {
   "cell_type": "markdown",
   "metadata": {},
   "source": [
    "There are several ways to query for CMR updates that occured during a given timeframe. Read on in the CMR Search documentation:\n",
    "\n",
    "* https://cmr.earthdata.nasa.gov/search/site/docs/search/api.html#c-with-new-granules (Collections)\n",
    "* https://cmr.earthdata.nasa.gov/search/site/docs/search/api.html#c-with-revised-granules (Collections)\n",
    "* https://cmr.earthdata.nasa.gov/search/site/docs/search/api.html#g-production-date (Granules)\n",
    "* https://cmr.earthdata.nasa.gov/search/site/docs/search/api.html#g-created-at (Granules)\n",
    "\n",
    "The `created_at` parameter works for our purposes. It's a granule search parameter that returns the records ingested since the input timestamp."
   ]
  },
  {
   "cell_type": "code",
   "execution_count": 7,
   "metadata": {
    "ExecuteTime": {
     "end_time": "2020-07-27T22:16:42.326672Z",
     "start_time": "2020-07-27T22:16:42.322407Z"
    }
   },
   "outputs": [
    {
     "data": {
      "text/plain": [
       "{'scroll': 'true',\n",
       " 'page_size': 2000,\n",
       " 'sort_key': '-start_date',\n",
       " 'collection_concept_id': 'C1234724470-POCLOUD',\n",
       " 'created_at': '2020-07-27T21:56:41Z',\n",
       " 'bounding_box': '-146.5,57.5,-146,58'}"
      ]
     },
     "execution_count": 7,
     "metadata": {},
     "output_type": "execute_result"
    }
   ],
   "source": [
    "params = {\n",
    "    'scroll': \"true\",\n",
    "    'page_size': 2000,\n",
    "    'sort_key': \"-start_date\",\n",
    "    'collection_concept_id': ccid, \n",
    "    'created_at': timestamp,\n",
    "    # Limit results to coverage for .5deg bbox in Gulf of Alaska:\n",
    "    'bounding_box': \"-146.5,57.5,-146,58\",\n",
    "}\n",
    "\n",
    "params"
   ]
  },
  {
   "cell_type": "markdown",
   "metadata": {},
   "source": [
    "Join the parameters dictionary into the query string by joining the parameters and values with `=`, then the `parameter=value` pairs to each other with `&`."
   ]
  },
  {
   "cell_type": "code",
   "execution_count": 8,
   "metadata": {
    "ExecuteTime": {
     "end_time": "2020-07-27T22:16:42.673585Z",
     "start_time": "2020-07-27T22:16:42.669997Z"
    }
   },
   "outputs": [
    {
     "data": {
      "text/plain": [
       "'scroll=true&page_size=2000&sort_key=-start_date&collection_concept_id=C1234724470-POCLOUD&created_at=2020-07-27T21:56:41Z&bounding_box=-146.5,57.5,-146,58'"
      ]
     },
     "execution_count": 8,
     "metadata": {},
     "output_type": "execute_result"
    }
   ],
   "source": [
    "query = \"&\".join([f\"{p}={v}\" for p,v in params.items()])\n",
    "query"
   ]
  },
  {
   "cell_type": "markdown",
   "metadata": {},
   "source": [
    "Append to the CMR Search endpoint for collections."
   ]
  },
  {
   "cell_type": "code",
   "execution_count": 9,
   "metadata": {
    "ExecuteTime": {
     "end_time": "2020-07-27T22:16:42.972481Z",
     "start_time": "2020-07-27T22:16:42.969998Z"
    }
   },
   "outputs": [
    {
     "name": "stdout",
     "output_type": "stream",
     "text": [
      "https://cmr.uat.earthdata.nasa.gov/search/granules.umm_json?scroll=true&page_size=2000&sort_key=-start_date&collection_concept_id=C1234724470-POCLOUD&created_at=2020-07-27T21:56:41Z&bounding_box=-146.5,57.5,-146,58\n"
     ]
    }
   ],
   "source": [
    "url = f\"https://{cmr}/search/granules.umm_json?{query}\"\n",
    "print(url)"
   ]
  },
  {
   "cell_type": "markdown",
   "metadata": {},
   "source": [
    "Download the granule records that match our search parameters."
   ]
  },
  {
   "cell_type": "code",
   "execution_count": 10,
   "metadata": {
    "ExecuteTime": {
     "end_time": "2020-07-27T22:16:44.054006Z",
     "start_time": "2020-07-27T22:16:43.615131Z"
    }
   },
   "outputs": [
    {
     "name": "stdout",
     "output_type": "stream",
     "text": [
      "2 new granules ingested for 'C1234724470-POCLOUD' since '2020-07-27T21:56:41Z'.\n"
     ]
    }
   ],
   "source": [
    "with urlopen(url) as f:\n",
    "    results = loads(f.read().decode())\n",
    "\n",
    "print(f\"{results['hits']} new granules ingested for '{ccid}' since '{timestamp}'.\")"
   ]
  },
  {
   "cell_type": "markdown",
   "metadata": {},
   "source": [
    "Neatly print the first granule's record for reference (assuming at least one was returned)."
   ]
  },
  {
   "cell_type": "code",
   "execution_count": 11,
   "metadata": {
    "ExecuteTime": {
     "end_time": "2020-07-27T22:16:44.224556Z",
     "start_time": "2020-07-27T22:16:44.221352Z"
    }
   },
   "outputs": [
    {
     "name": "stdout",
     "output_type": "stream",
     "text": [
      "{\n",
      "  \"meta\": {\n",
      "    \"concept-type\": \"granule\",\n",
      "    \"concept-id\": \"G1236615656-POCLOUD\",\n",
      "    \"revision-id\": 1,\n",
      "    \"native-id\": \"20020710140505-JPL-L2P_GHRSST-SSTskin-MODIS_A-D-v02.0-fv01.0\",\n",
      "    \"provider-id\": \"POCLOUD\",\n",
      "    \"format\": \"application/vnd.nasa.cmr.umm+json\",\n",
      "    \"revision-date\": \"2020-07-27T22:00:58Z\"\n",
      "  },\n",
      "  \"umm\": {\n",
      "    \"RelatedUrls\": [\n",
      "      {\n",
      "        \"URL\": \"https://archive.podaac.uat.earthdata.nasa.gov/podaac-uat-cumulus-protected/MODIS_A-JPL-L2P-v2019.0/20020710140505-JPL-L2P_GHRSST-SSTskin-MODIS_A-D-v02.0-fv01.0.nc\",\n",
      "        \"Type\": \"GET DATA\",\n",
      "        \"Description\": \"The base directory location for the granule.\"\n",
      "      },\n",
      "      {\n",
      "        \"URL\": \"https://archive.podaac.uat.earthdata.nasa.gov/podaac-uat-cumulus-public/MODIS_A-JPL-L2P-v2019.0/20020710140505-JPL-L2P_GHRSST-SSTskin-MODIS_A-D-v02.0-fv01.0.cmr.json\",\n",
      "        \"Type\": \"EXTENDED METADATA\",\n",
      "        \"Description\": \"File to download\"\n",
      "      },\n",
      "      {\n",
      "        \"URL\": \"https://archive.podaac.uat.earthdata.nasa.gov/s3credentials\",\n",
      "        \"Type\": \"VIEW RELATED INFORMATION\",\n",
      "        \"Description\": \"api endpoint to retrieve temporary credentials valid for same-region direct s3 access\"\n",
      "      }\n",
      "    ],\n",
      "    \"SpatialExtent\": {\n",
      "      \"HorizontalSpatialDomain\": {\n",
      "        \"Geometry\": {\n",
      "          \"BoundingRectangles\": [\n",
      "            {\n",
      "              \"WestBoundingCoordinate\": 161.975,\n",
      "              \"EastBoundingCoordinate\": 180.0,\n",
      "              \"NorthBoundingCoordinate\": 74.989,\n",
      "              \"SouthBoundingCoordinate\": 51.87\n",
      "            },\n",
      "            {\n",
      "              \"WestBoundingCoordinate\": -180.0,\n",
      "              \"EastBoundingCoordinate\": -136.936,\n",
      "              \"NorthBoundingCoordinate\": 74.989,\n",
      "              \"SouthBoundingCoordinate\": 51.87\n",
      "            }\n",
      "          ]\n",
      "        }\n",
      "      }\n",
      "    },\n",
      "    \"ProviderDates\": [\n",
      "      {\n",
      "        \"Date\": \"2020-07-27T22:00:40.231Z\",\n",
      "        \"Type\": \"Insert\"\n",
      "      },\n",
      "      {\n",
      "        \"Date\": \"2020-07-27T22:00:40.231Z\",\n",
      "        \"Type\": \"Update\"\n",
      "      }\n",
      "    ],\n",
      "    \"CollectionReference\": {\n",
      "      \"ShortName\": \"MODIS_A-JPL-L2P-v2019.0\",\n",
      "      \"Version\": \"2019.0\"\n",
      "    },\n",
      "    \"DataGranule\": {\n",
      "      \"DayNightFlag\": \"Unspecified\",\n",
      "      \"ProductionDateTime\": \"2020-07-27T15:26:07.000Z\",\n",
      "      \"ArchiveAndDistributionInformation\": [\n",
      "        {\n",
      "          \"Name\": \"Not provided\",\n",
      "          \"Size\": 19.1311616897583,\n",
      "          \"SizeUnit\": \"MB\"\n",
      "        }\n",
      "      ]\n",
      "    },\n",
      "    \"TemporalExtent\": {\n",
      "      \"RangeDateTime\": {\n",
      "        \"BeginningDateTime\": \"2002-07-10T14:05:00.000Z\",\n",
      "        \"EndingDateTime\": \"2002-07-10T14:09:59.000Z\"\n",
      "      }\n",
      "    },\n",
      "    \"GranuleUR\": \"20020710140505-JPL-L2P_GHRSST-SSTskin-MODIS_A-D-v02.0-fv01.0\",\n",
      "    \"MetadataSpecification\": {\n",
      "      \"URL\": \"https://cdn.earthdata.nasa.gov/umm/granule/v1.6.1\",\n",
      "      \"Name\": \"UMM-G\",\n",
      "      \"Version\": \"1.6.1\"\n",
      "    }\n",
      "  }\n",
      "}\n"
     ]
    }
   ],
   "source": [
    "if len(results['items'])>0:\n",
    "    print(dumps(results['items'][0], indent=2))"
   ]
  },
  {
   "cell_type": "markdown",
   "metadata": {},
   "source": [
    "The link for http access denoted by `\"Type\": \"GET DATA\"` in the list of `RelatedUrls`.\n",
    "\n",
    "Grab the download URL, but do it in a way that'll work for search results returning any number of granule records:"
   ]
  },
  {
   "cell_type": "code",
   "execution_count": 12,
   "metadata": {
    "ExecuteTime": {
     "end_time": "2020-07-27T22:16:45.052505Z",
     "start_time": "2020-07-27T22:16:45.048901Z"
    }
   },
   "outputs": [
    {
     "data": {
      "text/plain": [
       "['https://archive.podaac.uat.earthdata.nasa.gov/podaac-uat-cumulus-protected/MODIS_A-JPL-L2P-v2019.0/20020710140505-JPL-L2P_GHRSST-SSTskin-MODIS_A-D-v02.0-fv01.0.nc',\n",
       " 'https://archive.podaac.uat.earthdata.nasa.gov/podaac-uat-cumulus-protected/MODIS_A-JPL-L2P-v2019.0/20020704130506-JPL-L2P_GHRSST-SSTskin-MODIS_A-N-v02.0-fv01.0.nc']"
      ]
     },
     "execution_count": 12,
     "metadata": {},
     "output_type": "execute_result"
    }
   ],
   "source": [
    "downloads = [r['umm']['RelatedUrls'][0]['URL'] for r in results['items']]\n",
    "downloads"
   ]
  },
  {
   "cell_type": "markdown",
   "metadata": {
    "ExecuteTime": {
     "end_time": "2020-07-25T12:03:56.780074Z",
     "start_time": "2020-07-25T12:03:56.777273Z"
    }
   },
   "source": [
    "Finish by downloading the files to the data directory in a loop. Overwrite `.update` with a new timestamp on success.\n",
    "\n",
    "*USER NOTE: This cell only downloads 10 files for now. Uncomment line 1, delete line 2 to download more than 10.*"
   ]
  },
  {
   "cell_type": "code",
   "execution_count": 13,
   "metadata": {
    "ExecuteTime": {
     "end_time": "2020-07-27T22:17:12.644272Z",
     "start_time": "2020-07-27T22:16:45.990284Z"
    },
    "scrolled": false
   },
   "outputs": [
    {
     "name": "stdout",
     "output_type": "stream",
     "text": [
      "[2020-07-27 18:17:05.376730] SUCCESS: https://archive.podaac.uat.earthdata.nasa.gov/podaac-uat-cumulus-protected/MODIS_A-JPL-L2P-v2019.0/20020710140505-JPL-L2P_GHRSST-SSTskin-MODIS_A-D-v02.0-fv01.0.nc\n",
      "[2020-07-27 18:17:12.642735] SUCCESS: https://archive.podaac.uat.earthdata.nasa.gov/podaac-uat-cumulus-protected/MODIS_A-JPL-L2P-v2019.0/20020704130506-JPL-L2P_GHRSST-SSTskin-MODIS_A-N-v02.0-fv01.0.nc\n"
     ]
    }
   ],
   "source": [
    "#for f in downloads:\n",
    "for f in downloads[:10]:\n",
    "    try:\n",
    "        urlretrieve(f, f\"{data}/{basename(f)}\")\n",
    "    except Exception as e:\n",
    "        print(f\"[{datetime.now()}] FAILURE: {f}\\n\\n{e}\\n\")\n",
    "        raise e\n",
    "    else:\n",
    "        print(f\"[{datetime.now()}] SUCCESS: {f}\")"
   ]
  },
  {
   "cell_type": "markdown",
   "metadata": {},
   "source": [
    "If there were updates to the local time series during this run and no exceptions were raised during the download loop, then overwrite the timestamp file that tracks updates to the data folder (`resources/nrt/.update`):"
   ]
  },
  {
   "cell_type": "code",
   "execution_count": 14,
   "metadata": {
    "ExecuteTime": {
     "end_time": "2020-07-27T22:17:16.126519Z",
     "start_time": "2020-07-27T22:17:16.123261Z"
    }
   },
   "outputs": [],
   "source": [
    "if len(results['items'])>0:\n",
    "    with open(f\"{data}/.update\", \"w\") as f:\n",
    "        f.write(timestamp)"
   ]
  },
  {
   "cell_type": "code",
   "execution_count": null,
   "metadata": {},
   "outputs": [],
   "source": []
  }
 ],
 "metadata": {
  "kernelspec": {
   "display_name": "Python 3",
   "language": "python",
   "name": "python3"
  },
  "language_info": {
   "codemirror_mode": {
    "name": "ipython",
    "version": 3
   },
   "file_extension": ".py",
   "mimetype": "text/x-python",
   "name": "python",
   "nbconvert_exporter": "python",
   "pygments_lexer": "ipython3",
   "version": "3.8.2"
  },
  "toc": {
   "base_numbering": 1,
   "nav_menu": {},
   "number_sections": true,
   "sideBar": true,
   "skip_h1_title": true,
   "title_cell": "Table of Contents",
   "title_sidebar": "Contents",
   "toc_cell": true,
   "toc_position": {
    "height": "calc(100% - 180px)",
    "left": "10px",
    "top": "150px",
    "width": "241.528px"
   },
   "toc_section_display": true,
   "toc_window_display": false
  }
 },
 "nbformat": 4,
 "nbformat_minor": 4
}
