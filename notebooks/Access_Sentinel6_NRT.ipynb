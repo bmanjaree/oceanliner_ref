{
 "cells": [
  {
   "cell_type": "markdown",
   "metadata": {
    "toc": true
   },
   "source": [
    "<h1>Table of Contents<span class=\"tocSkip\"></span></h1>\n",
    "<div class=\"toc\"><ul class=\"toc-item\"><li><span><a href=\"#Before-you-start\" data-toc-modified-id=\"Before-you-start-1\"><span class=\"toc-item-num\">1&nbsp;&nbsp;</span>Before you start</a></span></li><li><span><a href=\"#Authentication-setup\" data-toc-modified-id=\"Authentication-setup-2\"><span class=\"toc-item-num\">2&nbsp;&nbsp;</span>Authentication setup</a></span></li><li><span><a href=\"#Hands-off-workflow\" data-toc-modified-id=\"Hands-off-workflow-3\"><span class=\"toc-item-num\">3&nbsp;&nbsp;</span>Hands-off workflow</a></span></li></ul></div>"
   ]
  },
  {
   "cell_type": "markdown",
   "metadata": {},
   "source": [
    "# Access Sentinel-6 NRT Data\n",
    "\n",
    "This notebook shows a simple way to maintain a local time series of [Sentinel-6](#) NRT data using the [CMR Search API](#). It downloads granules the ingested since the previous run to a designated data folder and overwrites a hidden file inside with the timestamp of the CMR Search request on success.\n",
    "\n",
    "> User note: The notebook actually points to a MODIS SST collection for now ([10.5067/GHMDA-2PJ19](https://doi.org/10.5067/GHMDA-2PJ19). It'll work just the same for Sentinel-6.\n",
    "\n",
    "## Before you start\n",
    "\n",
    "Before you beginning this tutorial, make sure you have an Earthdata account [https://uat.urs.earthdata.nasa.gov](https://uat.urs.earthdata.nasa.gov).\n",
    "\n",
    "Accounts are free to create and take just a moment to set up.\n",
    "\n",
    "## Authentication setup\n",
    "\n",
    "*You'll probably need to use the netrc method when running from command line.* \n",
    "\n",
    "We need some boilerplate up front to log in to Earthdata Login.  The function below will allow Python\n",
    "scripts to log into any Earthdata Login application programmatically.  To avoid being prompted for\n",
    "credentials every time you run and also allow clients such as curl to log in, you can add the following\n",
    "to a `.netrc` (`_netrc` on Windows) file in your home directory:\n",
    "\n",
    "```\n",
    "machine uat.urs.earthdata.nasa.gov\n",
    "    login <your username>\n",
    "    password <your password>\n",
    "```\n",
    "\n",
    "Make sure that this file is only readable by the current user or you will receive an error stating\n",
    "\"netrc access too permissive.\"\n",
    "\n",
    "`$ chmod 0600 ~/.netrc` \n"
   ]
  },
  {
   "cell_type": "code",
   "execution_count": 3,
   "metadata": {
    "ExecuteTime": {
     "end_time": "2020-07-28T03:15:57.475319Z",
     "start_time": "2020-07-28T03:15:57.469926Z"
    }
   },
   "outputs": [],
   "source": [
    "from urllib import request\n",
    "from http.cookiejar import CookieJar\n",
    "import getpass\n",
    "import netrc\n",
    "\n",
    "def setup_earthdata_login_auth(endpoint):\n",
    "    \"\"\"\n",
    "    Set up the request library so that it authenticates against the given Earthdata Login\n",
    "    endpoint and is able to track cookies between requests.  This looks in the .netrc file \n",
    "    first and if no credentials are found, it prompts for them.\n",
    "\n",
    "    Valid endpoints include:\n",
    "        uat.urs.earthdata.nasa.gov - Earthdata Login UAT (Harmony's current default)\n",
    "        urs.earthdata.nasa.gov - Earthdata Login production\n",
    "    \"\"\"\n",
    "    try:\n",
    "        username, _, password = netrc.netrc().authenticators(endpoint)\n",
    "    except (FileNotFoundError, TypeError):\n",
    "        # FileNotFound = There's no .netrc file\n",
    "        # TypeError = The endpoint isn't in the netrc file, causing the above to try unpacking None\n",
    "        print('Please provide your Earthdata Login credentials to allow data access')\n",
    "        print('Your credentials will only be passed to %s and will not be exposed in Jupyter' % (endpoint))\n",
    "        username = input('Username:')\n",
    "        password = getpass.getpass()\n",
    "\n",
    "    manager = request.HTTPPasswordMgrWithDefaultRealm()\n",
    "    manager.add_password(None, endpoint, username, password)\n",
    "    auth = request.HTTPBasicAuthHandler(manager)\n",
    "\n",
    "    jar = CookieJar()\n",
    "    processor = request.HTTPCookieProcessor(jar)\n",
    "    opener = request.build_opener(auth, processor)\n",
    "    request.install_opener(opener)"
   ]
  },
  {
   "cell_type": "code",
   "execution_count": 4,
   "metadata": {
    "ExecuteTime": {
     "end_time": "2020-07-28T03:15:57.646404Z",
     "start_time": "2020-07-28T03:15:57.641565Z"
    }
   },
   "outputs": [],
   "source": [
    "setup_earthdata_login_auth('uat.urs.earthdata.nasa.gov')"
   ]
  },
  {
   "cell_type": "markdown",
   "metadata": {},
   "source": [
    "## Hands-off workflow\n",
    "\n",
    "This workflow/notebook can be run routinely to maintain a time series of NRT data, downloading new granules as they become available in CMR. There are at least a few ways to run it:\n",
    "\n",
    "* from the notebook server, \n",
    "* from the command line with papermill, and\n",
    "* using nbconvert/papermill with a job scheduler like cron.\n",
    "\n",
    "The notebook writes a file `.update` to the target data directory the first time it's run. Every subsequent run that finishes successfully overwrites the file with a new timestamp corresponding to the time used for the  granules search parameter `created_at`.\n",
    "\n",
    "The variables in the cell below determine the workflow behavior in it's initial run. (*`mins` only applies to the first run.*)"
   ]
  },
  {
   "cell_type": "code",
   "execution_count": 5,
   "metadata": {
    "ExecuteTime": {
     "end_time": "2020-07-28T03:15:57.996486Z",
     "start_time": "2020-07-28T03:15:57.993642Z"
    },
    "tags": [
     "parameters"
    ]
   },
   "outputs": [],
   "source": [
    "#\n",
    "# This cell accepts parameters from command line with papermill: \n",
    "#  https://papermill.readthedocs.io\n",
    "#\n",
    "\n",
    "mins = 20  # Limit the results to granules ingested in the last ___ minutes.\n",
    "\n",
    "cmr = \"cmr.uat.earthdata.nasa.gov\"  # The domain for CMR or CMR UAT\n",
    "\n",
    "ccid = \"C1234724470-POCLOUD\"  # The 'concept-id' of the desired CMR collection\n",
    "\n",
    "data = \"resources/nrt\"  # The target path for the NRT granules to download"
   ]
  },
  {
   "cell_type": "markdown",
   "metadata": {},
   "source": [
    "The variable `data` is pointed at a nearby folder [`resources/nrt`](resources/nrt/) by default. **You should change `data` to a suitable download path on your file system.** An unlucky sequence of git commands could disappear that folder and its downloads, if your not careful. Just change it."
   ]
  },
  {
   "cell_type": "code",
   "execution_count": 6,
   "metadata": {
    "ExecuteTime": {
     "end_time": "2020-07-28T03:15:58.355541Z",
     "start_time": "2020-07-28T03:15:58.352664Z"
    }
   },
   "outputs": [],
   "source": [
    "from os import makedirs\n",
    "from os.path import isdir, basename\n",
    "from urllib.request import urlopen, urlretrieve\n",
    "from datetime import datetime, timedelta\n",
    "from json import dumps, loads"
   ]
  },
  {
   "cell_type": "markdown",
   "metadata": {},
   "source": [
    "**The search retrieves granules ingested during the last `n` minutes.** A file in your local data dir  file that tracks updates to your data directory, if one file exists. The CMR Search falls back on the ten minute window if not."
   ]
  },
  {
   "cell_type": "code",
   "execution_count": 7,
   "metadata": {
    "ExecuteTime": {
     "end_time": "2020-07-28T03:15:58.715792Z",
     "start_time": "2020-07-28T03:15:58.706912Z"
    }
   },
   "outputs": [
    {
     "data": {
      "text/plain": [
       "'2020-07-28T02:55:58Z'"
      ]
     },
     "execution_count": 7,
     "metadata": {},
     "output_type": "execute_result"
    }
   ],
   "source": [
    "timestamp = (datetime.utcnow()-timedelta(minutes=mins)).strftime(\"%Y-%m-%dT%H:%M:%SZ\")\n",
    "timestamp"
   ]
  },
  {
   "cell_type": "markdown",
   "metadata": {},
   "source": [
    "This cell will replace the timestamp above with the one read from the `.update` file in the data directory, if it exists."
   ]
  },
  {
   "cell_type": "code",
   "execution_count": 9,
   "metadata": {
    "ExecuteTime": {
     "end_time": "2020-07-28T03:16:46.067781Z",
     "start_time": "2020-07-28T03:16:46.063276Z"
    }
   },
   "outputs": [
    {
     "name": "stdout",
     "output_type": "stream",
     "text": [
      "NOTE: .update found in the data directory. (The last run was at 2020-07-27T21:56:41Z.)\n"
     ]
    }
   ],
   "source": [
    "if not isdir(data):\n",
    "    print(f\"NOTE: Making new data directory at '{data}'. (This is the first run.)\")\n",
    "    makedirs(data)\n",
    "else:\n",
    "    try:\n",
    "        with open(f\"{data}/.update\", \"r\") as f:\n",
    "            timestamp = f.read()\n",
    "    except FileNotFoundError:\n",
    "        print(\"WARN: No .update in the data directory. (Is this the first run?)\")\n",
    "    else:\n",
    "        print(f\"NOTE: .update found in the data directory. (The last run was at {timestamp}.)\")"
   ]
  },
  {
   "cell_type": "markdown",
   "metadata": {},
   "source": [
    "There are several ways to query for CMR updates that occured during a given timeframe. Read on in the CMR Search documentation:\n",
    "\n",
    "* https://cmr.earthdata.nasa.gov/search/site/docs/search/api.html#c-with-new-granules (Collections)\n",
    "* https://cmr.earthdata.nasa.gov/search/site/docs/search/api.html#c-with-revised-granules (Collections)\n",
    "* https://cmr.earthdata.nasa.gov/search/site/docs/search/api.html#g-production-date (Granules)\n",
    "* https://cmr.earthdata.nasa.gov/search/site/docs/search/api.html#g-created-at (Granules)\n",
    "\n",
    "The `created_at` parameter works for our purposes. It's a granule search parameter that returns the records ingested since the input timestamp."
   ]
  },
  {
   "cell_type": "code",
   "execution_count": 10,
   "metadata": {
    "ExecuteTime": {
     "end_time": "2020-07-28T03:16:59.955997Z",
     "start_time": "2020-07-28T03:16:59.952055Z"
    }
   },
   "outputs": [
    {
     "data": {
      "text/plain": [
       "{'scroll': 'true',\n",
       " 'page_size': 2000,\n",
       " 'sort_key': '-start_date',\n",
       " 'collection_concept_id': 'C1234724470-POCLOUD',\n",
       " 'created_at': '2020-07-27T21:56:41Z',\n",
       " 'bounding_box': '-146.5,57.5,-146,58'}"
      ]
     },
     "execution_count": 10,
     "metadata": {},
     "output_type": "execute_result"
    }
   ],
   "source": [
    "params = {\n",
    "    'scroll': \"true\",\n",
    "    'page_size': 2000,\n",
    "    'sort_key': \"-start_date\",\n",
    "    'collection_concept_id': ccid, \n",
    "    'created_at': timestamp,\n",
    "    # Limit results to coverage for .5deg bbox in Gulf of Alaska:\n",
    "    'bounding_box': \"-146.5,57.5,-146,58\",\n",
    "}\n",
    "\n",
    "params"
   ]
  },
  {
   "cell_type": "markdown",
   "metadata": {},
   "source": [
    "Join the parameters dictionary into the query string by joining the parameters and values with `=`, then the `parameter=value` pairs to each other with `&`."
   ]
  },
  {
   "cell_type": "code",
   "execution_count": 11,
   "metadata": {
    "ExecuteTime": {
     "end_time": "2020-07-28T03:17:01.365292Z",
     "start_time": "2020-07-28T03:17:01.361313Z"
    }
   },
   "outputs": [
    {
     "data": {
      "text/plain": [
       "'scroll=true&page_size=2000&sort_key=-start_date&collection_concept_id=C1234724470-POCLOUD&created_at=2020-07-27T21:56:41Z&bounding_box=-146.5,57.5,-146,58'"
      ]
     },
     "execution_count": 11,
     "metadata": {},
     "output_type": "execute_result"
    }
   ],
   "source": [
    "query = \"&\".join([f\"{p}={v}\" for p,v in params.items()])\n",
    "query"
   ]
  },
  {
   "cell_type": "markdown",
   "metadata": {},
   "source": [
    "Append to the CMR Search endpoint for collections."
   ]
  },
  {
   "cell_type": "code",
   "execution_count": 12,
   "metadata": {
    "ExecuteTime": {
     "end_time": "2020-07-28T03:17:02.438914Z",
     "start_time": "2020-07-28T03:17:02.436145Z"
    }
   },
   "outputs": [
    {
     "name": "stdout",
     "output_type": "stream",
     "text": [
      "https://cmr.uat.earthdata.nasa.gov/search/granules.umm_json?scroll=true&page_size=2000&sort_key=-start_date&collection_concept_id=C1234724470-POCLOUD&created_at=2020-07-27T21:56:41Z&bounding_box=-146.5,57.5,-146,58\n"
     ]
    }
   ],
   "source": [
    "url = f\"https://{cmr}/search/granules.umm_json?{query}\"\n",
    "print(url)"
   ]
  },
  {
   "cell_type": "markdown",
   "metadata": {},
   "source": [
    "Download the granule records that match our search parameters."
   ]
  },
  {
   "cell_type": "code",
   "execution_count": 13,
   "metadata": {
    "ExecuteTime": {
     "end_time": "2020-07-28T03:17:03.980533Z",
     "start_time": "2020-07-28T03:17:03.301590Z"
    }
   },
   "outputs": [
    {
     "name": "stdout",
     "output_type": "stream",
     "text": [
      "14 new granules ingested for 'C1234724470-POCLOUD' since '2020-07-27T21:56:41Z'.\n"
     ]
    }
   ],
   "source": [
    "with urlopen(url) as f:\n",
    "    results = loads(f.read().decode())\n",
    "\n",
    "print(f\"{results['hits']} new granules ingested for '{ccid}' since '{timestamp}'.\")"
   ]
  },
  {
   "cell_type": "markdown",
   "metadata": {},
   "source": [
    "Neatly print the first granule's record for reference (assuming at least one was returned)."
   ]
  },
  {
   "cell_type": "code",
   "execution_count": 14,
   "metadata": {
    "ExecuteTime": {
     "end_time": "2020-07-28T03:17:06.256477Z",
     "start_time": "2020-07-28T03:17:06.253463Z"
    }
   },
   "outputs": [
    {
     "name": "stdout",
     "output_type": "stream",
     "text": [
      "{\n",
      "  \"meta\": {\n",
      "    \"concept-type\": \"granule\",\n",
      "    \"concept-id\": \"G1236616733-POCLOUD\",\n",
      "    \"revision-id\": 1,\n",
      "    \"native-id\": \"20200727220501-JPL-L2P_GHRSST-SSTskin-MODIS_A-D-v02.0-fv01.0\",\n",
      "    \"provider-id\": \"POCLOUD\",\n",
      "    \"format\": \"application/vnd.nasa.cmr.umm+json\",\n",
      "    \"revision-date\": \"2020-07-28T01:28:46Z\"\n",
      "  },\n",
      "  \"umm\": {\n",
      "    \"RelatedUrls\": [\n",
      "      {\n",
      "        \"URL\": \"https://archive.podaac.uat.earthdata.nasa.gov/podaac-uat-cumulus-protected/MODIS_A-JPL-L2P-v2019.0/20200727220501-JPL-L2P_GHRSST-SSTskin-MODIS_A-D-v02.0-fv01.0.nc\",\n",
      "        \"Type\": \"GET DATA\",\n",
      "        \"Description\": \"The base directory location for the granule.\"\n",
      "      },\n",
      "      {\n",
      "        \"URL\": \"https://archive.podaac.uat.earthdata.nasa.gov/podaac-uat-cumulus-public/MODIS_A-JPL-L2P-v2019.0/20200727220501-JPL-L2P_GHRSST-SSTskin-MODIS_A-D-v02.0-fv01.0.cmr.json\",\n",
      "        \"Type\": \"EXTENDED METADATA\",\n",
      "        \"Description\": \"File to download\"\n",
      "      },\n",
      "      {\n",
      "        \"URL\": \"https://archive.podaac.uat.earthdata.nasa.gov/s3credentials\",\n",
      "        \"Type\": \"VIEW RELATED INFORMATION\",\n",
      "        \"Description\": \"api endpoint to retrieve temporary credentials valid for same-region direct s3 access\"\n",
      "      }\n",
      "    ],\n",
      "    \"SpatialExtent\": {\n",
      "      \"HorizontalSpatialDomain\": {\n",
      "        \"Geometry\": {\n",
      "          \"BoundingRectangles\": [\n",
      "            {\n",
      "              \"WestBoundingCoordinate\": -166.575,\n",
      "              \"EastBoundingCoordinate\": -120.641,\n",
      "              \"NorthBoundingCoordinate\": 66.544,\n",
      "              \"SouthBoundingCoordinate\": 44.352\n",
      "            }\n",
      "          ]\n",
      "        }\n",
      "      }\n",
      "    },\n",
      "    \"ProviderDates\": [\n",
      "      {\n",
      "        \"Date\": \"2020-07-28T01:28:03.689Z\",\n",
      "        \"Type\": \"Insert\"\n",
      "      },\n",
      "      {\n",
      "        \"Date\": \"2020-07-28T01:28:03.690Z\",\n",
      "        \"Type\": \"Update\"\n",
      "      }\n",
      "    ],\n",
      "    \"CollectionReference\": {\n",
      "      \"ShortName\": \"MODIS_A-JPL-L2P-v2019.0\",\n",
      "      \"Version\": \"2019.0\"\n",
      "    },\n",
      "    \"DataGranule\": {\n",
      "      \"DayNightFlag\": \"Unspecified\",\n",
      "      \"ProductionDateTime\": \"2020-07-28T01:24:24.000Z\",\n",
      "      \"ArchiveAndDistributionInformation\": [\n",
      "        {\n",
      "          \"Name\": \"Not provided\",\n",
      "          \"Size\": 20.82391929626465,\n",
      "          \"SizeUnit\": \"MB\"\n",
      "        }\n",
      "      ]\n",
      "    },\n",
      "    \"TemporalExtent\": {\n",
      "      \"RangeDateTime\": {\n",
      "        \"BeginningDateTime\": \"2020-07-27T22:05:01.000Z\",\n",
      "        \"EndingDateTime\": \"2020-07-27T22:09:57.000Z\"\n",
      "      }\n",
      "    },\n",
      "    \"GranuleUR\": \"20200727220501-JPL-L2P_GHRSST-SSTskin-MODIS_A-D-v02.0-fv01.0\",\n",
      "    \"MetadataSpecification\": {\n",
      "      \"URL\": \"https://cdn.earthdata.nasa.gov/umm/granule/v1.6.1\",\n",
      "      \"Name\": \"UMM-G\",\n",
      "      \"Version\": \"1.6.1\"\n",
      "    }\n",
      "  }\n",
      "}\n"
     ]
    }
   ],
   "source": [
    "if len(results['items'])>0:\n",
    "    print(dumps(results['items'][0], indent=2))"
   ]
  },
  {
   "cell_type": "markdown",
   "metadata": {},
   "source": [
    "The link for http access denoted by `\"Type\": \"GET DATA\"` in the list of `RelatedUrls`.\n",
    "\n",
    "Grab the download URL, but do it in a way that'll work for search results returning any number of granule records:"
   ]
  },
  {
   "cell_type": "code",
   "execution_count": 15,
   "metadata": {
    "ExecuteTime": {
     "end_time": "2020-07-28T03:17:07.511069Z",
     "start_time": "2020-07-28T03:17:07.507219Z"
    }
   },
   "outputs": [
    {
     "data": {
      "text/plain": [
       "['https://archive.podaac.uat.earthdata.nasa.gov/podaac-uat-cumulus-protected/MODIS_A-JPL-L2P-v2019.0/20200727220501-JPL-L2P_GHRSST-SSTskin-MODIS_A-D-v02.0-fv01.0.nc',\n",
       " 'https://archive.podaac.uat.earthdata.nasa.gov/podaac-uat-cumulus-protected/MODIS_A-JPL-L2P-v2019.0/20200727203000-JPL-L2P_GHRSST-SSTskin-MODIS_A-D-v02.0-fv01.0.nc',\n",
       " 'https://archive.podaac.uat.earthdata.nasa.gov/podaac-uat-cumulus-protected/MODIS_A-JPL-L2P-v2019.0/20020725150006-JPL-L2P_GHRSST-SSTskin-MODIS_A-D-v02.0-fv01.0.nc',\n",
       " 'https://archive.podaac.uat.earthdata.nasa.gov/podaac-uat-cumulus-protected/MODIS_A-JPL-L2P-v2019.0/20020723115505-JPL-L2P_GHRSST-SSTskin-MODIS_A-N-v02.0-fv01.0.nc',\n",
       " 'https://archive.podaac.uat.earthdata.nasa.gov/podaac-uat-cumulus-protected/MODIS_A-JPL-L2P-v2019.0/20020718113505-JPL-L2P_GHRSST-SSTskin-MODIS_A-N-v02.0-fv01.0.nc',\n",
       " 'https://archive.podaac.uat.earthdata.nasa.gov/podaac-uat-cumulus-protected/MODIS_A-JPL-L2P-v2019.0/20020716150506-JPL-L2P_GHRSST-SSTskin-MODIS_A-N-v02.0-fv01.0.nc',\n",
       " 'https://archive.podaac.uat.earthdata.nasa.gov/podaac-uat-cumulus-protected/MODIS_A-JPL-L2P-v2019.0/20020715124505-JPL-L2P_GHRSST-SSTskin-MODIS_A-D-v02.0-fv01.0.nc',\n",
       " 'https://archive.podaac.uat.earthdata.nasa.gov/podaac-uat-cumulus-protected/MODIS_A-JPL-L2P-v2019.0/20020715110505-JPL-L2P_GHRSST-SSTskin-MODIS_A-D-v02.0-fv01.0.nc',\n",
       " 'https://archive.podaac.uat.earthdata.nasa.gov/podaac-uat-cumulus-protected/MODIS_A-JPL-L2P-v2019.0/20020712215005-JPL-L2P_GHRSST-SSTskin-MODIS_A-D-v02.0-fv01.0.nc',\n",
       " 'https://archive.podaac.uat.earthdata.nasa.gov/podaac-uat-cumulus-protected/MODIS_A-JPL-L2P-v2019.0/20020711113506-JPL-L2P_GHRSST-SSTskin-MODIS_A-N-v02.0-fv01.0.nc',\n",
       " 'https://archive.podaac.uat.earthdata.nasa.gov/podaac-uat-cumulus-protected/MODIS_A-JPL-L2P-v2019.0/20020710234506-JPL-L2P_GHRSST-SSTskin-MODIS_A-D-v02.0-fv01.0.nc',\n",
       " 'https://archive.podaac.uat.earthdata.nasa.gov/podaac-uat-cumulus-protected/MODIS_A-JPL-L2P-v2019.0/20020710140505-JPL-L2P_GHRSST-SSTskin-MODIS_A-D-v02.0-fv01.0.nc',\n",
       " 'https://archive.podaac.uat.earthdata.nasa.gov/podaac-uat-cumulus-protected/MODIS_A-JPL-L2P-v2019.0/20020706223005-JPL-L2P_GHRSST-SSTskin-MODIS_A-D-v02.0-fv01.0.nc',\n",
       " 'https://archive.podaac.uat.earthdata.nasa.gov/podaac-uat-cumulus-protected/MODIS_A-JPL-L2P-v2019.0/20020704130506-JPL-L2P_GHRSST-SSTskin-MODIS_A-N-v02.0-fv01.0.nc']"
      ]
     },
     "execution_count": 15,
     "metadata": {},
     "output_type": "execute_result"
    }
   ],
   "source": [
    "downloads = [r['umm']['RelatedUrls'][0]['URL'] for r in results['items']]\n",
    "downloads"
   ]
  },
  {
   "cell_type": "markdown",
   "metadata": {
    "ExecuteTime": {
     "end_time": "2020-07-25T12:03:56.780074Z",
     "start_time": "2020-07-25T12:03:56.777273Z"
    }
   },
   "source": [
    "Finish by downloading the files to the data directory in a loop. Overwrite `.update` with a new timestamp on success."
   ]
  },
  {
   "cell_type": "code",
   "execution_count": 17,
   "metadata": {
    "ExecuteTime": {
     "end_time": "2020-07-28T03:18:35.843796Z",
     "start_time": "2020-07-28T03:17:15.314006Z"
    },
    "scrolled": false
   },
   "outputs": [
    {
     "name": "stdout",
     "output_type": "stream",
     "text": [
      "[2020-07-27 23:17:26.617694] SUCCESS: https://archive.podaac.uat.earthdata.nasa.gov/podaac-uat-cumulus-protected/MODIS_A-JPL-L2P-v2019.0/20200727220501-JPL-L2P_GHRSST-SSTskin-MODIS_A-D-v02.0-fv01.0.nc\n",
      "[2020-07-27 23:17:32.628612] SUCCESS: https://archive.podaac.uat.earthdata.nasa.gov/podaac-uat-cumulus-protected/MODIS_A-JPL-L2P-v2019.0/20200727203000-JPL-L2P_GHRSST-SSTskin-MODIS_A-D-v02.0-fv01.0.nc\n",
      "[2020-07-27 23:17:37.616443] SUCCESS: https://archive.podaac.uat.earthdata.nasa.gov/podaac-uat-cumulus-protected/MODIS_A-JPL-L2P-v2019.0/20020725150006-JPL-L2P_GHRSST-SSTskin-MODIS_A-D-v02.0-fv01.0.nc\n",
      "[2020-07-27 23:17:43.343401] SUCCESS: https://archive.podaac.uat.earthdata.nasa.gov/podaac-uat-cumulus-protected/MODIS_A-JPL-L2P-v2019.0/20020723115505-JPL-L2P_GHRSST-SSTskin-MODIS_A-N-v02.0-fv01.0.nc\n",
      "[2020-07-27 23:17:48.407171] SUCCESS: https://archive.podaac.uat.earthdata.nasa.gov/podaac-uat-cumulus-protected/MODIS_A-JPL-L2P-v2019.0/20020718113505-JPL-L2P_GHRSST-SSTskin-MODIS_A-N-v02.0-fv01.0.nc\n",
      "[2020-07-27 23:17:54.538883] SUCCESS: https://archive.podaac.uat.earthdata.nasa.gov/podaac-uat-cumulus-protected/MODIS_A-JPL-L2P-v2019.0/20020716150506-JPL-L2P_GHRSST-SSTskin-MODIS_A-N-v02.0-fv01.0.nc\n",
      "[2020-07-27 23:17:59.075309] SUCCESS: https://archive.podaac.uat.earthdata.nasa.gov/podaac-uat-cumulus-protected/MODIS_A-JPL-L2P-v2019.0/20020715124505-JPL-L2P_GHRSST-SSTskin-MODIS_A-D-v02.0-fv01.0.nc\n",
      "[2020-07-27 23:18:03.907152] SUCCESS: https://archive.podaac.uat.earthdata.nasa.gov/podaac-uat-cumulus-protected/MODIS_A-JPL-L2P-v2019.0/20020715110505-JPL-L2P_GHRSST-SSTskin-MODIS_A-D-v02.0-fv01.0.nc\n",
      "[2020-07-27 23:18:10.963864] SUCCESS: https://archive.podaac.uat.earthdata.nasa.gov/podaac-uat-cumulus-protected/MODIS_A-JPL-L2P-v2019.0/20020712215005-JPL-L2P_GHRSST-SSTskin-MODIS_A-D-v02.0-fv01.0.nc\n",
      "[2020-07-27 23:18:16.423610] SUCCESS: https://archive.podaac.uat.earthdata.nasa.gov/podaac-uat-cumulus-protected/MODIS_A-JPL-L2P-v2019.0/20020711113506-JPL-L2P_GHRSST-SSTskin-MODIS_A-N-v02.0-fv01.0.nc\n",
      "[2020-07-27 23:18:21.151798] SUCCESS: https://archive.podaac.uat.earthdata.nasa.gov/podaac-uat-cumulus-protected/MODIS_A-JPL-L2P-v2019.0/20020710234506-JPL-L2P_GHRSST-SSTskin-MODIS_A-D-v02.0-fv01.0.nc\n",
      "[2020-07-27 23:18:26.023900] SUCCESS: https://archive.podaac.uat.earthdata.nasa.gov/podaac-uat-cumulus-protected/MODIS_A-JPL-L2P-v2019.0/20020710140505-JPL-L2P_GHRSST-SSTskin-MODIS_A-D-v02.0-fv01.0.nc\n",
      "[2020-07-27 23:18:30.996329] SUCCESS: https://archive.podaac.uat.earthdata.nasa.gov/podaac-uat-cumulus-protected/MODIS_A-JPL-L2P-v2019.0/20020706223005-JPL-L2P_GHRSST-SSTskin-MODIS_A-D-v02.0-fv01.0.nc\n",
      "[2020-07-27 23:18:35.842026] SUCCESS: https://archive.podaac.uat.earthdata.nasa.gov/podaac-uat-cumulus-protected/MODIS_A-JPL-L2P-v2019.0/20020704130506-JPL-L2P_GHRSST-SSTskin-MODIS_A-N-v02.0-fv01.0.nc\n"
     ]
    }
   ],
   "source": [
    "for f in downloads:\n",
    "    try:\n",
    "        urlretrieve(f, f\"{data}/{basename(f)}\")\n",
    "    except Exception as e:\n",
    "        print(f\"[{datetime.now()}] FAILURE: {f}\\n\\n{e}\\n\")\n",
    "        raise e\n",
    "    else:\n",
    "        print(f\"[{datetime.now()}] SUCCESS: {f}\")"
   ]
  },
  {
   "cell_type": "markdown",
   "metadata": {},
   "source": [
    "If there were updates to the local time series during this run and no exceptions were raised during the download loop, then overwrite the timestamp file that tracks updates to the data folder (`resources/nrt/.update`):"
   ]
  },
  {
   "cell_type": "code",
   "execution_count": 18,
   "metadata": {
    "ExecuteTime": {
     "end_time": "2020-07-28T03:19:05.647902Z",
     "start_time": "2020-07-28T03:19:05.644591Z"
    }
   },
   "outputs": [],
   "source": [
    "if len(results['items'])>0:\n",
    "    with open(f\"{data}/.update\", \"w\") as f:\n",
    "        f.write(timestamp)"
   ]
  },
  {
   "cell_type": "code",
   "execution_count": null,
   "metadata": {},
   "outputs": [],
   "source": []
  }
 ],
 "metadata": {
  "kernelspec": {
   "display_name": "Python 3",
   "language": "python",
   "name": "python3"
  },
  "language_info": {
   "codemirror_mode": {
    "name": "ipython",
    "version": 3
   },
   "file_extension": ".py",
   "mimetype": "text/x-python",
   "name": "python",
   "nbconvert_exporter": "python",
   "pygments_lexer": "ipython3",
   "version": "3.8.2"
  },
  "toc": {
   "base_numbering": 1,
   "nav_menu": {},
   "number_sections": true,
   "sideBar": true,
   "skip_h1_title": true,
   "title_cell": "Table of Contents",
   "title_sidebar": "Contents",
   "toc_cell": true,
   "toc_position": {
    "height": "calc(100% - 180px)",
    "left": "10px",
    "top": "150px",
    "width": "241.528px"
   },
   "toc_section_display": true,
   "toc_window_display": false
  }
 },
 "nbformat": 4,
 "nbformat_minor": 4
}
