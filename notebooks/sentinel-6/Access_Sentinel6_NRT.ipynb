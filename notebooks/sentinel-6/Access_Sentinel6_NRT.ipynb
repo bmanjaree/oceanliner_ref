{
 "cells": [
  {
   "cell_type": "markdown",
   "metadata": {
    "toc": true
   },
   "source": [
    "<h1>Table of Contents<span class=\"tocSkip\"></span></h1>\n",
    "<div class=\"toc\"><ul class=\"toc-item\"><li><span><a href=\"#Before-you-start\" data-toc-modified-id=\"Before-you-start-1\"><span class=\"toc-item-num\">1&nbsp;&nbsp;</span>Before you start</a></span></li><li><span><a href=\"#Authentication-setup\" data-toc-modified-id=\"Authentication-setup-2\"><span class=\"toc-item-num\">2&nbsp;&nbsp;</span>Authentication setup</a></span></li><li><span><a href=\"#Hands-off-workflow\" data-toc-modified-id=\"Hands-off-workflow-3\"><span class=\"toc-item-num\">3&nbsp;&nbsp;</span>Hands-off workflow</a></span></li></ul></div>"
   ]
  },
  {
   "cell_type": "markdown",
   "metadata": {},
   "source": [
    "# Access Sentinel-6 NRT Data\n",
    "\n",
    "This notebook shows a simple way to maintain a local time series of Sentinel-6 NRT data using the [CMR Search API](https://cmr.earthdata.nasa.gov/search/site/docs/search/api.html). It downloads granules the ingested since the previous run to a designated data folder and overwrites a hidden file inside with the timestamp of the CMR Search request on success.\n",
    "\n",
    "> **User note:**\n",
    ">  The notebook actually points to a MODIS SST collection for now ([https://doi.org/10.5067/GHMDA-2PJ19](https://doi.org/10.5067/GHMDA-2PJ19)). It will work just the same for Sentinel-6.\n",
    "\n",
    "## Before you start\n",
    "\n",
    "Before you beginning this tutorial, make sure you have an Earthdata account: [https://urs.earthdata.nasa.gov](https://urs.earthdata.nasa.gov) for the operations envionrment (most common) or [https://uat.urs.earthdata.nasa.gov](https://uat.urs.earthdata.nasa.gov) for the UAT environment.\n",
    "\n",
    "Accounts are free to create and take just a moment to set up.\n",
    "\n",
    "## Authentication setup\n",
    "\n",
    "We need some boilerplate up front to log in to Earthdata Login.  The function below will allow Python\n",
    "scripts to log into any Earthdata Login application programmatically.  To avoid being prompted for\n",
    "credentials every time you run and also allow clients such as curl to log in, you can add the following\n",
    "to a `.netrc` (`_netrc` on Windows) file in your home directory:\n",
    "\n",
    "```\n",
    "machine uat.urs.earthdata.nasa.gov\n",
    "    login <your username>\n",
    "    password <your password>\n",
    "```\n",
    "\n",
    "Make sure that this file is only readable by the current user or you will receive an error stating\n",
    "\"netrc access too permissive.\"\n",
    "\n",
    "`$ chmod 0600 ~/.netrc` \n",
    "\n",
    "*You'll need to authenticate using the netrc method when running from command line with [`papermill`](https://papermill.readthedocs.io/en/latest/). You can log in manually by executing the cell below when running in the notebook client in your browser.*"
   ]
  },
  {
   "cell_type": "code",
   "execution_count": 1,
   "metadata": {
    "ExecuteTime": {
     "end_time": "2020-09-10T21:23:17.144061Z",
     "start_time": "2020-09-10T21:23:17.132231Z"
    }
   },
   "outputs": [],
   "source": [
    "from urllib import request\n",
    "from http.cookiejar import CookieJar\n",
    "import getpass\n",
    "import netrc\n",
    "\n",
    "\n",
    "def setup_earthdata_login_auth(endpoint):\n",
    "    \"\"\"\n",
    "    Set up the request library so that it authenticates against the given Earthdata Login\n",
    "    endpoint and is able to track cookies between requests.  This looks in the .netrc file \n",
    "    first and if no credentials are found, it prompts for them.\n",
    "\n",
    "    Valid endpoints include:\n",
    "        uat.urs.earthdata.nasa.gov - Earthdata Login UAT (Harmony's current default)\n",
    "        urs.earthdata.nasa.gov - Earthdata Login production\n",
    "    \"\"\"\n",
    "    try:\n",
    "        username, _, password = netrc.netrc().authenticators(endpoint)\n",
    "    except (FileNotFoundError, TypeError):\n",
    "        # FileNotFound = There's no .netrc file\n",
    "        # TypeError = The endpoint isn't in the netrc file, causing the above to try unpacking None\n",
    "        print('Please provide your Earthdata Login credentials to allow data access')\n",
    "        print('Your credentials will only be passed to %s and will not be exposed in Jupyter' % (endpoint))\n",
    "        username = input('Username:')\n",
    "        password = getpass.getpass()\n",
    "\n",
    "    manager = request.HTTPPasswordMgrWithDefaultRealm()\n",
    "    manager.add_password(None, endpoint, username, password)\n",
    "    auth = request.HTTPBasicAuthHandler(manager)\n",
    "\n",
    "    jar = CookieJar()\n",
    "    processor = request.HTTPCookieProcessor(jar)\n",
    "    opener = request.build_opener(auth, processor)\n",
    "    request.install_opener(opener)"
   ]
  },
  {
   "cell_type": "code",
   "execution_count": 2,
   "metadata": {
    "ExecuteTime": {
     "end_time": "2020-09-10T21:23:17.154182Z",
     "start_time": "2020-09-10T21:23:17.145692Z"
    }
   },
   "outputs": [],
   "source": [
    "setup_earthdata_login_auth('uat.urs.earthdata.nasa.gov')\n",
    "#setup_earthdata_login_auth('urs.earthdata.nasa.gov')"
   ]
  },
  {
   "cell_type": "markdown",
   "metadata": {},
   "source": [
    "## Hands-off workflow\n",
    "\n",
    "This workflow/notebook can be run routinely to maintain a time series of NRT data, downloading new granules as they become available in CMR. \n",
    "\n",
    "The notebook writes/overwrites a file `.update` to the target data directory with each successful run. The file tracks to date and time of the most recent update to the time series of NRT granules using a timestamp in the format `yyyy-mm-ddThh:mm:ssZ`. \n",
    "\n",
    "The timestamp matches the value used for the [`created_at`](https://cmr.earthdata.nasa.gov/search/site/docs/search/api.html#g-created-at) parameter in the last successful run. This parameter finds the granules created within a range of datetimes. This workflow leverages the `created_at` parameter to search backwards in time for new granules ingested between the time of our timestamp and now.\n",
    "\n",
    "The variables in the cell below determine the workflow behavior on its initial run:\n",
    "\n",
    "* `mins`: Initialize a new local time series by starting with the granules ingested since ___ minutes ago. \n",
    "* `cmr`: The domain of the target CMR instance, either `cmr.earthdata.nasa.gov` or `cmr.uat.earthdata.nasa.gov`.\n",
    "* `ShortName`: PODAAC's unique string identifier for the desired Collection.\n",
    "* `data`: The path to a local directory in which to download/maintain a copy of the NRT granule time series."
   ]
  },
  {
   "cell_type": "code",
   "execution_count": 3,
   "metadata": {
    "ExecuteTime": {
     "end_time": "2020-09-10T21:23:17.188569Z",
     "start_time": "2020-09-10T21:23:17.186261Z"
    },
    "tags": [
     "parameters"
    ]
   },
   "outputs": [],
   "source": [
    "#\n",
    "# This cell accepts parameters from command line with papermill: \n",
    "#  https://papermill.readthedocs.io\n",
    "#\n",
    "# These variables should be set before the first run, then they \n",
    "#  should be left alone. All subsequent runs expect the values \n",
    "#  for cmr, ShortName, data to be unchanged. The mins value has no \n",
    "#  impact on subsequent runs.\n",
    "#\n",
    "\n",
    "mins = 10\n",
    "\n",
    "cmr = \"cmr.uat.earthdata.nasa.gov\"\n",
    "\n",
    "ShortName = \"MODIS_T-JPL-L2P-v2019.0\"  # \"MODIS_A-JPL-L2P-v2019.0\"\n",
    "\n",
    "data = \"resources/nrt\""
   ]
  },
  {
   "cell_type": "markdown",
   "metadata": {},
   "source": [
    "The variable `data` is pointed at a nearby folder [`resources/nrt`](resources/nrt/) by default. **You should change `data` to a suitable download path on your file system.** An unlucky sequence of git commands could disappear that folder and its downloads if your not careful. Just change it.\n",
    "\n",
    "The Python imports relevant to the workflow"
   ]
  },
  {
   "cell_type": "code",
   "execution_count": 4,
   "metadata": {
    "ExecuteTime": {
     "end_time": "2020-09-10T21:23:17.239197Z",
     "start_time": "2020-09-10T21:23:17.235956Z"
    }
   },
   "outputs": [],
   "source": [
    "from os import makedirs\n",
    "from os.path import isdir, basename\n",
    "from urllib.parse import urlencode\n",
    "from urllib.error import HTTPError, URLError\n",
    "from urllib.request import urlopen, urlretrieve\n",
    "from datetime import datetime, timedelta\n",
    "from json import dumps, loads"
   ]
  },
  {
   "cell_type": "markdown",
   "metadata": {},
   "source": [
    "**The search retrieves granules ingested during the last `n` minutes.** A file in your local data dir  file that tracks updates to your data directory, if one file exists. The CMR Search falls back on the ten minute window if not."
   ]
  },
  {
   "cell_type": "code",
   "execution_count": 5,
   "metadata": {
    "ExecuteTime": {
     "end_time": "2020-09-10T21:23:17.292769Z",
     "start_time": "2020-09-10T21:23:17.285634Z"
    }
   },
   "outputs": [
    {
     "data": {
      "text/plain": [
       "'2020-09-10T21:13:17Z'"
      ]
     },
     "execution_count": 5,
     "metadata": {},
     "output_type": "execute_result"
    }
   ],
   "source": [
    "timestamp = (datetime.utcnow()-timedelta(minutes=mins)).strftime(\"%Y-%m-%dT%H:%M:%SZ\")\n",
    "timestamp"
   ]
  },
  {
   "cell_type": "markdown",
   "metadata": {},
   "source": [
    "This cell will replace the timestamp above with the one read from the `.update` file in the data directory, if it exists."
   ]
  },
  {
   "cell_type": "code",
   "execution_count": 6,
   "metadata": {
    "ExecuteTime": {
     "end_time": "2020-09-10T21:23:17.338652Z",
     "start_time": "2020-09-10T21:23:17.334660Z"
    }
   },
   "outputs": [
    {
     "name": "stdout",
     "output_type": "stream",
     "text": [
      "WARN: No .update in the data directory. (Is this the first run?)\n"
     ]
    }
   ],
   "source": [
    "if not isdir(data):\n",
    "    print(f\"NOTE: Making new data directory at '{data}'. (This is the first run.)\")\n",
    "    makedirs(data)\n",
    "else:\n",
    "    try:\n",
    "        with open(f\"{data}/.update\", \"r\") as f:\n",
    "            timestamp = f.read()\n",
    "    except FileNotFoundError:\n",
    "        print(\"WARN: No .update in the data directory. (Is this the first run?)\")\n",
    "    else:\n",
    "        print(f\"NOTE: .update found in the data directory. (The last run was at {timestamp}.)\")"
   ]
  },
  {
   "cell_type": "markdown",
   "metadata": {},
   "source": [
    "There are several ways to query for CMR updates that occured during a given timeframe. Read on in the CMR Search documentation:\n",
    "\n",
    "* https://cmr.earthdata.nasa.gov/search/site/docs/search/api.html#c-with-new-granules (Collections)\n",
    "* https://cmr.earthdata.nasa.gov/search/site/docs/search/api.html#c-with-revised-granules (Collections)\n",
    "* https://cmr.earthdata.nasa.gov/search/site/docs/search/api.html#g-production-date (Granules)\n",
    "* https://cmr.earthdata.nasa.gov/search/site/docs/search/api.html#g-created-at (Granules)\n",
    "\n",
    "The `created_at` parameter works for our purposes. It's a granule search parameter that returns the records ingested since the input timestamp."
   ]
  },
  {
   "cell_type": "code",
   "execution_count": 7,
   "metadata": {
    "ExecuteTime": {
     "end_time": "2020-09-10T21:23:17.384031Z",
     "start_time": "2020-09-10T21:23:17.379990Z"
    }
   },
   "outputs": [
    {
     "data": {
      "text/plain": [
       "{'scroll': 'true',\n",
       " 'page_size': 2000,\n",
       " 'sort_key': '-start_date',\n",
       " 'ShortName': 'MODIS_T-JPL-L2P-v2019.0',\n",
       " 'created_at': '2020-09-10T21:13:17Z'}"
      ]
     },
     "execution_count": 7,
     "metadata": {},
     "output_type": "execute_result"
    }
   ],
   "source": [
    "params = {\n",
    "    'scroll': \"true\",\n",
    "    'page_size': 2000,\n",
    "    'sort_key': \"-start_date\",\n",
    "    'ShortName': ShortName,\n",
    "    'created_at': timestamp,\n",
    "}\n",
    "\n",
    "params"
   ]
  },
  {
   "cell_type": "markdown",
   "metadata": {},
   "source": [
    "Get the query parameters as a string and then the complete search url:"
   ]
  },
  {
   "cell_type": "code",
   "execution_count": 8,
   "metadata": {
    "ExecuteTime": {
     "end_time": "2020-09-10T21:23:17.426875Z",
     "start_time": "2020-09-10T21:23:17.424162Z"
    }
   },
   "outputs": [
    {
     "name": "stdout",
     "output_type": "stream",
     "text": [
      "https://cmr.uat.earthdata.nasa.gov/search/granules.umm_json?scroll=true&page_size=2000&sort_key=-start_date&ShortName=MODIS_T-JPL-L2P-v2019.0&created_at=2020-09-10T21%3A13%3A17Z\n"
     ]
    }
   ],
   "source": [
    "query = urlencode(params)\n",
    "url = f\"https://{cmr}/search/granules.umm_json?{query}\"\n",
    "print(url)"
   ]
  },
  {
   "cell_type": "markdown",
   "metadata": {},
   "source": [
    "Get a new timestamp that represents the UTC time of the search. Then download the records in `umm_json` format for granules that match our search parameters:"
   ]
  },
  {
   "cell_type": "code",
   "execution_count": 9,
   "metadata": {
    "ExecuteTime": {
     "end_time": "2020-09-10T21:23:18.534670Z",
     "start_time": "2020-09-10T21:23:17.472935Z"
    }
   },
   "outputs": [
    {
     "name": "stdout",
     "output_type": "stream",
     "text": [
      "Status after request loop: (74/74)\n"
     ]
    }
   ],
   "source": [
    "with request.urlopen(url) as response:\n",
    "    timestamp = datetime.utcnow().strftime(\"%Y-%m-%dT%H:%M:%SZ\")  # Record the time of the request.\n",
    "    try:\n",
    "        results = loads(response.read().decode())                 # Read-Decode-Load results from JSON.\n",
    "        scroll = response.getheader(\"Cmr-Scroll-Id\")              # Get response header for 'Cmr-Scroll-Id'.\n",
    "    except (HTTPError, URLError) as e:\n",
    "        raise e\n",
    "    else:\n",
    "        req = request.Request(url, headers={'Client-Id': \"S6\", 'CMR-Scroll-Id': scroll})\n",
    "\n",
    "print(f\"Status after request loop: ({len(results['items'])}/{results['hits']})\")"
   ]
  },
  {
   "cell_type": "markdown",
   "metadata": {},
   "source": [
    "Submit as many requests as needed to get all the target granule records."
   ]
  },
  {
   "cell_type": "code",
   "execution_count": 10,
   "metadata": {
    "ExecuteTime": {
     "end_time": "2020-09-10T21:23:18.540692Z",
     "start_time": "2020-09-10T21:23:18.536568Z"
    }
   },
   "outputs": [
    {
     "name": "stdout",
     "output_type": "stream",
     "text": [
      "Status after request loop: (74/74)\n"
     ]
    }
   ],
   "source": [
    "while int(results['hits'])!=len(results['items']):\n",
    "    try:\n",
    "        with request.urlopen(req) as response:\n",
    "            aresults = loads(response.read().decode())\n",
    "    except (HTTPError, URLError) as e:\n",
    "        raise e\n",
    "    else:\n",
    "        try:\n",
    "            results['items'].extend(aresults['items'])\n",
    "        except KeyError as e:\n",
    "            break\n",
    "\n",
    "print(f\"Status after request loop: ({len(results['items'])}/{results['hits']})\")"
   ]
  },
  {
   "cell_type": "markdown",
   "metadata": {},
   "source": [
    "Neatly print the first granule record (if one was returned):"
   ]
  },
  {
   "cell_type": "code",
   "execution_count": 11,
   "metadata": {
    "ExecuteTime": {
     "end_time": "2020-09-10T21:23:18.545638Z",
     "start_time": "2020-09-10T21:23:18.542879Z"
    }
   },
   "outputs": [
    {
     "name": "stdout",
     "output_type": "stream",
     "text": [
      "{\n",
      "  \"meta\": {\n",
      "    \"concept-type\": \"granule\",\n",
      "    \"concept-id\": \"G1237944663-POCLOUD\",\n",
      "    \"revision-id\": 1,\n",
      "    \"native-id\": \"20031031035506-JPL-L2P_GHRSST-SSTskin-MODIS_T-N-v02.0-fv01.0\",\n",
      "    \"provider-id\": \"POCLOUD\",\n",
      "    \"format\": \"application/vnd.nasa.cmr.umm+json\",\n",
      "    \"revision-date\": \"2020-09-10T21:19:57.693Z\"\n",
      "  },\n",
      "  \"umm\": {\n",
      "    \"RelatedUrls\": [\n",
      "      {\n",
      "        \"URL\": \"https://archive.podaac.uat.earthdata.nasa.gov/podaac-uat-cumulus-protected/MODIS_T-JPL-L2P-v2019.0/20031031035506-JPL-L2P_GHRSST-SSTskin-MODIS_T-N-v02.0-fv01.0.nc\",\n",
      "        \"Type\": \"GET DATA\",\n",
      "        \"Description\": \"Download 20031031035506-JPL-L2P_GHRSST-SSTskin-MODIS_T-N-v02.0-fv01.0.nc\"\n",
      "      },\n",
      "      {\n",
      "        \"URL\": \"https://archive.podaac.uat.earthdata.nasa.gov/podaac-uat-cumulus-public/MODIS_T-JPL-L2P-v2019.0/20031031035506-JPL-L2P_GHRSST-SSTskin-MODIS_T-N-v02.0-fv01.0.nc.md5\",\n",
      "        \"Type\": \"EXTENDED METADATA\",\n",
      "        \"Description\": \"Download 20031031035506-JPL-L2P_GHRSST-SSTskin-MODIS_T-N-v02.0-fv01.0.nc.md5\"\n",
      "      },\n",
      "      {\n",
      "        \"URL\": \"https://archive.podaac.uat.earthdata.nasa.gov/podaac-uat-cumulus-public/MODIS_T-JPL-L2P-v2019.0/20031031035506-JPL-L2P_GHRSST-SSTskin-MODIS_T-N-v02.0-fv01.0.cmr.json\",\n",
      "        \"Type\": \"EXTENDED METADATA\",\n",
      "        \"Description\": \"Download 20031031035506-JPL-L2P_GHRSST-SSTskin-MODIS_T-N-v02.0-fv01.0.cmr.json\"\n",
      "      },\n",
      "      {\n",
      "        \"URL\": \"https://archive.podaac.uat.earthdata.nasa.gov/s3credentials\",\n",
      "        \"Type\": \"VIEW RELATED INFORMATION\",\n",
      "        \"Description\": \"api endpoint to retrieve temporary credentials valid for same-region direct s3 access\"\n",
      "      }\n",
      "    ],\n",
      "    \"SpatialExtent\": {\n",
      "      \"HorizontalSpatialDomain\": {\n",
      "        \"Geometry\": {\n",
      "          \"BoundingRectangles\": [\n",
      "            {\n",
      "              \"WestBoundingCoordinate\": 79.478,\n",
      "              \"EastBoundingCoordinate\": 167.166,\n",
      "              \"NorthBoundingCoordinate\": 82.721,\n",
      "              \"SouthBoundingCoordinate\": 58.417\n",
      "            }\n",
      "          ]\n",
      "        }\n",
      "      }\n",
      "    },\n",
      "    \"ProviderDates\": [\n",
      "      {\n",
      "        \"Date\": \"2020-09-10T21:19:41.453Z\",\n",
      "        \"Type\": \"Insert\"\n",
      "      },\n",
      "      {\n",
      "        \"Date\": \"2020-09-10T21:19:41.453Z\",\n",
      "        \"Type\": \"Update\"\n",
      "      }\n",
      "    ],\n",
      "    \"CollectionReference\": {\n",
      "      \"ShortName\": \"MODIS_T-JPL-L2P-v2019.0\",\n",
      "      \"Version\": \"2019.0\"\n",
      "    },\n",
      "    \"DataGranule\": {\n",
      "      \"DayNightFlag\": \"Unspecified\",\n",
      "      \"ProductionDateTime\": \"2020-09-10T18:17:35.000Z\",\n",
      "      \"ArchiveAndDistributionInformation\": [\n",
      "        {\n",
      "          \"Name\": \"Not provided\",\n",
      "          \"Size\": 19.697152137756348,\n",
      "          \"SizeUnit\": \"MB\"\n",
      "        }\n",
      "      ]\n",
      "    },\n",
      "    \"TemporalExtent\": {\n",
      "      \"RangeDateTime\": {\n",
      "        \"BeginningDateTime\": \"2003-10-31T03:55:01.000Z\",\n",
      "        \"EndingDateTime\": \"2003-10-31T04:00:00.000Z\"\n",
      "      }\n",
      "    },\n",
      "    \"GranuleUR\": \"20031031035506-JPL-L2P_GHRSST-SSTskin-MODIS_T-N-v02.0-fv01.0\",\n",
      "    \"MetadataSpecification\": {\n",
      "      \"URL\": \"https://cdn.earthdata.nasa.gov/umm/granule/v1.6.1\",\n",
      "      \"Name\": \"UMM-G\",\n",
      "      \"Version\": \"1.6.1\"\n",
      "    }\n",
      "  }\n",
      "}\n"
     ]
    }
   ],
   "source": [
    "if len(results['items'])>0:\n",
    "    print(dumps(results['items'][0], indent=2))"
   ]
  },
  {
   "cell_type": "markdown",
   "metadata": {},
   "source": [
    "The link for http access can be retrieved from each granule record's `RelatedUrls` field. The download link is identified by `\"Type\": \"GET DATA\"` .\n",
    "\n",
    "Select the download URL for each of the granule records:"
   ]
  },
  {
   "cell_type": "code",
   "execution_count": 12,
   "metadata": {
    "ExecuteTime": {
     "end_time": "2020-09-10T21:23:18.552315Z",
     "start_time": "2020-09-10T21:23:18.547291Z"
    },
    "scrolled": true
   },
   "outputs": [
    {
     "data": {
      "text/plain": [
       "['https://archive.podaac.uat.earthdata.nasa.gov/podaac-uat-cumulus-protected/MODIS_T-JPL-L2P-v2019.0/20031030035006-JPL-L2P_GHRSST-SSTskin-MODIS_T-D-v02.0-fv01.0.nc',\n",
       " 'https://archive.podaac.uat.earthdata.nasa.gov/podaac-uat-cumulus-protected/MODIS_T-JPL-L2P-v2019.0/20031030032006-JPL-L2P_GHRSST-SSTskin-MODIS_T-D-v02.0-fv01.0.nc',\n",
       " 'https://archive.podaac.uat.earthdata.nasa.gov/podaac-uat-cumulus-protected/MODIS_T-JPL-L2P-v2019.0/20031030031005-JPL-L2P_GHRSST-SSTskin-MODIS_T-D-v02.0-fv01.0.nc',\n",
       " 'https://archive.podaac.uat.earthdata.nasa.gov/podaac-uat-cumulus-protected/MODIS_T-JPL-L2P-v2019.0/20031029235506-JPL-L2P_GHRSST-SSTskin-MODIS_T-D-v02.0-fv01.0.nc',\n",
       " 'https://archive.podaac.uat.earthdata.nasa.gov/podaac-uat-cumulus-protected/MODIS_T-JPL-L2P-v2019.0/20031029113005-JPL-L2P_GHRSST-SSTskin-MODIS_T-N-v02.0-fv01.0.nc',\n",
       " 'https://archive.podaac.uat.earthdata.nasa.gov/podaac-uat-cumulus-protected/MODIS_T-JPL-L2P-v2019.0/20031029043506-JPL-L2P_GHRSST-SSTskin-MODIS_T-D-v02.0-fv01.0.nc',\n",
       " 'https://archive.podaac.uat.earthdata.nasa.gov/podaac-uat-cumulus-protected/MODIS_T-JPL-L2P-v2019.0/20031029042005-JPL-L2P_GHRSST-SSTskin-MODIS_T-D-v02.0-fv01.0.nc',\n",
       " 'https://archive.podaac.uat.earthdata.nasa.gov/podaac-uat-cumulus-protected/MODIS_T-JPL-L2P-v2019.0/20031029031506-JPL-L2P_GHRSST-SSTskin-MODIS_T-D-v02.0-fv01.0.nc',\n",
       " 'https://archive.podaac.uat.earthdata.nasa.gov/podaac-uat-cumulus-protected/MODIS_T-JPL-L2P-v2019.0/20031028181506-JPL-L2P_GHRSST-SSTskin-MODIS_T-N-v02.0-fv01.0.nc',\n",
       " 'https://archive.podaac.uat.earthdata.nasa.gov/podaac-uat-cumulus-protected/MODIS_T-JPL-L2P-v2019.0/20031028150006-JPL-L2P_GHRSST-SSTskin-MODIS_T-D-v02.0-fv01.0.nc',\n",
       " 'https://archive.podaac.uat.earthdata.nasa.gov/podaac-uat-cumulus-protected/MODIS_T-JPL-L2P-v2019.0/20031028115506-JPL-L2P_GHRSST-SSTskin-MODIS_T-D-v02.0-fv01.0.nc',\n",
       " 'https://archive.podaac.uat.earthdata.nasa.gov/podaac-uat-cumulus-protected/MODIS_T-JPL-L2P-v2019.0/20031028103506-JPL-L2P_GHRSST-SSTskin-MODIS_T-D-v02.0-fv01.0.nc',\n",
       " 'https://archive.podaac.uat.earthdata.nasa.gov/podaac-uat-cumulus-protected/MODIS_T-JPL-L2P-v2019.0/20031028101506-JPL-L2P_GHRSST-SSTskin-MODIS_T-D-v02.0-fv01.0.nc',\n",
       " 'https://archive.podaac.uat.earthdata.nasa.gov/podaac-uat-cumulus-protected/MODIS_T-JPL-L2P-v2019.0/20031028090505-JPL-L2P_GHRSST-SSTskin-MODIS_T-D-v02.0-fv01.0.nc',\n",
       " 'https://archive.podaac.uat.earthdata.nasa.gov/podaac-uat-cumulus-protected/MODIS_T-JPL-L2P-v2019.0/20031028080006-JPL-L2P_GHRSST-SSTskin-MODIS_T-N-v02.0-fv01.0.nc',\n",
       " 'https://archive.podaac.uat.earthdata.nasa.gov/podaac-uat-cumulus-protected/MODIS_T-JPL-L2P-v2019.0/20031028055506-JPL-L2P_GHRSST-SSTskin-MODIS_T-N-v02.0-fv01.0.nc',\n",
       " 'https://archive.podaac.uat.earthdata.nasa.gov/podaac-uat-cumulus-protected/MODIS_T-JPL-L2P-v2019.0/20031028051506-JPL-L2P_GHRSST-SSTskin-MODIS_T-D-v02.0-fv01.0.nc',\n",
       " 'https://archive.podaac.uat.earthdata.nasa.gov/podaac-uat-cumulus-protected/MODIS_T-JPL-L2P-v2019.0/20031028051006-JPL-L2P_GHRSST-SSTskin-MODIS_T-D-v02.0-fv01.0.nc',\n",
       " 'https://archive.podaac.uat.earthdata.nasa.gov/podaac-uat-cumulus-protected/MODIS_T-JPL-L2P-v2019.0/20031028045005-JPL-L2P_GHRSST-SSTskin-MODIS_T-N-v02.0-fv01.0.nc',\n",
       " 'https://archive.podaac.uat.earthdata.nasa.gov/podaac-uat-cumulus-protected/MODIS_T-JPL-L2P-v2019.0/20031028043505-JPL-L2P_GHRSST-SSTskin-MODIS_T-N-v02.0-fv01.0.nc',\n",
       " 'https://archive.podaac.uat.earthdata.nasa.gov/podaac-uat-cumulus-protected/MODIS_T-JPL-L2P-v2019.0/20031028032506-JPL-L2P_GHRSST-SSTskin-MODIS_T-N-v02.0-fv01.0.nc',\n",
       " 'https://archive.podaac.uat.earthdata.nasa.gov/podaac-uat-cumulus-protected/MODIS_T-JPL-L2P-v2019.0/20031028024506-JPL-L2P_GHRSST-SSTskin-MODIS_T-N-v02.0-fv01.0.nc',\n",
       " 'https://archive.podaac.uat.earthdata.nasa.gov/podaac-uat-cumulus-protected/MODIS_T-JPL-L2P-v2019.0/20031028020505-JPL-L2P_GHRSST-SSTskin-MODIS_T-D-v02.0-fv01.0.nc',\n",
       " 'https://archive.podaac.uat.earthdata.nasa.gov/podaac-uat-cumulus-protected/MODIS_T-JPL-L2P-v2019.0/20031028012506-JPL-L2P_GHRSST-SSTskin-MODIS_T-N-v02.0-fv01.0.nc',\n",
       " 'https://archive.podaac.uat.earthdata.nasa.gov/podaac-uat-cumulus-protected/MODIS_T-JPL-L2P-v2019.0/20031028004006-JPL-L2P_GHRSST-SSTskin-MODIS_T-D-v02.0-fv01.0.nc',\n",
       " 'https://archive.podaac.uat.earthdata.nasa.gov/podaac-uat-cumulus-protected/MODIS_T-JPL-L2P-v2019.0/20031006144006-JPL-L2P_GHRSST-SSTskin-MODIS_T-N-v02.0-fv01.0.nc',\n",
       " 'https://archive.podaac.uat.earthdata.nasa.gov/podaac-uat-cumulus-protected/MODIS_T-JPL-L2P-v2019.0/20010129101506-JPL-L2P_GHRSST-SSTskin-MODIS_T-D-v02.0-fv01.0.nc',\n",
       " 'https://archive.podaac.uat.earthdata.nasa.gov/podaac-uat-cumulus-protected/MODIS_T-JPL-L2P-v2019.0/20010127061005-JPL-L2P_GHRSST-SSTskin-MODIS_T-N-v02.0-fv01.0.nc',\n",
       " 'https://archive.podaac.uat.earthdata.nasa.gov/podaac-uat-cumulus-protected/MODIS_T-JPL-L2P-v2019.0/20010122174505-JPL-L2P_GHRSST-SSTskin-MODIS_T-D-v02.0-fv01.0.nc',\n",
       " 'https://archive.podaac.uat.earthdata.nasa.gov/podaac-uat-cumulus-protected/MODIS_T-JPL-L2P-v2019.0/20010122125500-JPL-L2P_GHRSST-SSTskin-MODIS_T-D-v02.0-fv01.0.nc',\n",
       " 'https://archive.podaac.uat.earthdata.nasa.gov/podaac-uat-cumulus-protected/MODIS_T-JPL-L2P-v2019.0/20010122025005-JPL-L2P_GHRSST-SSTskin-MODIS_T-N-v02.0-fv01.0.nc',\n",
       " 'https://archive.podaac.uat.earthdata.nasa.gov/podaac-uat-cumulus-protected/MODIS_T-JPL-L2P-v2019.0/20010121001500-JPL-L2P_GHRSST-SSTskin-MODIS_T-N-v02.0-fv01.0.nc',\n",
       " 'https://archive.podaac.uat.earthdata.nasa.gov/podaac-uat-cumulus-protected/MODIS_T-JPL-L2P-v2019.0/20010120215506-JPL-L2P_GHRSST-SSTskin-MODIS_T-D-v02.0-fv01.0.nc',\n",
       " 'https://archive.podaac.uat.earthdata.nasa.gov/podaac-uat-cumulus-protected/MODIS_T-JPL-L2P-v2019.0/20010120083506-JPL-L2P_GHRSST-SSTskin-MODIS_T-D-v02.0-fv01.0.nc',\n",
       " 'https://archive.podaac.uat.earthdata.nasa.gov/podaac-uat-cumulus-protected/MODIS_T-JPL-L2P-v2019.0/20010119114506-JPL-L2P_GHRSST-SSTskin-MODIS_T-N-v02.0-fv01.0.nc',\n",
       " 'https://archive.podaac.uat.earthdata.nasa.gov/podaac-uat-cumulus-protected/MODIS_T-JPL-L2P-v2019.0/20010118060506-JPL-L2P_GHRSST-SSTskin-MODIS_T-N-v02.0-fv01.0.nc',\n",
       " 'https://archive.podaac.uat.earthdata.nasa.gov/podaac-uat-cumulus-protected/MODIS_T-JPL-L2P-v2019.0/20010118002005-JPL-L2P_GHRSST-SSTskin-MODIS_T-D-v02.0-fv01.0.nc',\n",
       " 'https://archive.podaac.uat.earthdata.nasa.gov/podaac-uat-cumulus-protected/MODIS_T-JPL-L2P-v2019.0/20010117165505-JPL-L2P_GHRSST-SSTskin-MODIS_T-N-v02.0-fv01.0.nc',\n",
       " 'https://archive.podaac.uat.earthdata.nasa.gov/podaac-uat-cumulus-protected/MODIS_T-JPL-L2P-v2019.0/20010117051005-JPL-L2P_GHRSST-SSTskin-MODIS_T-N-v02.0-fv01.0.nc',\n",
       " 'https://archive.podaac.uat.earthdata.nasa.gov/podaac-uat-cumulus-protected/MODIS_T-JPL-L2P-v2019.0/20010116194006-JPL-L2P_GHRSST-SSTskin-MODIS_T-N-v02.0-fv01.0.nc',\n",
       " 'https://archive.podaac.uat.earthdata.nasa.gov/podaac-uat-cumulus-protected/MODIS_T-JPL-L2P-v2019.0/20010116083005-JPL-L2P_GHRSST-SSTskin-MODIS_T-N-v02.0-fv01.0.nc',\n",
       " 'https://archive.podaac.uat.earthdata.nasa.gov/podaac-uat-cumulus-protected/MODIS_T-JPL-L2P-v2019.0/20010115160506-JPL-L2P_GHRSST-SSTskin-MODIS_T-D-v02.0-fv01.0.nc',\n",
       " 'https://archive.podaac.uat.earthdata.nasa.gov/podaac-uat-cumulus-protected/MODIS_T-JPL-L2P-v2019.0/20010114203505-JPL-L2P_GHRSST-SSTskin-MODIS_T-D-v02.0-fv01.0.nc',\n",
       " 'https://archive.podaac.uat.earthdata.nasa.gov/podaac-uat-cumulus-protected/MODIS_T-JPL-L2P-v2019.0/20010114143006-JPL-L2P_GHRSST-SSTskin-MODIS_T-N-v02.0-fv01.0.nc',\n",
       " 'https://archive.podaac.uat.earthdata.nasa.gov/podaac-uat-cumulus-protected/MODIS_T-JPL-L2P-v2019.0/20010114125006-JPL-L2P_GHRSST-SSTskin-MODIS_T-N-v02.0-fv01.0.nc',\n",
       " 'https://archive.podaac.uat.earthdata.nasa.gov/podaac-uat-cumulus-protected/MODIS_T-JPL-L2P-v2019.0/20010114083006-JPL-L2P_GHRSST-SSTskin-MODIS_T-N-v02.0-fv01.0.nc',\n",
       " 'https://archive.podaac.uat.earthdata.nasa.gov/podaac-uat-cumulus-protected/MODIS_T-JPL-L2P-v2019.0/20010112122006-JPL-L2P_GHRSST-SSTskin-MODIS_T-D-v02.0-fv01.0.nc',\n",
       " 'https://archive.podaac.uat.earthdata.nasa.gov/podaac-uat-cumulus-protected/MODIS_T-JPL-L2P-v2019.0/20010112105506-JPL-L2P_GHRSST-SSTskin-MODIS_T-D-v02.0-fv01.0.nc',\n",
       " 'https://archive.podaac.uat.earthdata.nasa.gov/podaac-uat-cumulus-protected/MODIS_T-JPL-L2P-v2019.0/20010111115005-JPL-L2P_GHRSST-SSTskin-MODIS_T-D-v02.0-fv01.0.nc',\n",
       " 'https://archive.podaac.uat.earthdata.nasa.gov/podaac-uat-cumulus-protected/MODIS_T-JPL-L2P-v2019.0/20010110162006-JPL-L2P_GHRSST-SSTskin-MODIS_T-D-v02.0-fv01.0.nc',\n",
       " 'https://archive.podaac.uat.earthdata.nasa.gov/podaac-uat-cumulus-protected/MODIS_T-JPL-L2P-v2019.0/20010110131005-JPL-L2P_GHRSST-SSTskin-MODIS_T-N-v02.0-fv01.0.nc',\n",
       " 'https://archive.podaac.uat.earthdata.nasa.gov/podaac-uat-cumulus-protected/MODIS_T-JPL-L2P-v2019.0/20010110111506-JPL-L2P_GHRSST-SSTskin-MODIS_T-D-v02.0-fv01.0.nc',\n",
       " 'https://archive.podaac.uat.earthdata.nasa.gov/podaac-uat-cumulus-protected/MODIS_T-JPL-L2P-v2019.0/20010110110006-JPL-L2P_GHRSST-SSTskin-MODIS_T-D-v02.0-fv01.0.nc',\n",
       " 'https://archive.podaac.uat.earthdata.nasa.gov/podaac-uat-cumulus-protected/MODIS_T-JPL-L2P-v2019.0/20010110094506-JPL-L2P_GHRSST-SSTskin-MODIS_T-D-v02.0-fv01.0.nc',\n",
       " 'https://archive.podaac.uat.earthdata.nasa.gov/podaac-uat-cumulus-protected/MODIS_T-JPL-L2P-v2019.0/20010110085006-JPL-L2P_GHRSST-SSTskin-MODIS_T-N-v02.0-fv01.0.nc',\n",
       " 'https://archive.podaac.uat.earthdata.nasa.gov/podaac-uat-cumulus-protected/MODIS_T-JPL-L2P-v2019.0/20010110054505-JPL-L2P_GHRSST-SSTskin-MODIS_T-D-v02.0-fv01.0.nc',\n",
       " 'https://archive.podaac.uat.earthdata.nasa.gov/podaac-uat-cumulus-protected/MODIS_T-JPL-L2P-v2019.0/20010110033006-JPL-L2P_GHRSST-SSTskin-MODIS_T-N-v02.0-fv01.0.nc',\n",
       " 'https://archive.podaac.uat.earthdata.nasa.gov/podaac-uat-cumulus-protected/MODIS_T-JPL-L2P-v2019.0/20010109231005-JPL-L2P_GHRSST-SSTskin-MODIS_T-D-v02.0-fv01.0.nc',\n",
       " 'https://archive.podaac.uat.earthdata.nasa.gov/podaac-uat-cumulus-protected/MODIS_T-JPL-L2P-v2019.0/20010109201506-JPL-L2P_GHRSST-SSTskin-MODIS_T-D-v02.0-fv01.0.nc',\n",
       " 'https://archive.podaac.uat.earthdata.nasa.gov/podaac-uat-cumulus-protected/MODIS_T-JPL-L2P-v2019.0/20010109195506-JPL-L2P_GHRSST-SSTskin-MODIS_T-D-v02.0-fv01.0.nc',\n",
       " 'https://archive.podaac.uat.earthdata.nasa.gov/podaac-uat-cumulus-protected/MODIS_T-JPL-L2P-v2019.0/20010109191506-JPL-L2P_GHRSST-SSTskin-MODIS_T-N-v02.0-fv01.0.nc',\n",
       " 'https://archive.podaac.uat.earthdata.nasa.gov/podaac-uat-cumulus-protected/MODIS_T-JPL-L2P-v2019.0/20010109184006-JPL-L2P_GHRSST-SSTskin-MODIS_T-D-v02.0-fv01.0.nc',\n",
       " 'https://archive.podaac.uat.earthdata.nasa.gov/podaac-uat-cumulus-protected/MODIS_T-JPL-L2P-v2019.0/20010109163506-JPL-L2P_GHRSST-SSTskin-MODIS_T-D-v02.0-fv01.0.nc',\n",
       " 'https://archive.podaac.uat.earthdata.nasa.gov/podaac-uat-cumulus-protected/MODIS_T-JPL-L2P-v2019.0/20010109161506-JPL-L2P_GHRSST-SSTskin-MODIS_T-N-v02.0-fv01.0.nc',\n",
       " 'https://archive.podaac.uat.earthdata.nasa.gov/podaac-uat-cumulus-protected/MODIS_T-JPL-L2P-v2019.0/20010109154000-JPL-L2P_GHRSST-SSTskin-MODIS_T-D-v02.0-fv01.0.nc',\n",
       " 'https://archive.podaac.uat.earthdata.nasa.gov/podaac-uat-cumulus-protected/MODIS_T-JPL-L2P-v2019.0/20010109150006-JPL-L2P_GHRSST-SSTskin-MODIS_T-D-v02.0-fv01.0.nc',\n",
       " 'https://archive.podaac.uat.earthdata.nasa.gov/podaac-uat-cumulus-protected/MODIS_T-JPL-L2P-v2019.0/20010109093006-JPL-L2P_GHRSST-SSTskin-MODIS_T-N-v02.0-fv01.0.nc',\n",
       " 'https://archive.podaac.uat.earthdata.nasa.gov/podaac-uat-cumulus-protected/MODIS_T-JPL-L2P-v2019.0/20010108030000-JPL-L2P_GHRSST-SSTskin-MODIS_T-D-v02.0-fv01.0.nc',\n",
       " 'https://archive.podaac.uat.earthdata.nasa.gov/podaac-uat-cumulus-protected/MODIS_T-JPL-L2P-v2019.0/20010108015006-JPL-L2P_GHRSST-SSTskin-MODIS_T-N-v02.0-fv01.0.nc']"
      ]
     },
     "execution_count": 12,
     "metadata": {},
     "output_type": "execute_result"
    }
   ],
   "source": [
    "downloads = [[u['URL'] for u in r['umm']['RelatedUrls'] if u['Type']==\"GET DATA\"][0] for r in results['items']]\n",
    "downloads[5:]"
   ]
  },
  {
   "cell_type": "markdown",
   "metadata": {
    "ExecuteTime": {
     "end_time": "2020-07-25T12:03:56.780074Z",
     "start_time": "2020-07-25T12:03:56.777273Z"
    }
   },
   "source": [
    "Finish by downloading the files to the data directory in a loop. Overwrite `.update` with a new timestamp on success."
   ]
  },
  {
   "cell_type": "code",
   "execution_count": 13,
   "metadata": {
    "ExecuteTime": {
     "end_time": "2020-09-10T21:29:22.477385Z",
     "start_time": "2020-09-10T21:23:18.553718Z"
    },
    "scrolled": false
   },
   "outputs": [
    {
     "name": "stdout",
     "output_type": "stream",
     "text": [
      "[2020-09-10 17:23:26.789531] SUCCESS: https://archive.podaac.uat.earthdata.nasa.gov/podaac-uat-cumulus-protected/MODIS_T-JPL-L2P-v2019.0/20031031035506-JPL-L2P_GHRSST-SSTskin-MODIS_T-N-v02.0-fv01.0.nc\n",
      "[2020-09-10 17:23:31.105989] SUCCESS: https://archive.podaac.uat.earthdata.nasa.gov/podaac-uat-cumulus-protected/MODIS_T-JPL-L2P-v2019.0/20031030223506-JPL-L2P_GHRSST-SSTskin-MODIS_T-N-v02.0-fv01.0.nc\n",
      "[2020-09-10 17:23:35.368470] SUCCESS: https://archive.podaac.uat.earthdata.nasa.gov/podaac-uat-cumulus-protected/MODIS_T-JPL-L2P-v2019.0/20031030215506-JPL-L2P_GHRSST-SSTskin-MODIS_T-D-v02.0-fv01.0.nc\n",
      "[2020-09-10 17:23:39.873141] SUCCESS: https://archive.podaac.uat.earthdata.nasa.gov/podaac-uat-cumulus-protected/MODIS_T-JPL-L2P-v2019.0/20031030055005-JPL-L2P_GHRSST-SSTskin-MODIS_T-N-v02.0-fv01.0.nc\n",
      "[2020-09-10 17:23:44.276951] SUCCESS: https://archive.podaac.uat.earthdata.nasa.gov/podaac-uat-cumulus-protected/MODIS_T-JPL-L2P-v2019.0/20031030044505-JPL-L2P_GHRSST-SSTskin-MODIS_T-N-v02.0-fv01.0.nc\n",
      "[2020-09-10 17:23:52.387021] SUCCESS: https://archive.podaac.uat.earthdata.nasa.gov/podaac-uat-cumulus-protected/MODIS_T-JPL-L2P-v2019.0/20031030035006-JPL-L2P_GHRSST-SSTskin-MODIS_T-D-v02.0-fv01.0.nc\n",
      "[2020-09-10 17:23:57.507423] SUCCESS: https://archive.podaac.uat.earthdata.nasa.gov/podaac-uat-cumulus-protected/MODIS_T-JPL-L2P-v2019.0/20031030032006-JPL-L2P_GHRSST-SSTskin-MODIS_T-D-v02.0-fv01.0.nc\n",
      "[2020-09-10 17:24:01.800890] SUCCESS: https://archive.podaac.uat.earthdata.nasa.gov/podaac-uat-cumulus-protected/MODIS_T-JPL-L2P-v2019.0/20031030031005-JPL-L2P_GHRSST-SSTskin-MODIS_T-D-v02.0-fv01.0.nc\n",
      "[2020-09-10 17:24:06.449926] SUCCESS: https://archive.podaac.uat.earthdata.nasa.gov/podaac-uat-cumulus-protected/MODIS_T-JPL-L2P-v2019.0/20031029235506-JPL-L2P_GHRSST-SSTskin-MODIS_T-D-v02.0-fv01.0.nc\n",
      "[2020-09-10 17:24:10.883169] SUCCESS: https://archive.podaac.uat.earthdata.nasa.gov/podaac-uat-cumulus-protected/MODIS_T-JPL-L2P-v2019.0/20031029113005-JPL-L2P_GHRSST-SSTskin-MODIS_T-N-v02.0-fv01.0.nc\n",
      "[2020-09-10 17:24:15.519703] SUCCESS: https://archive.podaac.uat.earthdata.nasa.gov/podaac-uat-cumulus-protected/MODIS_T-JPL-L2P-v2019.0/20031029043506-JPL-L2P_GHRSST-SSTskin-MODIS_T-D-v02.0-fv01.0.nc\n",
      "[2020-09-10 17:24:19.455315] SUCCESS: https://archive.podaac.uat.earthdata.nasa.gov/podaac-uat-cumulus-protected/MODIS_T-JPL-L2P-v2019.0/20031029042005-JPL-L2P_GHRSST-SSTskin-MODIS_T-D-v02.0-fv01.0.nc\n",
      "[2020-09-10 17:24:23.473209] SUCCESS: https://archive.podaac.uat.earthdata.nasa.gov/podaac-uat-cumulus-protected/MODIS_T-JPL-L2P-v2019.0/20031029031506-JPL-L2P_GHRSST-SSTskin-MODIS_T-D-v02.0-fv01.0.nc\n",
      "[2020-09-10 17:24:27.669666] SUCCESS: https://archive.podaac.uat.earthdata.nasa.gov/podaac-uat-cumulus-protected/MODIS_T-JPL-L2P-v2019.0/20031028181506-JPL-L2P_GHRSST-SSTskin-MODIS_T-N-v02.0-fv01.0.nc\n",
      "[2020-09-10 17:24:31.781455] SUCCESS: https://archive.podaac.uat.earthdata.nasa.gov/podaac-uat-cumulus-protected/MODIS_T-JPL-L2P-v2019.0/20031028150006-JPL-L2P_GHRSST-SSTskin-MODIS_T-D-v02.0-fv01.0.nc\n",
      "[2020-09-10 17:24:36.121456] SUCCESS: https://archive.podaac.uat.earthdata.nasa.gov/podaac-uat-cumulus-protected/MODIS_T-JPL-L2P-v2019.0/20031028115506-JPL-L2P_GHRSST-SSTskin-MODIS_T-D-v02.0-fv01.0.nc\n",
      "[2020-09-10 17:24:40.690965] SUCCESS: https://archive.podaac.uat.earthdata.nasa.gov/podaac-uat-cumulus-protected/MODIS_T-JPL-L2P-v2019.0/20031028103506-JPL-L2P_GHRSST-SSTskin-MODIS_T-D-v02.0-fv01.0.nc\n",
      "[2020-09-10 17:24:44.787987] SUCCESS: https://archive.podaac.uat.earthdata.nasa.gov/podaac-uat-cumulus-protected/MODIS_T-JPL-L2P-v2019.0/20031028101506-JPL-L2P_GHRSST-SSTskin-MODIS_T-D-v02.0-fv01.0.nc\n",
      "[2020-09-10 17:24:55.297215] SUCCESS: https://archive.podaac.uat.earthdata.nasa.gov/podaac-uat-cumulus-protected/MODIS_T-JPL-L2P-v2019.0/20031028090505-JPL-L2P_GHRSST-SSTskin-MODIS_T-D-v02.0-fv01.0.nc\n",
      "[2020-09-10 17:25:00.150240] SUCCESS: https://archive.podaac.uat.earthdata.nasa.gov/podaac-uat-cumulus-protected/MODIS_T-JPL-L2P-v2019.0/20031028080006-JPL-L2P_GHRSST-SSTskin-MODIS_T-N-v02.0-fv01.0.nc\n",
      "[2020-09-10 17:25:04.706676] SUCCESS: https://archive.podaac.uat.earthdata.nasa.gov/podaac-uat-cumulus-protected/MODIS_T-JPL-L2P-v2019.0/20031028055506-JPL-L2P_GHRSST-SSTskin-MODIS_T-N-v02.0-fv01.0.nc\n",
      "[2020-09-10 17:25:08.583852] SUCCESS: https://archive.podaac.uat.earthdata.nasa.gov/podaac-uat-cumulus-protected/MODIS_T-JPL-L2P-v2019.0/20031028051506-JPL-L2P_GHRSST-SSTskin-MODIS_T-D-v02.0-fv01.0.nc\n",
      "[2020-09-10 17:25:13.021889] SUCCESS: https://archive.podaac.uat.earthdata.nasa.gov/podaac-uat-cumulus-protected/MODIS_T-JPL-L2P-v2019.0/20031028051006-JPL-L2P_GHRSST-SSTskin-MODIS_T-D-v02.0-fv01.0.nc\n",
      "[2020-09-10 17:25:17.031149] SUCCESS: https://archive.podaac.uat.earthdata.nasa.gov/podaac-uat-cumulus-protected/MODIS_T-JPL-L2P-v2019.0/20031028045005-JPL-L2P_GHRSST-SSTskin-MODIS_T-N-v02.0-fv01.0.nc\n",
      "[2020-09-10 17:25:21.617162] SUCCESS: https://archive.podaac.uat.earthdata.nasa.gov/podaac-uat-cumulus-protected/MODIS_T-JPL-L2P-v2019.0/20031028043505-JPL-L2P_GHRSST-SSTskin-MODIS_T-N-v02.0-fv01.0.nc\n",
      "[2020-09-10 17:25:25.676360] SUCCESS: https://archive.podaac.uat.earthdata.nasa.gov/podaac-uat-cumulus-protected/MODIS_T-JPL-L2P-v2019.0/20031028032506-JPL-L2P_GHRSST-SSTskin-MODIS_T-N-v02.0-fv01.0.nc\n",
      "[2020-09-10 17:25:31.193551] SUCCESS: https://archive.podaac.uat.earthdata.nasa.gov/podaac-uat-cumulus-protected/MODIS_T-JPL-L2P-v2019.0/20031028024506-JPL-L2P_GHRSST-SSTskin-MODIS_T-N-v02.0-fv01.0.nc\n",
      "[2020-09-10 17:25:35.631890] SUCCESS: https://archive.podaac.uat.earthdata.nasa.gov/podaac-uat-cumulus-protected/MODIS_T-JPL-L2P-v2019.0/20031028020505-JPL-L2P_GHRSST-SSTskin-MODIS_T-D-v02.0-fv01.0.nc\n",
      "[2020-09-10 17:25:40.071633] SUCCESS: https://archive.podaac.uat.earthdata.nasa.gov/podaac-uat-cumulus-protected/MODIS_T-JPL-L2P-v2019.0/20031028012506-JPL-L2P_GHRSST-SSTskin-MODIS_T-N-v02.0-fv01.0.nc\n",
      "[2020-09-10 17:25:44.409572] SUCCESS: https://archive.podaac.uat.earthdata.nasa.gov/podaac-uat-cumulus-protected/MODIS_T-JPL-L2P-v2019.0/20031028004006-JPL-L2P_GHRSST-SSTskin-MODIS_T-D-v02.0-fv01.0.nc\n",
      "[2020-09-10 17:25:56.870185] SUCCESS: https://archive.podaac.uat.earthdata.nasa.gov/podaac-uat-cumulus-protected/MODIS_T-JPL-L2P-v2019.0/20031006144006-JPL-L2P_GHRSST-SSTskin-MODIS_T-N-v02.0-fv01.0.nc\n",
      "[2020-09-10 17:26:01.114576] SUCCESS: https://archive.podaac.uat.earthdata.nasa.gov/podaac-uat-cumulus-protected/MODIS_T-JPL-L2P-v2019.0/20010129101506-JPL-L2P_GHRSST-SSTskin-MODIS_T-D-v02.0-fv01.0.nc\n",
      "[2020-09-10 17:26:05.257573] SUCCESS: https://archive.podaac.uat.earthdata.nasa.gov/podaac-uat-cumulus-protected/MODIS_T-JPL-L2P-v2019.0/20010127061005-JPL-L2P_GHRSST-SSTskin-MODIS_T-N-v02.0-fv01.0.nc\n",
      "[2020-09-10 17:26:11.219688] SUCCESS: https://archive.podaac.uat.earthdata.nasa.gov/podaac-uat-cumulus-protected/MODIS_T-JPL-L2P-v2019.0/20010122174505-JPL-L2P_GHRSST-SSTskin-MODIS_T-D-v02.0-fv01.0.nc\n",
      "[2020-09-10 17:26:15.337155] SUCCESS: https://archive.podaac.uat.earthdata.nasa.gov/podaac-uat-cumulus-protected/MODIS_T-JPL-L2P-v2019.0/20010122125500-JPL-L2P_GHRSST-SSTskin-MODIS_T-D-v02.0-fv01.0.nc\n",
      "[2020-09-10 17:26:19.737511] SUCCESS: https://archive.podaac.uat.earthdata.nasa.gov/podaac-uat-cumulus-protected/MODIS_T-JPL-L2P-v2019.0/20010122025005-JPL-L2P_GHRSST-SSTskin-MODIS_T-N-v02.0-fv01.0.nc\n",
      "[2020-09-10 17:26:24.133849] SUCCESS: https://archive.podaac.uat.earthdata.nasa.gov/podaac-uat-cumulus-protected/MODIS_T-JPL-L2P-v2019.0/20010121001500-JPL-L2P_GHRSST-SSTskin-MODIS_T-N-v02.0-fv01.0.nc\n",
      "[2020-09-10 17:26:28.136519] SUCCESS: https://archive.podaac.uat.earthdata.nasa.gov/podaac-uat-cumulus-protected/MODIS_T-JPL-L2P-v2019.0/20010120215506-JPL-L2P_GHRSST-SSTskin-MODIS_T-D-v02.0-fv01.0.nc\n",
      "[2020-09-10 17:26:32.641413] SUCCESS: https://archive.podaac.uat.earthdata.nasa.gov/podaac-uat-cumulus-protected/MODIS_T-JPL-L2P-v2019.0/20010120083506-JPL-L2P_GHRSST-SSTskin-MODIS_T-D-v02.0-fv01.0.nc\n",
      "[2020-09-10 17:26:37.720117] SUCCESS: https://archive.podaac.uat.earthdata.nasa.gov/podaac-uat-cumulus-protected/MODIS_T-JPL-L2P-v2019.0/20010119114506-JPL-L2P_GHRSST-SSTskin-MODIS_T-N-v02.0-fv01.0.nc\n",
      "[2020-09-10 17:26:42.320845] SUCCESS: https://archive.podaac.uat.earthdata.nasa.gov/podaac-uat-cumulus-protected/MODIS_T-JPL-L2P-v2019.0/20010118060506-JPL-L2P_GHRSST-SSTskin-MODIS_T-N-v02.0-fv01.0.nc\n"
     ]
    },
    {
     "name": "stdout",
     "output_type": "stream",
     "text": [
      "[2020-09-10 17:26:48.127118] SUCCESS: https://archive.podaac.uat.earthdata.nasa.gov/podaac-uat-cumulus-protected/MODIS_T-JPL-L2P-v2019.0/20010118002005-JPL-L2P_GHRSST-SSTskin-MODIS_T-D-v02.0-fv01.0.nc\n",
      "[2020-09-10 17:26:53.445490] SUCCESS: https://archive.podaac.uat.earthdata.nasa.gov/podaac-uat-cumulus-protected/MODIS_T-JPL-L2P-v2019.0/20010117165505-JPL-L2P_GHRSST-SSTskin-MODIS_T-N-v02.0-fv01.0.nc\n",
      "[2020-09-10 17:26:57.776385] SUCCESS: https://archive.podaac.uat.earthdata.nasa.gov/podaac-uat-cumulus-protected/MODIS_T-JPL-L2P-v2019.0/20010117051005-JPL-L2P_GHRSST-SSTskin-MODIS_T-N-v02.0-fv01.0.nc\n",
      "[2020-09-10 17:27:01.920498] SUCCESS: https://archive.podaac.uat.earthdata.nasa.gov/podaac-uat-cumulus-protected/MODIS_T-JPL-L2P-v2019.0/20010116194006-JPL-L2P_GHRSST-SSTskin-MODIS_T-N-v02.0-fv01.0.nc\n",
      "[2020-09-10 17:27:05.969631] SUCCESS: https://archive.podaac.uat.earthdata.nasa.gov/podaac-uat-cumulus-protected/MODIS_T-JPL-L2P-v2019.0/20010116083005-JPL-L2P_GHRSST-SSTskin-MODIS_T-N-v02.0-fv01.0.nc\n",
      "[2020-09-10 17:27:09.938242] SUCCESS: https://archive.podaac.uat.earthdata.nasa.gov/podaac-uat-cumulus-protected/MODIS_T-JPL-L2P-v2019.0/20010115160506-JPL-L2P_GHRSST-SSTskin-MODIS_T-D-v02.0-fv01.0.nc\n",
      "[2020-09-10 17:27:14.366083] SUCCESS: https://archive.podaac.uat.earthdata.nasa.gov/podaac-uat-cumulus-protected/MODIS_T-JPL-L2P-v2019.0/20010114203505-JPL-L2P_GHRSST-SSTskin-MODIS_T-D-v02.0-fv01.0.nc\n",
      "[2020-09-10 17:27:18.842936] SUCCESS: https://archive.podaac.uat.earthdata.nasa.gov/podaac-uat-cumulus-protected/MODIS_T-JPL-L2P-v2019.0/20010114143006-JPL-L2P_GHRSST-SSTskin-MODIS_T-N-v02.0-fv01.0.nc\n",
      "[2020-09-10 17:27:24.442735] SUCCESS: https://archive.podaac.uat.earthdata.nasa.gov/podaac-uat-cumulus-protected/MODIS_T-JPL-L2P-v2019.0/20010114125006-JPL-L2P_GHRSST-SSTskin-MODIS_T-N-v02.0-fv01.0.nc\n",
      "[2020-09-10 17:27:28.868967] SUCCESS: https://archive.podaac.uat.earthdata.nasa.gov/podaac-uat-cumulus-protected/MODIS_T-JPL-L2P-v2019.0/20010114083006-JPL-L2P_GHRSST-SSTskin-MODIS_T-N-v02.0-fv01.0.nc\n",
      "[2020-09-10 17:27:33.216811] SUCCESS: https://archive.podaac.uat.earthdata.nasa.gov/podaac-uat-cumulus-protected/MODIS_T-JPL-L2P-v2019.0/20010112122006-JPL-L2P_GHRSST-SSTskin-MODIS_T-D-v02.0-fv01.0.nc\n",
      "[2020-09-10 17:27:37.581993] SUCCESS: https://archive.podaac.uat.earthdata.nasa.gov/podaac-uat-cumulus-protected/MODIS_T-JPL-L2P-v2019.0/20010112105506-JPL-L2P_GHRSST-SSTskin-MODIS_T-D-v02.0-fv01.0.nc\n",
      "[2020-09-10 17:27:42.229129] SUCCESS: https://archive.podaac.uat.earthdata.nasa.gov/podaac-uat-cumulus-protected/MODIS_T-JPL-L2P-v2019.0/20010111115005-JPL-L2P_GHRSST-SSTskin-MODIS_T-D-v02.0-fv01.0.nc\n",
      "[2020-09-10 17:27:46.180618] SUCCESS: https://archive.podaac.uat.earthdata.nasa.gov/podaac-uat-cumulus-protected/MODIS_T-JPL-L2P-v2019.0/20010110162006-JPL-L2P_GHRSST-SSTskin-MODIS_T-D-v02.0-fv01.0.nc\n",
      "[2020-09-10 17:27:56.272671] SUCCESS: https://archive.podaac.uat.earthdata.nasa.gov/podaac-uat-cumulus-protected/MODIS_T-JPL-L2P-v2019.0/20010110131005-JPL-L2P_GHRSST-SSTskin-MODIS_T-N-v02.0-fv01.0.nc\n",
      "[2020-09-10 17:28:00.725381] SUCCESS: https://archive.podaac.uat.earthdata.nasa.gov/podaac-uat-cumulus-protected/MODIS_T-JPL-L2P-v2019.0/20010110111506-JPL-L2P_GHRSST-SSTskin-MODIS_T-D-v02.0-fv01.0.nc\n",
      "[2020-09-10 17:28:06.053181] SUCCESS: https://archive.podaac.uat.earthdata.nasa.gov/podaac-uat-cumulus-protected/MODIS_T-JPL-L2P-v2019.0/20010110110006-JPL-L2P_GHRSST-SSTskin-MODIS_T-D-v02.0-fv01.0.nc\n",
      "[2020-09-10 17:28:10.743481] SUCCESS: https://archive.podaac.uat.earthdata.nasa.gov/podaac-uat-cumulus-protected/MODIS_T-JPL-L2P-v2019.0/20010110094506-JPL-L2P_GHRSST-SSTskin-MODIS_T-D-v02.0-fv01.0.nc\n",
      "[2020-09-10 17:28:15.086861] SUCCESS: https://archive.podaac.uat.earthdata.nasa.gov/podaac-uat-cumulus-protected/MODIS_T-JPL-L2P-v2019.0/20010110085006-JPL-L2P_GHRSST-SSTskin-MODIS_T-N-v02.0-fv01.0.nc\n",
      "[2020-09-10 17:28:19.287013] SUCCESS: https://archive.podaac.uat.earthdata.nasa.gov/podaac-uat-cumulus-protected/MODIS_T-JPL-L2P-v2019.0/20010110054505-JPL-L2P_GHRSST-SSTskin-MODIS_T-D-v02.0-fv01.0.nc\n",
      "[2020-09-10 17:28:23.272182] SUCCESS: https://archive.podaac.uat.earthdata.nasa.gov/podaac-uat-cumulus-protected/MODIS_T-JPL-L2P-v2019.0/20010110033006-JPL-L2P_GHRSST-SSTskin-MODIS_T-N-v02.0-fv01.0.nc\n",
      "[2020-09-10 17:28:27.724251] SUCCESS: https://archive.podaac.uat.earthdata.nasa.gov/podaac-uat-cumulus-protected/MODIS_T-JPL-L2P-v2019.0/20010109231005-JPL-L2P_GHRSST-SSTskin-MODIS_T-D-v02.0-fv01.0.nc\n",
      "[2020-09-10 17:28:32.373872] SUCCESS: https://archive.podaac.uat.earthdata.nasa.gov/podaac-uat-cumulus-protected/MODIS_T-JPL-L2P-v2019.0/20010109201506-JPL-L2P_GHRSST-SSTskin-MODIS_T-D-v02.0-fv01.0.nc\n",
      "[2020-09-10 17:28:36.482922] SUCCESS: https://archive.podaac.uat.earthdata.nasa.gov/podaac-uat-cumulus-protected/MODIS_T-JPL-L2P-v2019.0/20010109195506-JPL-L2P_GHRSST-SSTskin-MODIS_T-D-v02.0-fv01.0.nc\n",
      "[2020-09-10 17:28:42.422170] SUCCESS: https://archive.podaac.uat.earthdata.nasa.gov/podaac-uat-cumulus-protected/MODIS_T-JPL-L2P-v2019.0/20010109191506-JPL-L2P_GHRSST-SSTskin-MODIS_T-N-v02.0-fv01.0.nc\n",
      "[2020-09-10 17:28:46.958053] SUCCESS: https://archive.podaac.uat.earthdata.nasa.gov/podaac-uat-cumulus-protected/MODIS_T-JPL-L2P-v2019.0/20010109184006-JPL-L2P_GHRSST-SSTskin-MODIS_T-D-v02.0-fv01.0.nc\n",
      "[2020-09-10 17:28:55.365925] SUCCESS: https://archive.podaac.uat.earthdata.nasa.gov/podaac-uat-cumulus-protected/MODIS_T-JPL-L2P-v2019.0/20010109163506-JPL-L2P_GHRSST-SSTskin-MODIS_T-D-v02.0-fv01.0.nc\n",
      "[2020-09-10 17:28:59.204967] SUCCESS: https://archive.podaac.uat.earthdata.nasa.gov/podaac-uat-cumulus-protected/MODIS_T-JPL-L2P-v2019.0/20010109161506-JPL-L2P_GHRSST-SSTskin-MODIS_T-N-v02.0-fv01.0.nc\n",
      "[2020-09-10 17:29:03.592621] SUCCESS: https://archive.podaac.uat.earthdata.nasa.gov/podaac-uat-cumulus-protected/MODIS_T-JPL-L2P-v2019.0/20010109154000-JPL-L2P_GHRSST-SSTskin-MODIS_T-D-v02.0-fv01.0.nc\n",
      "[2020-09-10 17:29:08.000018] SUCCESS: https://archive.podaac.uat.earthdata.nasa.gov/podaac-uat-cumulus-protected/MODIS_T-JPL-L2P-v2019.0/20010109150006-JPL-L2P_GHRSST-SSTskin-MODIS_T-D-v02.0-fv01.0.nc\n",
      "[2020-09-10 17:29:12.693065] SUCCESS: https://archive.podaac.uat.earthdata.nasa.gov/podaac-uat-cumulus-protected/MODIS_T-JPL-L2P-v2019.0/20010109093006-JPL-L2P_GHRSST-SSTskin-MODIS_T-N-v02.0-fv01.0.nc\n",
      "[2020-09-10 17:29:18.389700] SUCCESS: https://archive.podaac.uat.earthdata.nasa.gov/podaac-uat-cumulus-protected/MODIS_T-JPL-L2P-v2019.0/20010108030000-JPL-L2P_GHRSST-SSTskin-MODIS_T-D-v02.0-fv01.0.nc\n",
      "[2020-09-10 17:29:22.475577] SUCCESS: https://archive.podaac.uat.earthdata.nasa.gov/podaac-uat-cumulus-protected/MODIS_T-JPL-L2P-v2019.0/20010108015006-JPL-L2P_GHRSST-SSTskin-MODIS_T-N-v02.0-fv01.0.nc\n"
     ]
    }
   ],
   "source": [
    "for f in downloads:\n",
    "    try:\n",
    "        request.urlretrieve(f, f\"{data}/{basename(f)}\")\n",
    "    except Exception as e:\n",
    "        print(f\"[{datetime.now()}] FAILURE: {f}\\n\\n{e}\\n\")\n",
    "        raise e\n",
    "    else:\n",
    "        print(f\"[{datetime.now()}] SUCCESS: {f}\")"
   ]
  },
  {
   "cell_type": "markdown",
   "metadata": {},
   "source": [
    "If there were updates to the local time series during this run and no exceptions were raised during the download loop, then overwrite the timestamp file that tracks updates to the data folder (`resources/nrt/.update`):"
   ]
  },
  {
   "cell_type": "code",
   "execution_count": 14,
   "metadata": {
    "ExecuteTime": {
     "end_time": "2020-09-10T21:29:22.483655Z",
     "start_time": "2020-09-10T21:29:22.479026Z"
    }
   },
   "outputs": [],
   "source": [
    "if len(results['items'])>0:\n",
    "    with open(f\"{data}/.update\", \"w\") as f:\n",
    "        f.write(timestamp)"
   ]
  },
  {
   "cell_type": "code",
   "execution_count": null,
   "metadata": {},
   "outputs": [],
   "source": []
  }
 ],
 "metadata": {
  "kernelspec": {
   "display_name": "Python 3",
   "language": "python",
   "name": "python3"
  },
  "language_info": {
   "codemirror_mode": {
    "name": "ipython",
    "version": 3
   },
   "file_extension": ".py",
   "mimetype": "text/x-python",
   "name": "python",
   "nbconvert_exporter": "python",
   "pygments_lexer": "ipython3",
   "version": "3.7.7"
  },
  "toc": {
   "base_numbering": 1,
   "nav_menu": {},
   "number_sections": true,
   "sideBar": true,
   "skip_h1_title": true,
   "title_cell": "Table of Contents",
   "title_sidebar": "Contents",
   "toc_cell": true,
   "toc_position": {
    "height": "calc(100% - 180px)",
    "left": "10px",
    "top": "150px",
    "width": "241.528px"
   },
   "toc_section_display": true,
   "toc_window_display": false
  }
 },
 "nbformat": 4,
 "nbformat_minor": 4
}
