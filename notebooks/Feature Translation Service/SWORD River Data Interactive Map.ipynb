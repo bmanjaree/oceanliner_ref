{
 "cells": [
  {
   "cell_type": "markdown",
   "metadata": {},
   "source": [
    "# Feature Translation Service SWORD River Data Demo\n",
    "\n",
    "This notebook shows a few example requests to the Feature Translation Service (FTS) Application Programming Interface (API).\n",
    "\n",
    "## Required Dependencies\n",
    "\n",
    "In order to have the interactive map widget work, the \"jupyter-leaflet\" extension must be added to the JupyterLab instance that is running this notebook. Instructions for installation can be found:\n",
    "\n",
    "https://ipyleaflet.readthedocs.io/en/latest/installation.html#jupyterlab-extension\n",
    "\n",
    "Alternatively, if your instance of JupyterLab has the \"Extension Manager\" enabled, you may be able to simply search for \"leaflet\" and install the extension that way. Typically a page reload is required after installation.\n",
    "\n",
    "In addition to the JupyterLab widget, there are two python dependencies that must be available to the python kernel running this notebook. \n",
    "\n",
    "- ipyleaflet (https://ipyleaflet.readthedocs.io/en/latest/)\n",
    "- geojson (https://pypi.org/project/geojson/)\n",
    "\n",
    "The next cell installs them when the cell is run."
   ]
  },
  {
   "cell_type": "code",
   "execution_count": 1,
   "metadata": {},
   "outputs": [
    {
     "name": "stdout",
     "output_type": "stream",
     "text": [
      "Collecting ipyleaflet\n",
      "  Using cached ipyleaflet-0.14.0-py2.py3-none-any.whl (3.3 MB)\n",
      "Collecting geojson\n",
      "  Using cached geojson-2.5.0-py2.py3-none-any.whl (14 kB)\n",
      "Requirement already satisfied: traittypes<3,>=0.2.1 in /opt/conda/envs/python3/lib/python3.8/site-packages (from ipyleaflet) (0.2.1)\n",
      "Collecting ipywidgets<8,>=7.6.0\n",
      "  Using cached ipywidgets-7.6.3-py2.py3-none-any.whl (121 kB)\n",
      "Requirement already satisfied: traitlets>=4.2.2 in /opt/conda/envs/python3/lib/python3.8/site-packages (from traittypes<3,>=0.2.1->ipyleaflet) (4.3.3)\n",
      "Requirement already satisfied: widgetsnbextension~=3.5.0 in /opt/conda/envs/python3/lib/python3.8/site-packages (from ipywidgets<8,>=7.6.0->ipyleaflet) (3.5.1)\n",
      "Requirement already satisfied: ipykernel>=4.5.1 in /opt/conda/envs/python3/lib/python3.8/site-packages (from ipywidgets<8,>=7.6.0->ipyleaflet) (5.3.4)\n",
      "Requirement already satisfied: ipython>=4.0.0; python_version >= \"3.3\" in /opt/conda/envs/python3/lib/python3.8/site-packages (from ipywidgets<8,>=7.6.0->ipyleaflet) (7.18.1)\n",
      "Requirement already satisfied: nbformat>=4.2.0 in /opt/conda/envs/python3/lib/python3.8/site-packages (from ipywidgets<8,>=7.6.0->ipyleaflet) (5.0.7)\n",
      "Collecting jupyterlab-widgets>=1.0.0; python_version >= \"3.6\"\n",
      "  Using cached jupyterlab_widgets-1.0.0-py3-none-any.whl (243 kB)\n",
      "Requirement already satisfied: ipython-genutils in /opt/conda/envs/python3/lib/python3.8/site-packages (from traitlets>=4.2.2->traittypes<3,>=0.2.1->ipyleaflet) (0.2.0)\n",
      "Requirement already satisfied: six in /opt/conda/envs/python3/lib/python3.8/site-packages (from traitlets>=4.2.2->traittypes<3,>=0.2.1->ipyleaflet) (1.15.0)\n",
      "Requirement already satisfied: decorator in /opt/conda/envs/python3/lib/python3.8/site-packages (from traitlets>=4.2.2->traittypes<3,>=0.2.1->ipyleaflet) (4.4.2)\n",
      "Requirement already satisfied: notebook>=4.4.1 in /opt/conda/envs/python3/lib/python3.8/site-packages (from widgetsnbextension~=3.5.0->ipywidgets<8,>=7.6.0->ipyleaflet) (6.1.3)\n",
      "Requirement already satisfied: tornado>=4.2 in /opt/conda/envs/python3/lib/python3.8/site-packages (from ipykernel>=4.5.1->ipywidgets<8,>=7.6.0->ipyleaflet) (6.0.4)\n",
      "Requirement already satisfied: jupyter-client in /opt/conda/envs/python3/lib/python3.8/site-packages (from ipykernel>=4.5.1->ipywidgets<8,>=7.6.0->ipyleaflet) (6.1.7)\n",
      "Requirement already satisfied: backcall in /opt/conda/envs/python3/lib/python3.8/site-packages (from ipython>=4.0.0; python_version >= \"3.3\"->ipywidgets<8,>=7.6.0->ipyleaflet) (0.2.0)\n",
      "Requirement already satisfied: jedi>=0.10 in /opt/conda/envs/python3/lib/python3.8/site-packages (from ipython>=4.0.0; python_version >= \"3.3\"->ipywidgets<8,>=7.6.0->ipyleaflet) (0.17.2)\n",
      "Requirement already satisfied: pexpect>4.3; sys_platform != \"win32\" in /opt/conda/envs/python3/lib/python3.8/site-packages (from ipython>=4.0.0; python_version >= \"3.3\"->ipywidgets<8,>=7.6.0->ipyleaflet) (4.8.0)\n",
      "Requirement already satisfied: pickleshare in /opt/conda/envs/python3/lib/python3.8/site-packages (from ipython>=4.0.0; python_version >= \"3.3\"->ipywidgets<8,>=7.6.0->ipyleaflet) (0.7.5)\n",
      "Requirement already satisfied: setuptools>=18.5 in /opt/conda/envs/python3/lib/python3.8/site-packages (from ipython>=4.0.0; python_version >= \"3.3\"->ipywidgets<8,>=7.6.0->ipyleaflet) (49.6.0.post20200814)\n",
      "Requirement already satisfied: prompt-toolkit!=3.0.0,!=3.0.1,<3.1.0,>=2.0.0 in /opt/conda/envs/python3/lib/python3.8/site-packages (from ipython>=4.0.0; python_version >= \"3.3\"->ipywidgets<8,>=7.6.0->ipyleaflet) (3.0.7)\n",
      "Requirement already satisfied: pygments in /opt/conda/envs/python3/lib/python3.8/site-packages (from ipython>=4.0.0; python_version >= \"3.3\"->ipywidgets<8,>=7.6.0->ipyleaflet) (2.6.1)\n",
      "Requirement already satisfied: jupyter-core in /opt/conda/envs/python3/lib/python3.8/site-packages (from nbformat>=4.2.0->ipywidgets<8,>=7.6.0->ipyleaflet) (4.6.3)\n",
      "Requirement already satisfied: jsonschema!=2.5.0,>=2.4 in /opt/conda/envs/python3/lib/python3.8/site-packages (from nbformat>=4.2.0->ipywidgets<8,>=7.6.0->ipyleaflet) (3.2.0)\n",
      "Requirement already satisfied: Send2Trash in /opt/conda/envs/python3/lib/python3.8/site-packages (from notebook>=4.4.1->widgetsnbextension~=3.5.0->ipywidgets<8,>=7.6.0->ipyleaflet) (1.5.0)\n",
      "Requirement already satisfied: pyzmq>=17 in /opt/conda/envs/python3/lib/python3.8/site-packages (from notebook>=4.4.1->widgetsnbextension~=3.5.0->ipywidgets<8,>=7.6.0->ipyleaflet) (19.0.2)\n",
      "Requirement already satisfied: prometheus-client in /opt/conda/envs/python3/lib/python3.8/site-packages (from notebook>=4.4.1->widgetsnbextension~=3.5.0->ipywidgets<8,>=7.6.0->ipyleaflet) (0.8.0)\n",
      "Requirement already satisfied: jinja2 in /opt/conda/envs/python3/lib/python3.8/site-packages (from notebook>=4.4.1->widgetsnbextension~=3.5.0->ipywidgets<8,>=7.6.0->ipyleaflet) (2.11.2)\n",
      "Requirement already satisfied: nbconvert in /opt/conda/envs/python3/lib/python3.8/site-packages (from notebook>=4.4.1->widgetsnbextension~=3.5.0->ipywidgets<8,>=7.6.0->ipyleaflet) (5.6.1)\n",
      "Requirement already satisfied: terminado>=0.8.3 in /opt/conda/envs/python3/lib/python3.8/site-packages (from notebook>=4.4.1->widgetsnbextension~=3.5.0->ipywidgets<8,>=7.6.0->ipyleaflet) (0.8.3)\n",
      "Requirement already satisfied: argon2-cffi in /opt/conda/envs/python3/lib/python3.8/site-packages (from notebook>=4.4.1->widgetsnbextension~=3.5.0->ipywidgets<8,>=7.6.0->ipyleaflet) (20.1.0)\n",
      "Requirement already satisfied: python-dateutil>=2.1 in /opt/conda/envs/python3/lib/python3.8/site-packages (from jupyter-client->ipykernel>=4.5.1->ipywidgets<8,>=7.6.0->ipyleaflet) (2.8.1)\n",
      "Requirement already satisfied: parso<0.8.0,>=0.7.0 in /opt/conda/envs/python3/lib/python3.8/site-packages (from jedi>=0.10->ipython>=4.0.0; python_version >= \"3.3\"->ipywidgets<8,>=7.6.0->ipyleaflet) (0.7.1)\n",
      "Requirement already satisfied: ptyprocess>=0.5 in /opt/conda/envs/python3/lib/python3.8/site-packages (from pexpect>4.3; sys_platform != \"win32\"->ipython>=4.0.0; python_version >= \"3.3\"->ipywidgets<8,>=7.6.0->ipyleaflet) (0.6.0)\n",
      "Requirement already satisfied: wcwidth in /opt/conda/envs/python3/lib/python3.8/site-packages (from prompt-toolkit!=3.0.0,!=3.0.1,<3.1.0,>=2.0.0->ipython>=4.0.0; python_version >= \"3.3\"->ipywidgets<8,>=7.6.0->ipyleaflet) (0.2.5)\n",
      "Requirement already satisfied: attrs>=17.4.0 in /opt/conda/envs/python3/lib/python3.8/site-packages (from jsonschema!=2.5.0,>=2.4->nbformat>=4.2.0->ipywidgets<8,>=7.6.0->ipyleaflet) (20.2.0)\n",
      "Requirement already satisfied: pyrsistent>=0.14.0 in /opt/conda/envs/python3/lib/python3.8/site-packages (from jsonschema!=2.5.0,>=2.4->nbformat>=4.2.0->ipywidgets<8,>=7.6.0->ipyleaflet) (0.17.2)\n",
      "Requirement already satisfied: MarkupSafe>=0.23 in /opt/conda/envs/python3/lib/python3.8/site-packages (from jinja2->notebook>=4.4.1->widgetsnbextension~=3.5.0->ipywidgets<8,>=7.6.0->ipyleaflet) (1.1.1)\n",
      "Requirement already satisfied: entrypoints>=0.2.2 in /opt/conda/envs/python3/lib/python3.8/site-packages (from nbconvert->notebook>=4.4.1->widgetsnbextension~=3.5.0->ipywidgets<8,>=7.6.0->ipyleaflet) (0.3)\n",
      "Requirement already satisfied: defusedxml in /opt/conda/envs/python3/lib/python3.8/site-packages (from nbconvert->notebook>=4.4.1->widgetsnbextension~=3.5.0->ipywidgets<8,>=7.6.0->ipyleaflet) (0.6.0)\n",
      "Requirement already satisfied: bleach in /opt/conda/envs/python3/lib/python3.8/site-packages (from nbconvert->notebook>=4.4.1->widgetsnbextension~=3.5.0->ipywidgets<8,>=7.6.0->ipyleaflet) (3.1.5)\n",
      "Requirement already satisfied: testpath in /opt/conda/envs/python3/lib/python3.8/site-packages (from nbconvert->notebook>=4.4.1->widgetsnbextension~=3.5.0->ipywidgets<8,>=7.6.0->ipyleaflet) (0.4.4)\n",
      "Requirement already satisfied: mistune<2,>=0.8.1 in /opt/conda/envs/python3/lib/python3.8/site-packages (from nbconvert->notebook>=4.4.1->widgetsnbextension~=3.5.0->ipywidgets<8,>=7.6.0->ipyleaflet) (0.8.4)\n",
      "Requirement already satisfied: pandocfilters>=1.4.1 in /opt/conda/envs/python3/lib/python3.8/site-packages (from nbconvert->notebook>=4.4.1->widgetsnbextension~=3.5.0->ipywidgets<8,>=7.6.0->ipyleaflet) (1.4.2)\n",
      "Requirement already satisfied: cffi>=1.0.0 in /opt/conda/envs/python3/lib/python3.8/site-packages (from argon2-cffi->notebook>=4.4.1->widgetsnbextension~=3.5.0->ipywidgets<8,>=7.6.0->ipyleaflet) (1.14.1)\n",
      "Requirement already satisfied: packaging in /opt/conda/envs/python3/lib/python3.8/site-packages (from bleach->nbconvert->notebook>=4.4.1->widgetsnbextension~=3.5.0->ipywidgets<8,>=7.6.0->ipyleaflet) (20.4)\n",
      "Requirement already satisfied: webencodings in /opt/conda/envs/python3/lib/python3.8/site-packages (from bleach->nbconvert->notebook>=4.4.1->widgetsnbextension~=3.5.0->ipywidgets<8,>=7.6.0->ipyleaflet) (0.5.1)\n",
      "Requirement already satisfied: pycparser in /opt/conda/envs/python3/lib/python3.8/site-packages (from cffi>=1.0.0->argon2-cffi->notebook>=4.4.1->widgetsnbextension~=3.5.0->ipywidgets<8,>=7.6.0->ipyleaflet) (2.20)\n",
      "Requirement already satisfied: pyparsing>=2.0.2 in /opt/conda/envs/python3/lib/python3.8/site-packages (from packaging->bleach->nbconvert->notebook>=4.4.1->widgetsnbextension~=3.5.0->ipywidgets<8,>=7.6.0->ipyleaflet) (2.4.7)\n",
      "Installing collected packages: jupyterlab-widgets, ipywidgets, ipyleaflet, geojson\n",
      "  Attempting uninstall: ipywidgets\n",
      "    Found existing installation: ipywidgets 7.5.1\n",
      "    Uninstalling ipywidgets-7.5.1:\n",
      "      Successfully uninstalled ipywidgets-7.5.1\n",
      "Successfully installed geojson-2.5.0 ipyleaflet-0.14.0 ipywidgets-7.6.3 jupyterlab-widgets-1.0.0\n"
     ]
    }
   ],
   "source": [
    "!pip install ipyleaflet geojson"
   ]
  },
  {
   "cell_type": "code",
   "execution_count": 9,
   "metadata": {},
   "outputs": [],
   "source": [
    "import requests\n",
    "import json\n",
    "import geojson\n",
    "from ipyleaflet import Map, GeoJSON, FullScreenControl\n",
    "from ipywidgets import Layout\n",
    "from IPython.display import JSON\n",
    "\n",
    "def response_to_FeatureCollection(response):\n",
    "    \"\"\"\n",
    "    This function will return a geojson.FeatureCollection representation of the features found\n",
    "    in the provided response.\n",
    "    Parameters\n",
    "    ----------\n",
    "    response : requests.Response\n",
    "        Response object returned from a GET request on the FTS rivers endpoint.\n",
    "    Returns\n",
    "    -------\n",
    "    geojson.FeatureCollection\n",
    "        FeatureCollection containing all features extracted from the response.\n",
    "    \"\"\"\n",
    "    featureList = []\n",
    "    for reach_id, reach_json in response.json()['results'].items():\n",
    "        reach_feature = geojson.loads(json.dumps(reach_json['geojson']))\n",
    "        reach_feature['properties']={k:v for k,v in reach_json.items() if k not in ['geojson', 'geometry']}\n",
    "        featureList.append(reach_feature)\n",
    "    featureCollection = geojson.FeatureCollection(featureList)\n",
    "    return featureCollection\n",
    "\n",
    "def estimate_center_of_FeatureCollection(featureCollection):\n",
    "    \"\"\"\n",
    "    This function does a very simplistic estimation of the center of all features in the given FeatureCollection.\n",
    "    Parameters\n",
    "    ----------\n",
    "    featureCollection : geojson.FeatureCollection\n",
    "        Estimate the center lon, lat of this FeatureCollection.\n",
    "    Returns\n",
    "    -------\n",
    "    tuple(float, float)\n",
    "        Estimated center longitude, center latitude\n",
    "    \"\"\"\n",
    "    lats = [xy[1] for feature in featureCollection['features'] for xy in feature['coordinates']]\n",
    "    lons = [xy[0] for feature in featureCollection['features'] for xy in feature['coordinates']]\n",
    "\n",
    "    center_lat = (min(lats) + max(lats)) / 2\n",
    "    center_lon = (min(lons) + max(lons)) / 2\n",
    "    \n",
    "    return center_lon, center_lat"
   ]
  },
  {
   "cell_type": "code",
   "execution_count": 12,
   "metadata": {},
   "outputs": [
    {
     "data": {
      "application/json": {
       "hits": 1,
       "results": {
        "74230900271": {
         "dist_out": 973034,
         "facc": 65.1582,
         "geojson": {
          "coordinates": [
           [
            -91.07927,
            33.400893
           ],
           [
            -91.079405,
            33.400625
           ],
           [
            -91.079539,
            33.400356
           ],
           [
            -91.079739,
            33.400089
           ],
           [
            -91.080003,
            33.399822
           ],
           [
            -91.080267,
            33.399556
           ],
           [
            -91.080466,
            33.399289
           ],
           [
            -91.08073,
            33.399022
           ],
           [
            -91.080994,
            33.398756
           ],
           [
            -91.081258,
            33.398489
           ],
           [
            -91.081522,
            33.398223
           ],
           [
            -91.081785,
            33.397956
           ],
           [
            -91.082049,
            33.39769
           ],
           [
            -91.082249,
            33.397422
           ],
           [
            -91.082448,
            33.397155
           ],
           [
            -91.082583,
            33.396887
           ],
           [
            -91.082718,
            33.396618
           ],
           [
            -91.082853,
            33.39635
           ],
           [
            -91.083052,
            33.396082
           ],
           [
            -91.083187,
            33.395814
           ],
           [
            -91.083387,
            33.395546
           ],
           [
            -91.083586,
            33.395279
           ],
           [
            -91.083785,
            33.395011
           ],
           [
            -91.08392,
            33.394743
           ],
           [
            -91.08412,
            33.394475
           ],
           [
            -91.08419,
            33.394206
           ],
           [
            -91.08426,
            33.393937
           ],
           [
            -91.084266,
            33.393666
           ],
           [
            -91.084272,
            33.393396
           ],
           [
            -91.084214,
            33.393124
           ],
           [
            -91.08422,
            33.392854
           ],
           [
            -91.084226,
            33.392583
           ],
           [
            -91.084232,
            33.392313
           ],
           [
            -91.084302,
            33.392043
           ],
           [
            -91.084372,
            33.391774
           ],
           [
            -91.084443,
            33.391505
           ],
           [
            -91.084513,
            33.391235
           ],
           [
            -91.084584,
            33.390966
           ],
           [
            -91.08459,
            33.390695
           ],
           [
            -91.084596,
            33.390425
           ],
           [
            -91.084601,
            33.390154
           ],
           [
            -91.084672,
            33.389885
           ],
           [
            -91.084742,
            33.389615
           ],
           [
            -91.084813,
            33.389346
           ],
           [
            -91.084948,
            33.389078
           ],
           [
            -91.085082,
            33.388809
           ],
           [
            -91.085153,
            33.38854
           ],
           [
            -91.085288,
            33.388271
           ],
           [
            -91.085423,
            33.388003
           ],
           [
            -91.085558,
            33.387734
           ],
           [
            -91.085692,
            33.387466
           ],
           [
            -91.085892,
            33.387198
           ],
           [
            -91.086091,
            33.386931
           ],
           [
            -91.08629,
            33.386663
           ],
           [
            -91.08649,
            33.386396
           ],
           [
            -91.086754,
            33.38613
           ],
           [
            -91.086953,
            33.385862
           ],
           [
            -91.087088,
            33.385594
           ],
           [
            -91.087223,
            33.385325
           ],
           [
            -91.087358,
            33.385057
           ],
           [
            -91.087428,
            33.384787
           ],
           [
            -91.087498,
            33.384518
           ],
           [
            -91.087633,
            33.384249
           ],
           [
            -91.087768,
            33.383981
           ],
           [
            -91.087903,
            33.383712
           ],
           [
            -91.088038,
            33.383444
           ],
           [
            -91.088237,
            33.383177
           ],
           [
            -91.088437,
            33.382909
           ],
           [
            -91.088636,
            33.382642
           ],
           [
            -91.088835,
            33.382374
           ],
           [
            -91.089035,
            33.382107
           ],
           [
            -91.089169,
            33.381838
           ],
           [
            -91.08924,
            33.381569
           ],
           [
            -91.08931,
            33.381299
           ],
           [
            -91.089316,
            33.381029
           ],
           [
            -91.089387,
            33.380759
           ],
           [
            -91.089457,
            33.38049
           ],
           [
            -91.089592,
            33.380221
           ],
           [
            -91.089727,
            33.379953
           ],
           [
            -91.089861,
            33.379685
           ],
           [
            -91.089996,
            33.379416
           ],
           [
            -91.090131,
            33.379148
           ],
           [
            -91.090266,
            33.378879
           ],
           [
            -91.090465,
            33.378612
           ],
           [
            -91.090729,
            33.378345
           ],
           [
            -91.090928,
            33.378078
           ],
           [
            -91.091192,
            33.377811
           ],
           [
            -91.091456,
            33.377545
           ],
           [
            -91.09172,
            33.377278
           ],
           [
            -91.091984,
            33.377012
           ],
           [
            -91.092312,
            33.376746
           ],
           [
            -91.092576,
            33.37648
           ],
           [
            -91.092839,
            33.376213
           ],
           [
            -91.093039,
            33.375946
           ],
           [
            -91.093174,
            33.375677
           ],
           [
            -91.093308,
            33.375409
           ],
           [
            -91.093443,
            33.375141
           ],
           [
            -91.093578,
            33.374872
           ],
           [
            -91.093777,
            33.374605
           ],
           [
            -91.094041,
            33.374338
           ],
           [
            -91.094305,
            33.374072
           ],
           [
            -91.094633,
            33.373806
           ],
           [
            -91.094961,
            33.373541
           ],
           [
            -91.09529,
            33.373275
           ],
           [
            -91.095617,
            33.373064
           ],
           [
            -91.095943,
            33.372906
           ],
           [
            -91.096268,
            33.372749
           ],
           [
            -91.096594,
            33.372592
           ],
           [
            -91.09692,
            33.372434
           ],
           [
            -91.097247,
            33.372223
           ],
           [
            -91.097511,
            33.371957
           ],
           [
            -91.097775,
            33.37169
           ],
           [
            -91.097974,
            33.371423
           ],
           [
            -91.098173,
            33.371155
           ],
           [
            -91.098373,
            33.370888
           ],
           [
            -91.098636,
            33.370621
           ],
           [
            -91.098899,
            33.370409
           ],
           [
            -91.099226,
            33.370197
           ],
           [
            -91.099553,
            33.369986
           ],
           [
            -91.09988,
            33.369774
           ],
           [
            -91.100207,
            33.369563
           ],
           [
            -91.100535,
            33.369298
           ],
           [
            -91.100863,
            33.369032
           ],
           [
            -91.101192,
            33.368766
           ],
           [
            -91.10152,
            33.368501
           ],
           [
            -91.101783,
            33.368234
           ],
           [
            -91.102047,
            33.367968
           ],
           [
            -91.102311,
            33.367701
           ],
           [
            -91.102572,
            33.367543
           ],
           [
            -91.102832,
            33.367439
           ],
           [
            -91.103157,
            33.367336
           ],
           [
            -91.103482,
            33.367232
           ],
           [
            -91.103806,
            33.367129
           ],
           [
            -91.104133,
            33.366918
           ],
           [
            -91.104462,
            33.366652
           ],
           [
            -91.10479,
            33.366387
           ],
           [
            -91.105117,
            33.366175
           ],
           [
            -91.105642,
            33.36575
           ],
           [
            -91.105642,
            33.36575
           ],
           [
            -91.10584,
            33.365537
           ],
           [
            -91.10584,
            33.365537
           ],
           [
            -91.106235,
            33.365164
           ],
           [
            -91.106235,
            33.365164
           ],
           [
            -91.10676,
            33.364739
           ],
           [
            -91.107087,
            33.364528
           ],
           [
            -91.107415,
            33.364262
           ],
           [
            -91.107742,
            33.364051
           ],
           [
            -91.108069,
            33.36384
           ],
           [
            -91.108395,
            33.363682
           ],
           [
            -91.108721,
            33.363525
           ],
           [
            -91.109045,
            33.363422
           ],
           [
            -91.109371,
            33.363264
           ],
           [
            -91.109696,
            33.363161
           ],
           [
            -91.110022,
            33.363004
           ],
           [
            -91.110346,
            33.3629
           ],
           [
            -91.110672,
            33.362743
           ],
           [
            -91.110998,
            33.362586
           ],
           [
            -91.111325,
            33.362374
           ],
           [
            -91.111651,
            33.362217
           ],
           [
            -91.111978,
            33.362005
           ],
           [
            -91.112303,
            33.361848
           ],
           [
            -91.112628,
            33.361745
           ],
           [
            -91.112953,
            33.361641
           ],
           [
            -91.113278,
            33.361484
           ],
           [
            -91.113604,
            33.361327
           ],
           [
            -91.11393,
            33.361169
           ],
           [
            -91.114257,
            33.360958
           ],
           [
            -91.114584,
            33.360746
           ],
           [
            -91.114846,
            33.360534
           ],
           [
            -91.115109,
            33.360321
           ],
           [
            -91.115308,
            33.360054
           ],
           [
            -91.115378,
            33.359784
           ],
           [
            -91.11532,
            33.359513
           ],
           [
            -91.115197,
            33.359241
           ],
           [
            -91.115009,
            33.358967
           ],
           [
            -91.114757,
            33.358693
           ],
           [
            -91.114505,
            33.358419
           ],
           [
            -91.114252,
            33.358198
           ],
           [
            -91.113999,
            33.357978
           ],
           [
            -91.11368,
            33.357811
           ],
           [
            -91.113361,
            33.357644
           ],
           [
            -91.113041,
            33.357531
           ],
           [
            -91.112723,
            33.357363
           ],
           [
            -91.112404,
            33.357196
           ],
           [
            -91.112086,
            33.356975
           ],
           [
            -91.111769,
            33.356754
           ],
           [
            -91.111581,
            33.35648
           ],
           [
            -91.111523,
            33.356209
           ],
           [
            -91.111593,
            33.355939
           ],
           [
            -91.111792,
            33.355672
           ],
           [
            -91.11212,
            33.355406
           ],
           [
            -91.112447,
            33.355195
           ],
           [
            -91.112774,
            33.354983
           ],
           [
            -91.1131,
            33.354826
           ],
           [
            -91.113426,
            33.354669
           ],
           [
            -91.11375,
            33.354565
           ],
           [
            -91.114075,
            33.354462
           ],
           [
            -91.114399,
            33.354359
           ],
           [
            -91.114724,
            33.354256
           ],
           [
            -91.115049,
            33.354152
           ],
           [
            -91.115372,
            33.354103
           ],
           [
            -91.115694,
            33.354108
           ],
           [
            -91.116015,
            33.354167
           ],
           [
            -91.116335,
            33.35428
           ],
           [
            -91.116653,
            33.354501
           ],
           [
            -91.11697,
            33.354723
           ],
           [
            -91.117288,
            33.354944
           ],
           [
            -91.117605,
            33.355219
           ],
           [
            -91.117922,
            33.35544
           ],
           [
            -91.11824,
            33.355662
           ],
           [
            -91.118557,
            33.355883
           ],
           [
            -91.118875,
            33.356104
           ],
           [
            -91.119193,
            33.356325
           ],
           [
            -91.119509,
            33.356601
           ],
           [
            -91.119827,
            33.356822
           ],
           [
            -91.120144,
            33.357043
           ],
           [
            -91.120462,
            33.357264
           ],
           [
            -91.12078,
            33.357486
           ],
           [
            -91.121097,
            33.357707
           ],
           [
            -91.121414,
            33.357982
           ],
           [
            -91.121731,
            33.358203
           ],
           [
            -91.122049,
            33.358425
           ],
           [
            -91.122367,
            33.358646
           ],
           [
            -91.122684,
            33.358867
           ],
           [
            -91.123002,
            33.359088
           ],
           [
            -91.123318,
            33.359364
           ],
           [
            -91.123636,
            33.359585
           ],
           [
            -91.123954,
            33.359806
           ],
           [
            -91.124271,
            33.360027
           ],
           [
            -91.124589,
            33.360249
           ],
           [
            -91.124907,
            33.36047
           ],
           [
            -91.125223,
            33.360745
           ],
           [
            -91.125541,
            33.360966
           ],
           [
            -91.125858,
            33.361188
           ],
           [
            -91.126176,
            33.361409
           ],
           [
            -91.126495,
            33.361576
           ],
           [
            -91.126811,
            33.361851
           ],
           [
            -91.127128,
            33.362127
           ],
           [
            -91.127122,
            33.362397
           ]
          ],
          "type": "LineString"
         },
         "geometry": "LINESTRING (-91.07926962680288 33.4008932449245, -91.07940455088152 33.4006248005451, -91.0795394740952 33.40035635597821, -91.0797388819005 33.4000889095141, -91.08000277372737 33.39982246082081, -91.08026666392925 33.39955601149749, -91.08046606761016 33.39928856368628, -91.080729954749 33.39902211324703, -91.08099384026293 33.39875566217778, -91.08125772415197 33.39848921047855, -91.08152160641615 33.39822275814935, -91.08178548705548 33.39795630519018, -91.08204936607001 33.39768985160113, -91.08224875987479 33.39742240049962, -91.08244815243165 33.39715494902297, -91.08258306053884 33.39688650047641, -91.08271796778133 33.39661805174246, -91.08285287415913 33.39634960282115, -91.08305226229454 33.39608215017579, -91.08318716674985 33.39581370080258, -91.08338655257964 33.39554624751759, -91.08358593716164 33.39527879385748, -91.08378532049589 33.39501133982228, -91.08392022091328 33.39474288946826, -91.08411960194208 33.39447543479351, -91.08419001915439 33.39420598819821, -91.08426043589164 33.39393654153636, -91.08426637126681 33.39366609907228, -91.08427230656271 33.39339565659547, -91.08421376129446 33.39312421835712, -91.08421969663132 33.392853775865, -91.08422563188891 33.39258333336014, -91.08423156706725 33.39231289084253, -91.08430198185336 33.39204344402032, -91.08437239616447 33.39177399713155, -91.08444281000057 33.39150455017623, -91.08451322336167 33.39123510315435, -91.08458363624779 33.39096565606592, -91.08458956995334 33.39069521342106, -91.08459550357964 33.39042477076345, -91.08460143712671 33.3901543280931, -91.0846718487018 33.38988488086942, -91.08474225980194 33.38961543357919, -91.08481267042713 33.38934598622242, -91.084947558099 33.38907753409411, -91.08508244490656 33.3888090817785, -91.08515285371446 33.38853963413484, -91.08528773898658 33.38827118152179, -91.08542262339445 33.38800272872147, -91.08555750693809 33.38773427573387, -91.08569238961749 33.387465822559, -91.08589174760262 33.38719836395215, -91.08609110434053 33.38693090497038, -91.08629045983125 33.38666344561371, -91.0864898140748 33.38639598588212, -91.08675364248457 33.38612952005519, -91.08695299404391 33.38586205946327, -91.08708786932266 33.38559360443804, -91.08722274373731 33.38532514922558, -91.08735761728791 33.38505669382592, -91.08742801552332 33.3847872443784, -91.08749841328401 33.38451779486437, -91.08763328462864 33.38424933905725, -91.08776815510926 33.38398088306293, -91.08790302472589 33.38371242688141, -91.08803789347854 33.3834439705127, -91.08823723465679 33.38317650738843, -91.08843657458813 33.38290904388936, -91.08863591327258 33.38264158001551, -91.08883525071016 33.38237411576688, -91.08903458690089 33.38210665114347, -91.08916944950477 33.38183819326636, -91.08923983910091 33.38156874236675, -91.08931022822249 33.38129929140065, -91.08931614512119 33.38102884758651, -91.08938653348982 33.38075939653106, -91.08945692138387 33.38048994540917, -91.08959177996307 33.38022148687157, -91.08972663767848 33.37995302814684, -91.08986149453015 33.37968456923498, -91.08999635051806 33.379416110136, -91.09013120564227 33.37914765084988, -91.09026605990273 33.37887919137666, -91.09046538330418 33.37861172387131, -91.09072917527698 33.37834524800231, -91.0909284959954 33.37807777963712, -91.09119228490864 33.37781130265383, -91.09145607219878 33.37754482504144, -91.09171985786584 33.37727834679995, -91.09198364190985 33.3770118679294, -91.09231189302845 33.37674637957704, -91.09257567363971 33.37647989930445, -91.09283945262798 33.37621341840283, -91.09303876185582 33.3759459461568, -91.09317360189284 33.37567748289784, -91.09330844106638 33.37540901945184, -91.09344327937647 33.3751405558188, -91.09357811682312 33.37487209199876, -91.09377742057882 33.37460461832196, -91.09404119007399 33.374338134457, -91.09430495794638 33.37407164996312, -91.09463319081148 33.37380615470538, -91.09496142168358 33.37354065849748, -91.09528965056269 33.37327516133942, -91.0956166983357 33.37306375226382, -91.09594256563827 33.37290643130716, -91.09626843179541 33.37274910944896, -91.09659429680711 33.37259178668928, -91.09692016067338 33.37243446302812, -91.09724720146374 33.37222304937476, -91.09751095318069 33.37195655740385, -91.09777470327505 33.37169006480421, -91.09797398676147 33.37142258354126, -91.09817326900195 33.37115510190396, -91.09837254999645 33.37088761989234, -91.09863629416093 33.37062112520971, -91.09889885973982 33.37040871905744, -91.09922588816869 33.3701972996834, -91.09955291503168 33.36998587938429, -91.0998799403288 33.36977445816016, -91.10020696406006 33.36956303601099, -91.10053516212952 33.3692975237172, -91.10086335820638 33.36903201047371, -91.10119155229069 33.36876649628052, -91.10151974438244 33.36850098113766, -91.10178347170536 33.36823447907155, -91.10204719740607 33.36796797637697, -91.10231092148459 33.36770147305398, -91.10257229481996 33.36754314770183, -91.1028324928245 33.3674389110701, -91.10315715239064 33.36733565913946, -91.10348181122559 33.36723240633037, -91.10380646932933 33.36712915264288, -91.10413347384755 33.36691771937088, -91.10446165015642 33.36665219580824, -91.10478982447296 33.36638667129617, -91.10511682387056 33.36617523522581, -91.10564189578911 33.36575039253292, -91.10564189578911 33.36575039253292, -91.10583996889754 33.36553698647771, -91.10583996889754 33.36553698647771, -91.1062349399901 33.36516426273012, -91.1062349399901 33.36516426273012, -91.1067600003833 33.36473941483271, -91.10708698890494 33.36452797312997, -91.10741514728355 33.36426244102345, -91.10774213246231 33.36405099745954, -91.1080691160755 33.36383955297115, -91.1083949273357 33.36368219707374, -91.10872073745062 33.36352484027549, -91.10904537604685 33.3634215721145, -91.10937118407981 33.36326421352621, -91.10969582100806 33.36316094359782, -91.11002162695904 33.36300358321949, -91.11034626221931 33.36290031152373, -91.11067206608828 33.36274294935546, -91.11099786881199 33.36258558628648, -91.11132483931017 33.3623741326988, -91.11165063953477 33.36221676781685, -91.11197760711363 33.36200531239265, -91.11230340483912 33.36184794569779, -91.11262803333686 33.36174466776691, -91.11295266110328 33.36164138895797, -91.11327845581 33.36148401958427, -91.11360424937145 33.36132664930996, -91.1139300417876 33.36116927813506, -91.11425700010143 33.36095781633774, -91.11458395684983 33.36074635361631, -91.1148464544488 33.36053391097864, -91.11510895077302 33.36032146773382, -91.11530815488806 33.36005395537734, -91.11537844365269 33.35978448528746, -91.11531981824322 33.35951305772477, -91.1151967365137 33.35924065135903, -91.11500919908025 33.35896726601963, -91.11475720656827 33.35869290143568, -91.11450521562132 33.35841853638413, -91.11425205931869 33.35819826061118, -91.11399890429047 33.3579779843592, -91.11368012778578 33.35781081783465, -91.11336135252566 33.35764365052975, -91.1130414108701 33.35753057215879, -91.11272263790933 33.35736340328474, -91.11240386619312 33.35719623363038, -91.11208626393078 33.3569749735069, -91.1117686632894 33.35675371261961, -91.11158114178869 33.35648032256057, -91.1115225299685 33.35620889356021, -91.11159282661535 33.35593942575905, -91.11179203055327 33.35567191889633, -91.11212014064364 33.35540637231022, -91.11244708083862 33.35519491449155, -91.11277401946863 33.35498345574885, -91.11309978904963 33.35482608582186, -91.11342555748573 33.35466871499445, -91.11375015770668 33.35456543302893, -91.11407475719652 33.35446215018558, -91.11439935595524 33.35435886646444, -91.11472395398286 33.3542555818655, -91.11504855127934 33.35415229638876, -91.11537198179799 33.35410309985113, -91.11569424614545 33.35410799228411, -91.11601534491901 33.35416697371767, -91.11633527870661 33.35428004418035, -91.11665288281483 33.35450129355232, -91.11697048854376 33.35472254216037, -91.11728809589343 33.35494379000448, -91.11760454014863 33.35521912696129, -91.11792215092646 33.35544037328541, -91.11823976332508 33.35566161884552, -91.11855737734449 33.35588286364162, -91.1188749929847 33.35610410767366, -91.11919261024573 33.35632535094163, -91.11950906552939 33.35660068336939, -91.1198266862188 33.35682192511711, -91.12014430852908 33.35704316610072, -91.12046193246024 33.35726440632016, -91.1207795580123 33.35748564577543, -91.12109718518528 33.3577068844665, -91.12141365149809 33.3579822123644, -91.12173128209963 33.35820344953497, -91.12204891432215 33.35842468594129, -91.12236654816562 33.35864592158332, -91.12268418363008 33.35886715646107, -91.12300182071554 33.35908839057449, -91.12331829805824 33.3593637139417, -91.12363593857249 33.35958494653435, -91.12395358070779 33.35980617836262, -91.12427122446414 33.36002740942649, -91.12458886984156 33.36024863972594, -91.12490651684007 33.36046986926095, -91.12522300521339 33.36074518809664, -91.12554065564089 33.36096641611061, -91.12585830768953 33.36118764336008, -91.12617596135931 33.36140886984504, -91.12649477614943 33.36157600546863, -91.12681127356238 33.36185132052127, -91.12712777296703 33.36212663482462, -91.1271219772772 33.36239708537759)",
         "grod_id": 0,
         "lakeflag": 0,
         "n_chan_max": 4,
         "n_chan_mod": 1,
         "n_nodes": 42,
         "n_rch_dn": "1",
         "n_rch_up": "1",
         "netcdf_origin": "na_apriori_rivers_v08.nc",
         "reach_id": "74230900271",
         "reach_len": 8311.16,
         "shp_origin": "na_apriori_rivers_reaches_hb74_v08.shp",
         "slope": 0,
         "type": 1,
         "width": 275,
         "width_var": 133109,
         "wse": 28,
         "wse_var": 0
        }
       },
       "search on": {
        "exact": false,
        "page_number": 1,
        "page_size": 100,
        "parameter": "reach"
       },
       "status": "200 OK",
       "time": "16.808 ms."
      },
      "text/plain": [
       "<IPython.core.display.JSON object>"
      ]
     },
     "execution_count": 12,
     "metadata": {
      "application/json": {
       "expanded": false,
       "root": "root"
      }
     },
     "output_type": "execute_result"
    }
   ],
   "source": [
    "response = requests.get(\"https://fts.podaac.earthdata.nasa.gov/rivers/reach/74230900271\")\n",
    "\n",
    "featureCollection = response_to_FeatureCollection(response)\n",
    "\n",
    "JSON(reaches.json())"
   ]
  },
  {
   "cell_type": "code",
   "execution_count": 15,
   "metadata": {},
   "outputs": [
    {
     "data": {
      "application/vnd.jupyter.widget-view+json": {
       "model_id": "3273db146caf489385cef10f0ba407ed",
       "version_major": 2,
       "version_minor": 0
      },
      "text/plain": [
       "Map(center=[33.377498, -91.10319899999999], controls=(ZoomControl(options=['position', 'zoom_in_text', 'zoom_i…"
      ]
     },
     "metadata": {},
     "output_type": "display_data"
    }
   ],
   "source": [
    "center_lon, center_lat = estimate_center_of_FeatureCollection(featureCollection)\n",
    "m = Map(center=(center_lat, center_lon), zoom=13, layout=Layout(width='90%', height='1000px'))\n",
    "m.add_control(FullScreenControl())\n",
    "\n",
    "geo_json = GeoJSON(\n",
    "    data=featureCollection\n",
    ")\n",
    "\n",
    "m.add_layer(geo_json)\n",
    "m"
   ]
  },
  {
   "cell_type": "code",
   "execution_count": 16,
   "metadata": {},
   "outputs": [
    {
     "data": {
      "application/json": {
       "hits": 1,
       "results": {
        "74230900271": {
         "dist_out": 973034,
         "facc": 65.1582,
         "geojson": {
          "coordinates": [
           [
            -91.07927,
            33.400893
           ],
           [
            -91.079405,
            33.400625
           ],
           [
            -91.079539,
            33.400356
           ],
           [
            -91.079739,
            33.400089
           ],
           [
            -91.080003,
            33.399822
           ],
           [
            -91.080267,
            33.399556
           ],
           [
            -91.080466,
            33.399289
           ],
           [
            -91.08073,
            33.399022
           ],
           [
            -91.080994,
            33.398756
           ],
           [
            -91.081258,
            33.398489
           ],
           [
            -91.081522,
            33.398223
           ],
           [
            -91.081785,
            33.397956
           ],
           [
            -91.082049,
            33.39769
           ],
           [
            -91.082249,
            33.397422
           ],
           [
            -91.082448,
            33.397155
           ],
           [
            -91.082583,
            33.396887
           ],
           [
            -91.082718,
            33.396618
           ],
           [
            -91.082853,
            33.39635
           ],
           [
            -91.083052,
            33.396082
           ],
           [
            -91.083187,
            33.395814
           ],
           [
            -91.083387,
            33.395546
           ],
           [
            -91.083586,
            33.395279
           ],
           [
            -91.083785,
            33.395011
           ],
           [
            -91.08392,
            33.394743
           ],
           [
            -91.08412,
            33.394475
           ],
           [
            -91.08419,
            33.394206
           ],
           [
            -91.08426,
            33.393937
           ],
           [
            -91.084266,
            33.393666
           ],
           [
            -91.084272,
            33.393396
           ],
           [
            -91.084214,
            33.393124
           ],
           [
            -91.08422,
            33.392854
           ],
           [
            -91.084226,
            33.392583
           ],
           [
            -91.084232,
            33.392313
           ],
           [
            -91.084302,
            33.392043
           ],
           [
            -91.084372,
            33.391774
           ],
           [
            -91.084443,
            33.391505
           ],
           [
            -91.084513,
            33.391235
           ],
           [
            -91.084584,
            33.390966
           ],
           [
            -91.08459,
            33.390695
           ],
           [
            -91.084596,
            33.390425
           ],
           [
            -91.084601,
            33.390154
           ],
           [
            -91.084672,
            33.389885
           ],
           [
            -91.084742,
            33.389615
           ],
           [
            -91.084813,
            33.389346
           ],
           [
            -91.084948,
            33.389078
           ],
           [
            -91.085082,
            33.388809
           ],
           [
            -91.085153,
            33.38854
           ],
           [
            -91.085288,
            33.388271
           ],
           [
            -91.085423,
            33.388003
           ],
           [
            -91.085558,
            33.387734
           ],
           [
            -91.085692,
            33.387466
           ],
           [
            -91.085892,
            33.387198
           ],
           [
            -91.086091,
            33.386931
           ],
           [
            -91.08629,
            33.386663
           ],
           [
            -91.08649,
            33.386396
           ],
           [
            -91.086754,
            33.38613
           ],
           [
            -91.086953,
            33.385862
           ],
           [
            -91.087088,
            33.385594
           ],
           [
            -91.087223,
            33.385325
           ],
           [
            -91.087358,
            33.385057
           ],
           [
            -91.087428,
            33.384787
           ],
           [
            -91.087498,
            33.384518
           ],
           [
            -91.087633,
            33.384249
           ],
           [
            -91.087768,
            33.383981
           ],
           [
            -91.087903,
            33.383712
           ],
           [
            -91.088038,
            33.383444
           ],
           [
            -91.088237,
            33.383177
           ],
           [
            -91.088437,
            33.382909
           ],
           [
            -91.088636,
            33.382642
           ],
           [
            -91.088835,
            33.382374
           ],
           [
            -91.089035,
            33.382107
           ],
           [
            -91.089169,
            33.381838
           ],
           [
            -91.08924,
            33.381569
           ],
           [
            -91.08931,
            33.381299
           ],
           [
            -91.089316,
            33.381029
           ],
           [
            -91.089387,
            33.380759
           ],
           [
            -91.089457,
            33.38049
           ],
           [
            -91.089592,
            33.380221
           ],
           [
            -91.089727,
            33.379953
           ],
           [
            -91.089861,
            33.379685
           ],
           [
            -91.089996,
            33.379416
           ],
           [
            -91.090131,
            33.379148
           ],
           [
            -91.090266,
            33.378879
           ],
           [
            -91.090465,
            33.378612
           ],
           [
            -91.090729,
            33.378345
           ],
           [
            -91.090928,
            33.378078
           ],
           [
            -91.091192,
            33.377811
           ],
           [
            -91.091456,
            33.377545
           ],
           [
            -91.09172,
            33.377278
           ],
           [
            -91.091984,
            33.377012
           ],
           [
            -91.092312,
            33.376746
           ],
           [
            -91.092576,
            33.37648
           ],
           [
            -91.092839,
            33.376213
           ],
           [
            -91.093039,
            33.375946
           ],
           [
            -91.093174,
            33.375677
           ],
           [
            -91.093308,
            33.375409
           ],
           [
            -91.093443,
            33.375141
           ],
           [
            -91.093578,
            33.374872
           ],
           [
            -91.093777,
            33.374605
           ],
           [
            -91.094041,
            33.374338
           ],
           [
            -91.094305,
            33.374072
           ],
           [
            -91.094633,
            33.373806
           ],
           [
            -91.094961,
            33.373541
           ],
           [
            -91.09529,
            33.373275
           ],
           [
            -91.095617,
            33.373064
           ],
           [
            -91.095943,
            33.372906
           ],
           [
            -91.096268,
            33.372749
           ],
           [
            -91.096594,
            33.372592
           ],
           [
            -91.09692,
            33.372434
           ],
           [
            -91.097247,
            33.372223
           ],
           [
            -91.097511,
            33.371957
           ],
           [
            -91.097775,
            33.37169
           ],
           [
            -91.097974,
            33.371423
           ],
           [
            -91.098173,
            33.371155
           ],
           [
            -91.098373,
            33.370888
           ],
           [
            -91.098636,
            33.370621
           ],
           [
            -91.098899,
            33.370409
           ],
           [
            -91.099226,
            33.370197
           ],
           [
            -91.099553,
            33.369986
           ],
           [
            -91.09988,
            33.369774
           ],
           [
            -91.100207,
            33.369563
           ],
           [
            -91.100535,
            33.369298
           ],
           [
            -91.100863,
            33.369032
           ],
           [
            -91.101192,
            33.368766
           ],
           [
            -91.10152,
            33.368501
           ],
           [
            -91.101783,
            33.368234
           ],
           [
            -91.102047,
            33.367968
           ],
           [
            -91.102311,
            33.367701
           ],
           [
            -91.102572,
            33.367543
           ],
           [
            -91.102832,
            33.367439
           ],
           [
            -91.103157,
            33.367336
           ],
           [
            -91.103482,
            33.367232
           ],
           [
            -91.103806,
            33.367129
           ],
           [
            -91.104133,
            33.366918
           ],
           [
            -91.104462,
            33.366652
           ],
           [
            -91.10479,
            33.366387
           ],
           [
            -91.105117,
            33.366175
           ],
           [
            -91.105642,
            33.36575
           ],
           [
            -91.105642,
            33.36575
           ],
           [
            -91.10584,
            33.365537
           ],
           [
            -91.10584,
            33.365537
           ],
           [
            -91.106235,
            33.365164
           ],
           [
            -91.106235,
            33.365164
           ],
           [
            -91.10676,
            33.364739
           ],
           [
            -91.107087,
            33.364528
           ],
           [
            -91.107415,
            33.364262
           ],
           [
            -91.107742,
            33.364051
           ],
           [
            -91.108069,
            33.36384
           ],
           [
            -91.108395,
            33.363682
           ],
           [
            -91.108721,
            33.363525
           ],
           [
            -91.109045,
            33.363422
           ],
           [
            -91.109371,
            33.363264
           ],
           [
            -91.109696,
            33.363161
           ],
           [
            -91.110022,
            33.363004
           ],
           [
            -91.110346,
            33.3629
           ],
           [
            -91.110672,
            33.362743
           ],
           [
            -91.110998,
            33.362586
           ],
           [
            -91.111325,
            33.362374
           ],
           [
            -91.111651,
            33.362217
           ],
           [
            -91.111978,
            33.362005
           ],
           [
            -91.112303,
            33.361848
           ],
           [
            -91.112628,
            33.361745
           ],
           [
            -91.112953,
            33.361641
           ],
           [
            -91.113278,
            33.361484
           ],
           [
            -91.113604,
            33.361327
           ],
           [
            -91.11393,
            33.361169
           ],
           [
            -91.114257,
            33.360958
           ],
           [
            -91.114584,
            33.360746
           ],
           [
            -91.114846,
            33.360534
           ],
           [
            -91.115109,
            33.360321
           ],
           [
            -91.115308,
            33.360054
           ],
           [
            -91.115378,
            33.359784
           ],
           [
            -91.11532,
            33.359513
           ],
           [
            -91.115197,
            33.359241
           ],
           [
            -91.115009,
            33.358967
           ],
           [
            -91.114757,
            33.358693
           ],
           [
            -91.114505,
            33.358419
           ],
           [
            -91.114252,
            33.358198
           ],
           [
            -91.113999,
            33.357978
           ],
           [
            -91.11368,
            33.357811
           ],
           [
            -91.113361,
            33.357644
           ],
           [
            -91.113041,
            33.357531
           ],
           [
            -91.112723,
            33.357363
           ],
           [
            -91.112404,
            33.357196
           ],
           [
            -91.112086,
            33.356975
           ],
           [
            -91.111769,
            33.356754
           ],
           [
            -91.111581,
            33.35648
           ],
           [
            -91.111523,
            33.356209
           ],
           [
            -91.111593,
            33.355939
           ],
           [
            -91.111792,
            33.355672
           ],
           [
            -91.11212,
            33.355406
           ],
           [
            -91.112447,
            33.355195
           ],
           [
            -91.112774,
            33.354983
           ],
           [
            -91.1131,
            33.354826
           ],
           [
            -91.113426,
            33.354669
           ],
           [
            -91.11375,
            33.354565
           ],
           [
            -91.114075,
            33.354462
           ],
           [
            -91.114399,
            33.354359
           ],
           [
            -91.114724,
            33.354256
           ],
           [
            -91.115049,
            33.354152
           ],
           [
            -91.115372,
            33.354103
           ],
           [
            -91.115694,
            33.354108
           ],
           [
            -91.116015,
            33.354167
           ],
           [
            -91.116335,
            33.35428
           ],
           [
            -91.116653,
            33.354501
           ],
           [
            -91.11697,
            33.354723
           ],
           [
            -91.117288,
            33.354944
           ],
           [
            -91.117605,
            33.355219
           ],
           [
            -91.117922,
            33.35544
           ],
           [
            -91.11824,
            33.355662
           ],
           [
            -91.118557,
            33.355883
           ],
           [
            -91.118875,
            33.356104
           ],
           [
            -91.119193,
            33.356325
           ],
           [
            -91.119509,
            33.356601
           ],
           [
            -91.119827,
            33.356822
           ],
           [
            -91.120144,
            33.357043
           ],
           [
            -91.120462,
            33.357264
           ],
           [
            -91.12078,
            33.357486
           ],
           [
            -91.121097,
            33.357707
           ],
           [
            -91.121414,
            33.357982
           ],
           [
            -91.121731,
            33.358203
           ],
           [
            -91.122049,
            33.358425
           ],
           [
            -91.122367,
            33.358646
           ],
           [
            -91.122684,
            33.358867
           ],
           [
            -91.123002,
            33.359088
           ],
           [
            -91.123318,
            33.359364
           ],
           [
            -91.123636,
            33.359585
           ],
           [
            -91.123954,
            33.359806
           ],
           [
            -91.124271,
            33.360027
           ],
           [
            -91.124589,
            33.360249
           ],
           [
            -91.124907,
            33.36047
           ],
           [
            -91.125223,
            33.360745
           ],
           [
            -91.125541,
            33.360966
           ],
           [
            -91.125858,
            33.361188
           ],
           [
            -91.126176,
            33.361409
           ],
           [
            -91.126495,
            33.361576
           ],
           [
            -91.126811,
            33.361851
           ],
           [
            -91.127128,
            33.362127
           ],
           [
            -91.127122,
            33.362397
           ]
          ],
          "type": "LineString"
         },
         "geometry": "LINESTRING (-91.07926962680288 33.4008932449245, -91.07940455088152 33.4006248005451, -91.0795394740952 33.40035635597821, -91.0797388819005 33.4000889095141, -91.08000277372737 33.39982246082081, -91.08026666392925 33.39955601149749, -91.08046606761016 33.39928856368628, -91.080729954749 33.39902211324703, -91.08099384026293 33.39875566217778, -91.08125772415197 33.39848921047855, -91.08152160641615 33.39822275814935, -91.08178548705548 33.39795630519018, -91.08204936607001 33.39768985160113, -91.08224875987479 33.39742240049962, -91.08244815243165 33.39715494902297, -91.08258306053884 33.39688650047641, -91.08271796778133 33.39661805174246, -91.08285287415913 33.39634960282115, -91.08305226229454 33.39608215017579, -91.08318716674985 33.39581370080258, -91.08338655257964 33.39554624751759, -91.08358593716164 33.39527879385748, -91.08378532049589 33.39501133982228, -91.08392022091328 33.39474288946826, -91.08411960194208 33.39447543479351, -91.08419001915439 33.39420598819821, -91.08426043589164 33.39393654153636, -91.08426637126681 33.39366609907228, -91.08427230656271 33.39339565659547, -91.08421376129446 33.39312421835712, -91.08421969663132 33.392853775865, -91.08422563188891 33.39258333336014, -91.08423156706725 33.39231289084253, -91.08430198185336 33.39204344402032, -91.08437239616447 33.39177399713155, -91.08444281000057 33.39150455017623, -91.08451322336167 33.39123510315435, -91.08458363624779 33.39096565606592, -91.08458956995334 33.39069521342106, -91.08459550357964 33.39042477076345, -91.08460143712671 33.3901543280931, -91.0846718487018 33.38988488086942, -91.08474225980194 33.38961543357919, -91.08481267042713 33.38934598622242, -91.084947558099 33.38907753409411, -91.08508244490656 33.3888090817785, -91.08515285371446 33.38853963413484, -91.08528773898658 33.38827118152179, -91.08542262339445 33.38800272872147, -91.08555750693809 33.38773427573387, -91.08569238961749 33.387465822559, -91.08589174760262 33.38719836395215, -91.08609110434053 33.38693090497038, -91.08629045983125 33.38666344561371, -91.0864898140748 33.38639598588212, -91.08675364248457 33.38612952005519, -91.08695299404391 33.38586205946327, -91.08708786932266 33.38559360443804, -91.08722274373731 33.38532514922558, -91.08735761728791 33.38505669382592, -91.08742801552332 33.3847872443784, -91.08749841328401 33.38451779486437, -91.08763328462864 33.38424933905725, -91.08776815510926 33.38398088306293, -91.08790302472589 33.38371242688141, -91.08803789347854 33.3834439705127, -91.08823723465679 33.38317650738843, -91.08843657458813 33.38290904388936, -91.08863591327258 33.38264158001551, -91.08883525071016 33.38237411576688, -91.08903458690089 33.38210665114347, -91.08916944950477 33.38183819326636, -91.08923983910091 33.38156874236675, -91.08931022822249 33.38129929140065, -91.08931614512119 33.38102884758651, -91.08938653348982 33.38075939653106, -91.08945692138387 33.38048994540917, -91.08959177996307 33.38022148687157, -91.08972663767848 33.37995302814684, -91.08986149453015 33.37968456923498, -91.08999635051806 33.379416110136, -91.09013120564227 33.37914765084988, -91.09026605990273 33.37887919137666, -91.09046538330418 33.37861172387131, -91.09072917527698 33.37834524800231, -91.0909284959954 33.37807777963712, -91.09119228490864 33.37781130265383, -91.09145607219878 33.37754482504144, -91.09171985786584 33.37727834679995, -91.09198364190985 33.3770118679294, -91.09231189302845 33.37674637957704, -91.09257567363971 33.37647989930445, -91.09283945262798 33.37621341840283, -91.09303876185582 33.3759459461568, -91.09317360189284 33.37567748289784, -91.09330844106638 33.37540901945184, -91.09344327937647 33.3751405558188, -91.09357811682312 33.37487209199876, -91.09377742057882 33.37460461832196, -91.09404119007399 33.374338134457, -91.09430495794638 33.37407164996312, -91.09463319081148 33.37380615470538, -91.09496142168358 33.37354065849748, -91.09528965056269 33.37327516133942, -91.0956166983357 33.37306375226382, -91.09594256563827 33.37290643130716, -91.09626843179541 33.37274910944896, -91.09659429680711 33.37259178668928, -91.09692016067338 33.37243446302812, -91.09724720146374 33.37222304937476, -91.09751095318069 33.37195655740385, -91.09777470327505 33.37169006480421, -91.09797398676147 33.37142258354126, -91.09817326900195 33.37115510190396, -91.09837254999645 33.37088761989234, -91.09863629416093 33.37062112520971, -91.09889885973982 33.37040871905744, -91.09922588816869 33.3701972996834, -91.09955291503168 33.36998587938429, -91.0998799403288 33.36977445816016, -91.10020696406006 33.36956303601099, -91.10053516212952 33.3692975237172, -91.10086335820638 33.36903201047371, -91.10119155229069 33.36876649628052, -91.10151974438244 33.36850098113766, -91.10178347170536 33.36823447907155, -91.10204719740607 33.36796797637697, -91.10231092148459 33.36770147305398, -91.10257229481996 33.36754314770183, -91.1028324928245 33.3674389110701, -91.10315715239064 33.36733565913946, -91.10348181122559 33.36723240633037, -91.10380646932933 33.36712915264288, -91.10413347384755 33.36691771937088, -91.10446165015642 33.36665219580824, -91.10478982447296 33.36638667129617, -91.10511682387056 33.36617523522581, -91.10564189578911 33.36575039253292, -91.10564189578911 33.36575039253292, -91.10583996889754 33.36553698647771, -91.10583996889754 33.36553698647771, -91.1062349399901 33.36516426273012, -91.1062349399901 33.36516426273012, -91.1067600003833 33.36473941483271, -91.10708698890494 33.36452797312997, -91.10741514728355 33.36426244102345, -91.10774213246231 33.36405099745954, -91.1080691160755 33.36383955297115, -91.1083949273357 33.36368219707374, -91.10872073745062 33.36352484027549, -91.10904537604685 33.3634215721145, -91.10937118407981 33.36326421352621, -91.10969582100806 33.36316094359782, -91.11002162695904 33.36300358321949, -91.11034626221931 33.36290031152373, -91.11067206608828 33.36274294935546, -91.11099786881199 33.36258558628648, -91.11132483931017 33.3623741326988, -91.11165063953477 33.36221676781685, -91.11197760711363 33.36200531239265, -91.11230340483912 33.36184794569779, -91.11262803333686 33.36174466776691, -91.11295266110328 33.36164138895797, -91.11327845581 33.36148401958427, -91.11360424937145 33.36132664930996, -91.1139300417876 33.36116927813506, -91.11425700010143 33.36095781633774, -91.11458395684983 33.36074635361631, -91.1148464544488 33.36053391097864, -91.11510895077302 33.36032146773382, -91.11530815488806 33.36005395537734, -91.11537844365269 33.35978448528746, -91.11531981824322 33.35951305772477, -91.1151967365137 33.35924065135903, -91.11500919908025 33.35896726601963, -91.11475720656827 33.35869290143568, -91.11450521562132 33.35841853638413, -91.11425205931869 33.35819826061118, -91.11399890429047 33.3579779843592, -91.11368012778578 33.35781081783465, -91.11336135252566 33.35764365052975, -91.1130414108701 33.35753057215879, -91.11272263790933 33.35736340328474, -91.11240386619312 33.35719623363038, -91.11208626393078 33.3569749735069, -91.1117686632894 33.35675371261961, -91.11158114178869 33.35648032256057, -91.1115225299685 33.35620889356021, -91.11159282661535 33.35593942575905, -91.11179203055327 33.35567191889633, -91.11212014064364 33.35540637231022, -91.11244708083862 33.35519491449155, -91.11277401946863 33.35498345574885, -91.11309978904963 33.35482608582186, -91.11342555748573 33.35466871499445, -91.11375015770668 33.35456543302893, -91.11407475719652 33.35446215018558, -91.11439935595524 33.35435886646444, -91.11472395398286 33.3542555818655, -91.11504855127934 33.35415229638876, -91.11537198179799 33.35410309985113, -91.11569424614545 33.35410799228411, -91.11601534491901 33.35416697371767, -91.11633527870661 33.35428004418035, -91.11665288281483 33.35450129355232, -91.11697048854376 33.35472254216037, -91.11728809589343 33.35494379000448, -91.11760454014863 33.35521912696129, -91.11792215092646 33.35544037328541, -91.11823976332508 33.35566161884552, -91.11855737734449 33.35588286364162, -91.1188749929847 33.35610410767366, -91.11919261024573 33.35632535094163, -91.11950906552939 33.35660068336939, -91.1198266862188 33.35682192511711, -91.12014430852908 33.35704316610072, -91.12046193246024 33.35726440632016, -91.1207795580123 33.35748564577543, -91.12109718518528 33.3577068844665, -91.12141365149809 33.3579822123644, -91.12173128209963 33.35820344953497, -91.12204891432215 33.35842468594129, -91.12236654816562 33.35864592158332, -91.12268418363008 33.35886715646107, -91.12300182071554 33.35908839057449, -91.12331829805824 33.3593637139417, -91.12363593857249 33.35958494653435, -91.12395358070779 33.35980617836262, -91.12427122446414 33.36002740942649, -91.12458886984156 33.36024863972594, -91.12490651684007 33.36046986926095, -91.12522300521339 33.36074518809664, -91.12554065564089 33.36096641611061, -91.12585830768953 33.36118764336008, -91.12617596135931 33.36140886984504, -91.12649477614943 33.36157600546863, -91.12681127356238 33.36185132052127, -91.12712777296703 33.36212663482462, -91.1271219772772 33.36239708537759)",
         "grod_id": 0,
         "lakeflag": 0,
         "n_chan_max": 4,
         "n_chan_mod": 1,
         "n_nodes": 42,
         "n_rch_dn": "1",
         "n_rch_up": "1",
         "netcdf_origin": "na_apriori_rivers_v08.nc",
         "reach_id": "74230900271",
         "reach_len": 8311.16,
         "shp_origin": "na_apriori_rivers_reaches_hb74_v08.shp",
         "slope": 0,
         "type": 1,
         "width": 275,
         "width_var": 133109,
         "wse": 28,
         "wse_var": 0
        }
       },
       "search on": {
        "exact": false,
        "page_number": 1,
        "page_size": 100,
        "parameter": "reach"
       },
       "status": "200 OK",
       "time": "16.808 ms."
      },
      "text/plain": [
       "<IPython.core.display.JSON object>"
      ]
     },
     "execution_count": 16,
     "metadata": {
      "application/json": {
       "expanded": false,
       "root": "root"
      }
     },
     "output_type": "execute_result"
    }
   ],
   "source": [
    "response = requests.get(\"https://fts.podaac.earthdata.nasa.gov/rivers/reach/74230900\")\n",
    "\n",
    "featureCollection = response_to_FeatureCollection(response)\n",
    "\n",
    "JSON(reaches.json())"
   ]
  },
  {
   "cell_type": "code",
   "execution_count": 19,
   "metadata": {},
   "outputs": [
    {
     "data": {
      "application/vnd.jupyter.widget-view+json": {
       "model_id": "c18c27fc4413434e8069f5b0102a3db8",
       "version_major": 2,
       "version_minor": 0
      },
      "text/plain": [
       "Map(center=[33.059585, -91.0671805], controls=(ZoomControl(options=['position', 'zoom_in_text', 'zoom_in_title…"
      ]
     },
     "metadata": {},
     "output_type": "display_data"
    }
   ],
   "source": [
    "center_lon, center_lat = estimate_center_of_FeatureCollection(featureCollection)\n",
    "m = Map(center=(center_lat, center_lon), zoom=9, layout=Layout(width='90%', height='1000px'))\n",
    "m.add_control(FullScreenControl())\n",
    "\n",
    "geo_json = GeoJSON(\n",
    "    data=featureCollection\n",
    ")\n",
    "\n",
    "m.add_layer(geo_json)\n",
    "m"
   ]
  },
  {
   "cell_type": "code",
   "execution_count": 20,
   "metadata": {},
   "outputs": [
    {
     "data": {
      "application/json": {
       "hits": 42,
       "results": {
        "74230900270011": {
         "dist_out": 964934,
         "facc": 65.1582,
         "geojson": {
          "coordinates": [
           -91.079704,
           33.400224
          ],
          "type": "Point"
         },
         "geometry": "POINT (-91.07970366188947 33.4002236305467)",
         "grod_id": 0,
         "n_chan_max": 1,
         "n_chan_mod": 1,
         "netcdf_origin": "na_apriori_rivers_v08.nc",
         "node_id": "74230900270011",
         "node_len": 211.431,
         "reach_id": "74230900271",
         "shp_origin": "na_apriori_rivers_nodes_hb74_v08.shp",
         "type": 1,
         "width": 890,
         "wse": 28,
         "wse_var": 0,
         "wth_var": 25.5556,
         "x": -91.0797,
         "y": 33.4002
        },
        "74230900270021": {
         "dist_out": 965126,
         "facc": 65.1582,
         "geojson": {
          "coordinates": [
           -91.080994,
           33.398756
          ],
          "type": "Point"
         },
         "geometry": "POINT (-91.08099383863802 33.3987556615478)",
         "grod_id": 0,
         "n_chan_max": 2,
         "n_chan_mod": 1,
         "netcdf_origin": "na_apriori_rivers_v08.nc",
         "node_id": "74230900270021",
         "node_len": 192.094,
         "reach_id": "74230900271",
         "shp_origin": "na_apriori_rivers_nodes_hb74_v08.shp",
         "type": 1,
         "width": 954,
         "wse": 28,
         "wse_var": 0,
         "wth_var": 1577.2,
         "x": -91.081,
         "y": 33.3988
        },
        "74230900270031": {
         "dist_out": 965331,
         "facc": 65.1582,
         "geojson": {
          "coordinates": [
           -91.082305,
           33.397288
          ],
          "type": "Point"
         },
         "geometry": "POINT (-91.08230546562537 33.39728800975546)",
         "grod_id": 0,
         "n_chan_max": 1,
         "n_chan_mod": 1,
         "netcdf_origin": "na_apriori_rivers_v08.nc",
         "node_id": "74230900270031",
         "node_len": 205.323,
         "reach_id": "74230900271",
         "shp_origin": "na_apriori_rivers_nodes_hb74_v08.shp",
         "type": 1,
         "width": 1063,
         "wse": 28,
         "wse_var": 0,
         "wth_var": 210.139,
         "x": -91.0823,
         "y": 33.3973
        },
        "74230900270041": {
         "dist_out": 965504,
         "facc": 65.1582,
         "geojson": {
          "coordinates": [
           -91.083213,
           33.395814
          ],
          "type": "Point"
         },
         "geometry": "POINT (-91.08321295858896 33.39581409903492)",
         "grod_id": 0,
         "n_chan_max": 3,
         "n_chan_mod": 1,
         "netcdf_origin": "na_apriori_rivers_v08.nc",
         "node_id": "74230900270041",
         "node_len": 172.254,
         "reach_id": "74230900271",
         "shp_origin": "na_apriori_rivers_nodes_hb74_v08.shp",
         "type": 1,
         "width": 1075,
         "wse": 28,
         "wse_var": 0,
         "wth_var": 516.56,
         "x": -91.0832,
         "y": 33.3958
        },
        "74230900270051": {
         "dist_out": 965723,
         "facc": 65.1582,
         "geojson": {
          "coordinates": [
           -91.084116,
           33.394205
          ],
          "type": "Point"
         },
         "geometry": "POINT (-91.08411632517526 33.39420484992662)",
         "grod_id": 0,
         "n_chan_max": 3,
         "n_chan_mod": 3,
         "netcdf_origin": "na_apriori_rivers_v08.nc",
         "node_id": "74230900270051",
         "node_len": 219.079,
         "reach_id": "74230900271",
         "shp_origin": "na_apriori_rivers_nodes_hb74_v08.shp",
         "type": 1,
         "width": 1093,
         "wse": 28,
         "wse_var": 0,
         "wth_var": 4436.82,
         "x": -91.0841,
         "y": 33.3942
        },
        "74230900270061": {
         "dist_out": 965904,
         "facc": 65.1582,
         "geojson": {
          "coordinates": [
           -91.084261,
           33.392449
          ],
          "type": "Point"
         },
         "geometry": "POINT (-91.08426083914996 33.39244860992944)",
         "grod_id": 0,
         "n_chan_max": 3,
         "n_chan_mod": 3,
         "netcdf_origin": "na_apriori_rivers_v08.nc",
         "node_id": "74230900270061",
         "node_len": 181.782,
         "reach_id": "74230900271",
         "shp_origin": "na_apriori_rivers_nodes_hb74_v08.shp",
         "type": 1,
         "width": 1163,
         "wse": 28,
         "wse_var": 0,
         "wth_var": 3004.58,
         "x": -91.0843,
         "y": 33.3924
        },
        "74230900270071": {
         "dist_out": 966117,
         "facc": 65.1582,
         "geojson": {
          "coordinates": [
           -91.084571,
           33.390695
          ],
          "type": "Point"
         },
         "geometry": "POINT (-91.08457114699593 33.39069492893479)",
         "grod_id": 0,
         "n_chan_max": 2,
         "n_chan_mod": 2,
         "netcdf_origin": "na_apriori_rivers_v08.nc",
         "node_id": "74230900270071",
         "node_len": 212.376,
         "reach_id": "74230900271",
         "shp_origin": "na_apriori_rivers_nodes_hb74_v08.shp",
         "type": 1,
         "width": 1155,
         "wse": 28,
         "wse_var": 0,
         "wth_var": 258.245,
         "x": -91.0846,
         "y": 33.3907
        },
        "74230900270081": {
         "dist_out": 966307,
         "facc": 65.1582,
         "geojson": {
          "coordinates": [
           -91.085004,
           33.388943
          ],
          "type": "Point"
         },
         "geometry": "POINT (-91.08500425432261 33.38894314188848)",
         "grod_id": 0,
         "n_chan_max": 3,
         "n_chan_mod": 2,
         "netcdf_origin": "na_apriori_rivers_v08.nc",
         "node_id": "74230900270081",
         "node_len": 190.432,
         "reach_id": "74230900271",
         "shp_origin": "na_apriori_rivers_nodes_hb74_v08.shp",
         "type": 1,
         "width": 756.5,
         "wse": 28,
         "wse_var": 0,
         "wth_var": 21015.9,
         "x": -91.085,
         "y": 33.3889
        },
        "74230900270091": {
         "dist_out": 966512,
         "facc": 65.1582,
         "geojson": {
          "coordinates": [
           -91.085824,
           33.387333
          ],
          "type": "Point"
         },
         "geometry": "POINT (-91.0858243052874 33.38733259025843)",
         "grod_id": 0,
         "n_chan_max": 4,
         "n_chan_mod": 2,
         "netcdf_origin": "na_apriori_rivers_v08.nc",
         "node_id": "74230900270091",
         "node_len": 204.565,
         "reach_id": "74230900271",
         "shp_origin": "na_apriori_rivers_nodes_hb74_v08.shp",
         "type": 1,
         "width": 600,
         "wse": 28,
         "wse_var": 0,
         "wth_var": 540.25,
         "x": -91.0858,
         "y": 33.3873
        },
        "74230900270101": {
         "dist_out": 966713,
         "facc": 65.1582,
         "geojson": {
          "coordinates": [
           -91.086977,
           33.385727
          ],
          "type": "Point"
         },
         "geometry": "POINT (-91.08697744682519 33.38572716881502)",
         "grod_id": 0,
         "n_chan_max": 3,
         "n_chan_mod": 2,
         "netcdf_origin": "na_apriori_rivers_v08.nc",
         "node_id": "74230900270101",
         "node_len": 200.932,
         "reach_id": "74230900271",
         "shp_origin": "na_apriori_rivers_nodes_hb74_v08.shp",
         "type": 1,
         "width": 660.5,
         "wse": 28,
         "wse_var": 0,
         "wth_var": 508.889,
         "x": -91.087,
         "y": 33.3857
        },
        "74230900270111": {
         "dist_out": 966908,
         "facc": 65.1582,
         "geojson": {
          "coordinates": [
           -91.087711,
           33.384115
          ],
          "type": "Point"
         },
         "geometry": "POINT (-91.08771146445827 33.3841152764595)",
         "grod_id": 0,
         "n_chan_max": 2,
         "n_chan_mod": 1,
         "netcdf_origin": "na_apriori_rivers_v08.nc",
         "node_id": "74230900270111",
         "node_len": 194.824,
         "reach_id": "74230900271",
         "shp_origin": "na_apriori_rivers_nodes_hb74_v08.shp",
         "type": 1,
         "width": 663,
         "wse": 28,
         "wse_var": 0,
         "wth_var": 559.139,
         "x": -91.0877,
         "y": 33.3841
        },
        "74230900270121": {
         "dist_out": 967110,
         "facc": 65.1582,
         "geojson": {
          "coordinates": [
           -91.088725,
           33.382508
          ],
          "type": "Point"
         },
         "geometry": "POINT (-91.08872483493889 33.38250768191167)",
         "grod_id": 0,
         "n_chan_max": 2,
         "n_chan_mod": 1,
         "netcdf_origin": "na_apriori_rivers_v08.nc",
         "node_id": "74230900270121",
         "node_len": 202.848,
         "reach_id": "74230900271",
         "shp_origin": "na_apriori_rivers_nodes_hb74_v08.shp",
         "type": 1,
         "width": 591,
         "wse": 28,
         "wse_var": 0,
         "wth_var": 168.222,
         "x": -91.0887,
         "y": 33.3825
        },
        "74230900270131": {
         "dist_out": 967297,
         "facc": 65.1582,
         "geojson": {
          "coordinates": [
           -91.089384,
           33.380895
          ],
          "type": "Point"
         },
         "geometry": "POINT (-91.08938357454689 33.38089461836095)",
         "grod_id": 0,
         "n_chan_max": 1,
         "n_chan_mod": 1,
         "netcdf_origin": "na_apriori_rivers_v08.nc",
         "node_id": "74230900270131",
         "node_len": 186.404,
         "reach_id": "74230900271",
         "shp_origin": "na_apriori_rivers_nodes_hb74_v08.shp",
         "type": 1,
         "width": 531,
         "wse": 28,
         "wse_var": 0,
         "wth_var": 243.139,
         "x": -91.0894,
         "y": 33.3809
        },
        "74230900270141": {
         "dist_out": 967499,
         "facc": 65.1582,
         "geojson": {
          "coordinates": [
           -91.090075,
           33.379282
          ],
          "type": "Point"
         },
         "geometry": "POINT (-91.09007452192931 33.37928204560261)",
         "grod_id": 0,
         "n_chan_max": 1,
         "n_chan_mod": 1,
         "netcdf_origin": "na_apriori_rivers_v08.nc",
         "node_id": "74230900270141",
         "node_len": 202.648,
         "reach_id": "74230900271",
         "shp_origin": "na_apriori_rivers_nodes_hb74_v08.shp",
         "type": 1,
         "width": 397.5,
         "wse": 28,
         "wse_var": 0,
         "wth_var": 689.139,
         "x": -91.0901,
         "y": 33.3793
        },
        "74230900270151": {
         "dist_out": 967688,
         "facc": 65.1582,
         "geojson": {
          "coordinates": [
           -91.091205,
           33.377812
          ],
          "type": "Point"
         },
         "geometry": "POINT (-91.09120517724912 33.37781150042694)",
         "grod_id": 0,
         "n_chan_max": 2,
         "n_chan_mod": 1,
         "netcdf_origin": "na_apriori_rivers_v08.nc",
         "node_id": "74230900270151",
         "node_len": 188.661,
         "reach_id": "74230900271",
         "shp_origin": "na_apriori_rivers_nodes_hb74_v08.shp",
         "type": 1,
         "width": 381,
         "wse": 28,
         "wse_var": 0,
         "wth_var": 70.24,
         "x": -91.0912,
         "y": 33.3778
        },
        "74230900270161": {
         "dist_out": 967875,
         "facc": 65.1582,
         "geojson": {
          "coordinates": [
           -91.09255,
           33.37648
          ],
          "type": "Point"
         },
         "geometry": "POINT (-91.09254988461237 33.37647950227411)",
         "grod_id": 0,
         "n_chan_max": 1,
         "n_chan_mod": 1,
         "netcdf_origin": "na_apriori_rivers_v08.nc",
         "node_id": "74230900270161",
         "node_len": 186.561,
         "reach_id": "74230900271",
         "shp_origin": "na_apriori_rivers_nodes_hb74_v08.shp",
         "type": 1,
         "width": 333,
         "wse": 28,
         "wse_var": 0,
         "wth_var": 564.16,
         "x": -91.0926,
         "y": 33.3765
        },
        "74230900270171": {
         "dist_out": 968083,
         "facc": 65.1582,
         "geojson": {
          "coordinates": [
           -91.093554,
           33.375007
          ],
          "type": "Point"
         },
         "geometry": "POINT (-91.09355367496862 33.37500698382436)",
         "grod_id": 0,
         "n_chan_max": 2,
         "n_chan_mod": 1,
         "netcdf_origin": "na_apriori_rivers_v08.nc",
         "node_id": "74230900270171",
         "node_len": 208.756,
         "reach_id": "74230900271",
         "shp_origin": "na_apriori_rivers_nodes_hb74_v08.shp",
         "type": 1,
         "width": 267.5,
         "wse": 28,
         "wse_var": 0,
         "wth_var": 2202.92,
         "x": -91.0936,
         "y": 33.375
        },
        "74230900270181": {
         "dist_out": 968284,
         "facc": 65.1582,
         "geojson": {
          "coordinates": [
           -91.094961,
           33.373551
          ],
          "type": "Point"
         },
         "geometry": "POINT (-91.09496118386797 33.37355147535384)",
         "grod_id": 0,
         "n_chan_max": 1,
         "n_chan_mod": 1,
         "netcdf_origin": "na_apriori_rivers_v08.nc",
         "node_id": "74230900270181",
         "node_len": 200.684,
         "reach_id": "74230900271",
         "shp_origin": "na_apriori_rivers_nodes_hb74_v08.shp",
         "type": 1,
         "width": 235,
         "wse": 28,
         "wse_var": 0,
         "wth_var": 178.96,
         "x": -91.095,
         "y": 33.3736
        },
        "74230900270191": {
         "dist_out": 968466,
         "facc": 65.1582,
         "geojson": {
          "coordinates": [
           -91.096595,
           33.372581
          ],
          "type": "Point"
         },
         "geometry": "POINT (-91.09659453127558 33.37258096796965)",
         "grod_id": 0,
         "n_chan_max": 1,
         "n_chan_mod": 1,
         "netcdf_origin": "na_apriori_rivers_v08.nc",
         "node_id": "74230900270191",
         "node_len": 181.795,
         "reach_id": "74230900271",
         "shp_origin": "na_apriori_rivers_nodes_hb74_v08.shp",
         "type": 1,
         "width": 298,
         "wse": 28,
         "wse_var": 0,
         "wth_var": 63.04,
         "x": -91.0966,
         "y": 33.3726
        },
        "74230900270201": {
         "dist_out": 968682,
         "facc": 65.1582,
         "geojson": {
          "coordinates": [
           -91.098074,
           33.371289
          ],
          "type": "Point"
         },
         "geometry": "POINT (-91.09807362606274 33.37128884212589)",
         "grod_id": 0,
         "n_chan_max": 1,
         "n_chan_mod": 1,
         "netcdf_origin": "na_apriori_rivers_v08.nc",
         "node_id": "74230900270201",
         "node_len": 215.736,
         "reach_id": "74230900271",
         "shp_origin": "na_apriori_rivers_nodes_hb74_v08.shp",
         "type": 1,
         "width": 264,
         "wse": 28,
         "wse_var": 0,
         "wth_var": 184.889,
         "x": -91.0981,
         "y": 33.3713
        },
        "74230900270211": {
         "dist_out": 968878,
         "facc": 65.1582,
         "geojson": {
          "coordinates": [
           -91.099553,
           33.369986
          ],
          "type": "Point"
         },
         "geometry": "POINT (-91.09955291346581 33.36998587845925)",
         "grod_id": 0,
         "n_chan_max": 1,
         "n_chan_mod": 1,
         "netcdf_origin": "na_apriori_rivers_v08.nc",
         "node_id": "74230900270211",
         "node_len": 196.102,
         "reach_id": "74230900271",
         "shp_origin": "na_apriori_rivers_nodes_hb74_v08.shp",
         "type": 1,
         "width": 254,
         "wse": 28,
         "wse_var": 0,
         "wth_var": 105.84,
         "x": -91.0996,
         "y": 33.37
        },
        "74230900270221": {
         "dist_out": 969082,
         "facc": 65.1582,
         "geojson": {
          "coordinates": [
           -91.101179,
           33.368766
          ],
          "type": "Point"
         },
         "geometry": "POINT (-91.10117865774288 33.36876629813613)",
         "grod_id": 0,
         "n_chan_max": 2,
         "n_chan_mod": 1,
         "netcdf_origin": "na_apriori_rivers_v08.nc",
         "node_id": "74230900270221",
         "node_len": 204.117,
         "reach_id": "74230900271",
         "shp_origin": "na_apriori_rivers_nodes_hb74_v08.shp",
         "type": 1,
         "width": 169,
         "wse": 28,
         "wse_var": 0,
         "wth_var": 976.24,
         "x": -91.1012,
         "y": 33.3688
        },
        "74230900270231": {
         "dist_out": 969274,
         "facc": 65.1582,
         "geojson": {
          "coordinates": [
           -91.102734,
           33.367537
          ],
          "type": "Point"
         },
         "geometry": "POINT (-91.10273364502522 33.36753659561212)",
         "grod_id": 0,
         "n_chan_max": 2,
         "n_chan_mod": 1,
         "netcdf_origin": "na_apriori_rivers_v08.nc",
         "node_id": "74230900270231",
         "node_len": 192.185,
         "reach_id": "74230900271",
         "shp_origin": "na_apriori_rivers_nodes_hb74_v08.shp",
         "type": 1,
         "width": 102,
         "wse": 28,
         "wse_var": 0,
         "wth_var": 694.139,
         "x": -91.1027,
         "y": 33.3675
        },
        "74230900270241": {
         "dist_out": 969504,
         "facc": 65.1582,
         "geojson": {
          "coordinates": [
           -91.104462,
           33.366652
          ],
          "type": "Point"
         },
         "geometry": "POINT (-91.10446164833537 33.3666521948688)",
         "grod_id": 0,
         "n_chan_max": 1,
         "n_chan_mod": 1,
         "netcdf_origin": "na_apriori_rivers_v08.nc",
         "node_id": "74230900270241",
         "node_len": 229.573,
         "reach_id": "74230900271",
         "shp_origin": "na_apriori_rivers_nodes_hb74_v08.shp",
         "type": 1,
         "width": 126,
         "wse": 28,
         "wse_var": 0,
         "wth_var": 467.44,
         "x": -91.1045,
         "y": 33.3667
        },
        "74230900270251": {
         "dist_out": 969657,
         "facc": 65.1582,
         "geojson": {
          "coordinates": [
           -91.105906,
           33.365484
          ],
          "type": "Point"
         },
         "geometry": "POINT (-91.10590560155892 33.36548388058025)",
         "grod_id": 0,
         "n_chan_max": 1,
         "n_chan_mod": 1,
         "netcdf_origin": "na_apriori_rivers_v08.nc",
         "node_id": "74230900270251",
         "node_len": 153.2,
         "reach_id": "74230900271",
         "shp_origin": "na_apriori_rivers_nodes_hb74_v08.shp",
         "type": 1,
         "width": 153.5,
         "wse": 28,
         "wse_var": 0,
         "wth_var": 1432.56,
         "x": -91.1059,
         "y": 33.3655
        },
        "74230900270261": {
         "dist_out": 969884,
         "facc": 65.1582,
         "geojson": {
          "coordinates": [
           -91.107578,
           33.364184
          ],
          "type": "Point"
         },
         "geometry": "POINT (-91.10757805207423 33.36418376274843)",
         "grod_id": 0,
         "n_chan_max": 1,
         "n_chan_mod": 1,
         "netcdf_origin": "na_apriori_rivers_v08.nc",
         "node_id": "74230900270261",
         "node_len": 227.654,
         "reach_id": "74230900271",
         "shp_origin": "na_apriori_rivers_nodes_hb74_v08.shp",
         "type": 1,
         "width": 224.5,
         "wse": 28,
         "wse_var": 0,
         "wth_var": 92.4722,
         "x": -91.1076,
         "y": 33.3642
        },
        "74230900270271": {
         "dist_out": 970051,
         "facc": 65.1582,
         "geojson": {
          "coordinates": [
           -91.109371,
           33.363275
          ],
          "type": "Point"
         },
         "geometry": "POINT (-91.10937094910888 33.3632750305467)",
         "grod_id": 0,
         "n_chan_max": 1,
         "n_chan_mod": 1,
         "netcdf_origin": "na_apriori_rivers_v08.nc",
         "node_id": "74230900270271",
         "node_len": 166.905,
         "reach_id": "74230900271",
         "shp_origin": "na_apriori_rivers_nodes_hb74_v08.shp",
         "type": 1,
         "width": 195,
         "wse": 28,
         "wse_var": 0,
         "wth_var": 0,
         "x": -91.1094,
         "y": 33.3633
        },
        "74230900270281": {
         "dist_out": 970268,
         "facc": 65.1582,
         "geojson": {
          "coordinates": [
           -91.111162,
           33.362471
          ],
          "type": "Point"
         },
         "geometry": "POINT (-91.11116154717969 33.36247084334566)",
         "grod_id": 0,
         "n_chan_max": 1,
         "n_chan_mod": 1,
         "netcdf_origin": "na_apriori_rivers_v08.nc",
         "node_id": "74230900270281",
         "node_len": 216.781,
         "reach_id": "74230900271",
         "shp_origin": "na_apriori_rivers_nodes_hb74_v08.shp",
         "type": 1,
         "width": 216,
         "wse": 28,
         "wse_var": 0,
         "wth_var": 61.25,
         "x": -91.1112,
         "y": 33.3625
        },
        "74230900270291": {
         "dist_out": 970476,
         "facc": 65.1582,
         "geojson": {
          "coordinates": [
           -91.113116,
           33.361536
          ],
          "type": "Point"
         },
         "geometry": "POINT (-91.1131161410414 33.361535658242)",
         "grod_id": 0,
         "n_chan_max": 1,
         "n_chan_mod": 1,
         "netcdf_origin": "na_apriori_rivers_v08.nc",
         "node_id": "74230900270291",
         "node_len": 207.998,
         "reach_id": "74230900271",
         "shp_origin": "na_apriori_rivers_nodes_hb74_v08.shp",
         "type": 1,
         "width": 237,
         "wse": 28,
         "wse_var": 0,
         "wth_var": 197.139,
         "x": -91.1131,
         "y": 33.3615
        },
        "74230900270301": {
         "dist_out": 970648,
         "facc": 65.1582,
         "geojson": {
          "coordinates": [
           -91.114821,
           33.360523
          ],
          "type": "Point"
         },
         "geometry": "POINT (-91.11482090341222 33.36052270080877)",
         "grod_id": 0,
         "n_chan_max": 1,
         "n_chan_mod": 1,
         "netcdf_origin": "na_apriori_rivers_v08.nc",
         "node_id": "74230900270301",
         "node_len": 171.881,
         "reach_id": "74230900271",
         "shp_origin": "na_apriori_rivers_nodes_hb74_v08.shp",
         "type": 1,
         "width": 311,
         "wse": 28,
         "wse_var": 0,
         "wth_var": 2170.24,
         "x": -91.1148,
         "y": 33.3605
        },
        "74230900270311": {
         "dist_out": 970857,
         "facc": 65.1582,
         "geojson": {
          "coordinates": [
           -91.115028,
           33.359103
          ],
          "type": "Point"
         },
         "geometry": "POINT (-91.11502776994656 33.35910281636846)",
         "grod_id": 0,
         "n_chan_max": 1,
         "n_chan_mod": 1,
         "netcdf_origin": "na_apriori_rivers_v08.nc",
         "node_id": "74230900270311",
         "node_len": 208.67,
         "reach_id": "74230900271",
         "shp_origin": "na_apriori_rivers_nodes_hb74_v08.shp",
         "type": 1,
         "width": 264.5,
         "wse": 28,
         "wse_var": 0,
         "wth_var": 6977.33,
         "x": -91.115,
         "y": 33.3591
        },
        "74230900270321": {
         "dist_out": 971063,
         "facc": 65.1582,
         "geojson": {
          "coordinates": [
           -91.113509,
           33.357754
          ],
          "type": "Point"
         },
         "geometry": "POINT (-91.11350941545 33.35775411479639)",
         "grod_id": 0,
         "n_chan_max": 1,
         "n_chan_mod": 1,
         "netcdf_origin": "na_apriori_rivers_v08.nc",
         "node_id": "74230900270321",
         "node_len": 206.195,
         "reach_id": "74230900271",
         "shp_origin": "na_apriori_rivers_nodes_hb74_v08.shp",
         "type": 1,
         "width": 195,
         "wse": 28,
         "wse_var": 0,
         "wth_var": 264.806,
         "x": -91.1135,
         "y": 33.3578
        },
        "74230900270331": {
         "dist_out": 971236,
         "facc": 65.1582,
         "geojson": {
          "coordinates": [
           -91.111872,
           33.356723
          ],
          "type": "Point"
         },
         "geometry": "POINT (-91.1118724930341 33.35672282717553)",
         "grod_id": 0,
         "n_chan_max": 1,
         "n_chan_mod": 1,
         "netcdf_origin": "na_apriori_rivers_v08.nc",
         "node_id": "74230900270331",
         "node_len": 173.012,
         "reach_id": "74230900271",
         "shp_origin": "na_apriori_rivers_nodes_hb74_v08.shp",
         "type": 1,
         "width": 429,
         "wse": 28,
         "wse_var": 0,
         "wth_var": 2314.8,
         "x": -91.1119,
         "y": 33.3567
        },
        "74230900270341": {
         "dist_out": 971460,
         "facc": 65.1582,
         "geojson": {
          "coordinates": [
           -91.112304,
           33.355337
          ],
          "type": "Point"
         },
         "geometry": "POINT (-91.1123043145282 33.35533702883798)",
         "grod_id": 0,
         "n_chan_max": 1,
         "n_chan_mod": 1,
         "netcdf_origin": "na_apriori_rivers_v08.nc",
         "node_id": "74230900270341",
         "node_len": 224.221,
         "reach_id": "74230900271",
         "shp_origin": "na_apriori_rivers_nodes_hb74_v08.shp",
         "type": 1,
         "width": 127,
         "wse": 28,
         "wse_var": 0,
         "wth_var": 6506.81,
         "x": -91.1123,
         "y": 33.3553
        },
        "74230900270351": {
         "dist_out": 971652,
         "facc": 65.1582,
         "geojson": {
          "coordinates": [
           -91.114237,
           33.354411
          ],
          "type": "Point"
         },
         "geometry": "POINT (-91.11423705560105 33.3544105071546)",
         "grod_id": 0,
         "n_chan_max": 1,
         "n_chan_mod": 1,
         "netcdf_origin": "na_apriori_rivers_v08.nc",
         "node_id": "74230900270351",
         "node_len": 192.149,
         "reach_id": "74230900271",
         "shp_origin": "na_apriori_rivers_nodes_hb74_v08.shp",
         "type": 1,
         "width": 110,
         "wse": 28,
         "wse_var": 0,
         "wth_var": 0,
         "x": -91.1142,
         "y": 33.3544
        },
        "74230900270361": {
         "dist_out": 971860,
         "facc": 65.1582,
         "geojson": {
          "coordinates": [
           -91.116173,
           33.354314
          ],
          "type": "Point"
         },
         "geometry": "POINT (-91.11617337048794 33.35431365762432)",
         "grod_id": 0,
         "n_chan_max": 1,
         "n_chan_mod": 1,
         "netcdf_origin": "na_apriori_rivers_v08.nc",
         "node_id": "74230900270361",
         "node_len": 208.162,
         "reach_id": "74230900271",
         "shp_origin": "na_apriori_rivers_nodes_hb74_v08.shp",
         "type": 1,
         "width": 1,
         "wse": 28,
         "wse_var": 0,
         "wth_var": 2205,
         "x": -91.1162,
         "y": 33.3543
        },
        "74230900270371": {
         "dist_out": 972057,
         "facc": 65.1582,
         "geojson": {
          "coordinates": [
           -91.117922,
           33.35543
          ],
          "type": "Point"
         },
         "geometry": "POINT (-91.11792238552762 33.35542955454766)",
         "grod_id": 0,
         "n_chan_max": 1,
         "n_chan_mod": 1,
         "netcdf_origin": "na_apriori_rivers_v08.nc",
         "node_id": "74230900270371",
         "node_len": 196.102,
         "reach_id": "74230900271",
         "shp_origin": "na_apriori_rivers_nodes_hb74_v08.shp",
         "type": 1,
         "width": 1,
         "wse": 28,
         "wse_var": 0,
         "wth_var": 0,
         "x": -91.1179,
         "y": 33.3554
        },
        "74230900270381": {
         "dist_out": 972253,
         "facc": 65.1582,
         "geojson": {
          "coordinates": [
           -91.11951,
           33.356579
          ],
          "type": "Point"
         },
         "geometry": "POINT (-91.11950953270153 33.3565790466405)",
         "grod_id": 0,
         "n_chan_max": 1,
         "n_chan_mod": 1,
         "netcdf_origin": "na_apriori_rivers_v08.nc",
         "node_id": "74230900270381",
         "node_len": 196.102,
         "reach_id": "74230900271",
         "shp_origin": "na_apriori_rivers_nodes_hb74_v08.shp",
         "type": 1,
         "width": 1,
         "wse": 28,
         "wse_var": 0,
         "wth_var": 0,
         "x": -91.1195,
         "y": 33.3566
        },
        "74230900270391": {
         "dist_out": 972449,
         "facc": 65.1582,
         "geojson": {
          "coordinates": [
           -91.121097,
           33.357729
          ],
          "type": "Point"
         },
         "geometry": "POINT (-91.1210967218511 33.35772851969229)",
         "grod_id": 0,
         "n_chan_max": 1,
         "n_chan_mod": 1,
         "netcdf_origin": "na_apriori_rivers_v08.nc",
         "node_id": "74230900270391",
         "node_len": 196.102,
         "reach_id": "74230900271",
         "shp_origin": "na_apriori_rivers_nodes_hb74_v08.shp",
         "type": 1,
         "width": 1,
         "wse": 28,
         "wse_var": 0,
         "wth_var": 0,
         "x": -91.1211,
         "y": 33.3577
        },
        "74230900270401": {
         "dist_out": 972645,
         "facc": 65.1582,
         "geojson": {
          "coordinates": [
           -91.122684,
           33.358878
          ],
          "type": "Point"
         },
         "geometry": "POINT (-91.12268395297833 33.35887797370037)",
         "grod_id": 0,
         "n_chan_max": 1,
         "n_chan_mod": 1,
         "netcdf_origin": "na_apriori_rivers_v08.nc",
         "node_id": "74230900270401",
         "node_len": 196.102,
         "reach_id": "74230900271",
         "shp_origin": "na_apriori_rivers_nodes_hb74_v08.shp",
         "type": 1,
         "width": 1,
         "wse": 28,
         "wse_var": 0,
         "wth_var": 0,
         "x": -91.1227,
         "y": 33.3589
        },
        "74230900270411": {
         "dist_out": 972841,
         "facc": 65.1582,
         "geojson": {
          "coordinates": [
           -91.124271,
           33.360027
          ],
          "type": "Point"
         },
         "geometry": "POINT (-91.1242712260852 33.36002740866208)",
         "grod_id": 0,
         "n_chan_max": 1,
         "n_chan_mod": 1,
         "netcdf_origin": "na_apriori_rivers_v08.nc",
         "node_id": "74230900270411",
         "node_len": 196.102,
         "reach_id": "74230900271",
         "shp_origin": "na_apriori_rivers_nodes_hb74_v08.shp",
         "type": 1,
         "width": 1,
         "wse": 28,
         "wse_var": 0,
         "wth_var": 0,
         "x": -91.1243,
         "y": 33.36
        },
        "74230900270421": {
         "dist_out": 973034,
         "facc": 65.1582,
         "geojson": {
          "coordinates": [
           -91.126017,
           33.361289
          ],
          "type": "Point"
         },
         "geometry": "POINT (-91.12601732993581 33.36128924056705)",
         "grod_id": 0,
         "n_chan_max": 1,
         "n_chan_mod": 1,
         "netcdf_origin": "na_apriori_rivers_v08.nc",
         "node_id": "74230900270421",
         "node_len": 192.669,
         "reach_id": "74230900271",
         "shp_origin": "na_apriori_rivers_nodes_hb74_v08.shp",
         "type": 1,
         "width": 1,
         "wse": 28,
         "wse_var": 0,
         "wth_var": 0,
         "x": -91.126,
         "y": 33.3613
        }
       },
       "search on": {
        "exact": false,
        "page_number": 1,
        "page_size": 100,
        "parameter": "node"
       },
       "status": "200 OK",
       "time": "6.446 ms."
      },
      "text/plain": [
       "<IPython.core.display.JSON object>"
      ]
     },
     "execution_count": 20,
     "metadata": {
      "application/json": {
       "expanded": false,
       "root": "root"
      }
     },
     "output_type": "execute_result"
    }
   ],
   "source": [
    "response = requests.get(\"https://fts.podaac.earthdata.nasa.gov/rivers/node/7423090027\")\n",
    "\n",
    "featureCollection = response_to_FeatureCollection(response)\n",
    "\n",
    "JSON(nodes.json())"
   ]
  },
  {
   "cell_type": "code",
   "execution_count": 22,
   "metadata": {},
   "outputs": [
    {
     "data": {
      "application/vnd.jupyter.widget-view+json": {
       "model_id": "0972db4a08f047b683d8638148cd6f1d",
       "version_major": 2,
       "version_minor": 0
      },
      "text/plain": [
       "Map(center=[33.377269, -91.1028605], controls=(ZoomControl(options=['position', 'zoom_in_text', 'zoom_in_title…"
      ]
     },
     "metadata": {},
     "output_type": "display_data"
    }
   ],
   "source": [
    "lats = [feature['coordinates'][1] for feature in featureCollection['features']]\n",
    "lons = [feature['coordinates'][0] for feature in featureCollection['features']]\n",
    "\n",
    "center_lat = (min(lats) + max(lats)) / 2\n",
    "center_lon = (min(lons) + max(lons)) / 2\n",
    "\n",
    "m = Map(center=(center_lat, center_lon), zoom=13, layout=Layout(width='90%', height='1000px'))\n",
    "m.add_control(FullScreenControl())\n",
    "\n",
    "geo_json = GeoJSON(\n",
    "    data=featureCollection\n",
    ")\n",
    "\n",
    "m.add_layer(geo_json)\n",
    "m"
   ]
  },
  {
   "cell_type": "code",
   "execution_count": null,
   "metadata": {},
   "outputs": [],
   "source": []
  }
 ],
 "metadata": {
  "kernelspec": {
   "display_name": "Python [python3]",
   "language": "python",
   "name": "conda-env-python3-py"
  },
  "language_info": {
   "codemirror_mode": {
    "name": "ipython",
    "version": 3
   },
   "file_extension": ".py",
   "mimetype": "text/x-python",
   "name": "python",
   "nbconvert_exporter": "python",
   "pygments_lexer": "ipython3",
   "version": "3.8.5"
  }
 },
 "nbformat": 4,
 "nbformat_minor": 4
}
