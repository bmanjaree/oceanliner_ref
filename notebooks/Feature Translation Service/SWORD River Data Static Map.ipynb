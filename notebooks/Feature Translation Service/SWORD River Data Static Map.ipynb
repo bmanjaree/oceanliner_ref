{
 "cells": [
  {
   "cell_type": "markdown",
   "metadata": {},
   "source": [
    "# Feature Translation Service SWORD River Data Demo\n",
    "\n",
    "This notebook shows a few example requests to the Feature Translation Service (FTS) Application Programming Interface (API).\n",
    "\n",
    "## Required Dependencies\n",
    "\n",
    "There are three python dependencies that must be available to the python kernel running this notebook. \n",
    "\n",
    "- plotly (https://pypi.org/project/plotly/)\n",
    "- kaleido (https://pypi.org/project/kaleido/)\n",
    "- geojson (https://pypi.org/project/geojson/)\n",
    "\n",
    "The next cell installs them when the cell is run."
   ]
  },
  {
   "cell_type": "code",
   "execution_count": null,
   "metadata": {},
   "outputs": [],
   "source": [
    "!pip install plotly geojson kaleido"
   ]
  },
  {
   "cell_type": "code",
   "execution_count": null,
   "metadata": {},
   "outputs": [],
   "source": [
    "import requests\n",
    "import json\n",
    "import geojson\n",
    "import pprint\n",
    "import plotly.graph_objects as go\n",
    "\n",
    "from IPython.display import JSON, Image\n",
    "\n",
    "def response_to_FeatureCollection(response):\n",
    "    \"\"\"\n",
    "    This function will return a geojson.FeatureCollection representation of the features found\n",
    "    in the provided response.\n",
    "    Parameters\n",
    "    ----------\n",
    "    response : requests.Response\n",
    "        Response object returned from a GET request on the FTS rivers endpoint.\n",
    "    Returns\n",
    "    -------\n",
    "    geojson.FeatureCollection\n",
    "        FeatureCollection containing all features extracted from the response.\n",
    "    \"\"\"\n",
    "    featureList = []\n",
    "    for reach_id, reach_json in response.json()['results'].items():\n",
    "        reach_feature = geojson.loads(json.dumps(reach_json['geojson']))\n",
    "        reach_feature['properties']={k:v for k,v in reach_json.items() if k not in ['geojson', 'geometry']}\n",
    "        featureList.append(reach_feature)\n",
    "    featureCollection = geojson.FeatureCollection(featureList)\n",
    "    return featureCollection\n",
    "\n",
    "def estimate_center_of_FeatureCollection(featureCollection):\n",
    "    \"\"\"\n",
    "    This function does a very simplistic estimation of the center of all features in the given FeatureCollection.\n",
    "    Parameters\n",
    "    ----------\n",
    "    featureCollection : geojson.FeatureCollection\n",
    "        Estimate the center lon, lat of this FeatureCollection.\n",
    "    Returns\n",
    "    -------\n",
    "    tuple(float, float)\n",
    "        Estimated center longitude, center latitude\n",
    "    \"\"\"\n",
    "    lats = [xy[1] for feature in featureCollection['features'] for xy in feature['coordinates']]\n",
    "    lons = [xy[0] for feature in featureCollection['features'] for xy in feature['coordinates']]\n",
    "\n",
    "    center_lat = (min(lats) + max(lats)) / 2\n",
    "    center_lon = (min(lons) + max(lons)) / 2\n",
    "    \n",
    "    return center_lon, center_lat"
   ]
  },
  {
   "cell_type": "markdown",
   "metadata": {},
   "source": [
    "# Plot a single River Reach"
   ]
  },
  {
   "cell_type": "code",
   "execution_count": null,
   "metadata": {},
   "outputs": [],
   "source": [
    "response = requests.get(\"https://fts.podaac.earthdata.nasa.gov/rivers/reach/74230900271\")\n",
    "\n",
    "featureCollection = response_to_FeatureCollection(response)\n",
    "\n",
    "pprint.pprint(response.json(), compact=True, width=60, depth=2)"
   ]
  },
  {
   "cell_type": "code",
   "execution_count": null,
   "metadata": {},
   "outputs": [],
   "source": [
    "fig = go.Figure(\n",
    "    go.Scattermapbox(),\n",
    "    layout = {\n",
    "        'mapbox': {\n",
    "            'style': \"stamen-terrain\",\n",
    "            'zoom': 12\n",
    "        },\n",
    "        'margin': {'l':0, 'r':0, 'b':0, 't':0},\n",
    "    }\n",
    ")\n",
    "\n",
    "fig.update_mapboxes(layers=[\n",
    "    {\n",
    "        'source': feature, \n",
    "        'type': \"line\", \n",
    "        'line': {'width': 5},\n",
    "        'below': \"traces\", \n",
    "        'color': \"royalblue\"\n",
    "    } for feature in featureCollection.features])\n",
    "\n",
    "center_lon, center_lat = estimate_center_of_FeatureCollection(featureCollection)\n",
    "\n",
    "fig.update_layout(\n",
    "    mapbox = {\n",
    "        'center': { 'lon':  center_lon, 'lat': center_lat}\n",
    "    }\n",
    ")\n",
    "\n",
    "Image(fig.to_image(format=\"png\", width=600, height=600))"
   ]
  },
  {
   "cell_type": "code",
   "execution_count": null,
   "metadata": {},
   "outputs": [],
   "source": [
    "fig.show()"
   ]
  },
  {
   "cell_type": "markdown",
   "metadata": {},
   "source": [
    "# Plot m"
   ]
  },
  {
   "cell_type": "code",
   "execution_count": null,
   "metadata": {},
   "outputs": [],
   "source": [
    "fig = go.Figure(\n",
    "    go.Scattermapbox(),\n",
    "    layout = {\n",
    "        'mapbox': {\n",
    "            'style': \"stamen-terrain\",\n",
    "            'zoom': 8\n",
    "        },\n",
    "        'margin': {'l':0, 'r':0, 'b':0, 't':0},\n",
    "    }\n",
    ")\n",
    "\n",
    "fig.update_mapboxes(layers=[\n",
    "    {\n",
    "        'source': feature, \n",
    "        'type': \"line\", \n",
    "        'line': {'width': 5},\n",
    "        'below': \"traces\", \n",
    "        'color': \"royalblue\"\n",
    "    } for feature in featureCollection.features])\n",
    "\n",
    "center_lon, center_lat = estimate_center_of_FeatureCollection(featureCollection)\n",
    "\n",
    "fig.update_layout(\n",
    "    mapbox = {\n",
    "        'center': { 'lon':  center_lon, 'lat': center_lat}\n",
    "    }\n",
    ")\n",
    "\n",
    "Image(fig.to_image(format=\"png\", width=600, height=600))"
   ]
  },
  {
   "cell_type": "code",
   "execution_count": null,
   "metadata": {},
   "outputs": [],
   "source": [
    "fig.show()"
   ]
  },
  {
   "cell_type": "code",
   "execution_count": null,
   "metadata": {},
   "outputs": [],
   "source": [
    "response = requests.get(\"https://fts.podaac.earthdata.nasa.gov/rivers/node/74230900100\")\n",
    "\n",
    "featureCollection = response_to_FeatureCollection(response)\n",
    "\n",
    "pprint.pprint(response.json(), compact=True, width=60, depth=2)"
   ]
  },
  {
   "cell_type": "code",
   "execution_count": null,
   "metadata": {},
   "outputs": [],
   "source": [
    "\n",
    "fig = go.Figure(\n",
    "    go.Scattermapbox(),\n",
    "    layout = {\n",
    "        'mapbox': {\n",
    "            'style': \"stamen-terrain\",\n",
    "            'zoom': 11\n",
    "        },\n",
    "        'margin': {'l':0, 'r':0, 'b':0, 't':0},\n",
    "    }\n",
    ")\n",
    "\n",
    "fig.update_mapboxes(layers=[\n",
    "    {\n",
    "        'source': feature, \n",
    "        'type': \"circle\", \n",
    "        'circle': {'radius': 3},\n",
    "        'below': \"traces\", \n",
    "        'color': \"royalblue\"\n",
    "    } for feature in featureCollection.features])\n",
    "\n",
    "lats = [feature['coordinates'][1] for feature in featureCollection['features']]\n",
    "lons = [feature['coordinates'][0] for feature in featureCollection['features']]\n",
    "\n",
    "center_lat = (min(lats) + max(lats)) / 2\n",
    "center_lon = (min(lons) + max(lons)) / 2\n",
    "\n",
    "fig.update_layout(\n",
    "    mapbox = {\n",
    "        'center': { 'lon':  center_lon, 'lat': center_lat}\n",
    "    }\n",
    ")\n",
    "\n",
    "Image(fig.to_image(format=\"png\", width=600, height=600))"
   ]
  },
  {
   "cell_type": "code",
   "execution_count": null,
   "metadata": {},
   "outputs": [],
   "source": [
    "fig.show()"
   ]
  }
 ],
 "metadata": {
  "kernelspec": {
   "display_name": "Python [python3]",
   "language": "python",
   "name": "conda-env-python3-py"
  },
  "language_info": {
   "codemirror_mode": {
    "name": "ipython",
    "version": 3
   },
   "file_extension": ".py",
   "mimetype": "text/x-python",
   "name": "python",
   "nbconvert_exporter": "python",
   "pygments_lexer": "ipython3",
   "version": "3.8.5"
  }
 },
 "nbformat": 4,
 "nbformat_minor": 4
}
