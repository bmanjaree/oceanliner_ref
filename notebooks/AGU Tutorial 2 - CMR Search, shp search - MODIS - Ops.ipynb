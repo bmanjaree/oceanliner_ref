{
 "cells": [
  {
   "cell_type": "markdown",
   "metadata": {},
   "source": [
    "# Coastal Impacts from freshwater discharge - Amazon or Arctic \n",
    "\n",
    "Intro to use case, motivation, connections to cloud migration, learning objectives...\n",
    "\n",
    "Cloud-based capabilities used:\n",
    "- search by shp ( *?? is this service in the cloud Ops at this point?*)\n",
    "\n",
    "Cloud-based dataset(s) used:\n",
    "- MODIS SST L2\n",
    "\n",
    "Steps in this demo:\n",
    "1. search CMR for collection and granule IDs\n",
    "2. download a file and preview the data\n",
    "3. search a collection by user-provided shapefile (ESRI shp)\n",
    "4. preview subset (<-- *this still needs to be written*)\n",
    "4. download all data based on shp search criteria (<-- *this still needs to be written*)"
   ]
  },
  {
   "cell_type": "code",
   "execution_count": 1,
   "metadata": {},
   "outputs": [],
   "source": [
    "from urllib import request, parse\n",
    "from http.cookiejar import CookieJar\n",
    "import getpass\n",
    "import netrc\n",
    "import os\n",
    "import requests\n",
    "import json\n",
    "import pprint\n",
    "from osgeo import gdal\n",
    "import matplotlib.pyplot as plt\n",
    "import matplotlib.image as mpimg\n",
    "import rasterio\n",
    "from rasterio.plot import show\n",
    "import numpy as np\n",
    "import os\n",
    "import time\n",
    "from netCDF4 import Dataset\n",
    "from owslib.wms import WebMapService\n",
    "%matplotlib inline"
   ]
  },
  {
   "cell_type": "markdown",
   "metadata": {},
   "source": [
    "## Local directory setup \n",
    "\n",
    "Specify a local directory where the following Harmony outputs will be saved:"
   ]
  },
  {
   "cell_type": "code",
   "execution_count": 2,
   "metadata": {},
   "outputs": [],
   "source": [
    "# ---- Change this to save to a directory where you have write permissions\n",
    "\n",
    "#local_dir = '/dirpath/username/foldername/'\n",
    "local_dir = '/Users/catoaida/inSync Share/PODAAC/Trainings/AGU_FM_workshop_2020/Notebooks/Outputs/'"
   ]
  },
  {
   "cell_type": "markdown",
   "metadata": {},
   "source": [
    "## Earthdata Login Authentication\n",
    "\n",
    "An Earthdata Login account is required to access data from NASA EOSDIS. At this point in time (as we are still trnasitioning to a cloud environement), in order to access data from the Harmony API or cloud-based data, you need special persmissions. For the workshop today, you have been already added to the list and the earthdata login you provided prior to the workshop has been granted this access. "
   ]
  },
  {
   "cell_type": "markdown",
   "metadata": {},
   "source": [
    "We need some boilerplate up front to log in to Earthdata Login.  The function below will allow Python scripts to log into any Earthdata Login application programmatically.  To avoid being prompted for\n",
    "credentials every time you run and also allow clients such as curl to log in, you can add the following\n",
    "to a `.netrc` (`_netrc` on Windows) file in your home directory:\n",
    "\n",
    "```\n",
    "machine urs.earthdata.nasa.gov\n",
    "    login <your username>\n",
    "    password <your password>\n",
    "```\n",
    "\n",
    "Make sure that this file is only readable by the current user or you will receive an error stating\n",
    "\"netrc access too permissive.\"\n",
    "\n",
    "`$ chmod 0600 ~/.netrc` \n"
   ]
  },
  {
   "cell_type": "code",
   "execution_count": 3,
   "metadata": {},
   "outputs": [
    {
     "name": "stdout",
     "output_type": "stream",
     "text": [
      "Username: oceancat18\n",
      "Password: ········\n"
     ]
    }
   ],
   "source": [
    "from netrc import netrc\n",
    "from platform import system\n",
    "from getpass import getpass\n",
    "from urllib import request\n",
    "from http.cookiejar import CookieJar\n",
    "from os.path import join, expanduser\n",
    "\n",
    "TOKEN_DATA = (\"<token>\"\n",
    "              \"<username>%s</username>\"\n",
    "              \"<password>%s</password>\"\n",
    "              \"<client_id>PODAAC CMR Client</client_id>\"\n",
    "              \"<user_ip_address>%s</user_ip_address>\"\n",
    "              \"</token>\")\n",
    "\n",
    "\n",
    "def setup_cmr_token_auth(endpoint: str='cmr.earthdata.nasa.gov'):\n",
    "    ip = requests.get(\"https://ipinfo.io/ip\").text.strip()\n",
    "    return requests.post(\n",
    "        url=\"https://%s/legacy-services/rest/tokens\" % endpoint,\n",
    "        data=TOKEN_DATA % (input(\"Username: \"), getpass(\"Password: \"), ip),\n",
    "        headers={'Content-Type': 'application/xml', 'Accept': 'application/json'}\n",
    "    ).json()['token']['id']\n",
    "\n",
    "\n",
    "def setup_earthdata_login_auth(endpoint: str='urs.earthdata.nasa.gov'):\n",
    "    netrc_name = \"_netrc\" if system()==\"Windows\" else \".netrc\"\n",
    "    try:\n",
    "        username, _, password = netrc(file=join(expanduser('~'), netrc_name)).authenticators(endpoint)\n",
    "    except (FileNotFoundError, TypeError):\n",
    "        print('Please provide your Earthdata Login credentials for access.')\n",
    "        print('Your info will only be passed to %s and will not be exposed in Jupyter.' % (endpoint))\n",
    "        username = input('Username: ')\n",
    "        password = getpass('Password: ')\n",
    "    manager = request.HTTPPasswordMgrWithDefaultRealm()\n",
    "    manager.add_password(None, endpoint, username, password)\n",
    "    auth = request.HTTPBasicAuthHandler(manager)\n",
    "    jar = CookieJar()\n",
    "    processor = request.HTTPCookieProcessor(jar)\n",
    "    opener = request.build_opener(auth, processor)\n",
    "    request.install_opener(opener)\n",
    "\n",
    "\n",
    "# Get your authentication token for searching restricted records in the CMR:\n",
    "_token = setup_cmr_token_auth(endpoint=\"cmr.earthdata.nasa.gov\")\n",
    "\n",
    "# Start authenticated session with URS to allow restricted data downloads:\n",
    "setup_earthdata_login_auth(endpoint=\"urs.earthdata.nasa.gov\")"
   ]
  },
  {
   "cell_type": "markdown",
   "metadata": {},
   "source": [
    "## A note on CMR\n",
    "CMR, the Common Metadata Repository, houses metadata for the 12 different DAACs. These come in the following forms:\n",
    "\n",
    "* Collections\n",
    "* Granules\n",
    "* Variables\n",
    "* Services\n",
    "* Visualizations\n",
    "* Tools"
   ]
  },
  {
   "cell_type": "markdown",
   "metadata": {},
   "source": [
    "## 1. Identify a data collection of interest\n",
    "\n",
    "A CMR collection ID is needed to request services through Harmony. The collection ID can be determined using the [CMR API](https://cmr.earthdata.nasa.gov/search/site/docs/search/api.html). \n",
    "\n",
    "Level 2 data shortnames: `MODIS_A-JPL-L2P-v2019.0` \n",
    "\n",
    "One way to find the **shortname of a collection** is to go to https://search.earthdata.nasa.gov/search and type *POCLOUD* in the search box (which is the PO.DAAC data provider for cloud-based Pathfinder datasets in a restricted operational cloud environment). Click on the (i) next to the data collection of interest; the shortname is the `subheader` name below the main full data collection name."
   ]
  },
  {
   "cell_type": "markdown",
   "metadata": {},
   "source": [
    "------------ The following way to search CMR is consistent with other PO.DAAC developed notebooks, e.g. Tutorial 7 (Jack McNelis) ------------"
   ]
  },
  {
   "cell_type": "markdown",
   "metadata": {},
   "source": [
    "Data from shortname dataset **MODIS_A-JPL-L2P-v2019.0** can be obtained from/in the cloud.\n",
    "\n",
    "### Search by dataset shortname and provider\n",
    "\n",
    "To search Earthdata for the specific **collections** desired from this notebook, we can use the following code with key words that describe our dataset (also knows as a *collection*). First we will search for the MODIS SST dataset. This snippet of Python code uses the requests module to get collection metadata from the CMR:"
   ]
  },
  {
   "cell_type": "code",
   "execution_count": 4,
   "metadata": {},
   "outputs": [
    {
     "data": {
      "text/plain": [
       "{'revision-id': 2,\n",
       " 'deleted': False,\n",
       " 'format': 'application/vnd.nasa.cmr.umm+json',\n",
       " 'provider-id': 'POCLOUD',\n",
       " 'user-id': 'cia001',\n",
       " 'has-formats': True,\n",
       " 'associations': {'services': ['S1962070864-POCLOUD']},\n",
       " 'has-spatial-subsetting': False,\n",
       " 'native-id': 'GHRSST+Level+2P+Global+Sea+Surface+Skin+Temperature+from+the+Moderate+Resolution+Imaging+Spectroradiometer+(MODIS)+on+the+NASA+Aqua+satellite+(GDS2)',\n",
       " 'has-transforms': False,\n",
       " 'has-variables': False,\n",
       " 'concept-id': 'C1940473819-POCLOUD',\n",
       " 'revision-date': '2020-09-15T19:49:35.109Z',\n",
       " 'granule-count': 0,\n",
       " 'has-temporal-subsetting': False,\n",
       " 'concept-type': 'collection'}"
      ]
     },
     "execution_count": 4,
     "metadata": {},
     "output_type": "execute_result"
    }
   ],
   "source": [
    "modis_coll = requests.get(\n",
    "    url=\"https://cmr.earthdata.nasa.gov/search/collections.umm_json\",    # CMR API url\n",
    "    params={'ShortName': \"MODIS_A-JPL-L2P-v2019.0\",       # dataset collection shortname\n",
    "            'provider': \"POCLOUD\",       # data provider\n",
    "            'token': _token},\n",
    ").json()\n",
    "\n",
    "modis_coll['items'][0]['meta']   # print collection metadata"
   ]
  },
  {
   "cell_type": "markdown",
   "metadata": {},
   "source": [
    "Based on the metadata retrieved above, we now know the collection ID is `C1940473819-POCLOUD`"
   ]
  },
  {
   "cell_type": "markdown",
   "metadata": {},
   "source": [
    "To **retrieve the *granule (file)* metadata** from the CMR:"
   ]
  },
  {
   "cell_type": "code",
   "execution_count": 5,
   "metadata": {},
   "outputs": [
    {
     "data": {
      "text/plain": [
       "{'concept-type': 'granule',\n",
       " 'concept-id': 'G1966131201-POCLOUD',\n",
       " 'revision-id': 1,\n",
       " 'native-id': '20020704000015-JPL-L2P_GHRSST-SSTskin-MODIS_A-N-v02.0-fv01.0',\n",
       " 'provider-id': 'POCLOUD',\n",
       " 'format': 'application/vnd.nasa.cmr.umm+json',\n",
       " 'revision-date': '2020-11-12T11:09:16.542Z'}"
      ]
     },
     "execution_count": 5,
     "metadata": {},
     "output_type": "execute_result"
    }
   ],
   "source": [
    "modis_gran = requests.get(\n",
    "    url=\"https://cmr.earthdata.nasa.gov/search/granules.umm_json\", \n",
    "    params={'ShortName': \"MODIS_A-JPL-L2P-v2019.0\", \n",
    "            'provider': \"POCLOUD\",\n",
    "            'token': _token, },\n",
    ").json()\n",
    "\n",
    "modis_gran['items'][0]['meta']"
   ]
  },
  {
   "cell_type": "markdown",
   "metadata": {},
   "source": [
    "So in this case, the metadata tells us that the the granule ID is `G1966131201-POCLOUD`, among other information."
   ]
  },
  {
   "cell_type": "markdown",
   "metadata": {},
   "source": [
    "---------- \n",
    "### Give it a try!\n",
    "Instead of MODIS, try searching for the TELLUS_GRAC-GRFO_MASCON_CRI_GRID_RL06_V2 collection, and get a glimpse into its metadata.\n",
    "\n",
    "----------"
   ]
  },
  {
   "cell_type": "markdown",
   "metadata": {},
   "source": [
    "## 2. Download a granule & preview data"
   ]
  },
  {
   "cell_type": "markdown",
   "metadata": {},
   "source": [
    "### Preview the data - get a quick feel for what the data looks like\n",
    "Here is how to list the urls needed to access the data:"
   ]
  },
  {
   "cell_type": "code",
   "execution_count": 6,
   "metadata": {},
   "outputs": [
    {
     "data": {
      "text/plain": [
       "[{'URL': 'https://archive.podaac.earthdata.nasa.gov/podaac-ops-cumulus-public/MODIS_A-JPL-L2P-v2019.0/20020704000015-JPL-L2P_GHRSST-SSTskin-MODIS_A-N-v02.0-fv01.0.nc.md5',\n",
       "  'Description': 'Download 20020704000015-JPL-L2P_GHRSST-SSTskin-MODIS_A-N-v02.0-fv01.0.nc.md5',\n",
       "  'Type': 'EXTENDED METADATA'},\n",
       " {'URL': 'https://archive.podaac.earthdata.nasa.gov/podaac-ops-cumulus-protected/MODIS_A-JPL-L2P-v2019.0/20020704000015-JPL-L2P_GHRSST-SSTskin-MODIS_A-N-v02.0-fv01.0.nc',\n",
       "  'Description': 'Download 20020704000015-JPL-L2P_GHRSST-SSTskin-MODIS_A-N-v02.0-fv01.0.nc',\n",
       "  'Type': 'GET DATA'},\n",
       " {'URL': 'https://archive.podaac.earthdata.nasa.gov/podaac-ops-cumulus-public/MODIS_A-JPL-L2P-v2019.0/20020704000015-JPL-L2P_GHRSST-SSTskin-MODIS_A-N-v02.0-fv01.0.cmr.json',\n",
       "  'Description': 'Download 20020704000015-JPL-L2P_GHRSST-SSTskin-MODIS_A-N-v02.0-fv01.0.cmr.json',\n",
       "  'Type': 'EXTENDED METADATA'},\n",
       " {'URL': 'https://archive.podaac.earthdata.nasa.gov/s3credentials',\n",
       "  'Description': 'api endpoint to retrieve temporary credentials valid for same-region direct s3 access',\n",
       "  'Type': 'VIEW RELATED INFORMATION'},\n",
       " {'URL': 'https://opendap.earthdata.nasa.gov/providers/POCLOUD/collections/GHRSST%20Level%202P%20Global%20Sea%20Surface%20Skin%20Temperature%20from%20the%20Moderate%20Resolution%20Imaging%20Spectroradiometer%20(MODIS)%20on%20the%20NASA%20Aqua%20satellite%20(GDS2)/granules/20020704000015-JPL-L2P_GHRSST-SSTskin-MODIS_A-N-v02.0-fv01.0',\n",
       "  'Type': 'GET DATA',\n",
       "  'Subtype': 'OPENDAP DATA',\n",
       "  'Description': 'OPeNDAP request URL'}]"
      ]
     },
     "execution_count": 6,
     "metadata": {},
     "output_type": "execute_result"
    }
   ],
   "source": [
    "modis_gran['items'][0]['umm']['RelatedUrls']"
   ]
  },
  {
   "cell_type": "markdown",
   "metadata": {},
   "source": [
    "You want the 'Type': 'GET DATA' url."
   ]
  },
  {
   "cell_type": "code",
   "execution_count": 7,
   "metadata": {},
   "outputs": [
    {
     "data": {
      "text/plain": [
       "'https://archive.podaac.earthdata.nasa.gov/podaac-ops-cumulus-protected/MODIS_A-JPL-L2P-v2019.0/20020704000015-JPL-L2P_GHRSST-SSTskin-MODIS_A-N-v02.0-fv01.0.nc'"
      ]
     },
     "execution_count": 7,
     "metadata": {},
     "output_type": "execute_result"
    }
   ],
   "source": [
    "modis_url = modis_gran['items'][0]['umm']['RelatedUrls'][1]['URL']\n",
    "modis_url"
   ]
  },
  {
   "cell_type": "markdown",
   "metadata": {},
   "source": [
    "Download the file and open it with xarray in memory. This will pull cloud-stored data onto local space. *Note there is no charge for the user in doing so.* "
   ]
  },
  {
   "cell_type": "code",
   "execution_count": 8,
   "metadata": {},
   "outputs": [],
   "source": [
    "r = requests.get(modis_url)\n",
    "with open('tutorial2_data_MODIS.nc', 'wb') as f:\n",
    "    f.write(r.content)"
   ]
  },
  {
   "cell_type": "code",
   "execution_count": 9,
   "metadata": {},
   "outputs": [
    {
     "data": {
      "text/plain": [
       "200"
      ]
     },
     "execution_count": 9,
     "metadata": {},
     "output_type": "execute_result"
    }
   ],
   "source": [
    "# this is for debugging only, do not keep in final; 200=success, 401=unauthorized\n",
    "r.status_code"
   ]
  },
  {
   "cell_type": "code",
   "execution_count": 10,
   "metadata": {},
   "outputs": [
    {
     "name": "stdout",
     "output_type": "stream",
     "text": [
      "netcdf tutorial2_data_MODIS {\r\n",
      "dimensions:\r\n",
      "\tnj = 2030 ;\r\n",
      "\tni = 1354 ;\r\n",
      "\ttime = 1 ;\r\n",
      "variables:\r\n",
      "\tfloat lat(nj, ni) ;\r\n",
      "\t\tstring lat:long_name = \"latitude\" ;\r\n",
      "\t\tstring lat:standard_name = \"latitude\" ;\r\n",
      "\t\tstring lat:units = \"degrees_north\" ;\r\n",
      "\t\tlat:_FillValue = -999.f ;\r\n",
      "\t\tlat:valid_min = -90.f ;\r\n",
      "\t\tlat:valid_max = 90.f ;\r\n",
      "\t\tstring lat:comment = \"geographical coordinates, WGS84 projection\" ;\r\n",
      "\t\tstring lat:coverage_content_type = \"coordinate\" ;\r\n",
      "\tfloat lon(nj, ni) ;\r\n",
      "\t\tstring lon:long_name = \"longitude\" ;\r\n",
      "\t\tstring lon:standard_name = \"longitude\" ;\r\n",
      "\t\tstring lon:units = \"degrees_east\" ;\r\n",
      "\t\tlon:_FillValue = -999.f ;\r\n",
      "\t\tlon:valid_min = -180.f ;\r\n",
      "\t\tlon:valid_max = 180.f ;\r\n",
      "\t\tstring lon:comment = \"geographical coordinates, WGS84 projection\" ;\r\n",
      "\t\tstring lon:coverage_content_type = \"coordinate\" ;\r\n",
      "\tint time(time) ;\r\n",
      "\t\tstring time:long_name = \"reference time of sst file\" ;\r\n",
      "\t\tstring time:standard_name = \"time\" ;\r\n",
      "\t\tstring time:units = \"seconds since 1981-01-01 00:00:00\" ;\r\n",
      "\t\tstring time:comment = \"time of first sensor observation\" ;\r\n",
      "\t\tstring time:coverage_content_type = \"coordinate\" ;\r\n",
      "\tshort sea_surface_temperature(time, nj, ni) ;\r\n",
      "\t\tstring sea_surface_temperature:long_name = \"sea surface temperature\" ;\r\n",
      "\t\tstring sea_surface_temperature:standard_name = \"sea_surface_skin_temperature\" ;\r\n",
      "\t\tstring sea_surface_temperature:units = \"kelvin\" ;\r\n",
      "\t\tsea_surface_temperature:_FillValue = -32767s ;\r\n",
      "\t\tsea_surface_temperature:valid_min = -1000s ;\r\n",
      "\t\tsea_surface_temperature:valid_max = 10000s ;\r\n",
      "\t\tstring sea_surface_temperature:comment = \"sea surface temperature from thermal IR (11 um) channels\" ;\r\n",
      "\t\tsea_surface_temperature:scale_factor = 0.005f ;\r\n",
      "\t\tsea_surface_temperature:add_offset = 273.15f ;\r\n",
      "\t\tstring sea_surface_temperature:source = \"NASA and University of Miami\" ;\r\n",
      "\t\tstring sea_surface_temperature:coordinates = \"lon lat\" ;\r\n",
      "\t\tstring sea_surface_temperature:coverage_content_type = \"physicalMeasurement\" ;\r\n",
      "\tshort sst_dtime(time, nj, ni) ;\r\n",
      "\t\tstring sst_dtime:long_name = \"time difference from reference time\" ;\r\n",
      "\t\tstring sst_dtime:units = \"seconds\" ;\r\n",
      "\t\tsst_dtime:_FillValue = -32768s ;\r\n",
      "\t\tsst_dtime:valid_min = -32767s ;\r\n",
      "\t\tsst_dtime:valid_max = 32767s ;\r\n",
      "\t\tstring sst_dtime:comment = \"time plus sst_dtime gives seconds after 00:00:00 UTC January 1, 1981\" ;\r\n",
      "\t\tstring sst_dtime:coordinates = \"lon lat\" ;\r\n",
      "\t\tstring sst_dtime:coverage_content_type = \"referenceInformation\" ;\r\n",
      "\tbyte quality_level(time, nj, ni) ;\r\n",
      "\t\tstring quality_level:long_name = \"quality level of SST pixel\" ;\r\n",
      "\t\tquality_level:_FillValue = -128b ;\r\n",
      "\t\tquality_level:valid_min = 0b ;\r\n",
      "\t\tquality_level:valid_max = 5b ;\r\n",
      "\t\tstring quality_level:comment = \"thermal IR SST proximity confidence value; signed byte array: WARNING Some applications are unable to properly handle signed byte values. If values are encountered > 127, please subtract 256 from this reported value\" ;\r\n",
      "\t\tstring quality_level:coordinates = \"lon lat\" ;\r\n",
      "\t\tquality_level:flag_values = 0b, 1b, 2b, 3b, 4b, 5b ;\r\n",
      "\t\tstring quality_level:flag_meanings = \"no_data bad_data worst_quality low_quality acceptable_quality best_quality\" ;\r\n",
      "\t\tstring quality_level:coverage_content_type = \"qualityInformation\" ;\r\n",
      "\tbyte sses_bias(time, nj, ni) ;\r\n",
      "\t\tstring sses_bias:long_name = \"SSES bias error based on proximity confidence flags\" ;\r\n",
      "\t\tstring sses_bias:units = \"kelvin\" ;\r\n",
      "\t\tsses_bias:_FillValue = -128b ;\r\n",
      "\t\tsses_bias:valid_min = -127b ;\r\n",
      "\t\tsses_bias:valid_max = 127b ;\r\n",
      "\t\tstring sses_bias:comment = \"thermal IR SST bias error; signed byte array: WARNING Some applications are unable to properly handle signed byte values. If values are encountered > 127, please subtract 256 from this reported value\" ;\r\n",
      "\t\tsses_bias:scale_factor = 0.1574803f ;\r\n",
      "\t\tsses_bias:add_offset = 0.f ;\r\n",
      "\t\tstring sses_bias:coordinates = \"lon lat\" ;\r\n",
      "\t\tstring sses_bias:coverage_content_type = \"auxiliaryInformation\" ;\r\n",
      "\tbyte sses_standard_deviation(time, nj, ni) ;\r\n",
      "\t\tstring sses_standard_deviation:long_name = \"SSES standard deviation error based on proximity confidence flags\" ;\r\n",
      "\t\tstring sses_standard_deviation:units = \"kelvin\" ;\r\n",
      "\t\tsses_standard_deviation:_FillValue = -128b ;\r\n",
      "\t\tsses_standard_deviation:valid_min = -127b ;\r\n",
      "\t\tsses_standard_deviation:valid_max = 127b ;\r\n",
      "\t\tstring sses_standard_deviation:comment = \"thermal IR SST standard deviation error; signed byte array: WARNING Some applications are unable to properly handle signed byte values. If values are encountered > 127, please subtract 256 from this reported value\" ;\r\n",
      "\t\tsses_standard_deviation:scale_factor = 0.07874016f ;\r\n",
      "\t\tsses_standard_deviation:add_offset = 10.f ;\r\n",
      "\t\tstring sses_standard_deviation:coordinates = \"lon lat\" ;\r\n",
      "\t\tstring sses_standard_deviation:coverage_content_type = \"auxiliaryInformation\" ;\r\n",
      "\tshort l2p_flags(time, nj, ni) ;\r\n",
      "\t\tstring l2p_flags:long_name = \"L2P flags\" ;\r\n",
      "\t\tl2p_flags:valid_min = 0s ;\r\n",
      "\t\tl2p_flags:valid_max = 16s ;\r\n",
      "\t\tstring l2p_flags:comment = \"These flags can be used to further filter data variables\" ;\r\n",
      "\t\tstring l2p_flags:coordinates = \"lon lat\" ;\r\n",
      "\t\tstring l2p_flags:flag_meanings = \"microwave land ice lake river\" ;\r\n",
      "\t\tl2p_flags:flag_masks = 1s, 2s, 4s, 8s, 16s ;\r\n",
      "\t\tstring l2p_flags:coverage_content_type = \"qualityInformation\" ;\r\n",
      "\tshort sea_surface_temperature_4um(time, nj, ni) ;\r\n",
      "\t\tstring sea_surface_temperature_4um:long_name = \"sea surface temperature\" ;\r\n",
      "\t\tstring sea_surface_temperature_4um:units = \"kelvin\" ;\r\n",
      "\t\tsea_surface_temperature_4um:_FillValue = -32767s ;\r\n",
      "\t\tsea_surface_temperature_4um:valid_min = -1000s ;\r\n",
      "\t\tsea_surface_temperature_4um:valid_max = 10000s ;\r\n",
      "\t\tstring sea_surface_temperature_4um:comment = \"sea surface temperature from mid-IR (4 um) channels; non L2P core field\" ;\r\n",
      "\t\tsea_surface_temperature_4um:scale_factor = 0.005f ;\r\n",
      "\t\tsea_surface_temperature_4um:add_offset = 273.15f ;\r\n",
      "\t\tstring sea_surface_temperature_4um:coordinates = \"lon lat\" ;\r\n",
      "\t\tstring sea_surface_temperature_4um:coverage_content_type = \"physicalMeasurement\" ;\r\n",
      "\tbyte quality_level_4um(time, nj, ni) ;\r\n",
      "\t\tstring quality_level_4um:long_name = \"quality level of SST pixel\" ;\r\n",
      "\t\tquality_level_4um:_FillValue = -128b ;\r\n",
      "\t\tquality_level_4um:valid_min = 0b ;\r\n",
      "\t\tquality_level_4um:valid_max = 5b ;\r\n",
      "\t\tstring quality_level_4um:comment = \"mid-IR SST proximity confidence value; non L2P core field; signed byte array:  WARNING Some applications are unable to properly handle signed byte values. If values are encountered > 127, please subtract 256 from this reported value\" ;\r\n",
      "\t\tstring quality_level_4um:coordinates = \"lon lat\" ;\r\n",
      "\t\tquality_level_4um:flag_values = 0b, 1b, 2b, 3b, 4b, 5b ;\r\n",
      "\t\tstring quality_level_4um:flag_meanings = \"no_data bad_data worst_quality low_quality acceptable_quality best_quality\" ;\r\n",
      "\t\tstring quality_level_4um:coverage_content_type = \"qualityInformation\" ;\r\n",
      "\tbyte sses_bias_4um(time, nj, ni) ;\r\n",
      "\t\tstring sses_bias_4um:long_name = \"SSES bias error based on proximity confidence flags\" ;\r\n",
      "\t\tstring sses_bias_4um:units = \"kelvin\" ;\r\n",
      "\t\tsses_bias_4um:_FillValue = -128b ;\r\n",
      "\t\tsses_bias_4um:valid_min = -127b ;\r\n",
      "\t\tsses_bias_4um:valid_max = 127b ;\r\n",
      "\t\tstring sses_bias_4um:comment = \"mid-IR SST bias error; non L2P core field; signed byte array:  WARNING Some applications are unable to properly handle signed byte values. If values are encountered > 127, please subtract 256 from this reported value\" ;\r\n",
      "\t\tsses_bias_4um:scale_factor = 0.1574803f ;\r\n",
      "\t\tsses_bias_4um:add_offset = 0.f ;\r\n",
      "\t\tstring sses_bias_4um:coordinates = \"lon lat\" ;\r\n",
      "\t\tstring sses_bias_4um:coverage_content_type = \"auxiliaryInformation\" ;\r\n",
      "\tbyte sses_standard_deviation_4um(time, nj, ni) ;\r\n",
      "\t\tstring sses_standard_deviation_4um:long_name = \"SSES standard deviation error based on proximity confidence flags\" ;\r\n",
      "\t\tstring sses_standard_deviation_4um:units = \"kelvin\" ;\r\n",
      "\t\tsses_standard_deviation_4um:_FillValue = -128b ;\r\n",
      "\t\tsses_standard_deviation_4um:valid_min = -127b ;\r\n",
      "\t\tsses_standard_deviation_4um:valid_max = 127b ;\r\n",
      "\t\tstring sses_standard_deviation_4um:comment = \"mid-IR SST standard deviation error; non L2P core field; signed byte array:  WARNING Some applications are unable to properly handle signed byte values. If values are encountered > 127, please subtract 256 from this reported value\" ;\r\n",
      "\t\tsses_standard_deviation_4um:scale_factor = 0.07874016f ;\r\n",
      "\t\tsses_standard_deviation_4um:add_offset = 10.f ;\r\n",
      "\t\tstring sses_standard_deviation_4um:coordinates = \"lon lat\" ;\r\n",
      "\t\tstring sses_standard_deviation_4um:coverage_content_type = \"auxiliaryInformation\" ;\r\n",
      "\tbyte wind_speed(time, nj, ni) ;\r\n",
      "\t\tstring wind_speed:long_name = \"10m wind speed\" ;\r\n",
      "\t\tstring wind_speed:standard_name = \"wind_speed\" ;\r\n",
      "\t\tstring wind_speed:units = \"m s-1\" ;\r\n",
      "\t\twind_speed:_FillValue = -128b ;\r\n",
      "\t\twind_speed:valid_min = -127b ;\r\n",
      "\t\twind_speed:valid_max = 127b ;\r\n",
      "\t\tstring wind_speed:comment = \"Wind at 10 meters above the sea surface\" ;\r\n",
      "\t\twind_speed:scale_factor = 0.2f ;\r\n",
      "\t\twind_speed:add_offset = 25.f ;\r\n",
      "\t\tstring wind_speed:source = \"TBD.  Placeholder.  Currently empty\" ;\r\n",
      "\t\tstring wind_speed:coordinates = \"lon lat\" ;\r\n",
      "\t\tstring wind_speed:grid_mapping = \"TBD\" ;\r\n",
      "\t\twind_speed:time_offset = 2.f ;\r\n",
      "\t\tstring wind_speed:height = \"10 m\" ;\r\n",
      "\t\tstring wind_speed:coverage_content_type = \"auxiliaryInformation\" ;\r\n",
      "\tbyte dt_analysis(time, nj, ni) ;\r\n",
      "\t\tstring dt_analysis:long_name = \"deviation from SST reference climatology\" ;\r\n",
      "\t\tstring dt_analysis:units = \"kelvin\" ;\r\n",
      "\t\tdt_analysis:_FillValue = -128b ;\r\n",
      "\t\tdt_analysis:valid_min = -127b ;\r\n",
      "\t\tdt_analysis:valid_max = 127b ;\r\n",
      "\t\tstring dt_analysis:comment = \"TBD\" ;\r\n",
      "\t\tdt_analysis:scale_factor = 0.1f ;\r\n",
      "\t\tdt_analysis:add_offset = 0.f ;\r\n",
      "\t\tstring dt_analysis:source = \"TBD. Placeholder.  Currently empty\" ;\r\n",
      "\t\tstring dt_analysis:coordinates = \"lon lat\" ;\r\n",
      "\t\tstring dt_analysis:coverage_content_type = \"auxiliaryInformation\" ;\r\n",
      "\r\n",
      "// global attributes:\r\n",
      "\t\tstring :Conventions = \"CF-1.7, ACDD-1.3\" ;\r\n",
      "\t\tstring :title = \"MODIS Aqua L2P SST\" ;\r\n",
      "\t\tstring :summary = \"Sea surface temperature retrievals produced at the NASA OBPG for the MODIS Aqua sensor.  These have been reformatted to GHRSST GDS specifications by the JPL PO.DAAC\" ;\r\n",
      "\t\tstring :references = \"GHRSST Data Processing Specification v2r5\" ;\r\n",
      "\t\tstring :institution = \"NASA/JPL/OBPG/RSMAS\" ;\r\n",
      "\t\tstring :history = \"MODIS L2P created at JPL PO.DAAC\" ;\r\n",
      "\t\tstring :comment = \"L2P Core without DT analysis or other ancillary fields; Night, Start Node:Descending, End Node:Descending; WARNING Some applications are unable to properly handle signed byte values. If values are encountered > 127, please subtract 256 from this reported value; Refined\" ;\r\n",
      "\t\tstring :license = \"GHRSST and PO.DAAC protocol allow data use as free and open.\" ;\r\n",
      "\t\tstring :id = \"MODIS_A-JPL-L2P-v2019.0\" ;\r\n",
      "\t\tstring :naming_authority = \"org.ghrsst\" ;\r\n",
      "\t\tstring :product_version = \"2019.0\" ;\r\n",
      "\t\tstring :uuid = \"f6e1f61d-c4a4-4c17-8354-0c15e12d688b\" ;\r\n",
      "\t\tstring :gds_version_id = \"2.0\" ;\r\n",
      "\t\tstring :netcdf_version_id = \"4.1\" ;\r\n",
      "\t\tstring :date_created = \"20200727T162441Z\" ;\r\n",
      "\t\t:file_quality_level = 3 ;\r\n",
      "\t\tstring :spatial_resolution = \"1km\" ;\r\n",
      "\t\tstring :start_time = \"20020704T000010Z\" ;\r\n",
      "\t\tstring :time_coverage_start = \"20020704T000010Z\" ;\r\n",
      "\t\tstring :stop_time = \"20020704T000458Z\" ;\r\n",
      "\t\tstring :time_coverage_end = \"20020704T000458Z\" ;\r\n",
      "\t\t:northernmost_latitude = 47.4713f ;\r\n",
      "\t\t:southernmost_latitude = 26.6848f ;\r\n",
      "\t\t:easternmost_longitude = 46.3095f ;\r\n",
      "\t\t:westernmost_longitude = 15.0158f ;\r\n",
      "\t\tstring :source = \"MODIS sea surface temperature observations for the OBPG\" ;\r\n",
      "\t\tstring :platform = \"Aqua\" ;\r\n",
      "\t\tstring :sensor = \"MODIS\" ;\r\n",
      "\t\tstring :metadata_link = \"http://podaac.jpl.nasa.gov/ws/metadata/dataset/?format=iso&shortName=MODIS_A-JPL-L2P-v2019.0\" ;\r\n",
      "\t\tstring :keywords = \"Oceans > Ocean Temperature > Sea Surface Temperature\" ;\r\n",
      "\t\tstring :keywords_vocabulary = \"NASA Global Change Master Directory (GCMD) Science Keywords\" ;\r\n",
      "\t\tstring :standard_name_vocabulary = \"NetCDF Climate and Forecast (CF) Metadata Convention\" ;\r\n",
      "\t\tstring :geospatial_lat_units = \"degrees_north\" ;\r\n",
      "\t\t:geospatial_lat_resolution = 0.01f ;\r\n",
      "\t\tstring :geospatial_lon_units = \"degrees_east\" ;\r\n",
      "\t\t:geospatial_lon_resolution = 0.01f ;\r\n",
      "\t\tstring :acknowledgment = \"The MODIS L2P sea surface temperature data are sponsored by NASA\" ;\r\n",
      "\t\tstring :creator_name = \"Ed Armstrong, JPL PO.DAAC\" ;\r\n",
      "\t\tstring :creator_email = \"edward.m.armstrong@jpl.nasa.gov\" ;\r\n",
      "\t\tstring :creator_url = \"http://podaac.jpl.nasa.gov\" ;\r\n",
      "\t\tstring :project = \"Group for High Resolution Sea Surface Temperature\" ;\r\n",
      "\t\tstring :publisher_name = \"The GHRSST Project Office\" ;\r\n",
      "\t\tstring :publisher_url = \"http://www.ghrsst.org\" ;\r\n",
      "\t\tstring :publisher_email = \"ghrsst-po@nceo.ac.uk\" ;\r\n",
      "\t\tstring :processing_level = \"L2P\" ;\r\n",
      "\t\tstring :cdm_data_type = \"swath\" ;\r\n",
      "\t\tstring :startDirection = \"Descending\" ;\r\n",
      "\t\tstring :endDirection = \"Descending\" ;\r\n",
      "\t\tstring :day_night_flag = \"Night\" ;\r\n",
      "}\r\n"
     ]
    }
   ],
   "source": [
    "!ncdump -h tutorial2_data_MODIS.nc"
   ]
  },
  {
   "cell_type": "code",
   "execution_count": 12,
   "metadata": {},
   "outputs": [
    {
     "data": {
      "text/html": [
       "<div><svg style=\"position: absolute; width: 0; height: 0; overflow: hidden\">\n",
       "<defs>\n",
       "<symbol id=\"icon-database\" viewBox=\"0 0 32 32\">\n",
       "<path d=\"M16 0c-8.837 0-16 2.239-16 5v4c0 2.761 7.163 5 16 5s16-2.239 16-5v-4c0-2.761-7.163-5-16-5z\"></path>\n",
       "<path d=\"M16 17c-8.837 0-16-2.239-16-5v6c0 2.761 7.163 5 16 5s16-2.239 16-5v-6c0 2.761-7.163 5-16 5z\"></path>\n",
       "<path d=\"M16 26c-8.837 0-16-2.239-16-5v6c0 2.761 7.163 5 16 5s16-2.239 16-5v-6c0 2.761-7.163 5-16 5z\"></path>\n",
       "</symbol>\n",
       "<symbol id=\"icon-file-text2\" viewBox=\"0 0 32 32\">\n",
       "<path d=\"M28.681 7.159c-0.694-0.947-1.662-2.053-2.724-3.116s-2.169-2.030-3.116-2.724c-1.612-1.182-2.393-1.319-2.841-1.319h-15.5c-1.378 0-2.5 1.121-2.5 2.5v27c0 1.378 1.122 2.5 2.5 2.5h23c1.378 0 2.5-1.122 2.5-2.5v-19.5c0-0.448-0.137-1.23-1.319-2.841zM24.543 5.457c0.959 0.959 1.712 1.825 2.268 2.543h-4.811v-4.811c0.718 0.556 1.584 1.309 2.543 2.268zM28 29.5c0 0.271-0.229 0.5-0.5 0.5h-23c-0.271 0-0.5-0.229-0.5-0.5v-27c0-0.271 0.229-0.5 0.5-0.5 0 0 15.499-0 15.5 0v7c0 0.552 0.448 1 1 1h7v19.5z\"></path>\n",
       "<path d=\"M23 26h-14c-0.552 0-1-0.448-1-1s0.448-1 1-1h14c0.552 0 1 0.448 1 1s-0.448 1-1 1z\"></path>\n",
       "<path d=\"M23 22h-14c-0.552 0-1-0.448-1-1s0.448-1 1-1h14c0.552 0 1 0.448 1 1s-0.448 1-1 1z\"></path>\n",
       "<path d=\"M23 18h-14c-0.552 0-1-0.448-1-1s0.448-1 1-1h14c0.552 0 1 0.448 1 1s-0.448 1-1 1z\"></path>\n",
       "</symbol>\n",
       "</defs>\n",
       "</svg>\n",
       "<style>/* CSS stylesheet for displaying xarray objects in jupyterlab.\n",
       " *\n",
       " */\n",
       "\n",
       ":root {\n",
       "  --xr-font-color0: var(--jp-content-font-color0, rgba(0, 0, 0, 1));\n",
       "  --xr-font-color2: var(--jp-content-font-color2, rgba(0, 0, 0, 0.54));\n",
       "  --xr-font-color3: var(--jp-content-font-color3, rgba(0, 0, 0, 0.38));\n",
       "  --xr-border-color: var(--jp-border-color2, #e0e0e0);\n",
       "  --xr-disabled-color: var(--jp-layout-color3, #bdbdbd);\n",
       "  --xr-background-color: var(--jp-layout-color0, white);\n",
       "  --xr-background-color-row-even: var(--jp-layout-color1, white);\n",
       "  --xr-background-color-row-odd: var(--jp-layout-color2, #eeeeee);\n",
       "}\n",
       "\n",
       "html[theme=dark],\n",
       "body.vscode-dark {\n",
       "  --xr-font-color0: rgba(255, 255, 255, 1);\n",
       "  --xr-font-color2: rgba(255, 255, 255, 0.54);\n",
       "  --xr-font-color3: rgba(255, 255, 255, 0.38);\n",
       "  --xr-border-color: #1F1F1F;\n",
       "  --xr-disabled-color: #515151;\n",
       "  --xr-background-color: #111111;\n",
       "  --xr-background-color-row-even: #111111;\n",
       "  --xr-background-color-row-odd: #313131;\n",
       "}\n",
       "\n",
       ".xr-wrap {\n",
       "  display: block;\n",
       "  min-width: 300px;\n",
       "  max-width: 700px;\n",
       "}\n",
       "\n",
       ".xr-text-repr-fallback {\n",
       "  /* fallback to plain text repr when CSS is not injected (untrusted notebook) */\n",
       "  display: none;\n",
       "}\n",
       "\n",
       ".xr-header {\n",
       "  padding-top: 6px;\n",
       "  padding-bottom: 6px;\n",
       "  margin-bottom: 4px;\n",
       "  border-bottom: solid 1px var(--xr-border-color);\n",
       "}\n",
       "\n",
       ".xr-header > div,\n",
       ".xr-header > ul {\n",
       "  display: inline;\n",
       "  margin-top: 0;\n",
       "  margin-bottom: 0;\n",
       "}\n",
       "\n",
       ".xr-obj-type,\n",
       ".xr-array-name {\n",
       "  margin-left: 2px;\n",
       "  margin-right: 10px;\n",
       "}\n",
       "\n",
       ".xr-obj-type {\n",
       "  color: var(--xr-font-color2);\n",
       "}\n",
       "\n",
       ".xr-sections {\n",
       "  padding-left: 0 !important;\n",
       "  display: grid;\n",
       "  grid-template-columns: 150px auto auto 1fr 20px 20px;\n",
       "}\n",
       "\n",
       ".xr-section-item {\n",
       "  display: contents;\n",
       "}\n",
       "\n",
       ".xr-section-item input {\n",
       "  display: none;\n",
       "}\n",
       "\n",
       ".xr-section-item input + label {\n",
       "  color: var(--xr-disabled-color);\n",
       "}\n",
       "\n",
       ".xr-section-item input:enabled + label {\n",
       "  cursor: pointer;\n",
       "  color: var(--xr-font-color2);\n",
       "}\n",
       "\n",
       ".xr-section-item input:enabled + label:hover {\n",
       "  color: var(--xr-font-color0);\n",
       "}\n",
       "\n",
       ".xr-section-summary {\n",
       "  grid-column: 1;\n",
       "  color: var(--xr-font-color2);\n",
       "  font-weight: 500;\n",
       "}\n",
       "\n",
       ".xr-section-summary > span {\n",
       "  display: inline-block;\n",
       "  padding-left: 0.5em;\n",
       "}\n",
       "\n",
       ".xr-section-summary-in:disabled + label {\n",
       "  color: var(--xr-font-color2);\n",
       "}\n",
       "\n",
       ".xr-section-summary-in + label:before {\n",
       "  display: inline-block;\n",
       "  content: '►';\n",
       "  font-size: 11px;\n",
       "  width: 15px;\n",
       "  text-align: center;\n",
       "}\n",
       "\n",
       ".xr-section-summary-in:disabled + label:before {\n",
       "  color: var(--xr-disabled-color);\n",
       "}\n",
       "\n",
       ".xr-section-summary-in:checked + label:before {\n",
       "  content: '▼';\n",
       "}\n",
       "\n",
       ".xr-section-summary-in:checked + label > span {\n",
       "  display: none;\n",
       "}\n",
       "\n",
       ".xr-section-summary,\n",
       ".xr-section-inline-details {\n",
       "  padding-top: 4px;\n",
       "  padding-bottom: 4px;\n",
       "}\n",
       "\n",
       ".xr-section-inline-details {\n",
       "  grid-column: 2 / -1;\n",
       "}\n",
       "\n",
       ".xr-section-details {\n",
       "  display: none;\n",
       "  grid-column: 1 / -1;\n",
       "  margin-bottom: 5px;\n",
       "}\n",
       "\n",
       ".xr-section-summary-in:checked ~ .xr-section-details {\n",
       "  display: contents;\n",
       "}\n",
       "\n",
       ".xr-array-wrap {\n",
       "  grid-column: 1 / -1;\n",
       "  display: grid;\n",
       "  grid-template-columns: 20px auto;\n",
       "}\n",
       "\n",
       ".xr-array-wrap > label {\n",
       "  grid-column: 1;\n",
       "  vertical-align: top;\n",
       "}\n",
       "\n",
       ".xr-preview {\n",
       "  color: var(--xr-font-color3);\n",
       "}\n",
       "\n",
       ".xr-array-preview,\n",
       ".xr-array-data {\n",
       "  padding: 0 5px !important;\n",
       "  grid-column: 2;\n",
       "}\n",
       "\n",
       ".xr-array-data,\n",
       ".xr-array-in:checked ~ .xr-array-preview {\n",
       "  display: none;\n",
       "}\n",
       "\n",
       ".xr-array-in:checked ~ .xr-array-data,\n",
       ".xr-array-preview {\n",
       "  display: inline-block;\n",
       "}\n",
       "\n",
       ".xr-dim-list {\n",
       "  display: inline-block !important;\n",
       "  list-style: none;\n",
       "  padding: 0 !important;\n",
       "  margin: 0;\n",
       "}\n",
       "\n",
       ".xr-dim-list li {\n",
       "  display: inline-block;\n",
       "  padding: 0;\n",
       "  margin: 0;\n",
       "}\n",
       "\n",
       ".xr-dim-list:before {\n",
       "  content: '(';\n",
       "}\n",
       "\n",
       ".xr-dim-list:after {\n",
       "  content: ')';\n",
       "}\n",
       "\n",
       ".xr-dim-list li:not(:last-child):after {\n",
       "  content: ',';\n",
       "  padding-right: 5px;\n",
       "}\n",
       "\n",
       ".xr-has-index {\n",
       "  font-weight: bold;\n",
       "}\n",
       "\n",
       ".xr-var-list,\n",
       ".xr-var-item {\n",
       "  display: contents;\n",
       "}\n",
       "\n",
       ".xr-var-item > div,\n",
       ".xr-var-item label,\n",
       ".xr-var-item > .xr-var-name span {\n",
       "  background-color: var(--xr-background-color-row-even);\n",
       "  margin-bottom: 0;\n",
       "}\n",
       "\n",
       ".xr-var-item > .xr-var-name:hover span {\n",
       "  padding-right: 5px;\n",
       "}\n",
       "\n",
       ".xr-var-list > li:nth-child(odd) > div,\n",
       ".xr-var-list > li:nth-child(odd) > label,\n",
       ".xr-var-list > li:nth-child(odd) > .xr-var-name span {\n",
       "  background-color: var(--xr-background-color-row-odd);\n",
       "}\n",
       "\n",
       ".xr-var-name {\n",
       "  grid-column: 1;\n",
       "}\n",
       "\n",
       ".xr-var-dims {\n",
       "  grid-column: 2;\n",
       "}\n",
       "\n",
       ".xr-var-dtype {\n",
       "  grid-column: 3;\n",
       "  text-align: right;\n",
       "  color: var(--xr-font-color2);\n",
       "}\n",
       "\n",
       ".xr-var-preview {\n",
       "  grid-column: 4;\n",
       "}\n",
       "\n",
       ".xr-var-name,\n",
       ".xr-var-dims,\n",
       ".xr-var-dtype,\n",
       ".xr-preview,\n",
       ".xr-attrs dt {\n",
       "  white-space: nowrap;\n",
       "  overflow: hidden;\n",
       "  text-overflow: ellipsis;\n",
       "  padding-right: 10px;\n",
       "}\n",
       "\n",
       ".xr-var-name:hover,\n",
       ".xr-var-dims:hover,\n",
       ".xr-var-dtype:hover,\n",
       ".xr-attrs dt:hover {\n",
       "  overflow: visible;\n",
       "  width: auto;\n",
       "  z-index: 1;\n",
       "}\n",
       "\n",
       ".xr-var-attrs,\n",
       ".xr-var-data {\n",
       "  display: none;\n",
       "  background-color: var(--xr-background-color) !important;\n",
       "  padding-bottom: 5px !important;\n",
       "}\n",
       "\n",
       ".xr-var-attrs-in:checked ~ .xr-var-attrs,\n",
       ".xr-var-data-in:checked ~ .xr-var-data {\n",
       "  display: block;\n",
       "}\n",
       "\n",
       ".xr-var-data > table {\n",
       "  float: right;\n",
       "}\n",
       "\n",
       ".xr-var-name span,\n",
       ".xr-var-data,\n",
       ".xr-attrs {\n",
       "  padding-left: 25px !important;\n",
       "}\n",
       "\n",
       ".xr-attrs,\n",
       ".xr-var-attrs,\n",
       ".xr-var-data {\n",
       "  grid-column: 1 / -1;\n",
       "}\n",
       "\n",
       "dl.xr-attrs {\n",
       "  padding: 0;\n",
       "  margin: 0;\n",
       "  display: grid;\n",
       "  grid-template-columns: 125px auto;\n",
       "}\n",
       "\n",
       ".xr-attrs dt, dd {\n",
       "  padding: 0;\n",
       "  margin: 0;\n",
       "  float: left;\n",
       "  padding-right: 10px;\n",
       "  width: auto;\n",
       "}\n",
       "\n",
       ".xr-attrs dt {\n",
       "  font-weight: normal;\n",
       "  grid-column: 1;\n",
       "}\n",
       "\n",
       ".xr-attrs dt:hover span {\n",
       "  display: inline-block;\n",
       "  background: var(--xr-background-color);\n",
       "  padding-right: 10px;\n",
       "}\n",
       "\n",
       ".xr-attrs dd {\n",
       "  grid-column: 2;\n",
       "  white-space: pre-wrap;\n",
       "  word-break: break-all;\n",
       "}\n",
       "\n",
       ".xr-icon-database,\n",
       ".xr-icon-file-text2 {\n",
       "  display: inline-block;\n",
       "  vertical-align: middle;\n",
       "  width: 1em;\n",
       "  height: 1.5em !important;\n",
       "  stroke-width: 0;\n",
       "  stroke: currentColor;\n",
       "  fill: currentColor;\n",
       "}\n",
       "</style><pre class='xr-text-repr-fallback'>&lt;xarray.Dataset&gt;\n",
       "Dimensions:                      (ni: 1354, nj: 2030, time: 1)\n",
       "Coordinates:\n",
       "    lat                          (nj, ni) float32 ...\n",
       "    lon                          (nj, ni) float32 ...\n",
       "  * time                         (time) datetime64[ns] 2002-07-04T00:00:10\n",
       "Dimensions without coordinates: ni, nj\n",
       "Data variables:\n",
       "    sea_surface_temperature      (time, nj, ni) float32 ...\n",
       "    sst_dtime                    (time, nj, ni) timedelta64[ns] ...\n",
       "    quality_level                (time, nj, ni) float32 ...\n",
       "    sses_bias                    (time, nj, ni) float32 ...\n",
       "    sses_standard_deviation      (time, nj, ni) float32 ...\n",
       "    l2p_flags                    (time, nj, ni) int16 ...\n",
       "    sea_surface_temperature_4um  (time, nj, ni) float32 ...\n",
       "    quality_level_4um            (time, nj, ni) float32 ...\n",
       "    sses_bias_4um                (time, nj, ni) float32 ...\n",
       "    sses_standard_deviation_4um  (time, nj, ni) float32 ...\n",
       "    wind_speed                   (time, nj, ni) float32 ...\n",
       "    dt_analysis                  (time, nj, ni) float32 ...\n",
       "Attributes:\n",
       "    Conventions:                CF-1.7, ACDD-1.3\n",
       "    title:                      MODIS Aqua L2P SST\n",
       "    summary:                    Sea surface temperature retrievals produced a...\n",
       "    references:                 GHRSST Data Processing Specification v2r5\n",
       "    institution:                NASA/JPL/OBPG/RSMAS\n",
       "    history:                    MODIS L2P created at JPL PO.DAAC\n",
       "    comment:                    L2P Core without DT analysis or other ancilla...\n",
       "    license:                    GHRSST and PO.DAAC protocol allow data use as...\n",
       "    id:                         MODIS_A-JPL-L2P-v2019.0\n",
       "    naming_authority:           org.ghrsst\n",
       "    product_version:            2019.0\n",
       "    uuid:                       f6e1f61d-c4a4-4c17-8354-0c15e12d688b\n",
       "    gds_version_id:             2.0\n",
       "    netcdf_version_id:          4.1\n",
       "    date_created:               20200727T162441Z\n",
       "    file_quality_level:         3\n",
       "    spatial_resolution:         1km\n",
       "    start_time:                 20020704T000010Z\n",
       "    time_coverage_start:        20020704T000010Z\n",
       "    stop_time:                  20020704T000458Z\n",
       "    time_coverage_end:          20020704T000458Z\n",
       "    northernmost_latitude:      47.4713\n",
       "    southernmost_latitude:      26.6848\n",
       "    easternmost_longitude:      46.3095\n",
       "    westernmost_longitude:      15.0158\n",
       "    source:                     MODIS sea surface temperature observations fo...\n",
       "    platform:                   Aqua\n",
       "    sensor:                     MODIS\n",
       "    metadata_link:              http://podaac.jpl.nasa.gov/ws/metadata/datase...\n",
       "    keywords:                   Oceans &gt; Ocean Temperature &gt; Sea Surface Temp...\n",
       "    keywords_vocabulary:        NASA Global Change Master Directory (GCMD) Sc...\n",
       "    standard_name_vocabulary:   NetCDF Climate and Forecast (CF) Metadata Con...\n",
       "    geospatial_lat_units:       degrees_north\n",
       "    geospatial_lat_resolution:  0.01\n",
       "    geospatial_lon_units:       degrees_east\n",
       "    geospatial_lon_resolution:  0.01\n",
       "    acknowledgment:             The MODIS L2P sea surface temperature data ar...\n",
       "    creator_name:               Ed Armstrong, JPL PO.DAAC\n",
       "    creator_email:              edward.m.armstrong@jpl.nasa.gov\n",
       "    creator_url:                http://podaac.jpl.nasa.gov\n",
       "    project:                    Group for High Resolution Sea Surface Tempera...\n",
       "    publisher_name:             The GHRSST Project Office\n",
       "    publisher_url:              http://www.ghrsst.org\n",
       "    publisher_email:            ghrsst-po@nceo.ac.uk\n",
       "    processing_level:           L2P\n",
       "    cdm_data_type:              swath\n",
       "    startDirection:             Descending\n",
       "    endDirection:               Descending\n",
       "    day_night_flag:             Night</pre><div class='xr-wrap' hidden><div class='xr-header'><div class='xr-obj-type'>xarray.Dataset</div></div><ul class='xr-sections'><li class='xr-section-item'><input id='section-f94b7d47-48e2-4496-a056-c9e8e2264e52' class='xr-section-summary-in' type='checkbox' disabled ><label for='section-f94b7d47-48e2-4496-a056-c9e8e2264e52' class='xr-section-summary'  title='Expand/collapse section'>Dimensions:</label><div class='xr-section-inline-details'><ul class='xr-dim-list'><li><span>ni</span>: 1354</li><li><span>nj</span>: 2030</li><li><span class='xr-has-index'>time</span>: 1</li></ul></div><div class='xr-section-details'></div></li><li class='xr-section-item'><input id='section-d7de1b17-966e-454d-99d9-ea08537595cd' class='xr-section-summary-in' type='checkbox'  checked><label for='section-d7de1b17-966e-454d-99d9-ea08537595cd' class='xr-section-summary' >Coordinates: <span>(3)</span></label><div class='xr-section-inline-details'></div><div class='xr-section-details'><ul class='xr-var-list'><li class='xr-var-item'><div class='xr-var-name'><span>lat</span></div><div class='xr-var-dims'>(nj, ni)</div><div class='xr-var-dtype'>float32</div><div class='xr-var-preview xr-preview'>...</div><input id='attrs-99242ef7-8b4e-44f5-895b-6770ce6b937a' class='xr-var-attrs-in' type='checkbox' ><label for='attrs-99242ef7-8b4e-44f5-895b-6770ce6b937a' title='Show/Hide attributes'><svg class='icon xr-icon-file-text2'><use xlink:href='#icon-file-text2'></use></svg></label><input id='data-e4998477-1bcc-43d0-8648-3a5b87dd01d3' class='xr-var-data-in' type='checkbox'><label for='data-e4998477-1bcc-43d0-8648-3a5b87dd01d3' title='Show/Hide data repr'><svg class='icon xr-icon-database'><use xlink:href='#icon-database'></use></svg></label><div class='xr-var-attrs'><dl class='xr-attrs'><dt><span>long_name :</span></dt><dd>latitude</dd><dt><span>standard_name :</span></dt><dd>latitude</dd><dt><span>units :</span></dt><dd>degrees_north</dd><dt><span>valid_min :</span></dt><dd>-90.0</dd><dt><span>valid_max :</span></dt><dd>90.0</dd><dt><span>comment :</span></dt><dd>geographical coordinates, WGS84 projection</dd><dt><span>coverage_content_type :</span></dt><dd>coordinate</dd></dl></div><div class='xr-var-data'><pre>[2748620 values with dtype=float32]</pre></div></li><li class='xr-var-item'><div class='xr-var-name'><span>lon</span></div><div class='xr-var-dims'>(nj, ni)</div><div class='xr-var-dtype'>float32</div><div class='xr-var-preview xr-preview'>...</div><input id='attrs-65f9b14f-370c-45a0-b553-a1b3954bb423' class='xr-var-attrs-in' type='checkbox' ><label for='attrs-65f9b14f-370c-45a0-b553-a1b3954bb423' title='Show/Hide attributes'><svg class='icon xr-icon-file-text2'><use xlink:href='#icon-file-text2'></use></svg></label><input id='data-58a6bf16-f5aa-472a-906e-6e6dc32e9743' class='xr-var-data-in' type='checkbox'><label for='data-58a6bf16-f5aa-472a-906e-6e6dc32e9743' title='Show/Hide data repr'><svg class='icon xr-icon-database'><use xlink:href='#icon-database'></use></svg></label><div class='xr-var-attrs'><dl class='xr-attrs'><dt><span>long_name :</span></dt><dd>longitude</dd><dt><span>standard_name :</span></dt><dd>longitude</dd><dt><span>units :</span></dt><dd>degrees_east</dd><dt><span>valid_min :</span></dt><dd>-180.0</dd><dt><span>valid_max :</span></dt><dd>180.0</dd><dt><span>comment :</span></dt><dd>geographical coordinates, WGS84 projection</dd><dt><span>coverage_content_type :</span></dt><dd>coordinate</dd></dl></div><div class='xr-var-data'><pre>[2748620 values with dtype=float32]</pre></div></li><li class='xr-var-item'><div class='xr-var-name'><span class='xr-has-index'>time</span></div><div class='xr-var-dims'>(time)</div><div class='xr-var-dtype'>datetime64[ns]</div><div class='xr-var-preview xr-preview'>2002-07-04T00:00:10</div><input id='attrs-2672f878-2892-450a-86bb-0b93bdfc48d0' class='xr-var-attrs-in' type='checkbox' ><label for='attrs-2672f878-2892-450a-86bb-0b93bdfc48d0' title='Show/Hide attributes'><svg class='icon xr-icon-file-text2'><use xlink:href='#icon-file-text2'></use></svg></label><input id='data-6e4776a1-b66c-4a43-8d7e-c7cbd342aa4b' class='xr-var-data-in' type='checkbox'><label for='data-6e4776a1-b66c-4a43-8d7e-c7cbd342aa4b' title='Show/Hide data repr'><svg class='icon xr-icon-database'><use xlink:href='#icon-database'></use></svg></label><div class='xr-var-attrs'><dl class='xr-attrs'><dt><span>long_name :</span></dt><dd>reference time of sst file</dd><dt><span>standard_name :</span></dt><dd>time</dd><dt><span>comment :</span></dt><dd>time of first sensor observation</dd><dt><span>coverage_content_type :</span></dt><dd>coordinate</dd></dl></div><div class='xr-var-data'><pre>array([&#x27;2002-07-04T00:00:10.000000000&#x27;], dtype=&#x27;datetime64[ns]&#x27;)</pre></div></li></ul></div></li><li class='xr-section-item'><input id='section-56e140cc-33a4-4b84-aa77-79d5fc6b2d76' class='xr-section-summary-in' type='checkbox'  checked><label for='section-56e140cc-33a4-4b84-aa77-79d5fc6b2d76' class='xr-section-summary' >Data variables: <span>(12)</span></label><div class='xr-section-inline-details'></div><div class='xr-section-details'><ul class='xr-var-list'><li class='xr-var-item'><div class='xr-var-name'><span>sea_surface_temperature</span></div><div class='xr-var-dims'>(time, nj, ni)</div><div class='xr-var-dtype'>float32</div><div class='xr-var-preview xr-preview'>...</div><input id='attrs-dc149b0c-336d-4eea-a377-2e3ee3f76063' class='xr-var-attrs-in' type='checkbox' ><label for='attrs-dc149b0c-336d-4eea-a377-2e3ee3f76063' title='Show/Hide attributes'><svg class='icon xr-icon-file-text2'><use xlink:href='#icon-file-text2'></use></svg></label><input id='data-e61db010-24c5-49d9-8a19-bc3976a29164' class='xr-var-data-in' type='checkbox'><label for='data-e61db010-24c5-49d9-8a19-bc3976a29164' title='Show/Hide data repr'><svg class='icon xr-icon-database'><use xlink:href='#icon-database'></use></svg></label><div class='xr-var-attrs'><dl class='xr-attrs'><dt><span>long_name :</span></dt><dd>sea surface temperature</dd><dt><span>standard_name :</span></dt><dd>sea_surface_skin_temperature</dd><dt><span>units :</span></dt><dd>kelvin</dd><dt><span>valid_min :</span></dt><dd>-1000</dd><dt><span>valid_max :</span></dt><dd>10000</dd><dt><span>comment :</span></dt><dd>sea surface temperature from thermal IR (11 um) channels</dd><dt><span>source :</span></dt><dd>NASA and University of Miami</dd><dt><span>coverage_content_type :</span></dt><dd>physicalMeasurement</dd></dl></div><div class='xr-var-data'><pre>[2748620 values with dtype=float32]</pre></div></li><li class='xr-var-item'><div class='xr-var-name'><span>sst_dtime</span></div><div class='xr-var-dims'>(time, nj, ni)</div><div class='xr-var-dtype'>timedelta64[ns]</div><div class='xr-var-preview xr-preview'>...</div><input id='attrs-d31fabd8-44b6-42e7-acb6-1df0315e677e' class='xr-var-attrs-in' type='checkbox' ><label for='attrs-d31fabd8-44b6-42e7-acb6-1df0315e677e' title='Show/Hide attributes'><svg class='icon xr-icon-file-text2'><use xlink:href='#icon-file-text2'></use></svg></label><input id='data-f42e398c-0a5f-4bf0-acc3-9a6db15c67cf' class='xr-var-data-in' type='checkbox'><label for='data-f42e398c-0a5f-4bf0-acc3-9a6db15c67cf' title='Show/Hide data repr'><svg class='icon xr-icon-database'><use xlink:href='#icon-database'></use></svg></label><div class='xr-var-attrs'><dl class='xr-attrs'><dt><span>long_name :</span></dt><dd>time difference from reference time</dd><dt><span>valid_min :</span></dt><dd>-32767</dd><dt><span>valid_max :</span></dt><dd>32767</dd><dt><span>comment :</span></dt><dd>time plus sst_dtime gives seconds after 00:00:00 UTC January 1, 1981</dd><dt><span>coverage_content_type :</span></dt><dd>referenceInformation</dd></dl></div><div class='xr-var-data'><pre>[2748620 values with dtype=timedelta64[ns]]</pre></div></li><li class='xr-var-item'><div class='xr-var-name'><span>quality_level</span></div><div class='xr-var-dims'>(time, nj, ni)</div><div class='xr-var-dtype'>float32</div><div class='xr-var-preview xr-preview'>...</div><input id='attrs-ddfed575-cf81-448d-9479-a70062b17f63' class='xr-var-attrs-in' type='checkbox' ><label for='attrs-ddfed575-cf81-448d-9479-a70062b17f63' title='Show/Hide attributes'><svg class='icon xr-icon-file-text2'><use xlink:href='#icon-file-text2'></use></svg></label><input id='data-feda3592-9e1e-45be-8a88-60cf7a286bc5' class='xr-var-data-in' type='checkbox'><label for='data-feda3592-9e1e-45be-8a88-60cf7a286bc5' title='Show/Hide data repr'><svg class='icon xr-icon-database'><use xlink:href='#icon-database'></use></svg></label><div class='xr-var-attrs'><dl class='xr-attrs'><dt><span>long_name :</span></dt><dd>quality level of SST pixel</dd><dt><span>valid_min :</span></dt><dd>0</dd><dt><span>valid_max :</span></dt><dd>5</dd><dt><span>comment :</span></dt><dd>thermal IR SST proximity confidence value; signed byte array: WARNING Some applications are unable to properly handle signed byte values. If values are encountered &gt; 127, please subtract 256 from this reported value</dd><dt><span>flag_values :</span></dt><dd>[0 1 2 3 4 5]</dd><dt><span>flag_meanings :</span></dt><dd>no_data bad_data worst_quality low_quality acceptable_quality best_quality</dd><dt><span>coverage_content_type :</span></dt><dd>qualityInformation</dd></dl></div><div class='xr-var-data'><pre>[2748620 values with dtype=float32]</pre></div></li><li class='xr-var-item'><div class='xr-var-name'><span>sses_bias</span></div><div class='xr-var-dims'>(time, nj, ni)</div><div class='xr-var-dtype'>float32</div><div class='xr-var-preview xr-preview'>...</div><input id='attrs-38cd8a53-efaa-498e-9759-14dd92f616e7' class='xr-var-attrs-in' type='checkbox' ><label for='attrs-38cd8a53-efaa-498e-9759-14dd92f616e7' title='Show/Hide attributes'><svg class='icon xr-icon-file-text2'><use xlink:href='#icon-file-text2'></use></svg></label><input id='data-0c145fc6-692c-44a7-8fa0-0638795d5b99' class='xr-var-data-in' type='checkbox'><label for='data-0c145fc6-692c-44a7-8fa0-0638795d5b99' title='Show/Hide data repr'><svg class='icon xr-icon-database'><use xlink:href='#icon-database'></use></svg></label><div class='xr-var-attrs'><dl class='xr-attrs'><dt><span>long_name :</span></dt><dd>SSES bias error based on proximity confidence flags</dd><dt><span>units :</span></dt><dd>kelvin</dd><dt><span>valid_min :</span></dt><dd>-127</dd><dt><span>valid_max :</span></dt><dd>127</dd><dt><span>comment :</span></dt><dd>thermal IR SST bias error; signed byte array: WARNING Some applications are unable to properly handle signed byte values. If values are encountered &gt; 127, please subtract 256 from this reported value</dd><dt><span>coverage_content_type :</span></dt><dd>auxiliaryInformation</dd></dl></div><div class='xr-var-data'><pre>[2748620 values with dtype=float32]</pre></div></li><li class='xr-var-item'><div class='xr-var-name'><span>sses_standard_deviation</span></div><div class='xr-var-dims'>(time, nj, ni)</div><div class='xr-var-dtype'>float32</div><div class='xr-var-preview xr-preview'>...</div><input id='attrs-1f328503-bf80-4e0c-8b39-2032144d1327' class='xr-var-attrs-in' type='checkbox' ><label for='attrs-1f328503-bf80-4e0c-8b39-2032144d1327' title='Show/Hide attributes'><svg class='icon xr-icon-file-text2'><use xlink:href='#icon-file-text2'></use></svg></label><input id='data-c9538ff3-67a4-4b44-b2a0-d1717e32cfee' class='xr-var-data-in' type='checkbox'><label for='data-c9538ff3-67a4-4b44-b2a0-d1717e32cfee' title='Show/Hide data repr'><svg class='icon xr-icon-database'><use xlink:href='#icon-database'></use></svg></label><div class='xr-var-attrs'><dl class='xr-attrs'><dt><span>long_name :</span></dt><dd>SSES standard deviation error based on proximity confidence flags</dd><dt><span>units :</span></dt><dd>kelvin</dd><dt><span>valid_min :</span></dt><dd>-127</dd><dt><span>valid_max :</span></dt><dd>127</dd><dt><span>comment :</span></dt><dd>thermal IR SST standard deviation error; signed byte array: WARNING Some applications are unable to properly handle signed byte values. If values are encountered &gt; 127, please subtract 256 from this reported value</dd><dt><span>coverage_content_type :</span></dt><dd>auxiliaryInformation</dd></dl></div><div class='xr-var-data'><pre>[2748620 values with dtype=float32]</pre></div></li><li class='xr-var-item'><div class='xr-var-name'><span>l2p_flags</span></div><div class='xr-var-dims'>(time, nj, ni)</div><div class='xr-var-dtype'>int16</div><div class='xr-var-preview xr-preview'>...</div><input id='attrs-d308c306-da9d-47d7-a203-233d4bca4330' class='xr-var-attrs-in' type='checkbox' ><label for='attrs-d308c306-da9d-47d7-a203-233d4bca4330' title='Show/Hide attributes'><svg class='icon xr-icon-file-text2'><use xlink:href='#icon-file-text2'></use></svg></label><input id='data-84314f24-918a-4067-aac6-768cc8d030e8' class='xr-var-data-in' type='checkbox'><label for='data-84314f24-918a-4067-aac6-768cc8d030e8' title='Show/Hide data repr'><svg class='icon xr-icon-database'><use xlink:href='#icon-database'></use></svg></label><div class='xr-var-attrs'><dl class='xr-attrs'><dt><span>long_name :</span></dt><dd>L2P flags</dd><dt><span>valid_min :</span></dt><dd>0</dd><dt><span>valid_max :</span></dt><dd>16</dd><dt><span>comment :</span></dt><dd>These flags can be used to further filter data variables</dd><dt><span>flag_meanings :</span></dt><dd>microwave land ice lake river</dd><dt><span>flag_masks :</span></dt><dd>[ 1  2  4  8 16]</dd><dt><span>coverage_content_type :</span></dt><dd>qualityInformation</dd></dl></div><div class='xr-var-data'><pre>[2748620 values with dtype=int16]</pre></div></li><li class='xr-var-item'><div class='xr-var-name'><span>sea_surface_temperature_4um</span></div><div class='xr-var-dims'>(time, nj, ni)</div><div class='xr-var-dtype'>float32</div><div class='xr-var-preview xr-preview'>...</div><input id='attrs-285ed47b-c54d-4d26-951e-64b71cb849f3' class='xr-var-attrs-in' type='checkbox' ><label for='attrs-285ed47b-c54d-4d26-951e-64b71cb849f3' title='Show/Hide attributes'><svg class='icon xr-icon-file-text2'><use xlink:href='#icon-file-text2'></use></svg></label><input id='data-ed5d5072-608e-4fab-af7b-98bf740b576f' class='xr-var-data-in' type='checkbox'><label for='data-ed5d5072-608e-4fab-af7b-98bf740b576f' title='Show/Hide data repr'><svg class='icon xr-icon-database'><use xlink:href='#icon-database'></use></svg></label><div class='xr-var-attrs'><dl class='xr-attrs'><dt><span>long_name :</span></dt><dd>sea surface temperature</dd><dt><span>units :</span></dt><dd>kelvin</dd><dt><span>valid_min :</span></dt><dd>-1000</dd><dt><span>valid_max :</span></dt><dd>10000</dd><dt><span>comment :</span></dt><dd>sea surface temperature from mid-IR (4 um) channels; non L2P core field</dd><dt><span>coverage_content_type :</span></dt><dd>physicalMeasurement</dd></dl></div><div class='xr-var-data'><pre>[2748620 values with dtype=float32]</pre></div></li><li class='xr-var-item'><div class='xr-var-name'><span>quality_level_4um</span></div><div class='xr-var-dims'>(time, nj, ni)</div><div class='xr-var-dtype'>float32</div><div class='xr-var-preview xr-preview'>...</div><input id='attrs-11406fcb-0015-4fca-9c9d-9edef3f1dae6' class='xr-var-attrs-in' type='checkbox' ><label for='attrs-11406fcb-0015-4fca-9c9d-9edef3f1dae6' title='Show/Hide attributes'><svg class='icon xr-icon-file-text2'><use xlink:href='#icon-file-text2'></use></svg></label><input id='data-81365061-f4cb-4c1a-8cb1-8097f3621f6d' class='xr-var-data-in' type='checkbox'><label for='data-81365061-f4cb-4c1a-8cb1-8097f3621f6d' title='Show/Hide data repr'><svg class='icon xr-icon-database'><use xlink:href='#icon-database'></use></svg></label><div class='xr-var-attrs'><dl class='xr-attrs'><dt><span>long_name :</span></dt><dd>quality level of SST pixel</dd><dt><span>valid_min :</span></dt><dd>0</dd><dt><span>valid_max :</span></dt><dd>5</dd><dt><span>comment :</span></dt><dd>mid-IR SST proximity confidence value; non L2P core field; signed byte array:  WARNING Some applications are unable to properly handle signed byte values. If values are encountered &gt; 127, please subtract 256 from this reported value</dd><dt><span>flag_values :</span></dt><dd>[0 1 2 3 4 5]</dd><dt><span>flag_meanings :</span></dt><dd>no_data bad_data worst_quality low_quality acceptable_quality best_quality</dd><dt><span>coverage_content_type :</span></dt><dd>qualityInformation</dd></dl></div><div class='xr-var-data'><pre>[2748620 values with dtype=float32]</pre></div></li><li class='xr-var-item'><div class='xr-var-name'><span>sses_bias_4um</span></div><div class='xr-var-dims'>(time, nj, ni)</div><div class='xr-var-dtype'>float32</div><div class='xr-var-preview xr-preview'>...</div><input id='attrs-877a34c1-4057-4ad3-ac77-c6c11d8f1e60' class='xr-var-attrs-in' type='checkbox' ><label for='attrs-877a34c1-4057-4ad3-ac77-c6c11d8f1e60' title='Show/Hide attributes'><svg class='icon xr-icon-file-text2'><use xlink:href='#icon-file-text2'></use></svg></label><input id='data-11d1e303-f707-463a-b31d-4a169c686b83' class='xr-var-data-in' type='checkbox'><label for='data-11d1e303-f707-463a-b31d-4a169c686b83' title='Show/Hide data repr'><svg class='icon xr-icon-database'><use xlink:href='#icon-database'></use></svg></label><div class='xr-var-attrs'><dl class='xr-attrs'><dt><span>long_name :</span></dt><dd>SSES bias error based on proximity confidence flags</dd><dt><span>units :</span></dt><dd>kelvin</dd><dt><span>valid_min :</span></dt><dd>-127</dd><dt><span>valid_max :</span></dt><dd>127</dd><dt><span>comment :</span></dt><dd>mid-IR SST bias error; non L2P core field; signed byte array:  WARNING Some applications are unable to properly handle signed byte values. If values are encountered &gt; 127, please subtract 256 from this reported value</dd><dt><span>coverage_content_type :</span></dt><dd>auxiliaryInformation</dd></dl></div><div class='xr-var-data'><pre>[2748620 values with dtype=float32]</pre></div></li><li class='xr-var-item'><div class='xr-var-name'><span>sses_standard_deviation_4um</span></div><div class='xr-var-dims'>(time, nj, ni)</div><div class='xr-var-dtype'>float32</div><div class='xr-var-preview xr-preview'>...</div><input id='attrs-cce25dbf-1fdf-4af1-8035-d29e1d39ac7e' class='xr-var-attrs-in' type='checkbox' ><label for='attrs-cce25dbf-1fdf-4af1-8035-d29e1d39ac7e' title='Show/Hide attributes'><svg class='icon xr-icon-file-text2'><use xlink:href='#icon-file-text2'></use></svg></label><input id='data-9c5800e9-32b7-4e8b-8aff-cf7c7c714bdc' class='xr-var-data-in' type='checkbox'><label for='data-9c5800e9-32b7-4e8b-8aff-cf7c7c714bdc' title='Show/Hide data repr'><svg class='icon xr-icon-database'><use xlink:href='#icon-database'></use></svg></label><div class='xr-var-attrs'><dl class='xr-attrs'><dt><span>long_name :</span></dt><dd>SSES standard deviation error based on proximity confidence flags</dd><dt><span>units :</span></dt><dd>kelvin</dd><dt><span>valid_min :</span></dt><dd>-127</dd><dt><span>valid_max :</span></dt><dd>127</dd><dt><span>comment :</span></dt><dd>mid-IR SST standard deviation error; non L2P core field; signed byte array:  WARNING Some applications are unable to properly handle signed byte values. If values are encountered &gt; 127, please subtract 256 from this reported value</dd><dt><span>coverage_content_type :</span></dt><dd>auxiliaryInformation</dd></dl></div><div class='xr-var-data'><pre>[2748620 values with dtype=float32]</pre></div></li><li class='xr-var-item'><div class='xr-var-name'><span>wind_speed</span></div><div class='xr-var-dims'>(time, nj, ni)</div><div class='xr-var-dtype'>float32</div><div class='xr-var-preview xr-preview'>...</div><input id='attrs-7863f94e-116a-4d11-a443-80f4161296a6' class='xr-var-attrs-in' type='checkbox' ><label for='attrs-7863f94e-116a-4d11-a443-80f4161296a6' title='Show/Hide attributes'><svg class='icon xr-icon-file-text2'><use xlink:href='#icon-file-text2'></use></svg></label><input id='data-6817de6e-871b-4650-a260-7b647fb04c31' class='xr-var-data-in' type='checkbox'><label for='data-6817de6e-871b-4650-a260-7b647fb04c31' title='Show/Hide data repr'><svg class='icon xr-icon-database'><use xlink:href='#icon-database'></use></svg></label><div class='xr-var-attrs'><dl class='xr-attrs'><dt><span>long_name :</span></dt><dd>10m wind speed</dd><dt><span>standard_name :</span></dt><dd>wind_speed</dd><dt><span>units :</span></dt><dd>m s-1</dd><dt><span>valid_min :</span></dt><dd>-127</dd><dt><span>valid_max :</span></dt><dd>127</dd><dt><span>comment :</span></dt><dd>Wind at 10 meters above the sea surface</dd><dt><span>source :</span></dt><dd>TBD.  Placeholder.  Currently empty</dd><dt><span>grid_mapping :</span></dt><dd>TBD</dd><dt><span>time_offset :</span></dt><dd>2.0</dd><dt><span>height :</span></dt><dd>10 m</dd><dt><span>coverage_content_type :</span></dt><dd>auxiliaryInformation</dd></dl></div><div class='xr-var-data'><pre>[2748620 values with dtype=float32]</pre></div></li><li class='xr-var-item'><div class='xr-var-name'><span>dt_analysis</span></div><div class='xr-var-dims'>(time, nj, ni)</div><div class='xr-var-dtype'>float32</div><div class='xr-var-preview xr-preview'>...</div><input id='attrs-b575c183-64e7-4141-9080-01ed2c5a2f8c' class='xr-var-attrs-in' type='checkbox' ><label for='attrs-b575c183-64e7-4141-9080-01ed2c5a2f8c' title='Show/Hide attributes'><svg class='icon xr-icon-file-text2'><use xlink:href='#icon-file-text2'></use></svg></label><input id='data-7f3dea9f-755b-4011-9d05-390d94eaca0f' class='xr-var-data-in' type='checkbox'><label for='data-7f3dea9f-755b-4011-9d05-390d94eaca0f' title='Show/Hide data repr'><svg class='icon xr-icon-database'><use xlink:href='#icon-database'></use></svg></label><div class='xr-var-attrs'><dl class='xr-attrs'><dt><span>long_name :</span></dt><dd>deviation from SST reference climatology</dd><dt><span>units :</span></dt><dd>kelvin</dd><dt><span>valid_min :</span></dt><dd>-127</dd><dt><span>valid_max :</span></dt><dd>127</dd><dt><span>comment :</span></dt><dd>TBD</dd><dt><span>source :</span></dt><dd>TBD. Placeholder.  Currently empty</dd><dt><span>coverage_content_type :</span></dt><dd>auxiliaryInformation</dd></dl></div><div class='xr-var-data'><pre>[2748620 values with dtype=float32]</pre></div></li></ul></div></li><li class='xr-section-item'><input id='section-2d417e93-bbc1-49aa-b6b6-60dde05e5d4c' class='xr-section-summary-in' type='checkbox'  ><label for='section-2d417e93-bbc1-49aa-b6b6-60dde05e5d4c' class='xr-section-summary' >Attributes: <span>(49)</span></label><div class='xr-section-inline-details'></div><div class='xr-section-details'><dl class='xr-attrs'><dt><span>Conventions :</span></dt><dd>CF-1.7, ACDD-1.3</dd><dt><span>title :</span></dt><dd>MODIS Aqua L2P SST</dd><dt><span>summary :</span></dt><dd>Sea surface temperature retrievals produced at the NASA OBPG for the MODIS Aqua sensor.  These have been reformatted to GHRSST GDS specifications by the JPL PO.DAAC</dd><dt><span>references :</span></dt><dd>GHRSST Data Processing Specification v2r5</dd><dt><span>institution :</span></dt><dd>NASA/JPL/OBPG/RSMAS</dd><dt><span>history :</span></dt><dd>MODIS L2P created at JPL PO.DAAC</dd><dt><span>comment :</span></dt><dd>L2P Core without DT analysis or other ancillary fields; Night, Start Node:Descending, End Node:Descending; WARNING Some applications are unable to properly handle signed byte values. If values are encountered &gt; 127, please subtract 256 from this reported value; Refined</dd><dt><span>license :</span></dt><dd>GHRSST and PO.DAAC protocol allow data use as free and open.</dd><dt><span>id :</span></dt><dd>MODIS_A-JPL-L2P-v2019.0</dd><dt><span>naming_authority :</span></dt><dd>org.ghrsst</dd><dt><span>product_version :</span></dt><dd>2019.0</dd><dt><span>uuid :</span></dt><dd>f6e1f61d-c4a4-4c17-8354-0c15e12d688b</dd><dt><span>gds_version_id :</span></dt><dd>2.0</dd><dt><span>netcdf_version_id :</span></dt><dd>4.1</dd><dt><span>date_created :</span></dt><dd>20200727T162441Z</dd><dt><span>file_quality_level :</span></dt><dd>3</dd><dt><span>spatial_resolution :</span></dt><dd>1km</dd><dt><span>start_time :</span></dt><dd>20020704T000010Z</dd><dt><span>time_coverage_start :</span></dt><dd>20020704T000010Z</dd><dt><span>stop_time :</span></dt><dd>20020704T000458Z</dd><dt><span>time_coverage_end :</span></dt><dd>20020704T000458Z</dd><dt><span>northernmost_latitude :</span></dt><dd>47.4713</dd><dt><span>southernmost_latitude :</span></dt><dd>26.6848</dd><dt><span>easternmost_longitude :</span></dt><dd>46.3095</dd><dt><span>westernmost_longitude :</span></dt><dd>15.0158</dd><dt><span>source :</span></dt><dd>MODIS sea surface temperature observations for the OBPG</dd><dt><span>platform :</span></dt><dd>Aqua</dd><dt><span>sensor :</span></dt><dd>MODIS</dd><dt><span>metadata_link :</span></dt><dd>http://podaac.jpl.nasa.gov/ws/metadata/dataset/?format=iso&amp;shortName=MODIS_A-JPL-L2P-v2019.0</dd><dt><span>keywords :</span></dt><dd>Oceans &gt; Ocean Temperature &gt; Sea Surface Temperature</dd><dt><span>keywords_vocabulary :</span></dt><dd>NASA Global Change Master Directory (GCMD) Science Keywords</dd><dt><span>standard_name_vocabulary :</span></dt><dd>NetCDF Climate and Forecast (CF) Metadata Convention</dd><dt><span>geospatial_lat_units :</span></dt><dd>degrees_north</dd><dt><span>geospatial_lat_resolution :</span></dt><dd>0.01</dd><dt><span>geospatial_lon_units :</span></dt><dd>degrees_east</dd><dt><span>geospatial_lon_resolution :</span></dt><dd>0.01</dd><dt><span>acknowledgment :</span></dt><dd>The MODIS L2P sea surface temperature data are sponsored by NASA</dd><dt><span>creator_name :</span></dt><dd>Ed Armstrong, JPL PO.DAAC</dd><dt><span>creator_email :</span></dt><dd>edward.m.armstrong@jpl.nasa.gov</dd><dt><span>creator_url :</span></dt><dd>http://podaac.jpl.nasa.gov</dd><dt><span>project :</span></dt><dd>Group for High Resolution Sea Surface Temperature</dd><dt><span>publisher_name :</span></dt><dd>The GHRSST Project Office</dd><dt><span>publisher_url :</span></dt><dd>http://www.ghrsst.org</dd><dt><span>publisher_email :</span></dt><dd>ghrsst-po@nceo.ac.uk</dd><dt><span>processing_level :</span></dt><dd>L2P</dd><dt><span>cdm_data_type :</span></dt><dd>swath</dd><dt><span>startDirection :</span></dt><dd>Descending</dd><dt><span>endDirection :</span></dt><dd>Descending</dd><dt><span>day_night_flag :</span></dt><dd>Night</dd></dl></div></li></ul></div></div>"
      ],
      "text/plain": [
       "<xarray.Dataset>\n",
       "Dimensions:                      (ni: 1354, nj: 2030, time: 1)\n",
       "Coordinates:\n",
       "    lat                          (nj, ni) float32 ...\n",
       "    lon                          (nj, ni) float32 ...\n",
       "  * time                         (time) datetime64[ns] 2002-07-04T00:00:10\n",
       "Dimensions without coordinates: ni, nj\n",
       "Data variables:\n",
       "    sea_surface_temperature      (time, nj, ni) float32 ...\n",
       "    sst_dtime                    (time, nj, ni) timedelta64[ns] ...\n",
       "    quality_level                (time, nj, ni) float32 ...\n",
       "    sses_bias                    (time, nj, ni) float32 ...\n",
       "    sses_standard_deviation      (time, nj, ni) float32 ...\n",
       "    l2p_flags                    (time, nj, ni) int16 ...\n",
       "    sea_surface_temperature_4um  (time, nj, ni) float32 ...\n",
       "    quality_level_4um            (time, nj, ni) float32 ...\n",
       "    sses_bias_4um                (time, nj, ni) float32 ...\n",
       "    sses_standard_deviation_4um  (time, nj, ni) float32 ...\n",
       "    wind_speed                   (time, nj, ni) float32 ...\n",
       "    dt_analysis                  (time, nj, ni) float32 ...\n",
       "Attributes:\n",
       "    Conventions:                CF-1.7, ACDD-1.3\n",
       "    title:                      MODIS Aqua L2P SST\n",
       "    summary:                    Sea surface temperature retrievals produced a...\n",
       "    references:                 GHRSST Data Processing Specification v2r5\n",
       "    institution:                NASA/JPL/OBPG/RSMAS\n",
       "    history:                    MODIS L2P created at JPL PO.DAAC\n",
       "    comment:                    L2P Core without DT analysis or other ancilla...\n",
       "    license:                    GHRSST and PO.DAAC protocol allow data use as...\n",
       "    id:                         MODIS_A-JPL-L2P-v2019.0\n",
       "    naming_authority:           org.ghrsst\n",
       "    product_version:            2019.0\n",
       "    uuid:                       f6e1f61d-c4a4-4c17-8354-0c15e12d688b\n",
       "    gds_version_id:             2.0\n",
       "    netcdf_version_id:          4.1\n",
       "    date_created:               20200727T162441Z\n",
       "    file_quality_level:         3\n",
       "    spatial_resolution:         1km\n",
       "    start_time:                 20020704T000010Z\n",
       "    time_coverage_start:        20020704T000010Z\n",
       "    stop_time:                  20020704T000458Z\n",
       "    time_coverage_end:          20020704T000458Z\n",
       "    northernmost_latitude:      47.4713\n",
       "    southernmost_latitude:      26.6848\n",
       "    easternmost_longitude:      46.3095\n",
       "    westernmost_longitude:      15.0158\n",
       "    source:                     MODIS sea surface temperature observations fo...\n",
       "    platform:                   Aqua\n",
       "    sensor:                     MODIS\n",
       "    metadata_link:              http://podaac.jpl.nasa.gov/ws/metadata/datase...\n",
       "    keywords:                   Oceans > Ocean Temperature > Sea Surface Temp...\n",
       "    keywords_vocabulary:        NASA Global Change Master Directory (GCMD) Sc...\n",
       "    standard_name_vocabulary:   NetCDF Climate and Forecast (CF) Metadata Con...\n",
       "    geospatial_lat_units:       degrees_north\n",
       "    geospatial_lat_resolution:  0.01\n",
       "    geospatial_lon_units:       degrees_east\n",
       "    geospatial_lon_resolution:  0.01\n",
       "    acknowledgment:             The MODIS L2P sea surface temperature data ar...\n",
       "    creator_name:               Ed Armstrong, JPL PO.DAAC\n",
       "    creator_email:              edward.m.armstrong@jpl.nasa.gov\n",
       "    creator_url:                http://podaac.jpl.nasa.gov\n",
       "    project:                    Group for High Resolution Sea Surface Tempera...\n",
       "    publisher_name:             The GHRSST Project Office\n",
       "    publisher_url:              http://www.ghrsst.org\n",
       "    publisher_email:            ghrsst-po@nceo.ac.uk\n",
       "    processing_level:           L2P\n",
       "    cdm_data_type:              swath\n",
       "    startDirection:             Descending\n",
       "    endDirection:               Descending\n",
       "    day_night_flag:             Night"
      ]
     },
     "execution_count": 12,
     "metadata": {},
     "output_type": "execute_result"
    }
   ],
   "source": [
    "import xarray as xa\n",
    "ds_MODIS = xa.open_dataset('tutorial2_data_MODIS.nc')\n",
    "ds_MODIS"
   ]
  },
  {
   "cell_type": "markdown",
   "metadata": {},
   "source": [
    "Let's do a **quick plot**:"
   ]
  },
  {
   "cell_type": "code",
   "execution_count": 13,
   "metadata": {},
   "outputs": [
    {
     "data": {
      "text/plain": [
       "<matplotlib.collections.QuadMesh at 0x7f8370c18f50>"
      ]
     },
     "execution_count": 13,
     "metadata": {},
     "output_type": "execute_result"
    },
    {
     "data": {
      "image/png": "[encoded data removed]",
      "text/plain": [
       "<Figure size 432x288 with 2 Axes>"
      ]
     },
     "metadata": {
      "needs_background": "light"
     },
     "output_type": "display_data"
    }
   ],
   "source": [
    "from pandas.plotting import register_matplotlib_converters\n",
    "\n",
    "ds_MODIS.sea_surface_temperature.plot()"
   ]
  },
  {
   "cell_type": "markdown",
   "metadata": {},
   "source": [
    "We can see the time this file represents, and the variable, but it's hard to tell where on the map we are. Let's try it another way:"
   ]
  },
  {
   "cell_type": "code",
   "execution_count": 14,
   "metadata": {},
   "outputs": [
    {
     "data": {
      "image/png": "[encoded data removed]",
      "text/plain": [
       "<Figure size 432x288 with 2 Axes>"
      ]
     },
     "metadata": {
      "needs_background": "light"
     },
     "output_type": "display_data"
    }
   ],
   "source": [
    "import cartopy.crs as ccrs\n",
    "import matplotlib.pyplot as plt\n",
    "\n",
    "from mpl_toolkits.axes_grid1 import make_axes_locatable\n",
    "import numpy as np\n",
    "\n",
    "ax = plt.axes(projection=ccrs.PlateCarree())\n",
    "ax.coastlines()\n",
    "\n",
    "plt.scatter(ds_MODIS.lon, ds_MODIS.lat, lw=2, c=ds_MODIS.sea_surface_temperature)\n",
    "plt.colorbar()\n",
    "#plt.clim(-0.3, 0.3)\n",
    "\n",
    "plt.show()"
   ]
  },
  {
   "cell_type": "markdown",
   "metadata": {},
   "source": [
    "We can double check the data by plotting it in a separate application, such as Panoply. The data matches, in this case we're looking at MODIS SST over the Meditterranean sea, at the first time stamp in the collection.\n",
    "\n",
    "<img align=\"left\"\n",
    "     src=\"MODIS_SST_demo2.png\">"
   ]
  },
  {
   "cell_type": "markdown",
   "metadata": {},
   "source": [
    "## 3. Select data with shp file using the Harmony API"
   ]
  },
  {
   "cell_type": "markdown",
   "metadata": {},
   "source": [
    "Now that we know the collection ID we are interested in, we can pass that into the Harmony cloud-based services to perform several transformation on the data. Here we show how to **subset by geographic shapefile**. We will use the previously found collection ID for the MODIS SST dataset collection `MODIS_A-JPL-L2P-v2019.0`."
   ]
  },
  {
   "cell_type": "markdown",
   "metadata": {},
   "source": [
    "### Access data selected by geographic shapefile\n",
    "We will request data overlapping South America by uploading a shapefile with that boundary.\n",
    "\n",
    "This requires the use of a multipart/form-data POST request. Supported shapefile formats include ESRI, GeoJSON, and KML. The associated mime-types are as follows:\n",
    "\n",
    "| Shapefile Format | mime-type |\n",
    "|:-----------------|----------:|\n",
    "| ESRI | application/shapefile+zip |\n",
    "| GeoJSON | application/geo+json |\n",
    "| KML | application/vnd.google-earth.kml+xml |\n",
    "\n",
    "\n",
    "ESRI shapefiles must be uploaded as a single .zip file."
   ]
  },
  {
   "cell_type": "markdown",
   "metadata": {},
   "source": [
    "*DEV note: This next section could use some updating, try to make it a bit cleaner, parameterize the inputs that can be changes, e.g. shp file or collection ID*"
   ]
  },
  {
   "cell_type": "markdown",
   "metadata": {},
   "source": [
    "First, let's define the collection of interest, using a variable `harmony_collection_id`:"
   ]
  },
  {
   "cell_type": "code",
   "execution_count": 15,
   "metadata": {},
   "outputs": [],
   "source": [
    "# harmony_collection_id = 'C1940473819-POCLOUD'"
   ]
  },
  {
   "cell_type": "markdown",
   "metadata": {},
   "source": [
    "### Example with ESRI .shp file:"
   ]
  },
  {
   "cell_type": "code",
   "execution_count": 16,
   "metadata": {},
   "outputs": [
    {
     "name": "stdout",
     "output_type": "stream",
     "text": [
      "{ 'feed': { 'entry': [],\n",
      "            'id': 'https://cmr.earthdata.nasa.gov:443/search/granules.json',\n",
      "            'title': 'ECHO granule metadata',\n",
      "            'updated': '2020-11-17T22:47:34.755Z'}}\n"
     ]
    }
   ],
   "source": [
    "import requests\n",
    "import json\n",
    "import pprint\n",
    "\n",
    "# the URL of the CMR searvice\n",
    "url = 'https://cmr.earthdata.nasa.gov/search/granules.json'\n",
    "\n",
    "#The shapefile we want to use in our search\n",
    "shp_file = open('shapefiles/gulf_shapefile.zip', 'rb')\n",
    "\n",
    "#need to declare the file and the type we are uploading\n",
    "files = {'shapefile':('gulf_shapefile.zip',shp_file, 'application/shapefile+zip')}\n",
    "\n",
    "#used to define parameters such as the concept-id and things like temporal searches\n",
    "parameters = {'echo_collection_id':'C1940473819-POCLOUD'}\n",
    "\n",
    "response = requests.post(url, files=files, params=parameters)\n",
    "pp = pprint.PrettyPrinter(indent=2)\n",
    "pp.pprint(response.json())"
   ]
  },
  {
   "cell_type": "markdown",
   "metadata": {},
   "source": [
    "DEV: Not clear if this actually works? can we only use shp seach on PODAAC provider data, or also POCLOUD?"
   ]
  },
  {
   "cell_type": "markdown",
   "metadata": {},
   "source": [
    "## 4. Preview the selected data"
   ]
  },
  {
   "cell_type": "code",
   "execution_count": null,
   "metadata": {},
   "outputs": [],
   "source": [
    "# code goes here"
   ]
  },
  {
   "cell_type": "markdown",
   "metadata": {},
   "source": [
    "### --> Can/should we also add temporal selection?"
   ]
  },
  {
   "cell_type": "markdown",
   "metadata": {},
   "source": [
    "## 5. Download after selection with shp\n",
    "Loop to Download the MODIS files based on our search criteria (those that intersect the region of interested (defined by our shapefile here)."
   ]
  },
  {
   "cell_type": "code",
   "execution_count": null,
   "metadata": {},
   "outputs": [],
   "source": [
    "# code goes here\n",
    "\n",
    "\n"
   ]
  },
  {
   "cell_type": "markdown",
   "metadata": {},
   "source": [
    "## ------ END Tutorial 2 ------"
   ]
  },
  {
   "cell_type": "code",
   "execution_count": null,
   "metadata": {},
   "outputs": [],
   "source": []
  }
 ],
 "metadata": {
  "kernelspec": {
   "display_name": "Python 3",
   "language": "python",
   "name": "python3"
  },
  "language_info": {
   "codemirror_mode": {
    "name": "ipython",
    "version": 3
   },
   "file_extension": ".py",
   "mimetype": "text/x-python",
   "name": "python",
   "nbconvert_exporter": "python",
   "pygments_lexer": "ipython3",
   "version": "3.7.6"
  }
 },
 "nbformat": 4,
 "nbformat_minor": 4
}
