{
 "cells": [
  {
   "cell_type": "markdown",
   "metadata": {},
   "source": [
    "# Harmony EOSS ZARR API Tutorial"
   ]
  },
  {
   "cell_type": "code",
   "execution_count": null,
   "metadata": {},
   "outputs": [],
   "source": [
    "# !{sys.executable} -m pip install zarr harmony-py curlify pystac fsspec boto3 s3fs"
   ]
  },
  {
   "cell_type": "markdown",
   "metadata": {},
   "source": [
    "## Before you start\n",
    "Before you beginning this tutorial, make sure you have an account in the Earthdata Login UAT or Production environment, which \n",
    "will be used for this notebook by visiting [https://uat.urs.earthdata.nasa.gov](https://uat.urs.earthdata.nasa.gov).\n",
    "These accounts, as all Earthdata Login accounts, are free to create and only take a moment to set up."
   ]
  },
  {
   "cell_type": "markdown",
   "metadata": {},
   "source": [
    "## Set Up Authentication\n",
    "\n",
    "We need some boilerplate up front to log in to Earthdata Login.  The function below will allow Python\n",
    "scripts to log into any Earthdata Login application programmatically.  To avoid being prompted for\n",
    "credentials every time you run and also allow clients such as curl to log in, you can add the following\n",
    "to a `.netrc` (`_netrc` on Windows) file in your home directory:\n",
    "\n",
    "```\n",
    "machine uat.urs.earthdata.nasa.gov\n",
    "    login <your username>\n",
    "    password <your password>\n",
    "    \n",
    "machine urs.earthdata.nasa.gov\n",
    "    login <your username>\n",
    "    password <your password>\n",
    "```\n",
    "\n",
    "Make sure that this file is only readable by the current user or you will receive an error stating\n",
    "\"netrc access too permissive.\"\n",
    "\n",
    "`$ chmod 0600 ~/.netrc` \n"
   ]
  },
  {
   "cell_type": "code",
   "execution_count": 5,
   "metadata": {},
   "outputs": [],
   "source": [
    "from urllib import request\n",
    "from http.cookiejar import CookieJar\n",
    "import getpass\n",
    "import netrc\n",
    "import json\n",
    "import requests\n",
    "import sys\n",
    "import shutil\n",
    "import harmony\n",
    "import zarr\n",
    "import pystac\n",
    "from IPython.display import display, JSON\n",
    "\n",
    "\n",
    "def setup_earthdata_login_auth(endpoint):\n",
    "    \"\"\"\n",
    "    Set up the request library so that it authenticates against the given Earthdata Login\n",
    "    endpoint and is able to track cookies between requests.  This looks in the .netrc file \n",
    "    first and if no credentials are found, it prompts for them.\n",
    "\n",
    "    Valid endpoints include:\n",
    "        uat.urs.earthdata.nasa.gov - Earthdata Login UAT (Harmony's current default)\n",
    "        urs.earthdata.nasa.gov - Earthdata Login production\n",
    "    \"\"\"\n",
    "    try:\n",
    "        username, _, password = netrc.netrc().authenticators(endpoint)\n",
    "    except (FileNotFoundError, TypeError):\n",
    "        # FileNotFound = There's no .netrc file\n",
    "        # TypeError = The endpoint isn't in the netrc file, causing the above to try unpacking None\n",
    "        print('Please provide your Earthdata Login credentials to allow data access')\n",
    "        print('Your credentials will only be passed to %s and will not be exposed in Jupyter' % (endpoint))\n",
    "        username = input('Username:')\n",
    "        password = getpass.getpass()\n",
    "\n",
    "    manager = request.HTTPPasswordMgrWithDefaultRealm()\n",
    "    manager.add_password(None, endpoint, username, password)\n",
    "    auth = request.HTTPBasicAuthHandler(manager)\n",
    "\n",
    "    jar = CookieJar()\n",
    "    processor = request.HTTPCookieProcessor(jar)\n",
    "    opener = request.build_opener(auth, processor)\n",
    "    request.install_opener(opener)\n",
    "\n",
    "\n",
    "# GET TOKEN FROM CMR \n",
    "def get_token( url: str,client_id: str, user_ip: str,endpoint: str) -> str:\n",
    "    try:\n",
    "        token: str = ''\n",
    "        username, _, password = netrc.netrc().authenticators(endpoint)\n",
    "        xml: str = \"\"\"<?xml version='1.0' encoding='utf-8'?>\n",
    "        <token><username>{}</username><password>{}</password><client_id>{}</client_id>\n",
    "        <user_ip_address>{}</user_ip_address></token>\"\"\".format(username, password, client_id, user_ip)\n",
    "        headers: Dict = {'Content-Type': 'application/xml','Accept': 'application/json'}\n",
    "        resp = requests.post(url, headers=headers, data=xml)\n",
    "        \n",
    "        response_content: Dict = json.loads(resp.content)\n",
    "        token = response_content['token']['id']\n",
    "    except:\n",
    "        print(\"Error getting the token - check user name and password\", sys.exc_info()[0])\n",
    "    return token"
   ]
  },
  {
   "cell_type": "markdown",
   "metadata": {},
   "source": [
    "### Setup Environment Parameters\n",
    "\n"
   ]
  },
  {
   "cell_type": "code",
   "execution_count": 6,
   "metadata": {
    "tags": [
     "parameters"
    ]
   },
   "outputs": [],
   "source": [
    "venue = 'prod'"
   ]
  },
  {
   "cell_type": "code",
   "execution_count": 7,
   "metadata": {},
   "outputs": [],
   "source": [
    "# Defaults\n",
    "cmr_root = 'cmr.earthdata.nasa.gov'\n",
    "harmony_client = harmony.Client(env=harmony.Environment.PROD)\n",
    "edl_root = 'urs.earthdata.nasa.gov'\n",
    "zarr_service_id = 'S2009180097-POCLOUD'"
   ]
  },
  {
   "cell_type": "code",
   "execution_count": 8,
   "metadata": {},
   "outputs": [
    {
     "name": "stdout",
     "output_type": "stream",
     "text": [
      "Environments: \n",
      "\tcmr.earthdata.nasa.gov\n",
      "\thttps://harmony.earthdata.nasa.gov\n",
      "\turs.earthdata.nasa.gov\n",
      "\tS2009180097-POCLOUD\n"
     ]
    }
   ],
   "source": [
    "if venue == 'uat':\n",
    "    cmr_root = 'cmr.uat.earthdata.nasa.gov'\n",
    "    harmony_client = harmony.Client(env=harmony.Environment.UAT)\n",
    "    edl_root = 'uat.urs.earthdata.nasa.gov'\n",
    "    zarr_service_id = 'TBD'\n",
    "\n",
    "print (\"Environments: \")\n",
    "print (\"\\t\" + cmr_root)\n",
    "print (\"\\t\" + harmony_client.config.root_url)\n",
    "print (\"\\t\" + edl_root)\n",
    "print (\"\\t\" + zarr_service_id)"
   ]
  },
  {
   "cell_type": "markdown",
   "metadata": {},
   "source": [
    "Now call the above function to set up Earthdata Login for subsequent requests"
   ]
  },
  {
   "cell_type": "code",
   "execution_count": 9,
   "metadata": {},
   "outputs": [],
   "source": [
    "setup_earthdata_login_auth(edl_root)\n",
    "token_url=\"https://\"+cmr_root+\"/legacy-services/rest/tokens\"\n",
    "token=get_token(token_url,'jupyter', '127.0.0.1',edl_root)"
   ]
  },
  {
   "cell_type": "markdown",
   "metadata": {},
   "source": [
    "##  Find POCLOUD collections associated to Zarr service\n",
    "\n",
    "This cell searches CMR for all POCLOUD collections associated to the Zarr reformatter service. For each collection it then searches for a single granule that can be used to try requesting as Zarr."
   ]
  },
  {
   "cell_type": "code",
   "execution_count": 10,
   "metadata": {},
   "outputs": [
    {
     "data": {
      "text/plain": [
       "[('C1996881862-POCLOUD', 'G2028350353-POCLOUD'),\n",
       " ('C1990404801-POCLOUD', 'G1991231042-POCLOUD'),\n",
       " ('C1991543823-POCLOUD', 'G1992649875-POCLOUD'),\n",
       " ('C1990404814-POCLOUD', 'G1991243029-POCLOUD'),\n",
       " ('C1991543805-POCLOUD', 'G1992672377-POCLOUD'),\n",
       " ('C1991543818-POCLOUD', 'G1997506185-POCLOUD'),\n",
       " ('C1991543733-POCLOUD', 'G1996984837-POCLOUD'),\n",
       " ('C1990404807-POCLOUD', 'G1991274267-POCLOUD'),\n",
       " ('C1991543824-POCLOUD', 'G1995305376-POCLOUD'),\n",
       " ('C1990404805-POCLOUD', 'G1991290412-POCLOUD')]"
      ]
     },
     "execution_count": 10,
     "metadata": {},
     "output_type": "execute_result"
    }
   ],
   "source": [
    "cmr_url = \"https://\"+cmr_root+\"/search/collections.umm_json?service_concept_id=\"+zarr_service_id\n",
    "response = requests.get(cmr_url)\n",
    "response.raise_for_status()\n",
    "response = response.json()\n",
    "collections=[item['meta']['concept-id'] for item in response['items']]\n",
    "\n",
    "collection_granule = []\n",
    "for c in collections:\n",
    "    cmr_url = \"https://\"+cmr_root+\"/search/granules.umm_json\"\n",
    "    response = requests.post(cmr_url, data={'collection_concept_id': c, 'page_size':1})\n",
    "    response.raise_for_status()\n",
    "    response = response.json()\n",
    "    collection_granule += [(c, response['items'][0]['meta']['concept-id'])]\n",
    "collection_granule"
   ]
  },
  {
   "cell_type": "markdown",
   "metadata": {},
   "source": [
    "## Send Harmony requests\n",
    "\n",
    "Send a Harmony request for each collection, granule tuple that should convert the requested granule to Zarr"
   ]
  },
  {
   "cell_type": "code",
   "execution_count": 11,
   "metadata": {},
   "outputs": [
    {
     "name": "stdout",
     "output_type": "stream",
     "text": [
      "('C1996881862-POCLOUD', 'G2028350353-POCLOUD')\n",
      "curl -X GET -H 'Accept: */*' -H 'Accept-Encoding: gzip, deflate, br' -H 'Connection: keep-alive' -H 'Cookie: urs_user_already_logged=yes; token=*****; _urs-gui_session=c04c1e17fc8f8d53c97a5b7d23ef11c3' -H 'User-Agent: harmony-py/0.3.0 python-requests/2.26.0 Linux/3.10.0-1160.21.1.el7.x86_64 CPython/3.9.0' 'https://harmony.earthdata.nasa.gov/C1996881862-POCLOUD/ogc-api-coverages/1.0.0/collections/all/coverage/rangeset?forceAsync=true&granuleId=G2028350353-POCLOUD&format=application%2Fx-zarr'\n",
      "('C1990404801-POCLOUD', 'G1991231042-POCLOUD')\n",
      "curl -X GET -H 'Accept: */*' -H 'Accept-Encoding: gzip, deflate, br' -H 'Connection: keep-alive' -H 'Cookie: urs_user_already_logged=yes; token=*****; _urs-gui_session=c04c1e17fc8f8d53c97a5b7d23ef11c3' -H 'User-Agent: harmony-py/0.3.0 python-requests/2.26.0 Linux/3.10.0-1160.21.1.el7.x86_64 CPython/3.9.0' 'https://harmony.earthdata.nasa.gov/C1990404801-POCLOUD/ogc-api-coverages/1.0.0/collections/all/coverage/rangeset?forceAsync=true&granuleId=G1991231042-POCLOUD&format=application%2Fx-zarr'\n",
      "('C1991543823-POCLOUD', 'G1992649875-POCLOUD')\n",
      "curl -X GET -H 'Accept: */*' -H 'Accept-Encoding: gzip, deflate, br' -H 'Connection: keep-alive' -H 'Cookie: urs_user_already_logged=yes; token=*****; _urs-gui_session=c04c1e17fc8f8d53c97a5b7d23ef11c3' -H 'User-Agent: harmony-py/0.3.0 python-requests/2.26.0 Linux/3.10.0-1160.21.1.el7.x86_64 CPython/3.9.0' 'https://harmony.earthdata.nasa.gov/C1991543823-POCLOUD/ogc-api-coverages/1.0.0/collections/all/coverage/rangeset?forceAsync=true&granuleId=G1992649875-POCLOUD&format=application%2Fx-zarr'\n",
      "('C1990404814-POCLOUD', 'G1991243029-POCLOUD')\n",
      "curl -X GET -H 'Accept: */*' -H 'Accept-Encoding: gzip, deflate, br' -H 'Connection: keep-alive' -H 'Cookie: urs_user_already_logged=yes; token=*****; _urs-gui_session=c04c1e17fc8f8d53c97a5b7d23ef11c3' -H 'User-Agent: harmony-py/0.3.0 python-requests/2.26.0 Linux/3.10.0-1160.21.1.el7.x86_64 CPython/3.9.0' 'https://harmony.earthdata.nasa.gov/C1990404814-POCLOUD/ogc-api-coverages/1.0.0/collections/all/coverage/rangeset?forceAsync=true&granuleId=G1991243029-POCLOUD&format=application%2Fx-zarr'\n",
      "('C1991543805-POCLOUD', 'G1992672377-POCLOUD')\n",
      "curl -X GET -H 'Accept: */*' -H 'Accept-Encoding: gzip, deflate, br' -H 'Connection: keep-alive' -H 'Cookie: urs_user_already_logged=yes; token=*****; _urs-gui_session=c04c1e17fc8f8d53c97a5b7d23ef11c3' -H 'User-Agent: harmony-py/0.3.0 python-requests/2.26.0 Linux/3.10.0-1160.21.1.el7.x86_64 CPython/3.9.0' 'https://harmony.earthdata.nasa.gov/C1991543805-POCLOUD/ogc-api-coverages/1.0.0/collections/all/coverage/rangeset?forceAsync=true&granuleId=G1992672377-POCLOUD&format=application%2Fx-zarr'\n",
      "('C1991543818-POCLOUD', 'G1997506185-POCLOUD')\n",
      "curl -X GET -H 'Accept: */*' -H 'Accept-Encoding: gzip, deflate, br' -H 'Connection: keep-alive' -H 'Cookie: urs_user_already_logged=yes; token=*****; _urs-gui_session=c04c1e17fc8f8d53c97a5b7d23ef11c3' -H 'User-Agent: harmony-py/0.3.0 python-requests/2.26.0 Linux/3.10.0-1160.21.1.el7.x86_64 CPython/3.9.0' 'https://harmony.earthdata.nasa.gov/C1991543818-POCLOUD/ogc-api-coverages/1.0.0/collections/all/coverage/rangeset?forceAsync=true&granuleId=G1997506185-POCLOUD&format=application%2Fx-zarr'\n",
      "('C1991543733-POCLOUD', 'G1996984837-POCLOUD')\n",
      "curl -X GET -H 'Accept: */*' -H 'Accept-Encoding: gzip, deflate, br' -H 'Connection: keep-alive' -H 'Cookie: urs_user_already_logged=yes; token=*****; _urs-gui_session=c04c1e17fc8f8d53c97a5b7d23ef11c3' -H 'User-Agent: harmony-py/0.3.0 python-requests/2.26.0 Linux/3.10.0-1160.21.1.el7.x86_64 CPython/3.9.0' 'https://harmony.earthdata.nasa.gov/C1991543733-POCLOUD/ogc-api-coverages/1.0.0/collections/all/coverage/rangeset?forceAsync=true&granuleId=G1996984837-POCLOUD&format=application%2Fx-zarr'\n",
      "('C1990404807-POCLOUD', 'G1991274267-POCLOUD')\n",
      "curl -X GET -H 'Accept: */*' -H 'Accept-Encoding: gzip, deflate, br' -H 'Connection: keep-alive' -H 'Cookie: urs_user_already_logged=yes; token=*****; _urs-gui_session=c04c1e17fc8f8d53c97a5b7d23ef11c3' -H 'User-Agent: harmony-py/0.3.0 python-requests/2.26.0 Linux/3.10.0-1160.21.1.el7.x86_64 CPython/3.9.0' 'https://harmony.earthdata.nasa.gov/C1990404807-POCLOUD/ogc-api-coverages/1.0.0/collections/all/coverage/rangeset?forceAsync=true&granuleId=G1991274267-POCLOUD&format=application%2Fx-zarr'\n",
      "('C1991543824-POCLOUD', 'G1995305376-POCLOUD')\n",
      "curl -X GET -H 'Accept: */*' -H 'Accept-Encoding: gzip, deflate, br' -H 'Connection: keep-alive' -H 'Cookie: urs_user_already_logged=yes; token=*****; _urs-gui_session=c04c1e17fc8f8d53c97a5b7d23ef11c3' -H 'User-Agent: harmony-py/0.3.0 python-requests/2.26.0 Linux/3.10.0-1160.21.1.el7.x86_64 CPython/3.9.0' 'https://harmony.earthdata.nasa.gov/C1991543824-POCLOUD/ogc-api-coverages/1.0.0/collections/all/coverage/rangeset?forceAsync=true&granuleId=G1995305376-POCLOUD&format=application%2Fx-zarr'\n",
      "('C1990404805-POCLOUD', 'G1991290412-POCLOUD')\n",
      "curl -X GET -H 'Accept: */*' -H 'Accept-Encoding: gzip, deflate, br' -H 'Connection: keep-alive' -H 'Cookie: urs_user_already_logged=yes; token=*****; _urs-gui_session=c04c1e17fc8f8d53c97a5b7d23ef11c3' -H 'User-Agent: harmony-py/0.3.0 python-requests/2.26.0 Linux/3.10.0-1160.21.1.el7.x86_64 CPython/3.9.0' 'https://harmony.earthdata.nasa.gov/C1990404805-POCLOUD/ogc-api-coverages/1.0.0/collections/all/coverage/rangeset?forceAsync=true&granuleId=G1991290412-POCLOUD&format=application%2Fx-zarr'\n"
     ]
    },
    {
     "data": {
      "text/plain": [
       "[('C1996881862-POCLOUD',\n",
       "  'G2028350353-POCLOUD',\n",
       "  '3b4d98f1-0da5-4d61-8e0f-abbf4b4fb479'),\n",
       " ('C1990404801-POCLOUD',\n",
       "  'G1991231042-POCLOUD',\n",
       "  '82a16e70-c5e2-48dc-8e0f-3a683b894162'),\n",
       " ('C1991543823-POCLOUD',\n",
       "  'G1992649875-POCLOUD',\n",
       "  '18e2e952-8054-4138-ba1f-5c6db2ff22e3'),\n",
       " ('C1990404814-POCLOUD',\n",
       "  'G1991243029-POCLOUD',\n",
       "  '60abfa28-094c-4048-9bc7-45eb57075d2e'),\n",
       " ('C1991543805-POCLOUD',\n",
       "  'G1992672377-POCLOUD',\n",
       "  '32b30b30-0cc4-413e-8893-17e8cb961600'),\n",
       " ('C1991543818-POCLOUD',\n",
       "  'G1997506185-POCLOUD',\n",
       "  'a90649aa-1466-4b69-96a0-e4f4e63d13b0'),\n",
       " ('C1991543733-POCLOUD',\n",
       "  'G1996984837-POCLOUD',\n",
       "  'bc7d94d7-b4e1-450f-bdb0-9c9fe738ea11'),\n",
       " ('C1990404807-POCLOUD',\n",
       "  'G1991274267-POCLOUD',\n",
       "  'ed826f9a-2aef-4786-87d5-f20d4faa4aeb'),\n",
       " ('C1991543824-POCLOUD',\n",
       "  'G1995305376-POCLOUD',\n",
       "  '304f728c-a7c4-4e31-9312-e57e5ca2530d'),\n",
       " ('C1990404805-POCLOUD',\n",
       "  'G1991290412-POCLOUD',\n",
       "  '9fa0cc27-4a1f-4430-aabb-b064a03b9bab')]"
      ]
     },
     "execution_count": 11,
     "metadata": {},
     "output_type": "execute_result"
    }
   ],
   "source": [
    "def send_request(args):\n",
    "    print(args)\n",
    "    collection, granule = args\n",
    "    request = harmony.Request(\n",
    "        collection=harmony.Collection(id=collection),\n",
    "        format='application/x-zarr',\n",
    "        granule_id=granule\n",
    "    )\n",
    "    assert request.is_valid()\n",
    "    print(harmony_client.request_as_curl(request))\n",
    "    job_id = harmony_client.submit(request)\n",
    "    return collection, granule, job_id\n",
    "\n",
    "collection_granule_jobid = list(map(send_request, collection_granule))\n",
    "collection_granule_jobid"
   ]
  },
  {
   "cell_type": "markdown",
   "metadata": {},
   "source": [
    "## Wait for results\n",
    "\n",
    "Wait for all Harmony jobs to complete"
   ]
  },
  {
   "cell_type": "code",
   "execution_count": 12,
   "metadata": {},
   "outputs": [
    {
     "data": {
      "application/json": {
       "createdAt": "2021-09-28T19:02:40.470Z",
       "jobID": "3b4d98f1-0da5-4d61-8e0f-abbf4b4fb479",
       "links": [
        {
         "href": "https://harmony.earthdata.nasa.gov/stac/3b4d98f1-0da5-4d61-8e0f-abbf4b4fb479/",
         "rel": "stac-catalog-json",
         "title": "STAC catalog",
         "type": "application/json"
        },
        {
         "href": "https://harmony.earthdata.nasa.gov/cloud-access.sh",
         "rel": "cloud-access-sh",
         "title": "Access keys for s3:// URLs, usable from AWS us-west-2 (Shell format)",
         "type": "application/x-sh"
        },
        {
         "href": "https://harmony.earthdata.nasa.gov/cloud-access",
         "rel": "cloud-access-json",
         "title": "Access keys for s3:// URLs, usable from AWS us-west-2 (JSON format)",
         "type": "application/json"
        },
        {
         "href": "s3://harmony-prod-staging/public/harmony/netcdf-to-zarr/3454ebe7-2b60-42b8-b0a9-9144a3de8008/",
         "rel": "s3-access",
         "title": "Results in AWS S3. Access from AWS us-west-2 with keys from /cloud-access.sh"
        },
        {
         "bbox": [
          0,
          -42.943,
          -0.002,
          41.634
         ],
         "href": "s3://harmony-prod-staging/public/harmony/netcdf-to-zarr/3454ebe7-2b60-42b8-b0a9-9144a3de8008/cyg06.ddmi.s20170318-000000-e20170318-235959.l1.power-brcs-cdr.a10.d10.zarr",
         "rel": "data",
         "temporal": {
          "end": "2017-03-18T23:59:59.999Z",
          "start": "2017-03-18T00:00:00.999Z"
         },
         "title": "cyg06.ddmi.s20170318-000000-e20170318-235959.l1.power-brcs-cdr.a10.d10.zarr",
         "type": "application/x-zarr"
        },
        {
         "href": "https://harmony.earthdata.nasa.gov/jobs/3b4d98f1-0da5-4d61-8e0f-abbf4b4fb479?linktype=https&page=1&limit=2000",
         "rel": "self",
         "title": "The current page",
         "type": "application/json"
        }
       ],
       "message": "The job has completed successfully. Contains results in AWS S3. Access from AWS us-west-2 with keys from https://harmony.earthdata.nasa.gov/cloud-access.sh",
       "numInputGranules": 1,
       "progress": 100,
       "request": "https://harmony.earthdata.nasa.gov/C1996881862-POCLOUD/ogc-api-coverages/1.0.0/collections/all/coverage/rangeset?forceAsync=true&granuleId=G2028350353-POCLOUD&format=application%2Fx-zarr",
       "status": "successful",
       "updatedAt": "2021-09-28T19:05:02.189Z",
       "username": "greguska"
      },
      "text/plain": [
       "<IPython.core.display.JSON object>"
      ]
     },
     "metadata": {
      "application/json": {
       "expanded": false,
       "root": "root"
      }
     },
     "output_type": "display_data"
    },
    {
     "data": {
      "application/json": {
       "createdAt": "2021-09-28T19:02:41.825Z",
       "jobID": "82a16e70-c5e2-48dc-8e0f-3a683b894162",
       "links": [
        {
         "href": "https://harmony.earthdata.nasa.gov/stac/82a16e70-c5e2-48dc-8e0f-3a683b894162/",
         "rel": "stac-catalog-json",
         "title": "STAC catalog",
         "type": "application/json"
        },
        {
         "href": "https://harmony.earthdata.nasa.gov/cloud-access.sh",
         "rel": "cloud-access-sh",
         "title": "Access keys for s3:// URLs, usable from AWS us-west-2 (Shell format)",
         "type": "application/x-sh"
        },
        {
         "href": "https://harmony.earthdata.nasa.gov/cloud-access",
         "rel": "cloud-access-json",
         "title": "Access keys for s3:// URLs, usable from AWS us-west-2 (JSON format)",
         "type": "application/json"
        },
        {
         "href": "s3://harmony-prod-staging/public/harmony/netcdf-to-zarr/90aba1a8-b5d0-49e2-8e4d-f2fe016d4f6f/",
         "rel": "s3-access",
         "title": "Results in AWS S3. Access from AWS us-west-2 with keys from /cloud-access.sh"
        },
        {
         "bbox": [
          -180,
          -90,
          180,
          90
         ],
         "href": "s3://harmony-prod-staging/public/harmony/netcdf-to-zarr/90aba1a8-b5d0-49e2-8e4d-f2fe016d4f6f/ATM_SURFACE_TEMP_HUM_WIND_PRES_day_mean_1992-01-01_ECCO_V4r4_latlon_0p50deg.zarr",
         "rel": "data",
         "temporal": {
          "end": "1992-01-02T00:00:00.000Z",
          "start": "1992-01-01T12:00:00.000Z"
         },
         "title": "ATM_SURFACE_TEMP_HUM_WIND_PRES_day_mean_1992-01-01_ECCO_V4r4_latlon_0p50deg.zarr",
         "type": "application/x-zarr"
        },
        {
         "href": "https://harmony.earthdata.nasa.gov/jobs/82a16e70-c5e2-48dc-8e0f-3a683b894162?linktype=https&page=1&limit=2000",
         "rel": "self",
         "title": "The current page",
         "type": "application/json"
        }
       ],
       "message": "The job has completed successfully. Contains results in AWS S3. Access from AWS us-west-2 with keys from https://harmony.earthdata.nasa.gov/cloud-access.sh",
       "numInputGranules": 1,
       "progress": 100,
       "request": "https://harmony.earthdata.nasa.gov/C1990404801-POCLOUD/ogc-api-coverages/1.0.0/collections/all/coverage/rangeset?forceAsync=true&granuleId=G1991231042-POCLOUD&format=application%2Fx-zarr",
       "status": "successful",
       "updatedAt": "2021-09-28T19:03:18.583Z",
       "username": "greguska"
      },
      "text/plain": [
       "<IPython.core.display.JSON object>"
      ]
     },
     "metadata": {
      "application/json": {
       "expanded": false,
       "root": "root"
      }
     },
     "output_type": "display_data"
    },
    {
     "data": {
      "application/json": {
       "createdAt": "2021-09-28T19:02:43.220Z",
       "jobID": "18e2e952-8054-4138-ba1f-5c6db2ff22e3",
       "links": [
        {
         "href": "https://harmony.earthdata.nasa.gov/stac/18e2e952-8054-4138-ba1f-5c6db2ff22e3/",
         "rel": "stac-catalog-json",
         "title": "STAC catalog",
         "type": "application/json"
        },
        {
         "href": "https://harmony.earthdata.nasa.gov/cloud-access.sh",
         "rel": "cloud-access-sh",
         "title": "Access keys for s3:// URLs, usable from AWS us-west-2 (Shell format)",
         "type": "application/x-sh"
        },
        {
         "href": "https://harmony.earthdata.nasa.gov/cloud-access",
         "rel": "cloud-access-json",
         "title": "Access keys for s3:// URLs, usable from AWS us-west-2 (JSON format)",
         "type": "application/json"
        },
        {
         "href": "s3://harmony-prod-staging/public/harmony/netcdf-to-zarr/47643c19-372f-4b62-b865-4270f145ff21/",
         "rel": "s3-access",
         "title": "Results in AWS S3. Access from AWS us-west-2 with keys from /cloud-access.sh"
        },
        {
         "bbox": [
          -180,
          -90,
          180,
          90
         ],
         "href": "s3://harmony-prod-staging/public/harmony/netcdf-to-zarr/47643c19-372f-4b62-b865-4270f145ff21/ATM_SURFACE_TEMP_HUM_WIND_PRES_day_mean_1992-01-01_ECCO_V4r4_native_llc0090.zarr",
         "rel": "data",
         "temporal": {
          "end": "1992-01-02T00:00:00.000Z",
          "start": "1992-01-01T12:00:00.000Z"
         },
         "title": "ATM_SURFACE_TEMP_HUM_WIND_PRES_day_mean_1992-01-01_ECCO_V4r4_native_llc0090.zarr",
         "type": "application/x-zarr"
        },
        {
         "href": "https://harmony.earthdata.nasa.gov/jobs/18e2e952-8054-4138-ba1f-5c6db2ff22e3?linktype=https&page=1&limit=2000",
         "rel": "self",
         "title": "The current page",
         "type": "application/json"
        }
       ],
       "message": "The job has completed successfully. Contains results in AWS S3. Access from AWS us-west-2 with keys from https://harmony.earthdata.nasa.gov/cloud-access.sh",
       "numInputGranules": 1,
       "progress": 100,
       "request": "https://harmony.earthdata.nasa.gov/C1991543823-POCLOUD/ogc-api-coverages/1.0.0/collections/all/coverage/rangeset?forceAsync=true&granuleId=G1992649875-POCLOUD&format=application%2Fx-zarr",
       "status": "successful",
       "updatedAt": "2021-09-28T19:03:20.865Z",
       "username": "greguska"
      },
      "text/plain": [
       "<IPython.core.display.JSON object>"
      ]
     },
     "metadata": {
      "application/json": {
       "expanded": false,
       "root": "root"
      }
     },
     "output_type": "display_data"
    },
    {
     "data": {
      "application/json": {
       "createdAt": "2021-09-28T19:02:44.591Z",
       "jobID": "60abfa28-094c-4048-9bc7-45eb57075d2e",
       "links": [
        {
         "href": "https://harmony.earthdata.nasa.gov/stac/60abfa28-094c-4048-9bc7-45eb57075d2e/",
         "rel": "stac-catalog-json",
         "title": "STAC catalog",
         "type": "application/json"
        },
        {
         "href": "https://harmony.earthdata.nasa.gov/cloud-access.sh",
         "rel": "cloud-access-sh",
         "title": "Access keys for s3:// URLs, usable from AWS us-west-2 (Shell format)",
         "type": "application/x-sh"
        },
        {
         "href": "https://harmony.earthdata.nasa.gov/cloud-access",
         "rel": "cloud-access-json",
         "title": "Access keys for s3:// URLs, usable from AWS us-west-2 (JSON format)",
         "type": "application/json"
        },
        {
         "href": "s3://harmony-prod-staging/public/harmony/netcdf-to-zarr/30b24d14-f25c-4ae9-b4de-b566311530aa/",
         "rel": "s3-access",
         "title": "Results in AWS S3. Access from AWS us-west-2 with keys from /cloud-access.sh"
        },
        {
         "bbox": [
          -180,
          -90,
          180,
          90
         ],
         "href": "s3://harmony-prod-staging/public/harmony/netcdf-to-zarr/30b24d14-f25c-4ae9-b4de-b566311530aa/ATM_SURFACE_TEMP_HUM_WIND_PRES_mon_mean_1992-01_ECCO_V4r4_latlon_0p50deg.zarr",
         "rel": "data",
         "temporal": {
          "end": "1992-02-01T00:00:00.000Z",
          "start": "1992-01-01T12:00:00.000Z"
         },
         "title": "ATM_SURFACE_TEMP_HUM_WIND_PRES_mon_mean_1992-01_ECCO_V4r4_latlon_0p50deg.zarr",
         "type": "application/x-zarr"
        },
        {
         "href": "https://harmony.earthdata.nasa.gov/jobs/60abfa28-094c-4048-9bc7-45eb57075d2e?linktype=https&page=1&limit=2000",
         "rel": "self",
         "title": "The current page",
         "type": "application/json"
        }
       ],
       "message": "The job has completed successfully. Contains results in AWS S3. Access from AWS us-west-2 with keys from https://harmony.earthdata.nasa.gov/cloud-access.sh",
       "numInputGranules": 1,
       "progress": 100,
       "request": "https://harmony.earthdata.nasa.gov/C1990404814-POCLOUD/ogc-api-coverages/1.0.0/collections/all/coverage/rangeset?forceAsync=true&granuleId=G1991243029-POCLOUD&format=application%2Fx-zarr",
       "status": "successful",
       "updatedAt": "2021-09-28T19:03:18.563Z",
       "username": "greguska"
      },
      "text/plain": [
       "<IPython.core.display.JSON object>"
      ]
     },
     "metadata": {
      "application/json": {
       "expanded": false,
       "root": "root"
      }
     },
     "output_type": "display_data"
    },
    {
     "data": {
      "application/json": {
       "createdAt": "2021-09-28T19:02:45.889Z",
       "jobID": "32b30b30-0cc4-413e-8893-17e8cb961600",
       "links": [
        {
         "href": "https://harmony.earthdata.nasa.gov/stac/32b30b30-0cc4-413e-8893-17e8cb961600/",
         "rel": "stac-catalog-json",
         "title": "STAC catalog",
         "type": "application/json"
        },
        {
         "href": "https://harmony.earthdata.nasa.gov/cloud-access.sh",
         "rel": "cloud-access-sh",
         "title": "Access keys for s3:// URLs, usable from AWS us-west-2 (Shell format)",
         "type": "application/x-sh"
        },
        {
         "href": "https://harmony.earthdata.nasa.gov/cloud-access",
         "rel": "cloud-access-json",
         "title": "Access keys for s3:// URLs, usable from AWS us-west-2 (JSON format)",
         "type": "application/json"
        },
        {
         "href": "s3://harmony-prod-staging/public/harmony/netcdf-to-zarr/386e9322-ef32-4f8e-be54-19fcdf7d7201/",
         "rel": "s3-access",
         "title": "Results in AWS S3. Access from AWS us-west-2 with keys from /cloud-access.sh"
        },
        {
         "bbox": [
          -180,
          -90,
          180,
          90
         ],
         "href": "s3://harmony-prod-staging/public/harmony/netcdf-to-zarr/386e9322-ef32-4f8e-be54-19fcdf7d7201/ATM_SURFACE_TEMP_HUM_WIND_PRES_mon_mean_1992-01_ECCO_V4r4_native_llc0090.zarr",
         "rel": "data",
         "temporal": {
          "end": "1992-02-01T00:00:00.000Z",
          "start": "1992-01-01T12:00:00.000Z"
         },
         "title": "ATM_SURFACE_TEMP_HUM_WIND_PRES_mon_mean_1992-01_ECCO_V4r4_native_llc0090.zarr",
         "type": "application/x-zarr"
        },
        {
         "href": "https://harmony.earthdata.nasa.gov/jobs/32b30b30-0cc4-413e-8893-17e8cb961600?linktype=https&page=1&limit=2000",
         "rel": "self",
         "title": "The current page",
         "type": "application/json"
        }
       ],
       "message": "The job has completed successfully. Contains results in AWS S3. Access from AWS us-west-2 with keys from https://harmony.earthdata.nasa.gov/cloud-access.sh",
       "numInputGranules": 1,
       "progress": 100,
       "request": "https://harmony.earthdata.nasa.gov/C1991543805-POCLOUD/ogc-api-coverages/1.0.0/collections/all/coverage/rangeset?forceAsync=true&granuleId=G1992672377-POCLOUD&format=application%2Fx-zarr",
       "status": "successful",
       "updatedAt": "2021-09-28T19:03:35.952Z",
       "username": "greguska"
      },
      "text/plain": [
       "<IPython.core.display.JSON object>"
      ]
     },
     "metadata": {
      "application/json": {
       "expanded": false,
       "root": "root"
      }
     },
     "output_type": "display_data"
    },
    {
     "data": {
      "application/json": {
       "createdAt": "2021-09-28T19:02:47.175Z",
       "jobID": "a90649aa-1466-4b69-96a0-e4f4e63d13b0",
       "links": [
        {
         "href": "https://harmony.earthdata.nasa.gov/stac/a90649aa-1466-4b69-96a0-e4f4e63d13b0/",
         "rel": "stac-catalog-json",
         "title": "STAC catalog",
         "type": "application/json"
        },
        {
         "href": "https://harmony.earthdata.nasa.gov/cloud-access.sh",
         "rel": "cloud-access-sh",
         "title": "Access keys for s3:// URLs, usable from AWS us-west-2 (Shell format)",
         "type": "application/x-sh"
        },
        {
         "href": "https://harmony.earthdata.nasa.gov/cloud-access",
         "rel": "cloud-access-json",
         "title": "Access keys for s3:// URLs, usable from AWS us-west-2 (JSON format)",
         "type": "application/json"
        },
        {
         "href": "s3://harmony-prod-staging/public/harmony/netcdf-to-zarr/22ddaf57-026c-4e1a-a088-461f1c321108/",
         "rel": "s3-access",
         "title": "Results in AWS S3. Access from AWS us-west-2 with keys from /cloud-access.sh"
        },
        {
         "bbox": [
          -180,
          -90,
          180,
          90
         ],
         "href": "s3://harmony-prod-staging/public/harmony/netcdf-to-zarr/22ddaf57-026c-4e1a-a088-461f1c321108/OCEAN_BOLUS_STREAMFUNCTION_day_mean_1992-01-01_ECCO_V4r4_native_llc0090.zarr",
         "rel": "data",
         "temporal": {
          "end": "1992-01-02T00:00:00.000Z",
          "start": "1992-01-01T12:00:00.000Z"
         },
         "title": "OCEAN_BOLUS_STREAMFUNCTION_day_mean_1992-01-01_ECCO_V4r4_native_llc0090.zarr",
         "type": "application/x-zarr"
        },
        {
         "href": "https://harmony.earthdata.nasa.gov/jobs/a90649aa-1466-4b69-96a0-e4f4e63d13b0?linktype=https&page=1&limit=2000",
         "rel": "self",
         "title": "The current page",
         "type": "application/json"
        }
       ],
       "message": "The job has completed successfully. Contains results in AWS S3. Access from AWS us-west-2 with keys from https://harmony.earthdata.nasa.gov/cloud-access.sh",
       "numInputGranules": 1,
       "progress": 100,
       "request": "https://harmony.earthdata.nasa.gov/C1991543818-POCLOUD/ogc-api-coverages/1.0.0/collections/all/coverage/rangeset?forceAsync=true&granuleId=G1997506185-POCLOUD&format=application%2Fx-zarr",
       "status": "successful",
       "updatedAt": "2021-09-28T19:03:36.057Z",
       "username": "greguska"
      },
      "text/plain": [
       "<IPython.core.display.JSON object>"
      ]
     },
     "metadata": {
      "application/json": {
       "expanded": false,
       "root": "root"
      }
     },
     "output_type": "display_data"
    },
    {
     "data": {
      "application/json": {
       "createdAt": "2021-09-28T19:02:48.515Z",
       "jobID": "bc7d94d7-b4e1-450f-bdb0-9c9fe738ea11",
       "links": [
        {
         "href": "https://harmony.earthdata.nasa.gov/stac/bc7d94d7-b4e1-450f-bdb0-9c9fe738ea11/",
         "rel": "stac-catalog-json",
         "title": "STAC catalog",
         "type": "application/json"
        },
        {
         "href": "https://harmony.earthdata.nasa.gov/cloud-access.sh",
         "rel": "cloud-access-sh",
         "title": "Access keys for s3:// URLs, usable from AWS us-west-2 (Shell format)",
         "type": "application/x-sh"
        },
        {
         "href": "https://harmony.earthdata.nasa.gov/cloud-access",
         "rel": "cloud-access-json",
         "title": "Access keys for s3:// URLs, usable from AWS us-west-2 (JSON format)",
         "type": "application/json"
        },
        {
         "href": "s3://harmony-prod-staging/public/harmony/netcdf-to-zarr/ffd9d667-f7d5-423d-bab6-4699f50862a9/",
         "rel": "s3-access",
         "title": "Results in AWS S3. Access from AWS us-west-2 with keys from /cloud-access.sh"
        },
        {
         "bbox": [
          -180,
          -90,
          180,
          90
         ],
         "href": "s3://harmony-prod-staging/public/harmony/netcdf-to-zarr/ffd9d667-f7d5-423d-bab6-4699f50862a9/OCEAN_BOLUS_STREAMFUNCTION_mon_mean_1992-01_ECCO_V4r4_native_llc0090.zarr",
         "rel": "data",
         "temporal": {
          "end": "1992-02-01T00:00:00.000Z",
          "start": "1992-01-01T12:00:00.000Z"
         },
         "title": "OCEAN_BOLUS_STREAMFUNCTION_mon_mean_1992-01_ECCO_V4r4_native_llc0090.zarr",
         "type": "application/x-zarr"
        },
        {
         "href": "https://harmony.earthdata.nasa.gov/jobs/bc7d94d7-b4e1-450f-bdb0-9c9fe738ea11?linktype=https&page=1&limit=2000",
         "rel": "self",
         "title": "The current page",
         "type": "application/json"
        }
       ],
       "message": "The job has completed successfully. Contains results in AWS S3. Access from AWS us-west-2 with keys from https://harmony.earthdata.nasa.gov/cloud-access.sh",
       "numInputGranules": 1,
       "progress": 100,
       "request": "https://harmony.earthdata.nasa.gov/C1991543733-POCLOUD/ogc-api-coverages/1.0.0/collections/all/coverage/rangeset?forceAsync=true&granuleId=G1996984837-POCLOUD&format=application%2Fx-zarr",
       "status": "successful",
       "updatedAt": "2021-09-28T19:04:01.798Z",
       "username": "greguska"
      },
      "text/plain": [
       "<IPython.core.display.JSON object>"
      ]
     },
     "metadata": {
      "application/json": {
       "expanded": false,
       "root": "root"
      }
     },
     "output_type": "display_data"
    },
    {
     "data": {
      "application/json": {
       "createdAt": "2021-09-28T19:02:49.804Z",
       "jobID": "ed826f9a-2aef-4786-87d5-f20d4faa4aeb",
       "links": [
        {
         "href": "https://harmony.earthdata.nasa.gov/stac/ed826f9a-2aef-4786-87d5-f20d4faa4aeb/",
         "rel": "stac-catalog-json",
         "title": "STAC catalog",
         "type": "application/json"
        },
        {
         "href": "https://harmony.earthdata.nasa.gov/cloud-access.sh",
         "rel": "cloud-access-sh",
         "title": "Access keys for s3:// URLs, usable from AWS us-west-2 (Shell format)",
         "type": "application/x-sh"
        },
        {
         "href": "https://harmony.earthdata.nasa.gov/cloud-access",
         "rel": "cloud-access-json",
         "title": "Access keys for s3:// URLs, usable from AWS us-west-2 (JSON format)",
         "type": "application/json"
        },
        {
         "href": "s3://harmony-prod-staging/public/harmony/netcdf-to-zarr/b6d8535c-5a9a-4623-be60-b76b33a99612/",
         "rel": "s3-access",
         "title": "Results in AWS S3. Access from AWS us-west-2 with keys from /cloud-access.sh"
        },
        {
         "bbox": [
          -180,
          -90,
          180,
          90
         ],
         "href": "s3://harmony-prod-staging/public/harmony/netcdf-to-zarr/b6d8535c-5a9a-4623-be60-b76b33a99612/OCEAN_BOLUS_VELOCITY_day_mean_1992-01-01_ECCO_V4r4_latlon_0p50deg.zarr",
         "rel": "data",
         "temporal": {
          "end": "1992-01-02T00:00:00.000Z",
          "start": "1992-01-01T12:00:00.000Z"
         },
         "title": "OCEAN_BOLUS_VELOCITY_day_mean_1992-01-01_ECCO_V4r4_latlon_0p50deg.zarr",
         "type": "application/x-zarr"
        },
        {
         "href": "https://harmony.earthdata.nasa.gov/jobs/ed826f9a-2aef-4786-87d5-f20d4faa4aeb?linktype=https&page=1&limit=2000",
         "rel": "self",
         "title": "The current page",
         "type": "application/json"
        }
       ],
       "message": "The job has completed successfully. Contains results in AWS S3. Access from AWS us-west-2 with keys from https://harmony.earthdata.nasa.gov/cloud-access.sh",
       "numInputGranules": 1,
       "progress": 100,
       "request": "https://harmony.earthdata.nasa.gov/C1990404807-POCLOUD/ogc-api-coverages/1.0.0/collections/all/coverage/rangeset?forceAsync=true&granuleId=G1991274267-POCLOUD&format=application%2Fx-zarr",
       "status": "successful",
       "updatedAt": "2021-09-28T19:03:50.031Z",
       "username": "greguska"
      },
      "text/plain": [
       "<IPython.core.display.JSON object>"
      ]
     },
     "metadata": {
      "application/json": {
       "expanded": false,
       "root": "root"
      }
     },
     "output_type": "display_data"
    },
    {
     "data": {
      "application/json": {
       "createdAt": "2021-09-28T19:02:51.103Z",
       "jobID": "304f728c-a7c4-4e31-9312-e57e5ca2530d",
       "links": [
        {
         "href": "https://harmony.earthdata.nasa.gov/stac/304f728c-a7c4-4e31-9312-e57e5ca2530d/",
         "rel": "stac-catalog-json",
         "title": "STAC catalog",
         "type": "application/json"
        },
        {
         "href": "https://harmony.earthdata.nasa.gov/cloud-access.sh",
         "rel": "cloud-access-sh",
         "title": "Access keys for s3:// URLs, usable from AWS us-west-2 (Shell format)",
         "type": "application/x-sh"
        },
        {
         "href": "https://harmony.earthdata.nasa.gov/cloud-access",
         "rel": "cloud-access-json",
         "title": "Access keys for s3:// URLs, usable from AWS us-west-2 (JSON format)",
         "type": "application/json"
        },
        {
         "href": "s3://harmony-prod-staging/public/harmony/netcdf-to-zarr/6a3ca18a-a67c-44dd-b8e1-ba67b887b3a3/",
         "rel": "s3-access",
         "title": "Results in AWS S3. Access from AWS us-west-2 with keys from /cloud-access.sh"
        },
        {
         "bbox": [
          -180,
          -90,
          180,
          90
         ],
         "href": "s3://harmony-prod-staging/public/harmony/netcdf-to-zarr/6a3ca18a-a67c-44dd-b8e1-ba67b887b3a3/OCEAN_BOLUS_VELOCITY_day_mean_1992-01-01_ECCO_V4r4_native_llc0090.zarr",
         "rel": "data",
         "temporal": {
          "end": "1992-01-02T00:00:00.000Z",
          "start": "1992-01-01T12:00:00.000Z"
         },
         "title": "OCEAN_BOLUS_VELOCITY_day_mean_1992-01-01_ECCO_V4r4_native_llc0090.zarr",
         "type": "application/x-zarr"
        },
        {
         "href": "https://harmony.earthdata.nasa.gov/jobs/304f728c-a7c4-4e31-9312-e57e5ca2530d?linktype=https&page=1&limit=2000",
         "rel": "self",
         "title": "The current page",
         "type": "application/json"
        }
       ],
       "message": "The job has completed successfully. Contains results in AWS S3. Access from AWS us-west-2 with keys from https://harmony.earthdata.nasa.gov/cloud-access.sh",
       "numInputGranules": 1,
       "progress": 100,
       "request": "https://harmony.earthdata.nasa.gov/C1991543824-POCLOUD/ogc-api-coverages/1.0.0/collections/all/coverage/rangeset?forceAsync=true&granuleId=G1995305376-POCLOUD&format=application%2Fx-zarr",
       "status": "successful",
       "updatedAt": "2021-09-28T19:03:55.417Z",
       "username": "greguska"
      },
      "text/plain": [
       "<IPython.core.display.JSON object>"
      ]
     },
     "metadata": {
      "application/json": {
       "expanded": false,
       "root": "root"
      }
     },
     "output_type": "display_data"
    },
    {
     "data": {
      "application/json": {
       "createdAt": "2021-09-28T19:02:52.484Z",
       "jobID": "9fa0cc27-4a1f-4430-aabb-b064a03b9bab",
       "links": [
        {
         "href": "https://harmony.earthdata.nasa.gov/stac/9fa0cc27-4a1f-4430-aabb-b064a03b9bab/",
         "rel": "stac-catalog-json",
         "title": "STAC catalog",
         "type": "application/json"
        },
        {
         "href": "https://harmony.earthdata.nasa.gov/cloud-access.sh",
         "rel": "cloud-access-sh",
         "title": "Access keys for s3:// URLs, usable from AWS us-west-2 (Shell format)",
         "type": "application/x-sh"
        },
        {
         "href": "https://harmony.earthdata.nasa.gov/cloud-access",
         "rel": "cloud-access-json",
         "title": "Access keys for s3:// URLs, usable from AWS us-west-2 (JSON format)",
         "type": "application/json"
        },
        {
         "href": "s3://harmony-prod-staging/public/harmony/netcdf-to-zarr/9383fcde-e148-4f62-badd-9881ba30dd1e/",
         "rel": "s3-access",
         "title": "Results in AWS S3. Access from AWS us-west-2 with keys from /cloud-access.sh"
        },
        {
         "bbox": [
          -180,
          -90,
          180,
          90
         ],
         "href": "s3://harmony-prod-staging/public/harmony/netcdf-to-zarr/9383fcde-e148-4f62-badd-9881ba30dd1e/OCEAN_BOLUS_VELOCITY_mon_mean_1992-01_ECCO_V4r4_latlon_0p50deg.zarr",
         "rel": "data",
         "temporal": {
          "end": "1992-02-01T00:00:00.000Z",
          "start": "1992-01-01T12:00:00.000Z"
         },
         "title": "OCEAN_BOLUS_VELOCITY_mon_mean_1992-01_ECCO_V4r4_latlon_0p50deg.zarr",
         "type": "application/x-zarr"
        },
        {
         "href": "https://harmony.earthdata.nasa.gov/jobs/9fa0cc27-4a1f-4430-aabb-b064a03b9bab?linktype=https&page=1&limit=2000",
         "rel": "self",
         "title": "The current page",
         "type": "application/json"
        }
       ],
       "message": "The job has completed successfully. Contains results in AWS S3. Access from AWS us-west-2 with keys from https://harmony.earthdata.nasa.gov/cloud-access.sh",
       "numInputGranules": 1,
       "progress": 100,
       "request": "https://harmony.earthdata.nasa.gov/C1990404805-POCLOUD/ogc-api-coverages/1.0.0/collections/all/coverage/rangeset?forceAsync=true&granuleId=G1991290412-POCLOUD&format=application%2Fx-zarr",
       "status": "successful",
       "updatedAt": "2021-09-28T19:03:36.011Z",
       "username": "greguska"
      },
      "text/plain": [
       "<IPython.core.display.JSON object>"
      ]
     },
     "metadata": {
      "application/json": {
       "expanded": false,
       "root": "root"
      }
     },
     "output_type": "display_data"
    }
   ],
   "source": [
    "def get_results(args):\n",
    "    collection, granule, job_id = args\n",
    "    harmony_client.wait_for_processing(job_id)\n",
    "    job_result = harmony_client.result_json(job_id)\n",
    "    display(JSON(job_result))\n",
    "    return collection, granule, job_id, job_result\n",
    "\n",
    "collection_granule_jobid_resultjson = list(map(get_results, collection_granule_jobid))"
   ]
  },
  {
   "cell_type": "markdown",
   "metadata": {},
   "source": [
    "## Start verifying zarr was returned\n",
    "\n",
    "Now we inspect each job result using `pystac`. We open the catalog returned from the Harmony job and check how many assets are present. We would expect there to be one for each request."
   ]
  },
  {
   "cell_type": "code",
   "execution_count": 14,
   "metadata": {},
   "outputs": [
    {
     "name": "stdout",
     "output_type": "stream",
     "text": [
      "Harmony output for https://harmony.earthdata.nasa.gov/C1996881862-POCLOUD/ogc-api-coverages/1.0.0/collections/all/coverage/rangeset?forceAsync=true&granuleId=G2028350353-POCLOUD&format=application%2Fx-zarr\n",
      "Contains 1 items.\n"
     ]
    },
    {
     "data": {
      "application/json": {
       "href": "s3://harmony-prod-staging/public/harmony/netcdf-to-zarr/3454ebe7-2b60-42b8-b0a9-9144a3de8008/cyg06.ddmi.s20170318-000000-e20170318-235959.l1.power-brcs-cdr.a10.d10.zarr",
       "roles": [
        "data"
       ],
       "title": "cyg06.ddmi.s20170318-000000-e20170318-235959.l1.power-brcs-cdr.a10.d10.zarr",
       "type": "application/x-zarr"
      },
      "text/plain": [
       "<IPython.core.display.JSON object>"
      ]
     },
     "metadata": {
      "application/json": {
       "expanded": false,
       "root": "root"
      }
     },
     "output_type": "display_data"
    },
    {
     "name": "stdout",
     "output_type": "stream",
     "text": [
      "Harmony output for https://harmony.earthdata.nasa.gov/C1990404801-POCLOUD/ogc-api-coverages/1.0.0/collections/all/coverage/rangeset?forceAsync=true&granuleId=G1991231042-POCLOUD&format=application%2Fx-zarr\n",
      "Contains 1 items.\n"
     ]
    },
    {
     "data": {
      "application/json": {
       "href": "s3://harmony-prod-staging/public/harmony/netcdf-to-zarr/90aba1a8-b5d0-49e2-8e4d-f2fe016d4f6f/ATM_SURFACE_TEMP_HUM_WIND_PRES_day_mean_1992-01-01_ECCO_V4r4_latlon_0p50deg.zarr",
       "roles": [
        "data"
       ],
       "title": "ATM_SURFACE_TEMP_HUM_WIND_PRES_day_mean_1992-01-01_ECCO_V4r4_latlon_0p50deg.zarr",
       "type": "application/x-zarr"
      },
      "text/plain": [
       "<IPython.core.display.JSON object>"
      ]
     },
     "metadata": {
      "application/json": {
       "expanded": false,
       "root": "root"
      }
     },
     "output_type": "display_data"
    },
    {
     "name": "stdout",
     "output_type": "stream",
     "text": [
      "Harmony output for https://harmony.earthdata.nasa.gov/C1991543823-POCLOUD/ogc-api-coverages/1.0.0/collections/all/coverage/rangeset?forceAsync=true&granuleId=G1992649875-POCLOUD&format=application%2Fx-zarr\n",
      "Contains 1 items.\n"
     ]
    },
    {
     "data": {
      "application/json": {
       "href": "s3://harmony-prod-staging/public/harmony/netcdf-to-zarr/47643c19-372f-4b62-b865-4270f145ff21/ATM_SURFACE_TEMP_HUM_WIND_PRES_day_mean_1992-01-01_ECCO_V4r4_native_llc0090.zarr",
       "roles": [
        "data"
       ],
       "title": "ATM_SURFACE_TEMP_HUM_WIND_PRES_day_mean_1992-01-01_ECCO_V4r4_native_llc0090.zarr",
       "type": "application/x-zarr"
      },
      "text/plain": [
       "<IPython.core.display.JSON object>"
      ]
     },
     "metadata": {
      "application/json": {
       "expanded": false,
       "root": "root"
      }
     },
     "output_type": "display_data"
    },
    {
     "name": "stdout",
     "output_type": "stream",
     "text": [
      "Harmony output for https://harmony.earthdata.nasa.gov/C1990404814-POCLOUD/ogc-api-coverages/1.0.0/collections/all/coverage/rangeset?forceAsync=true&granuleId=G1991243029-POCLOUD&format=application%2Fx-zarr\n",
      "Contains 1 items.\n"
     ]
    },
    {
     "data": {
      "application/json": {
       "href": "s3://harmony-prod-staging/public/harmony/netcdf-to-zarr/30b24d14-f25c-4ae9-b4de-b566311530aa/ATM_SURFACE_TEMP_HUM_WIND_PRES_mon_mean_1992-01_ECCO_V4r4_latlon_0p50deg.zarr",
       "roles": [
        "data"
       ],
       "title": "ATM_SURFACE_TEMP_HUM_WIND_PRES_mon_mean_1992-01_ECCO_V4r4_latlon_0p50deg.zarr",
       "type": "application/x-zarr"
      },
      "text/plain": [
       "<IPython.core.display.JSON object>"
      ]
     },
     "metadata": {
      "application/json": {
       "expanded": false,
       "root": "root"
      }
     },
     "output_type": "display_data"
    },
    {
     "name": "stdout",
     "output_type": "stream",
     "text": [
      "Harmony output for https://harmony.earthdata.nasa.gov/C1991543805-POCLOUD/ogc-api-coverages/1.0.0/collections/all/coverage/rangeset?forceAsync=true&granuleId=G1992672377-POCLOUD&format=application%2Fx-zarr\n",
      "Contains 1 items.\n"
     ]
    },
    {
     "data": {
      "application/json": {
       "href": "s3://harmony-prod-staging/public/harmony/netcdf-to-zarr/386e9322-ef32-4f8e-be54-19fcdf7d7201/ATM_SURFACE_TEMP_HUM_WIND_PRES_mon_mean_1992-01_ECCO_V4r4_native_llc0090.zarr",
       "roles": [
        "data"
       ],
       "title": "ATM_SURFACE_TEMP_HUM_WIND_PRES_mon_mean_1992-01_ECCO_V4r4_native_llc0090.zarr",
       "type": "application/x-zarr"
      },
      "text/plain": [
       "<IPython.core.display.JSON object>"
      ]
     },
     "metadata": {
      "application/json": {
       "expanded": false,
       "root": "root"
      }
     },
     "output_type": "display_data"
    },
    {
     "name": "stdout",
     "output_type": "stream",
     "text": [
      "Harmony output for https://harmony.earthdata.nasa.gov/C1991543818-POCLOUD/ogc-api-coverages/1.0.0/collections/all/coverage/rangeset?forceAsync=true&granuleId=G1997506185-POCLOUD&format=application%2Fx-zarr\n",
      "Contains 1 items.\n"
     ]
    },
    {
     "data": {
      "application/json": {
       "href": "s3://harmony-prod-staging/public/harmony/netcdf-to-zarr/22ddaf57-026c-4e1a-a088-461f1c321108/OCEAN_BOLUS_STREAMFUNCTION_day_mean_1992-01-01_ECCO_V4r4_native_llc0090.zarr",
       "roles": [
        "data"
       ],
       "title": "OCEAN_BOLUS_STREAMFUNCTION_day_mean_1992-01-01_ECCO_V4r4_native_llc0090.zarr",
       "type": "application/x-zarr"
      },
      "text/plain": [
       "<IPython.core.display.JSON object>"
      ]
     },
     "metadata": {
      "application/json": {
       "expanded": false,
       "root": "root"
      }
     },
     "output_type": "display_data"
    },
    {
     "name": "stdout",
     "output_type": "stream",
     "text": [
      "Harmony output for https://harmony.earthdata.nasa.gov/C1991543733-POCLOUD/ogc-api-coverages/1.0.0/collections/all/coverage/rangeset?forceAsync=true&granuleId=G1996984837-POCLOUD&format=application%2Fx-zarr\n",
      "Contains 1 items.\n"
     ]
    },
    {
     "data": {
      "application/json": {
       "href": "s3://harmony-prod-staging/public/harmony/netcdf-to-zarr/ffd9d667-f7d5-423d-bab6-4699f50862a9/OCEAN_BOLUS_STREAMFUNCTION_mon_mean_1992-01_ECCO_V4r4_native_llc0090.zarr",
       "roles": [
        "data"
       ],
       "title": "OCEAN_BOLUS_STREAMFUNCTION_mon_mean_1992-01_ECCO_V4r4_native_llc0090.zarr",
       "type": "application/x-zarr"
      },
      "text/plain": [
       "<IPython.core.display.JSON object>"
      ]
     },
     "metadata": {
      "application/json": {
       "expanded": false,
       "root": "root"
      }
     },
     "output_type": "display_data"
    },
    {
     "name": "stdout",
     "output_type": "stream",
     "text": [
      "Harmony output for https://harmony.earthdata.nasa.gov/C1990404807-POCLOUD/ogc-api-coverages/1.0.0/collections/all/coverage/rangeset?forceAsync=true&granuleId=G1991274267-POCLOUD&format=application%2Fx-zarr\n",
      "Contains 1 items.\n"
     ]
    },
    {
     "data": {
      "application/json": {
       "href": "s3://harmony-prod-staging/public/harmony/netcdf-to-zarr/b6d8535c-5a9a-4623-be60-b76b33a99612/OCEAN_BOLUS_VELOCITY_day_mean_1992-01-01_ECCO_V4r4_latlon_0p50deg.zarr",
       "roles": [
        "data"
       ],
       "title": "OCEAN_BOLUS_VELOCITY_day_mean_1992-01-01_ECCO_V4r4_latlon_0p50deg.zarr",
       "type": "application/x-zarr"
      },
      "text/plain": [
       "<IPython.core.display.JSON object>"
      ]
     },
     "metadata": {
      "application/json": {
       "expanded": false,
       "root": "root"
      }
     },
     "output_type": "display_data"
    },
    {
     "name": "stdout",
     "output_type": "stream",
     "text": [
      "Harmony output for https://harmony.earthdata.nasa.gov/C1991543824-POCLOUD/ogc-api-coverages/1.0.0/collections/all/coverage/rangeset?forceAsync=true&granuleId=G1995305376-POCLOUD&format=application%2Fx-zarr\n",
      "Contains 1 items.\n"
     ]
    },
    {
     "data": {
      "application/json": {
       "href": "s3://harmony-prod-staging/public/harmony/netcdf-to-zarr/6a3ca18a-a67c-44dd-b8e1-ba67b887b3a3/OCEAN_BOLUS_VELOCITY_day_mean_1992-01-01_ECCO_V4r4_native_llc0090.zarr",
       "roles": [
        "data"
       ],
       "title": "OCEAN_BOLUS_VELOCITY_day_mean_1992-01-01_ECCO_V4r4_native_llc0090.zarr",
       "type": "application/x-zarr"
      },
      "text/plain": [
       "<IPython.core.display.JSON object>"
      ]
     },
     "metadata": {
      "application/json": {
       "expanded": false,
       "root": "root"
      }
     },
     "output_type": "display_data"
    },
    {
     "name": "stdout",
     "output_type": "stream",
     "text": [
      "Harmony output for https://harmony.earthdata.nasa.gov/C1990404805-POCLOUD/ogc-api-coverages/1.0.0/collections/all/coverage/rangeset?forceAsync=true&granuleId=G1991290412-POCLOUD&format=application%2Fx-zarr\n",
      "Contains 1 items.\n"
     ]
    },
    {
     "data": {
      "application/json": {
       "href": "s3://harmony-prod-staging/public/harmony/netcdf-to-zarr/9383fcde-e148-4f62-badd-9881ba30dd1e/OCEAN_BOLUS_VELOCITY_mon_mean_1992-01_ECCO_V4r4_latlon_0p50deg.zarr",
       "roles": [
        "data"
       ],
       "title": "OCEAN_BOLUS_VELOCITY_mon_mean_1992-01_ECCO_V4r4_latlon_0p50deg.zarr",
       "type": "application/x-zarr"
      },
      "text/plain": [
       "<IPython.core.display.JSON object>"
      ]
     },
     "metadata": {
      "application/json": {
       "expanded": false,
       "root": "root"
      }
     },
     "output_type": "display_data"
    }
   ],
   "source": [
    "# Make sure we can navigate the catalog for each result\n",
    "for collection, granule, job_id, result_json in collection_granule_jobid_resultjson:\n",
    "    cat = pystac.Catalog.from_file([l['href'] for l in result_json['links'] if l['rel'] == 'stac-catalog-json'][0])\n",
    "    print(cat.description)\n",
    "    print('Contains {} items.'.format(len(cat.get_item_links())))\n",
    "    assert len(cat.get_item_links()) == 1, f'Result catalog for collection {collection} and granule {granule} did not contain exactly 1 item'\n",
    "    zarr_item = next(cat.get_items())\n",
    "    zarr_item_asset = zarr_item.assets[next(iter(zarr_item.assets))]\n",
    "    zarr_item_asset = zarr_item_asset.to_dict()\n",
    "    display(JSON(zarr_item_asset))"
   ]
  },
  {
   "cell_type": "markdown",
   "metadata": {},
   "source": [
    "## Validate that zarr can be opened\n",
    "\n",
    "This cell actually tries to open the zarr item and print the tree. It will only run if this notebook is being executed in AWS us-west-2.\n",
    "\n",
    "TBD: what other validation can be done here?"
   ]
  },
  {
   "cell_type": "code",
   "execution_count": 15,
   "metadata": {},
   "outputs": [
    {
     "ename": "PermissionError",
     "evalue": "Forbidden",
     "output_type": "error",
     "traceback": [
      "\u001b[0;31m---------------------------------------------------------------------------\u001b[0m",
      "\u001b[0;31mClientError\u001b[0m                               Traceback (most recent call last)",
      "\u001b[0;32m~/my-conda-envs/zarr/lib/python3.9/site-packages/s3fs/core.py\u001b[0m in \u001b[0;36m_call_s3\u001b[0;34m(self, method, *akwarglist, **kwargs)\u001b[0m\n\u001b[1;32m    247\u001b[0m             \u001b[0;32mtry\u001b[0m\u001b[0;34m:\u001b[0m\u001b[0;34m\u001b[0m\u001b[0;34m\u001b[0m\u001b[0m\n\u001b[0;32m--> 248\u001b[0;31m                 \u001b[0mout\u001b[0m \u001b[0;34m=\u001b[0m \u001b[0;32mawait\u001b[0m \u001b[0mmethod\u001b[0m\u001b[0;34m(\u001b[0m\u001b[0;34m**\u001b[0m\u001b[0madditional_kwargs\u001b[0m\u001b[0;34m)\u001b[0m\u001b[0;34m\u001b[0m\u001b[0;34m\u001b[0m\u001b[0m\n\u001b[0m\u001b[1;32m    249\u001b[0m                 \u001b[0;32mreturn\u001b[0m \u001b[0mout\u001b[0m\u001b[0;34m\u001b[0m\u001b[0;34m\u001b[0m\u001b[0m\n",
      "\u001b[0;32m~/my-conda-envs/zarr/lib/python3.9/site-packages/aiobotocore/client.py\u001b[0m in \u001b[0;36m_make_api_call\u001b[0;34m(self, operation_name, api_params)\u001b[0m\n\u001b[1;32m    154\u001b[0m             \u001b[0merror_class\u001b[0m \u001b[0;34m=\u001b[0m \u001b[0mself\u001b[0m\u001b[0;34m.\u001b[0m\u001b[0mexceptions\u001b[0m\u001b[0;34m.\u001b[0m\u001b[0mfrom_code\u001b[0m\u001b[0;34m(\u001b[0m\u001b[0merror_code\u001b[0m\u001b[0;34m)\u001b[0m\u001b[0;34m\u001b[0m\u001b[0;34m\u001b[0m\u001b[0m\n\u001b[0;32m--> 155\u001b[0;31m             \u001b[0;32mraise\u001b[0m \u001b[0merror_class\u001b[0m\u001b[0;34m(\u001b[0m\u001b[0mparsed_response\u001b[0m\u001b[0;34m,\u001b[0m \u001b[0moperation_name\u001b[0m\u001b[0;34m)\u001b[0m\u001b[0;34m\u001b[0m\u001b[0;34m\u001b[0m\u001b[0m\n\u001b[0m\u001b[1;32m    156\u001b[0m         \u001b[0;32melse\u001b[0m\u001b[0;34m:\u001b[0m\u001b[0;34m\u001b[0m\u001b[0;34m\u001b[0m\u001b[0m\n",
      "\u001b[0;31mClientError\u001b[0m: An error occurred (AccessDenied) when calling the ListObjectsV2 operation: Access Denied",
      "\nThe above exception was the direct cause of the following exception:\n",
      "\u001b[0;31mPermissionError\u001b[0m                           Traceback (most recent call last)",
      "\u001b[0;32m~/my-conda-envs/zarr/lib/python3.9/site-packages/s3fs/core.py\u001b[0m in \u001b[0;36m_info\u001b[0;34m(self, path, bucket, key, refresh, version_id)\u001b[0m\n\u001b[1;32m   1079\u001b[0m                     \u001b[0;32mtry\u001b[0m\u001b[0;34m:\u001b[0m\u001b[0;34m\u001b[0m\u001b[0;34m\u001b[0m\u001b[0m\n\u001b[0;32m-> 1080\u001b[0;31m                         \u001b[0mout\u001b[0m \u001b[0;34m=\u001b[0m \u001b[0;32mawait\u001b[0m \u001b[0mself\u001b[0m\u001b[0;34m.\u001b[0m\u001b[0m_simple_info\u001b[0m\u001b[0;34m(\u001b[0m\u001b[0mpath\u001b[0m\u001b[0;34m)\u001b[0m\u001b[0;34m\u001b[0m\u001b[0;34m\u001b[0m\u001b[0m\n\u001b[0m\u001b[1;32m   1081\u001b[0m                     \u001b[0;32mexcept\u001b[0m \u001b[0mPermissionError\u001b[0m\u001b[0;34m:\u001b[0m\u001b[0;34m\u001b[0m\u001b[0;34m\u001b[0m\u001b[0m\n",
      "\u001b[0;32m~/my-conda-envs/zarr/lib/python3.9/site-packages/s3fs/core.py\u001b[0m in \u001b[0;36m_simple_info\u001b[0;34m(self, path)\u001b[0m\n\u001b[1;32m    992\u001b[0m \u001b[0;34m\u001b[0m\u001b[0m\n\u001b[0;32m--> 993\u001b[0;31m         out = await self._call_s3(\n\u001b[0m\u001b[1;32m    994\u001b[0m             \u001b[0;34m\"list_objects_v2\"\u001b[0m\u001b[0;34m,\u001b[0m\u001b[0;34m\u001b[0m\u001b[0;34m\u001b[0m\u001b[0m\n",
      "\u001b[0;32m~/my-conda-envs/zarr/lib/python3.9/site-packages/s3fs/core.py\u001b[0m in \u001b[0;36m_call_s3\u001b[0;34m(self, method, *akwarglist, **kwargs)\u001b[0m\n\u001b[1;32m    267\u001b[0m         \u001b[0merr\u001b[0m \u001b[0;34m=\u001b[0m \u001b[0mtranslate_boto_error\u001b[0m\u001b[0;34m(\u001b[0m\u001b[0merr\u001b[0m\u001b[0;34m)\u001b[0m\u001b[0;34m\u001b[0m\u001b[0;34m\u001b[0m\u001b[0m\n\u001b[0;32m--> 268\u001b[0;31m         \u001b[0;32mraise\u001b[0m \u001b[0merr\u001b[0m\u001b[0;34m\u001b[0m\u001b[0;34m\u001b[0m\u001b[0m\n\u001b[0m\u001b[1;32m    269\u001b[0m \u001b[0;34m\u001b[0m\u001b[0m\n",
      "\u001b[0;31mPermissionError\u001b[0m: Access Denied",
      "\nDuring handling of the above exception, another exception occurred:\n",
      "\u001b[0;31mClientError\u001b[0m                               Traceback (most recent call last)",
      "\u001b[0;32m~/my-conda-envs/zarr/lib/python3.9/site-packages/s3fs/core.py\u001b[0m in \u001b[0;36m_call_s3\u001b[0;34m(self, method, *akwarglist, **kwargs)\u001b[0m\n\u001b[1;32m    247\u001b[0m             \u001b[0;32mtry\u001b[0m\u001b[0;34m:\u001b[0m\u001b[0;34m\u001b[0m\u001b[0;34m\u001b[0m\u001b[0m\n\u001b[0;32m--> 248\u001b[0;31m                 \u001b[0mout\u001b[0m \u001b[0;34m=\u001b[0m \u001b[0;32mawait\u001b[0m \u001b[0mmethod\u001b[0m\u001b[0;34m(\u001b[0m\u001b[0;34m**\u001b[0m\u001b[0madditional_kwargs\u001b[0m\u001b[0;34m)\u001b[0m\u001b[0;34m\u001b[0m\u001b[0;34m\u001b[0m\u001b[0m\n\u001b[0m\u001b[1;32m    249\u001b[0m                 \u001b[0;32mreturn\u001b[0m \u001b[0mout\u001b[0m\u001b[0;34m\u001b[0m\u001b[0;34m\u001b[0m\u001b[0m\n",
      "\u001b[0;32m~/my-conda-envs/zarr/lib/python3.9/site-packages/aiobotocore/client.py\u001b[0m in \u001b[0;36m_make_api_call\u001b[0;34m(self, operation_name, api_params)\u001b[0m\n\u001b[1;32m    154\u001b[0m             \u001b[0merror_class\u001b[0m \u001b[0;34m=\u001b[0m \u001b[0mself\u001b[0m\u001b[0;34m.\u001b[0m\u001b[0mexceptions\u001b[0m\u001b[0;34m.\u001b[0m\u001b[0mfrom_code\u001b[0m\u001b[0;34m(\u001b[0m\u001b[0merror_code\u001b[0m\u001b[0;34m)\u001b[0m\u001b[0;34m\u001b[0m\u001b[0;34m\u001b[0m\u001b[0m\n\u001b[0;32m--> 155\u001b[0;31m             \u001b[0;32mraise\u001b[0m \u001b[0merror_class\u001b[0m\u001b[0;34m(\u001b[0m\u001b[0mparsed_response\u001b[0m\u001b[0;34m,\u001b[0m \u001b[0moperation_name\u001b[0m\u001b[0;34m)\u001b[0m\u001b[0;34m\u001b[0m\u001b[0;34m\u001b[0m\u001b[0m\n\u001b[0m\u001b[1;32m    156\u001b[0m         \u001b[0;32melse\u001b[0m\u001b[0;34m:\u001b[0m\u001b[0;34m\u001b[0m\u001b[0;34m\u001b[0m\u001b[0m\n",
      "\u001b[0;31mClientError\u001b[0m: An error occurred (403) when calling the HeadObject operation: Forbidden",
      "\nThe above exception was the direct cause of the following exception:\n",
      "\u001b[0;31mPermissionError\u001b[0m                           Traceback (most recent call last)",
      "\u001b[0;32m/tmp/ipykernel_23852/746972611.py\u001b[0m in \u001b[0;36m<module>\u001b[0;34m\u001b[0m\n\u001b[1;32m     11\u001b[0m     \u001b[0mzarr_item_asset\u001b[0m \u001b[0;34m=\u001b[0m \u001b[0mzarr_item_asset\u001b[0m\u001b[0;34m.\u001b[0m\u001b[0mto_dict\u001b[0m\u001b[0;34m(\u001b[0m\u001b[0;34m)\u001b[0m\u001b[0;34m\u001b[0m\u001b[0;34m\u001b[0m\u001b[0m\n\u001b[1;32m     12\u001b[0m \u001b[0;34m\u001b[0m\u001b[0m\n\u001b[0;32m---> 13\u001b[0;31m     \u001b[0mz_store\u001b[0m \u001b[0;34m=\u001b[0m \u001b[0mzarr\u001b[0m\u001b[0;34m.\u001b[0m\u001b[0mstorage\u001b[0m\u001b[0;34m.\u001b[0m\u001b[0mFSStore\u001b[0m\u001b[0;34m(\u001b[0m\u001b[0mzarr_item_asset\u001b[0m\u001b[0;34m[\u001b[0m\u001b[0;34m'href'\u001b[0m\u001b[0;34m]\u001b[0m\u001b[0;34m,\u001b[0m \u001b[0;34m**\u001b[0m\u001b[0;34m{\u001b[0m\u001b[0;34m'key'\u001b[0m\u001b[0;34m:\u001b[0m \u001b[0ms3_key\u001b[0m\u001b[0;34m,\u001b[0m \u001b[0;34m'secret'\u001b[0m\u001b[0;34m:\u001b[0m \u001b[0ms3_secret\u001b[0m\u001b[0;34m,\u001b[0m \u001b[0;34m'token'\u001b[0m\u001b[0;34m:\u001b[0m \u001b[0ms3_token\u001b[0m\u001b[0;34m}\u001b[0m\u001b[0;34m)\u001b[0m\u001b[0;34m\u001b[0m\u001b[0;34m\u001b[0m\u001b[0m\n\u001b[0m\u001b[1;32m     14\u001b[0m     \u001b[0mzarr_file\u001b[0m \u001b[0;34m=\u001b[0m \u001b[0mzarr\u001b[0m\u001b[0;34m.\u001b[0m\u001b[0mopen\u001b[0m\u001b[0;34m(\u001b[0m\u001b[0mz_store\u001b[0m\u001b[0;34m)\u001b[0m\u001b[0;34m\u001b[0m\u001b[0;34m\u001b[0m\u001b[0m\n\u001b[1;32m     15\u001b[0m \u001b[0;34m\u001b[0m\u001b[0m\n",
      "\u001b[0;32m~/my-conda-envs/zarr/lib/python3.9/site-packages/zarr/storage.py\u001b[0m in \u001b[0;36m__init__\u001b[0;34m(self, url, normalize_keys, key_separator, mode, exceptions, dimension_separator, **storage_options)\u001b[0m\n\u001b[1;32m   1098\u001b[0m         \u001b[0;31m# Pass attributes to array creation\u001b[0m\u001b[0;34m\u001b[0m\u001b[0;34m\u001b[0m\u001b[0;34m\u001b[0m\u001b[0m\n\u001b[1;32m   1099\u001b[0m         \u001b[0mself\u001b[0m\u001b[0;34m.\u001b[0m\u001b[0m_dimension_separator\u001b[0m \u001b[0;34m=\u001b[0m \u001b[0mdimension_separator\u001b[0m\u001b[0;34m\u001b[0m\u001b[0;34m\u001b[0m\u001b[0m\n\u001b[0;32m-> 1100\u001b[0;31m         \u001b[0;32mif\u001b[0m \u001b[0mself\u001b[0m\u001b[0;34m.\u001b[0m\u001b[0mfs\u001b[0m\u001b[0;34m.\u001b[0m\u001b[0mexists\u001b[0m\u001b[0;34m(\u001b[0m\u001b[0mself\u001b[0m\u001b[0;34m.\u001b[0m\u001b[0mpath\u001b[0m\u001b[0;34m)\u001b[0m \u001b[0;32mand\u001b[0m \u001b[0;32mnot\u001b[0m \u001b[0mself\u001b[0m\u001b[0;34m.\u001b[0m\u001b[0mfs\u001b[0m\u001b[0;34m.\u001b[0m\u001b[0misdir\u001b[0m\u001b[0;34m(\u001b[0m\u001b[0mself\u001b[0m\u001b[0;34m.\u001b[0m\u001b[0mpath\u001b[0m\u001b[0;34m)\u001b[0m\u001b[0;34m:\u001b[0m\u001b[0;34m\u001b[0m\u001b[0;34m\u001b[0m\u001b[0m\n\u001b[0m\u001b[1;32m   1101\u001b[0m             \u001b[0;32mraise\u001b[0m \u001b[0mFSPathExistNotDir\u001b[0m\u001b[0;34m(\u001b[0m\u001b[0murl\u001b[0m\u001b[0;34m)\u001b[0m\u001b[0;34m\u001b[0m\u001b[0;34m\u001b[0m\u001b[0m\n\u001b[1;32m   1102\u001b[0m \u001b[0;34m\u001b[0m\u001b[0m\n",
      "\u001b[0;32m~/my-conda-envs/zarr/lib/python3.9/site-packages/fsspec/asyn.py\u001b[0m in \u001b[0;36mwrapper\u001b[0;34m(*args, **kwargs)\u001b[0m\n\u001b[1;32m     86\u001b[0m     \u001b[0;32mdef\u001b[0m \u001b[0mwrapper\u001b[0m\u001b[0;34m(\u001b[0m\u001b[0;34m*\u001b[0m\u001b[0margs\u001b[0m\u001b[0;34m,\u001b[0m \u001b[0;34m**\u001b[0m\u001b[0mkwargs\u001b[0m\u001b[0;34m)\u001b[0m\u001b[0;34m:\u001b[0m\u001b[0;34m\u001b[0m\u001b[0;34m\u001b[0m\u001b[0m\n\u001b[1;32m     87\u001b[0m         \u001b[0mself\u001b[0m \u001b[0;34m=\u001b[0m \u001b[0mobj\u001b[0m \u001b[0;32mor\u001b[0m \u001b[0margs\u001b[0m\u001b[0;34m[\u001b[0m\u001b[0;36m0\u001b[0m\u001b[0;34m]\u001b[0m\u001b[0;34m\u001b[0m\u001b[0;34m\u001b[0m\u001b[0m\n\u001b[0;32m---> 88\u001b[0;31m         \u001b[0;32mreturn\u001b[0m \u001b[0msync\u001b[0m\u001b[0;34m(\u001b[0m\u001b[0mself\u001b[0m\u001b[0;34m.\u001b[0m\u001b[0mloop\u001b[0m\u001b[0;34m,\u001b[0m \u001b[0mfunc\u001b[0m\u001b[0;34m,\u001b[0m \u001b[0;34m*\u001b[0m\u001b[0margs\u001b[0m\u001b[0;34m,\u001b[0m \u001b[0;34m**\u001b[0m\u001b[0mkwargs\u001b[0m\u001b[0;34m)\u001b[0m\u001b[0;34m\u001b[0m\u001b[0;34m\u001b[0m\u001b[0m\n\u001b[0m\u001b[1;32m     89\u001b[0m \u001b[0;34m\u001b[0m\u001b[0m\n\u001b[1;32m     90\u001b[0m     \u001b[0;32mreturn\u001b[0m \u001b[0mwrapper\u001b[0m\u001b[0;34m\u001b[0m\u001b[0;34m\u001b[0m\u001b[0m\n",
      "\u001b[0;32m~/my-conda-envs/zarr/lib/python3.9/site-packages/fsspec/asyn.py\u001b[0m in \u001b[0;36msync\u001b[0;34m(loop, func, timeout, *args, **kwargs)\u001b[0m\n\u001b[1;32m     67\u001b[0m         \u001b[0;32mraise\u001b[0m \u001b[0mFSTimeoutError\u001b[0m\u001b[0;34m\u001b[0m\u001b[0;34m\u001b[0m\u001b[0m\n\u001b[1;32m     68\u001b[0m     \u001b[0;32mif\u001b[0m \u001b[0misinstance\u001b[0m\u001b[0;34m(\u001b[0m\u001b[0mresult\u001b[0m\u001b[0;34m[\u001b[0m\u001b[0;36m0\u001b[0m\u001b[0;34m]\u001b[0m\u001b[0;34m,\u001b[0m \u001b[0mBaseException\u001b[0m\u001b[0;34m)\u001b[0m\u001b[0;34m:\u001b[0m\u001b[0;34m\u001b[0m\u001b[0;34m\u001b[0m\u001b[0m\n\u001b[0;32m---> 69\u001b[0;31m         \u001b[0;32mraise\u001b[0m \u001b[0mresult\u001b[0m\u001b[0;34m[\u001b[0m\u001b[0;36m0\u001b[0m\u001b[0;34m]\u001b[0m\u001b[0;34m\u001b[0m\u001b[0;34m\u001b[0m\u001b[0m\n\u001b[0m\u001b[1;32m     70\u001b[0m     \u001b[0;32mreturn\u001b[0m \u001b[0mresult\u001b[0m\u001b[0;34m[\u001b[0m\u001b[0;36m0\u001b[0m\u001b[0;34m]\u001b[0m\u001b[0;34m\u001b[0m\u001b[0;34m\u001b[0m\u001b[0m\n\u001b[1;32m     71\u001b[0m \u001b[0;34m\u001b[0m\u001b[0m\n",
      "\u001b[0;32m~/my-conda-envs/zarr/lib/python3.9/site-packages/fsspec/asyn.py\u001b[0m in \u001b[0;36m_runner\u001b[0;34m(event, coro, result, timeout)\u001b[0m\n\u001b[1;32m     23\u001b[0m         \u001b[0mcoro\u001b[0m \u001b[0;34m=\u001b[0m \u001b[0masyncio\u001b[0m\u001b[0;34m.\u001b[0m\u001b[0mwait_for\u001b[0m\u001b[0;34m(\u001b[0m\u001b[0mcoro\u001b[0m\u001b[0;34m,\u001b[0m \u001b[0mtimeout\u001b[0m\u001b[0;34m=\u001b[0m\u001b[0mtimeout\u001b[0m\u001b[0;34m)\u001b[0m\u001b[0;34m\u001b[0m\u001b[0;34m\u001b[0m\u001b[0m\n\u001b[1;32m     24\u001b[0m     \u001b[0;32mtry\u001b[0m\u001b[0;34m:\u001b[0m\u001b[0;34m\u001b[0m\u001b[0;34m\u001b[0m\u001b[0m\n\u001b[0;32m---> 25\u001b[0;31m         \u001b[0mresult\u001b[0m\u001b[0;34m[\u001b[0m\u001b[0;36m0\u001b[0m\u001b[0;34m]\u001b[0m \u001b[0;34m=\u001b[0m \u001b[0;32mawait\u001b[0m \u001b[0mcoro\u001b[0m\u001b[0;34m\u001b[0m\u001b[0;34m\u001b[0m\u001b[0m\n\u001b[0m\u001b[1;32m     26\u001b[0m     \u001b[0;32mexcept\u001b[0m \u001b[0mException\u001b[0m \u001b[0;32mas\u001b[0m \u001b[0mex\u001b[0m\u001b[0;34m:\u001b[0m\u001b[0;34m\u001b[0m\u001b[0;34m\u001b[0m\u001b[0m\n\u001b[1;32m     27\u001b[0m         \u001b[0mresult\u001b[0m\u001b[0;34m[\u001b[0m\u001b[0;36m0\u001b[0m\u001b[0;34m]\u001b[0m \u001b[0;34m=\u001b[0m \u001b[0mex\u001b[0m\u001b[0;34m\u001b[0m\u001b[0;34m\u001b[0m\u001b[0m\n",
      "\u001b[0;32m~/my-conda-envs/zarr/lib/python3.9/site-packages/s3fs/core.py\u001b[0m in \u001b[0;36m_exists\u001b[0;34m(self, path)\u001b[0m\n\u001b[1;32m    818\u001b[0m                 \u001b[0;32mreturn\u001b[0m \u001b[0;32mFalse\u001b[0m\u001b[0;34m\u001b[0m\u001b[0;34m\u001b[0m\u001b[0m\n\u001b[1;32m    819\u001b[0m             \u001b[0;32mtry\u001b[0m\u001b[0;34m:\u001b[0m\u001b[0;34m\u001b[0m\u001b[0;34m\u001b[0m\u001b[0m\n\u001b[0;32m--> 820\u001b[0;31m                 \u001b[0;32mawait\u001b[0m \u001b[0mself\u001b[0m\u001b[0;34m.\u001b[0m\u001b[0m_info\u001b[0m\u001b[0;34m(\u001b[0m\u001b[0mpath\u001b[0m\u001b[0;34m,\u001b[0m \u001b[0mbucket\u001b[0m\u001b[0;34m,\u001b[0m \u001b[0mkey\u001b[0m\u001b[0;34m,\u001b[0m \u001b[0mversion_id\u001b[0m\u001b[0;34m=\u001b[0m\u001b[0mversion_id\u001b[0m\u001b[0;34m)\u001b[0m\u001b[0;34m\u001b[0m\u001b[0;34m\u001b[0m\u001b[0m\n\u001b[0m\u001b[1;32m    821\u001b[0m                 \u001b[0;32mreturn\u001b[0m \u001b[0;32mTrue\u001b[0m\u001b[0;34m\u001b[0m\u001b[0;34m\u001b[0m\u001b[0m\n\u001b[1;32m    822\u001b[0m             \u001b[0;32mexcept\u001b[0m \u001b[0mFileNotFoundError\u001b[0m\u001b[0;34m:\u001b[0m\u001b[0;34m\u001b[0m\u001b[0;34m\u001b[0m\u001b[0m\n",
      "\u001b[0;32m~/my-conda-envs/zarr/lib/python3.9/site-packages/s3fs/core.py\u001b[0m in \u001b[0;36m_info\u001b[0;34m(self, path, bucket, key, refresh, version_id)\u001b[0m\n\u001b[1;32m   1082\u001b[0m                         \u001b[0;31m# If the permissions aren't enough for scanning a prefix\u001b[0m\u001b[0;34m\u001b[0m\u001b[0;34m\u001b[0m\u001b[0;34m\u001b[0m\u001b[0m\n\u001b[1;32m   1083\u001b[0m                         \u001b[0;31m# then fall back to using normal HEAD_OBJECT\u001b[0m\u001b[0;34m\u001b[0m\u001b[0;34m\u001b[0m\u001b[0;34m\u001b[0m\u001b[0m\n\u001b[0;32m-> 1084\u001b[0;31m                         \u001b[0mout\u001b[0m \u001b[0;34m=\u001b[0m \u001b[0;32mawait\u001b[0m \u001b[0mself\u001b[0m\u001b[0;34m.\u001b[0m\u001b[0m_version_aware_info\u001b[0m\u001b[0;34m(\u001b[0m\u001b[0mpath\u001b[0m\u001b[0;34m,\u001b[0m \u001b[0mversion_id\u001b[0m\u001b[0;34m)\u001b[0m\u001b[0;34m\u001b[0m\u001b[0;34m\u001b[0m\u001b[0m\n\u001b[0m\u001b[1;32m   1085\u001b[0m                 \u001b[0;32mif\u001b[0m \u001b[0mout\u001b[0m\u001b[0;34m:\u001b[0m\u001b[0;34m\u001b[0m\u001b[0;34m\u001b[0m\u001b[0m\n\u001b[1;32m   1086\u001b[0m                     \u001b[0;32mreturn\u001b[0m \u001b[0mout\u001b[0m\u001b[0;34m\u001b[0m\u001b[0;34m\u001b[0m\u001b[0m\n",
      "\u001b[0;32m~/my-conda-envs/zarr/lib/python3.9/site-packages/s3fs/core.py\u001b[0m in \u001b[0;36m_version_aware_info\u001b[0;34m(self, path, version_id)\u001b[0m\n\u001b[1;32m   1025\u001b[0m \u001b[0;34m\u001b[0m\u001b[0m\n\u001b[1;32m   1026\u001b[0m         \u001b[0;32mtry\u001b[0m\u001b[0;34m:\u001b[0m\u001b[0;34m\u001b[0m\u001b[0;34m\u001b[0m\u001b[0m\n\u001b[0;32m-> 1027\u001b[0;31m             out = await self._call_s3(\n\u001b[0m\u001b[1;32m   1028\u001b[0m                 \u001b[0;34m\"head_object\"\u001b[0m\u001b[0;34m,\u001b[0m\u001b[0;34m\u001b[0m\u001b[0;34m\u001b[0m\u001b[0m\n\u001b[1;32m   1029\u001b[0m                 \u001b[0mself\u001b[0m\u001b[0;34m.\u001b[0m\u001b[0mkwargs\u001b[0m\u001b[0;34m,\u001b[0m\u001b[0;34m\u001b[0m\u001b[0;34m\u001b[0m\u001b[0m\n",
      "\u001b[0;32m~/my-conda-envs/zarr/lib/python3.9/site-packages/s3fs/core.py\u001b[0m in \u001b[0;36m_call_s3\u001b[0;34m(self, method, *akwarglist, **kwargs)\u001b[0m\n\u001b[1;32m    266\u001b[0m                 \u001b[0merr\u001b[0m \u001b[0;34m=\u001b[0m \u001b[0me\u001b[0m\u001b[0;34m\u001b[0m\u001b[0;34m\u001b[0m\u001b[0m\n\u001b[1;32m    267\u001b[0m         \u001b[0merr\u001b[0m \u001b[0;34m=\u001b[0m \u001b[0mtranslate_boto_error\u001b[0m\u001b[0;34m(\u001b[0m\u001b[0merr\u001b[0m\u001b[0;34m)\u001b[0m\u001b[0;34m\u001b[0m\u001b[0;34m\u001b[0m\u001b[0m\n\u001b[0;32m--> 268\u001b[0;31m         \u001b[0;32mraise\u001b[0m \u001b[0merr\u001b[0m\u001b[0;34m\u001b[0m\u001b[0;34m\u001b[0m\u001b[0m\n\u001b[0m\u001b[1;32m    269\u001b[0m \u001b[0;34m\u001b[0m\u001b[0m\n\u001b[1;32m    270\u001b[0m     \u001b[0mcall_s3\u001b[0m \u001b[0;34m=\u001b[0m \u001b[0msync_wrapper\u001b[0m\u001b[0;34m(\u001b[0m\u001b[0m_call_s3\u001b[0m\u001b[0;34m)\u001b[0m\u001b[0;34m\u001b[0m\u001b[0;34m\u001b[0m\u001b[0m\n",
      "\u001b[0;31mPermissionError\u001b[0m: Forbidden"
     ]
    }
   ],
   "source": [
    "# Actually open the zarr file. Will only work if this notebook is running in us-west-2\n",
    "for collection, granule, job_id, result_json in collection_granule_jobid_resultjson:\n",
    "    s3_creds = requests.get([l['href'] for l in result_json['links'] if l['rel'] == 'cloud-access-json'][0]).json()\n",
    "    s3_key = s3_creds['AccessKeyId']\n",
    "    s3_secret = s3_creds['SecretAccessKey']\n",
    "    s3_token = s3_creds['SessionToken']\n",
    "    \n",
    "    cat = pystac.Catalog.from_file([l['href'] for l in result_json['links'] if l['rel'] == 'stac-catalog-json'][0])\n",
    "    zarr_item = next(cat.get_items())\n",
    "    zarr_item_asset = zarr_item.assets[next(iter(zarr_item.assets))]\n",
    "    zarr_item_asset = zarr_item_asset.to_dict()\n",
    "\n",
    "    z_store = zarr.storage.FSStore(zarr_item_asset['href'], **{'key': s3_key, 'secret': s3_secret, 'token': s3_token})\n",
    "    zarr_file = zarr.open(z_store)\n",
    "    \n",
    "    print(f'{collection}\\t{granule}')\n",
    "    print(zarr_file.tree())"
   ]
  },
  {
   "cell_type": "code",
   "execution_count": null,
   "metadata": {},
   "outputs": [],
   "source": []
  }
 ],
 "metadata": {
  "celltoolbar": "Tags",
  "kernelspec": {
   "display_name": "Python [zarr]",
   "language": "python",
   "name": "conda-env-zarr-py"
  },
  "language_info": {
   "codemirror_mode": {
    "name": "ipython",
    "version": 3
   },
   "file_extension": ".py",
   "mimetype": "text/x-python",
   "name": "python",
   "nbconvert_exporter": "python",
   "pygments_lexer": "ipython3",
   "version": "3.9.0"
  }
 },
 "nbformat": 4,
 "nbformat_minor": 4
}
