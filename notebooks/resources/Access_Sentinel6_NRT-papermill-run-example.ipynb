{
 "cells": [
  {
   "cell_type": "markdown",
   "metadata": {
    "papermill": {
     "duration": 0.011356,
     "end_time": "2020-07-25T20:32:43.883705",
     "exception": false,
     "start_time": "2020-07-25T20:32:43.872349",
     "status": "completed"
    },
    "tags": [],
    "toc": true
   },
   "source": [
    "<h1>Table of Contents<span class=\"tocSkip\"></span></h1>\n",
    "<div class=\"toc\"><ul class=\"toc-item\"><li><span><a href=\"#Before-you-start\" data-toc-modified-id=\"Before-you-start-1\"><span class=\"toc-item-num\">1&nbsp;&nbsp;</span>Before you start</a></span></li><li><span><a href=\"#Authentication-setup\" data-toc-modified-id=\"Authentication-setup-2\"><span class=\"toc-item-num\">2&nbsp;&nbsp;</span>Authentication setup</a></span></li><li><span><a href=\"#Hands-off-workflow\" data-toc-modified-id=\"Hands-off-workflow-3\"><span class=\"toc-item-num\">3&nbsp;&nbsp;</span>Hands-off workflow</a></span></li></ul></div>"
   ]
  },
  {
   "cell_type": "markdown",
   "metadata": {
    "papermill": {
     "duration": 0.008435,
     "end_time": "2020-07-25T20:32:43.901341",
     "exception": false,
     "start_time": "2020-07-25T20:32:43.892906",
     "status": "completed"
    },
    "tags": []
   },
   "source": [
    "# Access Sentinel-6 NRT Data\n",
    "\n",
    "This notebook shows a simple way to maintain a local time series of [Sentinel-6](#) NRT data using the [CMR Search API](#). It downloads granules the ingested since the previous run to a designated data folder and overwrites a hidden file inside with the timestamp of the CMR Search request on success.\n",
    "\n",
    "> User note: The notebook actually points to a MODIS SST collection for now ([10.5067/GHMDA-2PJ19](https://doi.org/10.5067/GHMDA-2PJ19). It'll work just the same for Sentinel-6.\n",
    "\n",
    "## Before you start\n",
    "\n",
    "Before you beginning this tutorial, make sure you have an Earthdata account [https://uat.urs.earthdata.nasa.gov](https://uat.urs.earthdata.nasa.gov).\n",
    "\n",
    "Accounts are free to create and take just a moment to set up.\n",
    "\n",
    "## Authentication setup\n",
    "\n",
    "*You'll probably need to use the netrc method when running from command line.* \n",
    "\n",
    "We need some boilerplate up front to log in to Earthdata Login.  The function below will allow Python\n",
    "scripts to log into any Earthdata Login application programmatically.  To avoid being prompted for\n",
    "credentials every time you run and also allow clients such as curl to log in, you can add the following\n",
    "to a `.netrc` (`_netrc` on Windows) file in your home directory:\n",
    "\n",
    "```\n",
    "machine uat.urs.earthdata.nasa.gov\n",
    "    login <your username>\n",
    "    password <your password>\n",
    "```\n",
    "\n",
    "Make sure that this file is only readable by the current user or you will receive an error stating\n",
    "\"netrc access too permissive.\"\n",
    "\n",
    "`$ chmod 0600 ~/.netrc` \n"
   ]
  },
  {
   "cell_type": "code",
   "execution_count": 1,
   "metadata": {
    "ExecuteTime": {
     "end_time": "2020-07-25T19:41:17.229428Z",
     "start_time": "2020-07-25T19:41:17.219313Z"
    },
    "execution": {
     "iopub.execute_input": "2020-07-25T20:32:43.926612Z",
     "iopub.status.busy": "2020-07-25T20:32:43.926023Z",
     "iopub.status.idle": "2020-07-25T20:32:43.934390Z",
     "shell.execute_reply": "2020-07-25T20:32:43.934897Z"
    },
    "papermill": {
     "duration": 0.025172,
     "end_time": "2020-07-25T20:32:43.935249",
     "exception": false,
     "start_time": "2020-07-25T20:32:43.910077",
     "status": "completed"
    },
    "tags": []
   },
   "outputs": [],
   "source": [
    "from urllib import request\n",
    "from http.cookiejar import CookieJar\n",
    "import getpass\n",
    "import netrc\n",
    "\n",
    "def setup_earthdata_login_auth(endpoint):\n",
    "    \"\"\"\n",
    "    Set up the request library so that it authenticates against the given Earthdata Login\n",
    "    endpoint and is able to track cookies between requests.  This looks in the .netrc file \n",
    "    first and if no credentials are found, it prompts for them.\n",
    "\n",
    "    Valid endpoints include:\n",
    "        uat.urs.earthdata.nasa.gov - Earthdata Login UAT (Harmony's current default)\n",
    "        urs.earthdata.nasa.gov - Earthdata Login production\n",
    "    \"\"\"\n",
    "    try:\n",
    "        username, _, password = netrc.netrc().authenticators(endpoint)\n",
    "    except (FileNotFoundError, TypeError):\n",
    "        # FileNotFound = There's no .netrc file\n",
    "        # TypeError = The endpoint isn't in the netrc file, causing the above to try unpacking None\n",
    "        print('Please provide your Earthdata Login credentials to allow data access')\n",
    "        print('Your credentials will only be passed to %s and will not be exposed in Jupyter' % (endpoint))\n",
    "        username = input('Username:')\n",
    "        password = getpass.getpass()\n",
    "\n",
    "    manager = request.HTTPPasswordMgrWithDefaultRealm()\n",
    "    manager.add_password(None, endpoint, username, password)\n",
    "    auth = request.HTTPBasicAuthHandler(manager)\n",
    "\n",
    "    jar = CookieJar()\n",
    "    processor = request.HTTPCookieProcessor(jar)\n",
    "    opener = request.build_opener(auth, processor)\n",
    "    request.install_opener(opener)"
   ]
  },
  {
   "cell_type": "code",
   "execution_count": 2,
   "metadata": {
    "ExecuteTime": {
     "end_time": "2020-07-25T19:41:17.238306Z",
     "start_time": "2020-07-25T19:41:17.231089Z"
    },
    "execution": {
     "iopub.execute_input": "2020-07-25T20:32:43.957084Z",
     "iopub.status.busy": "2020-07-25T20:32:43.956536Z",
     "iopub.status.idle": "2020-07-25T20:32:43.965853Z",
     "shell.execute_reply": "2020-07-25T20:32:43.966260Z"
    },
    "papermill": {
     "duration": 0.021722,
     "end_time": "2020-07-25T20:32:43.966478",
     "exception": false,
     "start_time": "2020-07-25T20:32:43.944756",
     "status": "completed"
    },
    "tags": []
   },
   "outputs": [],
   "source": [
    "setup_earthdata_login_auth('uat.urs.earthdata.nasa.gov')"
   ]
  },
  {
   "cell_type": "markdown",
   "metadata": {
    "papermill": {
     "duration": 0.01051,
     "end_time": "2020-07-25T20:32:43.987292",
     "exception": false,
     "start_time": "2020-07-25T20:32:43.976782",
     "status": "completed"
    },
    "tags": []
   },
   "source": [
    "## Hands-off workflow\n",
    "\n",
    "This first cell accepts parameters from [`papermill`](https://papermill.readthedocs.io) whenever this notebook is executed from the command line. It functions like any other notebook when run in the notebook server.\n",
    "\n",
    "Learn  how to run the notebook from the command line at this link:    \n",
    "https://papermill.readthedocs.io/en/latest/usage-execute.html#execute-a-notebook-with-parameters\n",
    "\n",
    "The variables below (`mins`, `cmr`, `ccid`, and `data`) determine the notebook defaults for when it's run from the command line with papermill."
   ]
  },
  {
   "cell_type": "code",
   "execution_count": 3,
   "metadata": {
    "ExecuteTime": {
     "end_time": "2020-07-25T19:41:17.273774Z",
     "start_time": "2020-07-25T19:41:17.271319Z"
    },
    "execution": {
     "iopub.execute_input": "2020-07-25T20:32:44.011883Z",
     "iopub.status.busy": "2020-07-25T20:32:44.011110Z",
     "iopub.status.idle": "2020-07-25T20:32:44.013116Z",
     "shell.execute_reply": "2020-07-25T20:32:44.013536Z"
    },
    "papermill": {
     "duration": 0.015861,
     "end_time": "2020-07-25T20:32:44.013751",
     "exception": false,
     "start_time": "2020-07-25T20:32:43.997890",
     "status": "completed"
    },
    "tags": [
     "parameters"
    ]
   },
   "outputs": [],
   "source": [
    "mins = 1  # how far back to search for granules, in minutes?\n",
    "\n",
    "cmr = \"cmr.uat.earthdata.nasa.gov\"  # CMR, UAT domain (cmr.earthdata.nasa.gov)\n",
    "\n",
    "ccid = \"C1234724470-POCLOUD\"  # CMR concept-id of the desired collection\n",
    "\n",
    "data = \"resources/nrt\"  # path to the local NRT data directory"
   ]
  },
  {
   "cell_type": "markdown",
   "metadata": {
    "papermill": {
     "duration": 0.009624,
     "end_time": "2020-07-25T20:32:44.033156",
     "exception": false,
     "start_time": "2020-07-25T20:32:44.023532",
     "status": "completed"
    },
    "tags": []
   },
   "source": [
    "**In this initial example, I pointed the Python variable `data` at a test directory inside the *resources* folder adjacent to this notebook ([`resources/nrt`](resources/nrt/)).** That test data folder is `.gitignore`d. Because it doesn't get pushed to GitHub, this notebook makes it during the first run after the repo is cloned, assuming the user hasn't provided a local directory in the cell above or as an argument from the command line."
   ]
  },
  {
   "cell_type": "code",
   "execution_count": 4,
   "metadata": {
    "ExecuteTime": {
     "end_time": "2020-07-25T19:41:17.323880Z",
     "start_time": "2020-07-25T19:41:17.321229Z"
    },
    "execution": {
     "iopub.execute_input": "2020-07-25T20:32:44.056111Z",
     "iopub.status.busy": "2020-07-25T20:32:44.055476Z",
     "iopub.status.idle": "2020-07-25T20:32:44.057351Z",
     "shell.execute_reply": "2020-07-25T20:32:44.057789Z"
    },
    "papermill": {
     "duration": 0.015563,
     "end_time": "2020-07-25T20:32:44.058012",
     "exception": false,
     "start_time": "2020-07-25T20:32:44.042449",
     "status": "completed"
    },
    "tags": []
   },
   "outputs": [],
   "source": [
    "from os import makedirs\n",
    "from os.path import isdir, basename\n",
    "from urllib.request import urlopen, urlretrieve\n",
    "from datetime import datetime, timedelta\n",
    "from json import dumps, loads"
   ]
  },
  {
   "cell_type": "markdown",
   "metadata": {
    "papermill": {
     "duration": 0.009236,
     "end_time": "2020-07-25T20:32:44.076959",
     "exception": false,
     "start_time": "2020-07-25T20:32:44.067723",
     "status": "completed"
    },
    "tags": []
   },
   "source": [
    "**The search retrieves granules ingested during the last `n` minutes.** A file in your local data dir  file that tracks updates to your data directory, if one file exists. The CMR Search falls back on the ten minute window if not."
   ]
  },
  {
   "cell_type": "code",
   "execution_count": 5,
   "metadata": {
    "ExecuteTime": {
     "end_time": "2020-07-25T19:41:17.378021Z",
     "start_time": "2020-07-25T19:41:17.370461Z"
    },
    "execution": {
     "iopub.execute_input": "2020-07-25T20:32:44.100861Z",
     "iopub.status.busy": "2020-07-25T20:32:44.100290Z",
     "iopub.status.idle": "2020-07-25T20:32:44.102433Z",
     "shell.execute_reply": "2020-07-25T20:32:44.103059Z"
    },
    "papermill": {
     "duration": 0.017854,
     "end_time": "2020-07-25T20:32:44.103408",
     "exception": false,
     "start_time": "2020-07-25T20:32:44.085554",
     "status": "completed"
    },
    "tags": []
   },
   "outputs": [
    {
     "data": {
      "text/plain": [
       "'2020-07-25T16:31:44Z'"
      ]
     },
     "execution_count": 5,
     "metadata": {},
     "output_type": "execute_result"
    }
   ],
   "source": [
    "timestamp = (datetime.now()-timedelta(minutes=mins)).strftime(\"%Y-%m-%dT%H:%M:%SZ\")\n",
    "timestamp"
   ]
  },
  {
   "cell_type": "markdown",
   "metadata": {
    "papermill": {
     "duration": 0.008535,
     "end_time": "2020-07-25T20:32:44.120489",
     "exception": false,
     "start_time": "2020-07-25T20:32:44.111954",
     "status": "completed"
    },
    "tags": []
   },
   "source": [
    "**How to use the notebook:**\n",
    "\n",
    "Run it to update your local copy of NRT data as needed. There are at least a few ways to do that:\n",
    "\n",
    "* from the notebook server, \n",
    "* from the command line with papermill as documented above, and\n",
    "* with a job scheduler like cron for routine updates.\n",
    "\n",
    "It overwrites a hidden file called `.update` with a timestamp after each successful run. That file lives hidden in your data directory. You can modify the snippet below if that requirement won't work for you. Saving a timestamp to a file isn't a requirement to do this."
   ]
  },
  {
   "cell_type": "code",
   "execution_count": 6,
   "metadata": {
    "ExecuteTime": {
     "end_time": "2020-07-25T19:41:17.430759Z",
     "start_time": "2020-07-25T19:41:17.426922Z"
    },
    "execution": {
     "iopub.execute_input": "2020-07-25T20:32:44.141789Z",
     "iopub.status.busy": "2020-07-25T20:32:44.141182Z",
     "iopub.status.idle": "2020-07-25T20:32:44.143636Z",
     "shell.execute_reply": "2020-07-25T20:32:44.144137Z"
    },
    "papermill": {
     "duration": 0.015025,
     "end_time": "2020-07-25T20:32:44.144467",
     "exception": false,
     "start_time": "2020-07-25T20:32:44.129442",
     "status": "completed"
    },
    "tags": []
   },
   "outputs": [
    {
     "name": "stdout",
     "output_type": "stream",
     "text": [
      "WARN: No .update in the data directory. (Is this the first run?)\n"
     ]
    }
   ],
   "source": [
    "if not isdir(data):\n",
    "    print(f\"NOTE: Making new data directory at '{data}'. (This is the first run.)\")\n",
    "    makedirs(data)\n",
    "else:\n",
    "    try:\n",
    "        with open(f\"{data}/.update\", \"r\") as f:\n",
    "            timestamp = r.read()\n",
    "    except FileNotFoundError:\n",
    "        print(\"WARN: No .update in the data directory. (Is this the first run?)\")\n",
    "    else:\n",
    "        print(f\"NOTE: .update found in the data directory. (The last run was at {timestamp}.)\")"
   ]
  },
  {
   "cell_type": "markdown",
   "metadata": {
    "papermill": {
     "duration": 0.009078,
     "end_time": "2020-07-25T20:32:44.162544",
     "exception": false,
     "start_time": "2020-07-25T20:32:44.153466",
     "status": "completed"
    },
    "tags": []
   },
   "source": [
    "There are several ways to query for CMR updates that occured during a given timeframe. Read on in the CMR Search documentation:\n",
    "\n",
    "* https://cmr.earthdata.nasa.gov/search/site/docs/search/api.html#c-with-new-granules (Collections)\n",
    "* https://cmr.earthdata.nasa.gov/search/site/docs/search/api.html#c-with-revised-granules (Collections)\n",
    "* https://cmr.earthdata.nasa.gov/search/site/docs/search/api.html#g-production-date (Granules)\n",
    "* https://cmr.earthdata.nasa.gov/search/site/docs/search/api.html#g-created-at (Granules)\n",
    "\n",
    "The `created_at` parameter works for our purposes. It's a granule search parameter that returns the records ingested since the input timestamp."
   ]
  },
  {
   "cell_type": "code",
   "execution_count": 7,
   "metadata": {
    "ExecuteTime": {
     "end_time": "2020-07-25T19:41:17.485450Z",
     "start_time": "2020-07-25T19:41:17.481795Z"
    },
    "execution": {
     "iopub.execute_input": "2020-07-25T20:32:44.184438Z",
     "iopub.status.busy": "2020-07-25T20:32:44.183708Z",
     "iopub.status.idle": "2020-07-25T20:32:44.185905Z",
     "shell.execute_reply": "2020-07-25T20:32:44.186265Z"
    },
    "papermill": {
     "duration": 0.014822,
     "end_time": "2020-07-25T20:32:44.186585",
     "exception": false,
     "start_time": "2020-07-25T20:32:44.171763",
     "status": "completed"
    },
    "tags": []
   },
   "outputs": [
    {
     "data": {
      "text/plain": [
       "{'scroll': 'true',\n",
       " 'page_size': 2000,\n",
       " 'sort_key': '-start_date',\n",
       " 'collection_concept_id': 'C1234724470-POCLOUD',\n",
       " 'created_at': '2020-07-25T16:31:44Z',\n",
       " 'bounding_box': '-146.5,57.5,-146,58'}"
      ]
     },
     "execution_count": 7,
     "metadata": {},
     "output_type": "execute_result"
    }
   ],
   "source": [
    "params = {\n",
    "    'scroll': \"true\",\n",
    "    'page_size': 2000,\n",
    "    'sort_key': \"-start_date\",\n",
    "    'collection_concept_id': ccid, \n",
    "    'created_at': timestamp,\n",
    "    # Limit results to coverage for .5deg bbox in Gulf of Alaska:\n",
    "    'bounding_box': \"-146.5,57.5,-146,58\",\n",
    "}\n",
    "\n",
    "params"
   ]
  },
  {
   "cell_type": "markdown",
   "metadata": {
    "papermill": {
     "duration": 0.008785,
     "end_time": "2020-07-25T20:32:44.204682",
     "exception": false,
     "start_time": "2020-07-25T20:32:44.195897",
     "status": "completed"
    },
    "tags": []
   },
   "source": [
    "Join the parameters dictionary into the query string by joining the parameters and values with `=`, then the `parameter=value` pairs to each other with `&`."
   ]
  },
  {
   "cell_type": "code",
   "execution_count": 8,
   "metadata": {
    "ExecuteTime": {
     "end_time": "2020-07-25T19:41:17.539138Z",
     "start_time": "2020-07-25T19:41:17.535849Z"
    },
    "execution": {
     "iopub.execute_input": "2020-07-25T20:32:44.226662Z",
     "iopub.status.busy": "2020-07-25T20:32:44.225940Z",
     "iopub.status.idle": "2020-07-25T20:32:44.228852Z",
     "shell.execute_reply": "2020-07-25T20:32:44.229315Z"
    },
    "papermill": {
     "duration": 0.015924,
     "end_time": "2020-07-25T20:32:44.229715",
     "exception": false,
     "start_time": "2020-07-25T20:32:44.213791",
     "status": "completed"
    },
    "tags": []
   },
   "outputs": [
    {
     "data": {
      "text/plain": [
       "'scroll=true&page_size=2000&sort_key=-start_date&collection_concept_id=C1234724470-POCLOUD&created_at=2020-07-25T16:31:44Z&bounding_box=-146.5,57.5,-146,58'"
      ]
     },
     "execution_count": 8,
     "metadata": {},
     "output_type": "execute_result"
    }
   ],
   "source": [
    "query = \"&\".join([f\"{p}={v}\" for p,v in params.items()])\n",
    "query"
   ]
  },
  {
   "cell_type": "markdown",
   "metadata": {
    "papermill": {
     "duration": 0.010538,
     "end_time": "2020-07-25T20:32:44.249789",
     "exception": false,
     "start_time": "2020-07-25T20:32:44.239251",
     "status": "completed"
    },
    "tags": []
   },
   "source": [
    "Append to the CMR Search endpoint for collections."
   ]
  },
  {
   "cell_type": "code",
   "execution_count": 9,
   "metadata": {
    "ExecuteTime": {
     "end_time": "2020-07-25T19:41:17.590379Z",
     "start_time": "2020-07-25T19:41:17.587847Z"
    },
    "execution": {
     "iopub.execute_input": "2020-07-25T20:32:44.271214Z",
     "iopub.status.busy": "2020-07-25T20:32:44.270708Z",
     "iopub.status.idle": "2020-07-25T20:32:44.272419Z",
     "shell.execute_reply": "2020-07-25T20:32:44.272739Z"
    },
    "papermill": {
     "duration": 0.013447,
     "end_time": "2020-07-25T20:32:44.272915",
     "exception": false,
     "start_time": "2020-07-25T20:32:44.259468",
     "status": "completed"
    },
    "tags": []
   },
   "outputs": [
    {
     "name": "stdout",
     "output_type": "stream",
     "text": [
      "https://cmr.uat.earthdata.nasa.gov/search/granules.umm_json?scroll=true&page_size=2000&sort_key=-start_date&collection_concept_id=C1234724470-POCLOUD&created_at=2020-07-25T16:31:44Z&bounding_box=-146.5,57.5,-146,58\n"
     ]
    }
   ],
   "source": [
    "url = f\"https://{cmr}/search/granules.umm_json?{query}\"\n",
    "print(url)"
   ]
  },
  {
   "cell_type": "markdown",
   "metadata": {
    "papermill": {
     "duration": 0.009187,
     "end_time": "2020-07-25T20:32:44.291453",
     "exception": false,
     "start_time": "2020-07-25T20:32:44.282266",
     "status": "completed"
    },
    "tags": []
   },
   "source": [
    "Download the granule records that match our search parameters."
   ]
  },
  {
   "cell_type": "code",
   "execution_count": 10,
   "metadata": {
    "ExecuteTime": {
     "end_time": "2020-07-25T19:41:18.168139Z",
     "start_time": "2020-07-25T19:41:17.643561Z"
    },
    "execution": {
     "iopub.execute_input": "2020-07-25T20:32:44.315170Z",
     "iopub.status.busy": "2020-07-25T20:32:44.314677Z",
     "iopub.status.idle": "2020-07-25T20:32:46.183248Z",
     "shell.execute_reply": "2020-07-25T20:32:46.183724Z"
    },
    "papermill": {
     "duration": 1.881994,
     "end_time": "2020-07-25T20:32:46.184043",
     "exception": false,
     "start_time": "2020-07-25T20:32:44.302049",
     "status": "completed"
    },
    "tags": []
   },
   "outputs": [
    {
     "name": "stdout",
     "output_type": "stream",
     "text": [
      "81 new granules ingested for 'C1234724470-POCLOUD' since '2020-07-25T16:31:44Z'.\n"
     ]
    }
   ],
   "source": [
    "with urlopen(url) as f:\n",
    "    results = loads(f.read().decode())\n",
    "\n",
    "print(f\"{results['hits']} new granules ingested for '{ccid}' since '{timestamp}'.\")"
   ]
  },
  {
   "cell_type": "markdown",
   "metadata": {
    "papermill": {
     "duration": 0.010377,
     "end_time": "2020-07-25T20:32:46.206072",
     "exception": false,
     "start_time": "2020-07-25T20:32:46.195695",
     "status": "completed"
    },
    "tags": []
   },
   "source": [
    "Neatly print the first granule's record for reference (assuming at least one was returned)."
   ]
  },
  {
   "cell_type": "code",
   "execution_count": 11,
   "metadata": {
    "ExecuteTime": {
     "end_time": "2020-07-25T19:41:18.173256Z",
     "start_time": "2020-07-25T19:41:18.170238Z"
    },
    "execution": {
     "iopub.execute_input": "2020-07-25T20:32:46.230506Z",
     "iopub.status.busy": "2020-07-25T20:32:46.229373Z",
     "iopub.status.idle": "2020-07-25T20:32:46.232820Z",
     "shell.execute_reply": "2020-07-25T20:32:46.233328Z"
    },
    "papermill": {
     "duration": 0.01777,
     "end_time": "2020-07-25T20:32:46.233707",
     "exception": false,
     "start_time": "2020-07-25T20:32:46.215937",
     "status": "completed"
    },
    "tags": []
   },
   "outputs": [
    {
     "name": "stdout",
     "output_type": "stream",
     "text": [
      "{\n",
      "  \"meta\": {\n",
      "    \"concept-type\": \"granule\",\n",
      "    \"concept-id\": \"G1236548875-POCLOUD\",\n",
      "    \"revision-id\": 1,\n",
      "    \"native-id\": \"20200725124001-JPL-L2P_GHRSST-SSTskin-MODIS_A-N-v02.0-fv01.0\",\n",
      "    \"provider-id\": \"POCLOUD\",\n",
      "    \"format\": \"application/vnd.nasa.cmr.umm+json\",\n",
      "    \"revision-date\": \"2020-07-25T18:45:54Z\"\n",
      "  },\n",
      "  \"umm\": {\n",
      "    \"RelatedUrls\": [\n",
      "      {\n",
      "        \"URL\": \"https://archive.podaac.uat.earthdata.nasa.gov/podaac-uat-cumulus-protected/MODIS_A-JPL-L2P-v2019.0/20200725124001-JPL-L2P_GHRSST-SSTskin-MODIS_A-N-v02.0-fv01.0.nc\",\n",
      "        \"Type\": \"GET DATA\",\n",
      "        \"Description\": \"The base directory location for the granule.\"\n",
      "      },\n",
      "      {\n",
      "        \"URL\": \"https://archive.podaac.uat.earthdata.nasa.gov/podaac-uat-cumulus-public/MODIS_A-JPL-L2P-v2019.0/20200725124001-JPL-L2P_GHRSST-SSTskin-MODIS_A-N-v02.0-fv01.0.cmr.json\",\n",
      "        \"Type\": \"EXTENDED METADATA\",\n",
      "        \"Description\": \"File to download\"\n",
      "      },\n",
      "      {\n",
      "        \"URL\": \"https://archive.podaac.uat.earthdata.nasa.gov/s3credentials\",\n",
      "        \"Type\": \"VIEW RELATED INFORMATION\",\n",
      "        \"Description\": \"api endpoint to retrieve temporary credentials valid for same-region direct s3 access\"\n",
      "      }\n",
      "    ],\n",
      "    \"SpatialExtent\": {\n",
      "      \"HorizontalSpatialDomain\": {\n",
      "        \"Geometry\": {\n",
      "          \"BoundingRectangles\": [\n",
      "            {\n",
      "              \"WestBoundingCoordinate\": -176.095,\n",
      "              \"EastBoundingCoordinate\": -116.816,\n",
      "              \"NorthBoundingCoordinate\": 74.145,\n",
      "              \"SouthBoundingCoordinate\": 51.191\n",
      "            }\n",
      "          ]\n",
      "        }\n",
      "      }\n",
      "    },\n",
      "    \"ProviderDates\": [\n",
      "      {\n",
      "        \"Date\": \"2020-07-25T18:45:38.592Z\",\n",
      "        \"Type\": \"Insert\"\n",
      "      },\n",
      "      {\n",
      "        \"Date\": \"2020-07-25T18:45:38.593Z\",\n",
      "        \"Type\": \"Update\"\n",
      "      }\n",
      "    ],\n",
      "    \"CollectionReference\": {\n",
      "      \"ShortName\": \"MODIS_A-JPL-L2P-v2019.0\",\n",
      "      \"Version\": \"2019.0\"\n",
      "    },\n",
      "    \"DataGranule\": {\n",
      "      \"DayNightFlag\": \"Unspecified\",\n",
      "      \"ProductionDateTime\": \"2020-07-25T16:24:24.000Z\",\n",
      "      \"ArchiveAndDistributionInformation\": [\n",
      "        {\n",
      "          \"Name\": \"Not provided\",\n",
      "          \"Size\": 20.395657539367676,\n",
      "          \"SizeUnit\": \"MB\"\n",
      "        }\n",
      "      ]\n",
      "    },\n",
      "    \"TemporalExtent\": {\n",
      "      \"RangeDateTime\": {\n",
      "        \"BeginningDateTime\": \"2020-07-25T12:40:01.000Z\",\n",
      "        \"EndingDateTime\": \"2020-07-25T12:44:58.000Z\"\n",
      "      }\n",
      "    },\n",
      "    \"GranuleUR\": \"20200725124001-JPL-L2P_GHRSST-SSTskin-MODIS_A-N-v02.0-fv01.0\",\n",
      "    \"MetadataSpecification\": {\n",
      "      \"URL\": \"https://cdn.earthdata.nasa.gov/umm/granule/v1.6.1\",\n",
      "      \"Name\": \"UMM-G\",\n",
      "      \"Version\": \"1.6.1\"\n",
      "    }\n",
      "  }\n",
      "}\n"
     ]
    }
   ],
   "source": [
    "if len(results['items'])>0:\n",
    "    print(dumps(results['items'][0], indent=2))"
   ]
  },
  {
   "cell_type": "markdown",
   "metadata": {
    "papermill": {
     "duration": 0.011349,
     "end_time": "2020-07-25T20:32:46.256673",
     "exception": false,
     "start_time": "2020-07-25T20:32:46.245324",
     "status": "completed"
    },
    "tags": []
   },
   "source": [
    "The link for http access denoted by `\"Type\": \"GET DATA\"` in the list of `RelatedUrls`.\n",
    "\n",
    "Grab the download URL, but do it in a way that'll work for search results returning any number of granule records:"
   ]
  },
  {
   "cell_type": "code",
   "execution_count": 12,
   "metadata": {
    "ExecuteTime": {
     "end_time": "2020-07-25T19:41:18.180639Z",
     "start_time": "2020-07-25T19:41:18.175994Z"
    },
    "execution": {
     "iopub.execute_input": "2020-07-25T20:32:46.283001Z",
     "iopub.status.busy": "2020-07-25T20:32:46.282367Z",
     "iopub.status.idle": "2020-07-25T20:32:46.285341Z",
     "shell.execute_reply": "2020-07-25T20:32:46.285779Z"
    },
    "papermill": {
     "duration": 0.018404,
     "end_time": "2020-07-25T20:32:46.286078",
     "exception": false,
     "start_time": "2020-07-25T20:32:46.267674",
     "status": "completed"
    },
    "tags": []
   },
   "outputs": [
    {
     "data": {
      "text/plain": [
       "['https://archive.podaac.uat.earthdata.nasa.gov/podaac-uat-cumulus-protected/MODIS_A-JPL-L2P-v2019.0/20200725124001-JPL-L2P_GHRSST-SSTskin-MODIS_A-N-v02.0-fv01.0.nc',\n",
       " 'https://archive.podaac.uat.earthdata.nasa.gov/podaac-uat-cumulus-protected/MODIS_A-JPL-L2P-v2019.0/20200725124001-JPL-L2P_GHRSST-SSTskin-MODIS_A-D-v02.0-fv01.0.nc',\n",
       " 'https://archive.podaac.uat.earthdata.nasa.gov/podaac-uat-cumulus-protected/MODIS_A-JPL-L2P-v2019.0/20200725110501-JPL-L2P_GHRSST-SSTskin-MODIS_A-N-v02.0-fv01.0.nc',\n",
       " 'https://archive.podaac.uat.earthdata.nasa.gov/podaac-uat-cumulus-protected/MODIS_A-JPL-L2P-v2019.0/20200725110001-JPL-L2P_GHRSST-SSTskin-MODIS_A-N-v02.0-fv01.0.nc',\n",
       " 'https://archive.podaac.uat.earthdata.nasa.gov/podaac-uat-cumulus-protected/MODIS_A-JPL-L2P-v2019.0/20200725110001-JPL-L2P_GHRSST-SSTskin-MODIS_A-D-v02.0-fv01.0.nc',\n",
       " 'https://archive.podaac.uat.earthdata.nasa.gov/podaac-uat-cumulus-protected/MODIS_A-JPL-L2P-v2019.0/20021124233506-JPL-L2P_GHRSST-SSTskin-MODIS_A-D-v02.0-fv01.0.nc',\n",
       " 'https://archive.podaac.uat.earthdata.nasa.gov/podaac-uat-cumulus-protected/MODIS_A-JPL-L2P-v2019.0/20021124215506-JPL-L2P_GHRSST-SSTskin-MODIS_A-D-v02.0-fv01.0.nc',\n",
       " 'https://archive.podaac.uat.earthdata.nasa.gov/podaac-uat-cumulus-protected/MODIS_A-JPL-L2P-v2019.0/20021124104005-JPL-L2P_GHRSST-SSTskin-MODIS_A-N-v02.0-fv01.0.nc',\n",
       " 'https://archive.podaac.uat.earthdata.nasa.gov/podaac-uat-cumulus-protected/MODIS_A-JPL-L2P-v2019.0/20021123225506-JPL-L2P_GHRSST-SSTskin-MODIS_A-N-v02.0-fv01.0.nc',\n",
       " 'https://archive.podaac.uat.earthdata.nasa.gov/podaac-uat-cumulus-protected/MODIS_A-JPL-L2P-v2019.0/20021113221506-JPL-L2P_GHRSST-SSTskin-MODIS_A-N-v02.0-fv01.0.nc',\n",
       " 'https://archive.podaac.uat.earthdata.nasa.gov/podaac-uat-cumulus-protected/MODIS_A-JPL-L2P-v2019.0/20021113141505-JPL-L2P_GHRSST-SSTskin-MODIS_A-N-v02.0-fv01.0.nc',\n",
       " 'https://archive.podaac.uat.earthdata.nasa.gov/podaac-uat-cumulus-protected/MODIS_A-JPL-L2P-v2019.0/20021113124005-JPL-L2P_GHRSST-SSTskin-MODIS_A-N-v02.0-fv01.0.nc',\n",
       " 'https://archive.podaac.uat.earthdata.nasa.gov/podaac-uat-cumulus-protected/MODIS_A-JPL-L2P-v2019.0/20021113123505-JPL-L2P_GHRSST-SSTskin-MODIS_A-N-v02.0-fv01.0.nc',\n",
       " 'https://archive.podaac.uat.earthdata.nasa.gov/podaac-uat-cumulus-protected/MODIS_A-JPL-L2P-v2019.0/20021113110005-JPL-L2P_GHRSST-SSTskin-MODIS_A-N-v02.0-fv01.0.nc',\n",
       " 'https://archive.podaac.uat.earthdata.nasa.gov/podaac-uat-cumulus-protected/MODIS_A-JPL-L2P-v2019.0/20021112231005-JPL-L2P_GHRSST-SSTskin-MODIS_A-D-v02.0-fv01.0.nc',\n",
       " 'https://archive.podaac.uat.earthdata.nasa.gov/podaac-uat-cumulus-protected/MODIS_A-JPL-L2P-v2019.0/20021112213505-JPL-L2P_GHRSST-SSTskin-MODIS_A-D-v02.0-fv01.0.nc',\n",
       " 'https://archive.podaac.uat.earthdata.nasa.gov/podaac-uat-cumulus-protected/MODIS_A-JPL-L2P-v2019.0/20021112213505-JPL-L2P_GHRSST-SSTskin-MODIS_A-N-v02.0-fv01.0.nc',\n",
       " 'https://archive.podaac.uat.earthdata.nasa.gov/podaac-uat-cumulus-protected/MODIS_A-JPL-L2P-v2019.0/20021112195505-JPL-L2P_GHRSST-SSTskin-MODIS_A-D-v02.0-fv01.0.nc',\n",
       " 'https://archive.podaac.uat.earthdata.nasa.gov/podaac-uat-cumulus-protected/MODIS_A-JPL-L2P-v2019.0/20021112195505-JPL-L2P_GHRSST-SSTskin-MODIS_A-N-v02.0-fv01.0.nc',\n",
       " 'https://archive.podaac.uat.earthdata.nasa.gov/podaac-uat-cumulus-protected/MODIS_A-JPL-L2P-v2019.0/20021112133506-JPL-L2P_GHRSST-SSTskin-MODIS_A-N-v02.0-fv01.0.nc',\n",
       " 'https://archive.podaac.uat.earthdata.nasa.gov/podaac-uat-cumulus-protected/MODIS_A-JPL-L2P-v2019.0/20021112115506-JPL-L2P_GHRSST-SSTskin-MODIS_A-N-v02.0-fv01.0.nc',\n",
       " 'https://archive.podaac.uat.earthdata.nasa.gov/podaac-uat-cumulus-protected/MODIS_A-JPL-L2P-v2019.0/20021111223006-JPL-L2P_GHRSST-SSTskin-MODIS_A-D-v02.0-fv01.0.nc',\n",
       " 'https://archive.podaac.uat.earthdata.nasa.gov/podaac-uat-cumulus-protected/MODIS_A-JPL-L2P-v2019.0/20021111223006-JPL-L2P_GHRSST-SSTskin-MODIS_A-N-v02.0-fv01.0.nc',\n",
       " 'https://archive.podaac.uat.earthdata.nasa.gov/podaac-uat-cumulus-protected/MODIS_A-JPL-L2P-v2019.0/20021111222506-JPL-L2P_GHRSST-SSTskin-MODIS_A-D-v02.0-fv01.0.nc',\n",
       " 'https://archive.podaac.uat.earthdata.nasa.gov/podaac-uat-cumulus-protected/MODIS_A-JPL-L2P-v2019.0/20021111205006-JPL-L2P_GHRSST-SSTskin-MODIS_A-N-v02.0-fv01.0.nc',\n",
       " 'https://archive.podaac.uat.earthdata.nasa.gov/podaac-uat-cumulus-protected/MODIS_A-JPL-L2P-v2019.0/20021111205006-JPL-L2P_GHRSST-SSTskin-MODIS_A-D-v02.0-fv01.0.nc',\n",
       " 'https://archive.podaac.uat.earthdata.nasa.gov/podaac-uat-cumulus-protected/MODIS_A-JPL-L2P-v2019.0/20021111125006-JPL-L2P_GHRSST-SSTskin-MODIS_A-N-v02.0-fv01.0.nc',\n",
       " 'https://archive.podaac.uat.earthdata.nasa.gov/podaac-uat-cumulus-protected/MODIS_A-JPL-L2P-v2019.0/20021111111006-JPL-L2P_GHRSST-SSTskin-MODIS_A-N-v02.0-fv01.0.nc',\n",
       " 'https://archive.podaac.uat.earthdata.nasa.gov/podaac-uat-cumulus-protected/MODIS_A-JPL-L2P-v2019.0/20021110232506-JPL-L2P_GHRSST-SSTskin-MODIS_A-D-v02.0-fv01.0.nc',\n",
       " 'https://archive.podaac.uat.earthdata.nasa.gov/podaac-uat-cumulus-protected/MODIS_A-JPL-L2P-v2019.0/20021110232506-JPL-L2P_GHRSST-SSTskin-MODIS_A-N-v02.0-fv01.0.nc',\n",
       " 'https://archive.podaac.uat.earthdata.nasa.gov/podaac-uat-cumulus-protected/MODIS_A-JPL-L2P-v2019.0/20021110232005-JPL-L2P_GHRSST-SSTskin-MODIS_A-D-v02.0-fv01.0.nc',\n",
       " 'https://archive.podaac.uat.earthdata.nasa.gov/podaac-uat-cumulus-protected/MODIS_A-JPL-L2P-v2019.0/20021110214506-JPL-L2P_GHRSST-SSTskin-MODIS_A-N-v02.0-fv01.0.nc',\n",
       " 'https://archive.podaac.uat.earthdata.nasa.gov/podaac-uat-cumulus-protected/MODIS_A-JPL-L2P-v2019.0/20021110214506-JPL-L2P_GHRSST-SSTskin-MODIS_A-D-v02.0-fv01.0.nc',\n",
       " 'https://archive.podaac.uat.earthdata.nasa.gov/podaac-uat-cumulus-protected/MODIS_A-JPL-L2P-v2019.0/20021110134506-JPL-L2P_GHRSST-SSTskin-MODIS_A-N-v02.0-fv01.0.nc',\n",
       " 'https://archive.podaac.uat.earthdata.nasa.gov/podaac-uat-cumulus-protected/MODIS_A-JPL-L2P-v2019.0/20021110121005-JPL-L2P_GHRSST-SSTskin-MODIS_A-N-v02.0-fv01.0.nc',\n",
       " 'https://archive.podaac.uat.earthdata.nasa.gov/podaac-uat-cumulus-protected/MODIS_A-JPL-L2P-v2019.0/20021109224005-JPL-L2P_GHRSST-SSTskin-MODIS_A-D-v02.0-fv01.0.nc',\n",
       " 'https://archive.podaac.uat.earthdata.nasa.gov/podaac-uat-cumulus-protected/MODIS_A-JPL-L2P-v2019.0/20021109192505-JPL-L2P_GHRSST-SSTskin-MODIS_A-N-v02.0-fv01.0.nc',\n",
       " 'https://archive.podaac.uat.earthdata.nasa.gov/podaac-uat-cumulus-protected/MODIS_A-JPL-L2P-v2019.0/20021109144006-JPL-L2P_GHRSST-SSTskin-MODIS_A-N-v02.0-fv01.0.nc',\n",
       " 'https://archive.podaac.uat.earthdata.nasa.gov/podaac-uat-cumulus-protected/MODIS_A-JPL-L2P-v2019.0/20021109130506-JPL-L2P_GHRSST-SSTskin-MODIS_A-N-v02.0-fv01.0.nc',\n",
       " 'https://archive.podaac.uat.earthdata.nasa.gov/podaac-uat-cumulus-protected/MODIS_A-JPL-L2P-v2019.0/20021109130006-JPL-L2P_GHRSST-SSTskin-MODIS_A-N-v02.0-fv01.0.nc',\n",
       " 'https://archive.podaac.uat.earthdata.nasa.gov/podaac-uat-cumulus-protected/MODIS_A-JPL-L2P-v2019.0/20021109112506-JPL-L2P_GHRSST-SSTskin-MODIS_A-N-v02.0-fv01.0.nc',\n",
       " 'https://archive.podaac.uat.earthdata.nasa.gov/podaac-uat-cumulus-protected/MODIS_A-JPL-L2P-v2019.0/20021108233506-JPL-L2P_GHRSST-SSTskin-MODIS_A-D-v02.0-fv01.0.nc',\n",
       " 'https://archive.podaac.uat.earthdata.nasa.gov/podaac-uat-cumulus-protected/MODIS_A-JPL-L2P-v2019.0/20021108220006-JPL-L2P_GHRSST-SSTskin-MODIS_A-N-v02.0-fv01.0.nc',\n",
       " 'https://archive.podaac.uat.earthdata.nasa.gov/podaac-uat-cumulus-protected/MODIS_A-JPL-L2P-v2019.0/20021108220006-JPL-L2P_GHRSST-SSTskin-MODIS_A-D-v02.0-fv01.0.nc',\n",
       " 'https://archive.podaac.uat.earthdata.nasa.gov/podaac-uat-cumulus-protected/MODIS_A-JPL-L2P-v2019.0/20021108215506-JPL-L2P_GHRSST-SSTskin-MODIS_A-D-v02.0-fv01.0.nc',\n",
       " 'https://archive.podaac.uat.earthdata.nasa.gov/podaac-uat-cumulus-protected/MODIS_A-JPL-L2P-v2019.0/20021108202006-JPL-L2P_GHRSST-SSTskin-MODIS_A-D-v02.0-fv01.0.nc',\n",
       " 'https://archive.podaac.uat.earthdata.nasa.gov/podaac-uat-cumulus-protected/MODIS_A-JPL-L2P-v2019.0/20021108202006-JPL-L2P_GHRSST-SSTskin-MODIS_A-N-v02.0-fv01.0.nc',\n",
       " 'https://archive.podaac.uat.earthdata.nasa.gov/podaac-uat-cumulus-protected/MODIS_A-JPL-L2P-v2019.0/20021108122005-JPL-L2P_GHRSST-SSTskin-MODIS_A-N-v02.0-fv01.0.nc',\n",
       " 'https://archive.podaac.uat.earthdata.nasa.gov/podaac-uat-cumulus-protected/MODIS_A-JPL-L2P-v2019.0/20021108104005-JPL-L2P_GHRSST-SSTskin-MODIS_A-N-v02.0-fv01.0.nc',\n",
       " 'https://archive.podaac.uat.earthdata.nasa.gov/podaac-uat-cumulus-protected/MODIS_A-JPL-L2P-v2019.0/20021107225505-JPL-L2P_GHRSST-SSTskin-MODIS_A-D-v02.0-fv01.0.nc',\n",
       " 'https://archive.podaac.uat.earthdata.nasa.gov/podaac-uat-cumulus-protected/MODIS_A-JPL-L2P-v2019.0/20021107225505-JPL-L2P_GHRSST-SSTskin-MODIS_A-N-v02.0-fv01.0.nc',\n",
       " 'https://archive.podaac.uat.earthdata.nasa.gov/podaac-uat-cumulus-protected/MODIS_A-JPL-L2P-v2019.0/20021107211506-JPL-L2P_GHRSST-SSTskin-MODIS_A-N-v02.0-fv01.0.nc',\n",
       " 'https://archive.podaac.uat.earthdata.nasa.gov/podaac-uat-cumulus-protected/MODIS_A-JPL-L2P-v2019.0/20021107211506-JPL-L2P_GHRSST-SSTskin-MODIS_A-D-v02.0-fv01.0.nc',\n",
       " 'https://archive.podaac.uat.earthdata.nasa.gov/podaac-uat-cumulus-protected/MODIS_A-JPL-L2P-v2019.0/20021107131506-JPL-L2P_GHRSST-SSTskin-MODIS_A-N-v02.0-fv01.0.nc',\n",
       " 'https://archive.podaac.uat.earthdata.nasa.gov/podaac-uat-cumulus-protected/MODIS_A-JPL-L2P-v2019.0/20021107114006-JPL-L2P_GHRSST-SSTskin-MODIS_A-N-v02.0-fv01.0.nc',\n",
       " 'https://archive.podaac.uat.earthdata.nasa.gov/podaac-uat-cumulus-protected/MODIS_A-JPL-L2P-v2019.0/20021107113506-JPL-L2P_GHRSST-SSTskin-MODIS_A-N-v02.0-fv01.0.nc',\n",
       " 'https://archive.podaac.uat.earthdata.nasa.gov/podaac-uat-cumulus-protected/MODIS_A-JPL-L2P-v2019.0/20021106235006-JPL-L2P_GHRSST-SSTskin-MODIS_A-D-v02.0-fv01.0.nc',\n",
       " 'https://archive.podaac.uat.earthdata.nasa.gov/podaac-uat-cumulus-protected/MODIS_A-JPL-L2P-v2019.0/20021106234506-JPL-L2P_GHRSST-SSTskin-MODIS_A-D-v02.0-fv01.0.nc',\n",
       " 'https://archive.podaac.uat.earthdata.nasa.gov/podaac-uat-cumulus-protected/MODIS_A-JPL-L2P-v2019.0/20021106221006-JPL-L2P_GHRSST-SSTskin-MODIS_A-N-v02.0-fv01.0.nc',\n",
       " 'https://archive.podaac.uat.earthdata.nasa.gov/podaac-uat-cumulus-protected/MODIS_A-JPL-L2P-v2019.0/20021106221006-JPL-L2P_GHRSST-SSTskin-MODIS_A-D-v02.0-fv01.0.nc',\n",
       " 'https://archive.podaac.uat.earthdata.nasa.gov/podaac-uat-cumulus-protected/MODIS_A-JPL-L2P-v2019.0/20021106141006-JPL-L2P_GHRSST-SSTskin-MODIS_A-N-v02.0-fv01.0.nc',\n",
       " 'https://archive.podaac.uat.earthdata.nasa.gov/podaac-uat-cumulus-protected/MODIS_A-JPL-L2P-v2019.0/20021106123506-JPL-L2P_GHRSST-SSTskin-MODIS_A-N-v02.0-fv01.0.nc',\n",
       " 'https://archive.podaac.uat.earthdata.nasa.gov/podaac-uat-cumulus-protected/MODIS_A-JPL-L2P-v2019.0/20021106123006-JPL-L2P_GHRSST-SSTskin-MODIS_A-N-v02.0-fv01.0.nc',\n",
       " 'https://archive.podaac.uat.earthdata.nasa.gov/podaac-uat-cumulus-protected/MODIS_A-JPL-L2P-v2019.0/20021106105506-JPL-L2P_GHRSST-SSTskin-MODIS_A-N-v02.0-fv01.0.nc',\n",
       " 'https://archive.podaac.uat.earthdata.nasa.gov/podaac-uat-cumulus-protected/MODIS_A-JPL-L2P-v2019.0/20021106105006-JPL-L2P_GHRSST-SSTskin-MODIS_A-N-v02.0-fv01.0.nc',\n",
       " 'https://archive.podaac.uat.earthdata.nasa.gov/podaac-uat-cumulus-protected/MODIS_A-JPL-L2P-v2019.0/20021105230506-JPL-L2P_GHRSST-SSTskin-MODIS_A-D-v02.0-fv01.0.nc',\n",
       " 'https://archive.podaac.uat.earthdata.nasa.gov/podaac-uat-cumulus-protected/MODIS_A-JPL-L2P-v2019.0/20021105212506-JPL-L2P_GHRSST-SSTskin-MODIS_A-D-v02.0-fv01.0.nc',\n",
       " 'https://archive.podaac.uat.earthdata.nasa.gov/podaac-uat-cumulus-protected/MODIS_A-JPL-L2P-v2019.0/20021105195006-JPL-L2P_GHRSST-SSTskin-MODIS_A-N-v02.0-fv01.0.nc',\n",
       " 'https://archive.podaac.uat.earthdata.nasa.gov/podaac-uat-cumulus-protected/MODIS_A-JPL-L2P-v2019.0/20021105195006-JPL-L2P_GHRSST-SSTskin-MODIS_A-D-v02.0-fv01.0.nc',\n",
       " 'https://archive.podaac.uat.earthdata.nasa.gov/podaac-uat-cumulus-protected/MODIS_A-JPL-L2P-v2019.0/20021105133005-JPL-L2P_GHRSST-SSTskin-MODIS_A-N-v02.0-fv01.0.nc',\n",
       " 'https://archive.podaac.uat.earthdata.nasa.gov/podaac-uat-cumulus-protected/MODIS_A-JPL-L2P-v2019.0/20021105132505-JPL-L2P_GHRSST-SSTskin-MODIS_A-N-v02.0-fv01.0.nc',\n",
       " 'https://archive.podaac.uat.earthdata.nasa.gov/podaac-uat-cumulus-protected/MODIS_A-JPL-L2P-v2019.0/20021105115005-JPL-L2P_GHRSST-SSTskin-MODIS_A-N-v02.0-fv01.0.nc',\n",
       " 'https://archive.podaac.uat.earthdata.nasa.gov/podaac-uat-cumulus-protected/MODIS_A-JPL-L2P-v2019.0/20021104222505-JPL-L2P_GHRSST-SSTskin-MODIS_A-D-v02.0-fv01.0.nc',\n",
       " 'https://archive.podaac.uat.earthdata.nasa.gov/podaac-uat-cumulus-protected/MODIS_A-JPL-L2P-v2019.0/20021104222505-JPL-L2P_GHRSST-SSTskin-MODIS_A-N-v02.0-fv01.0.nc',\n",
       " 'https://archive.podaac.uat.earthdata.nasa.gov/podaac-uat-cumulus-protected/MODIS_A-JPL-L2P-v2019.0/20021104222005-JPL-L2P_GHRSST-SSTskin-MODIS_A-D-v02.0-fv01.0.nc',\n",
       " 'https://archive.podaac.uat.earthdata.nasa.gov/podaac-uat-cumulus-protected/MODIS_A-JPL-L2P-v2019.0/20021104204505-JPL-L2P_GHRSST-SSTskin-MODIS_A-N-v02.0-fv01.0.nc',\n",
       " 'https://archive.podaac.uat.earthdata.nasa.gov/podaac-uat-cumulus-protected/MODIS_A-JPL-L2P-v2019.0/20021104204505-JPL-L2P_GHRSST-SSTskin-MODIS_A-D-v02.0-fv01.0.nc',\n",
       " 'https://archive.podaac.uat.earthdata.nasa.gov/podaac-uat-cumulus-protected/MODIS_A-JPL-L2P-v2019.0/20021104124506-JPL-L2P_GHRSST-SSTskin-MODIS_A-N-v02.0-fv01.0.nc',\n",
       " 'https://archive.podaac.uat.earthdata.nasa.gov/podaac-uat-cumulus-protected/MODIS_A-JPL-L2P-v2019.0/20021104110506-JPL-L2P_GHRSST-SSTskin-MODIS_A-N-v02.0-fv01.0.nc',\n",
       " 'https://archive.podaac.uat.earthdata.nasa.gov/podaac-uat-cumulus-protected/MODIS_A-JPL-L2P-v2019.0/20021103134005-JPL-L2P_GHRSST-SSTskin-MODIS_A-N-v02.0-fv01.0.nc',\n",
       " 'https://archive.podaac.uat.earthdata.nasa.gov/podaac-uat-cumulus-protected/MODIS_A-JPL-L2P-v2019.0/20021103120006-JPL-L2P_GHRSST-SSTskin-MODIS_A-N-v02.0-fv01.0.nc']"
      ]
     },
     "execution_count": 12,
     "metadata": {},
     "output_type": "execute_result"
    }
   ],
   "source": [
    "downloads = [r['umm']['RelatedUrls'][0]['URL'] for r in results['items']]\n",
    "downloads"
   ]
  },
  {
   "cell_type": "markdown",
   "metadata": {
    "ExecuteTime": {
     "end_time": "2020-07-25T12:03:56.780074Z",
     "start_time": "2020-07-25T12:03:56.777273Z"
    },
    "papermill": {
     "duration": 0.010119,
     "end_time": "2020-07-25T20:32:46.307359",
     "exception": false,
     "start_time": "2020-07-25T20:32:46.297240",
     "status": "completed"
    },
    "tags": []
   },
   "source": [
    "Finish by downloading the files to the data directory in a loop. Overwrite `.update` with a new timestamp on success.\n",
    "\n",
    "*USER NOTE: This cell only downloads 10 files for now. Uncomment line 1, delete line 2 to download more than 10.*"
   ]
  },
  {
   "cell_type": "code",
   "execution_count": 13,
   "metadata": {
    "ExecuteTime": {
     "end_time": "2020-07-25T19:42:48.663267Z",
     "start_time": "2020-07-25T19:41:18.182751Z"
    },
    "execution": {
     "iopub.execute_input": "2020-07-25T20:32:46.340971Z",
     "iopub.status.busy": "2020-07-25T20:32:46.340131Z",
     "iopub.status.idle": "2020-07-25T20:34:08.510724Z",
     "shell.execute_reply": "2020-07-25T20:34:08.511286Z"
    },
    "papermill": {
     "duration": 82.192863,
     "end_time": "2020-07-25T20:34:08.511674",
     "exception": false,
     "start_time": "2020-07-25T20:32:46.318811",
     "status": "completed"
    },
    "scrolled": false,
    "tags": []
   },
   "outputs": [
    {
     "name": "stdout",
     "output_type": "stream",
     "text": [
      "[2020-07-25 16:32:57.547679] SUCCESS: https://archive.podaac.uat.earthdata.nasa.gov/podaac-uat-cumulus-protected/MODIS_A-JPL-L2P-v2019.0/20200725124001-JPL-L2P_GHRSST-SSTskin-MODIS_A-N-v02.0-fv01.0.nc\n"
     ]
    },
    {
     "name": "stdout",
     "output_type": "stream",
     "text": [
      "[2020-07-25 16:33:03.427815] SUCCESS: https://archive.podaac.uat.earthdata.nasa.gov/podaac-uat-cumulus-protected/MODIS_A-JPL-L2P-v2019.0/20200725124001-JPL-L2P_GHRSST-SSTskin-MODIS_A-D-v02.0-fv01.0.nc\n"
     ]
    },
    {
     "name": "stdout",
     "output_type": "stream",
     "text": [
      "[2020-07-25 16:33:11.954608] SUCCESS: https://archive.podaac.uat.earthdata.nasa.gov/podaac-uat-cumulus-protected/MODIS_A-JPL-L2P-v2019.0/20200725110501-JPL-L2P_GHRSST-SSTskin-MODIS_A-N-v02.0-fv01.0.nc\n"
     ]
    },
    {
     "name": "stdout",
     "output_type": "stream",
     "text": [
      "[2020-07-25 16:33:19.116626] SUCCESS: https://archive.podaac.uat.earthdata.nasa.gov/podaac-uat-cumulus-protected/MODIS_A-JPL-L2P-v2019.0/20200725110001-JPL-L2P_GHRSST-SSTskin-MODIS_A-N-v02.0-fv01.0.nc\n"
     ]
    },
    {
     "name": "stdout",
     "output_type": "stream",
     "text": [
      "[2020-07-25 16:33:31.029051] SUCCESS: https://archive.podaac.uat.earthdata.nasa.gov/podaac-uat-cumulus-protected/MODIS_A-JPL-L2P-v2019.0/20200725110001-JPL-L2P_GHRSST-SSTskin-MODIS_A-D-v02.0-fv01.0.nc\n"
     ]
    },
    {
     "name": "stdout",
     "output_type": "stream",
     "text": [
      "[2020-07-25 16:33:39.832594] SUCCESS: https://archive.podaac.uat.earthdata.nasa.gov/podaac-uat-cumulus-protected/MODIS_A-JPL-L2P-v2019.0/20021124233506-JPL-L2P_GHRSST-SSTskin-MODIS_A-D-v02.0-fv01.0.nc\n"
     ]
    },
    {
     "name": "stdout",
     "output_type": "stream",
     "text": [
      "[2020-07-25 16:33:47.875494] SUCCESS: https://archive.podaac.uat.earthdata.nasa.gov/podaac-uat-cumulus-protected/MODIS_A-JPL-L2P-v2019.0/20021124215506-JPL-L2P_GHRSST-SSTskin-MODIS_A-D-v02.0-fv01.0.nc\n"
     ]
    },
    {
     "name": "stdout",
     "output_type": "stream",
     "text": [
      "[2020-07-25 16:33:54.259538] SUCCESS: https://archive.podaac.uat.earthdata.nasa.gov/podaac-uat-cumulus-protected/MODIS_A-JPL-L2P-v2019.0/20021124104005-JPL-L2P_GHRSST-SSTskin-MODIS_A-N-v02.0-fv01.0.nc\n"
     ]
    },
    {
     "name": "stdout",
     "output_type": "stream",
     "text": [
      "[2020-07-25 16:34:00.472478] SUCCESS: https://archive.podaac.uat.earthdata.nasa.gov/podaac-uat-cumulus-protected/MODIS_A-JPL-L2P-v2019.0/20021123225506-JPL-L2P_GHRSST-SSTskin-MODIS_A-N-v02.0-fv01.0.nc\n"
     ]
    },
    {
     "name": "stdout",
     "output_type": "stream",
     "text": [
      "[2020-07-25 16:34:08.507121] SUCCESS: https://archive.podaac.uat.earthdata.nasa.gov/podaac-uat-cumulus-protected/MODIS_A-JPL-L2P-v2019.0/20021113221506-JPL-L2P_GHRSST-SSTskin-MODIS_A-N-v02.0-fv01.0.nc\n"
     ]
    }
   ],
   "source": [
    "#for f in downloads:\n",
    "for f in downloads[:10]:\n",
    "    try:\n",
    "        urlretrieve(f, f\"{data}/{basename(f)}\")\n",
    "    except Exception as e:\n",
    "        print(f\"[{datetime.now()}] FAILURE: {f}\\n\\n{e}\\n\")\n",
    "    else:\n",
    "        print(f\"[{datetime.now()}] SUCCESS: {f}\")"
   ]
  },
  {
   "cell_type": "code",
   "execution_count": null,
   "metadata": {
    "papermill": {
     "duration": 0.01313,
     "end_time": "2020-07-25T20:34:08.539107",
     "exception": false,
     "start_time": "2020-07-25T20:34:08.525977",
     "status": "completed"
    },
    "tags": []
   },
   "outputs": [],
   "source": []
  }
 ],
 "metadata": {
  "kernelspec": {
   "display_name": "Python 3",
   "language": "python",
   "name": "python3"
  },
  "language_info": {
   "codemirror_mode": {
    "name": "ipython",
    "version": 3
   },
   "file_extension": ".py",
   "mimetype": "text/x-python",
   "name": "python",
   "nbconvert_exporter": "python",
   "pygments_lexer": "ipython3",
   "version": "3.8.2"
  },
  "papermill": {
   "duration": 86.15826,
   "end_time": "2020-07-25T20:34:08.756447",
   "environment_variables": {},
   "exception": null,
   "input_path": "Access_Sentinel6_NRT.ipynb",
   "output_path": "resources/Access_Sentinel6_NRT-papermill-run-example.ipynb",
   "parameters": {},
   "start_time": "2020-07-25T20:32:42.598187",
   "version": "2.1.2"
  },
  "toc": {
   "base_numbering": 1,
   "nav_menu": {},
   "number_sections": true,
   "sideBar": true,
   "skip_h1_title": true,
   "title_cell": "Table of Contents",
   "title_sidebar": "Contents",
   "toc_cell": true,
   "toc_position": {
    "height": "calc(100% - 180px)",
    "left": "10px",
    "top": "150px",
    "width": "241.528px"
   },
   "toc_section_display": true,
   "toc_window_display": false
  }
 },
 "nbformat": 4,
 "nbformat_minor": 4
}