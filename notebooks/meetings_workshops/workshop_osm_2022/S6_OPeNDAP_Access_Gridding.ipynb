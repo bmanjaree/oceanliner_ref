{
 "cells": [
  {
   "cell_type": "markdown",
   "id": "applicable-marina",
   "metadata": {},
   "source": [
    "# Sentinel-6 MF L2 Altimetry Data Access (OPeNDAP) & Gridding\n",
    "\n",
    "To-dos:\n",
    "* Add tutorial objectives, e.g. How much data are we selecting/where? Over a certain Cycle?\n",
    "* What is the goal of the tutorial? e.g. Grab ___ cycle(s)/pass(es) to plot satellite altimetry tracks from S6 using opendap in the cloud to only select data we are interested in, reducing the data volume and time-to-data.\n",
    "\n",
    "## Getting Started\n",
    "\n",
    "### Summary\n",
    "\n",
    "*Description goes here...*\n",
    "\n",
    "### Objectives\n",
    "\n",
    "In this tutorial you will learn...\n",
    "\n",
    "1. about level 2 radar altimetry data from the Sentinel-6 Michael Freilich mission;\n",
    "2. how to efficiently download variable subsets using OPeNDAP;\n",
    "3. how to grid the along-track altimetry observations produced by S6 at level 2.;\n",
    "\n",
    "\n",
    "### Requirements\n",
    "\n",
    "This workflow was developed using Python 3.9 (and tested against versions 3.7, 3.8)."
   ]
  },
  {
   "cell_type": "code",
   "execution_count": null,
   "id": "becoming-receptor",
   "metadata": {},
   "outputs": [],
   "source": [
    "import os\n",
    "import os.path\n",
    "import json\n",
    "import warnings\n",
    "import requests\n",
    "import numpy as np\n",
    "import pandas as pd\n",
    "import xarray as xr\n",
    "from tqdm import tqdm\n",
    "from io import StringIO\n",
    "from concurrent.futures import ThreadPoolExecutor\n",
    "warnings.filterwarnings(\"ignore\")\n",
    "import pyresample as pr\n",
    "from pyresample.kd_tree import resample_gauss"
   ]
  },
  {
   "cell_type": "markdown",
   "id": "42404852-72ea-40d4-865e-c52d05e560ea",
   "metadata": {},
   "source": [
    "### Workspace\n",
    "\n",
    "Create some directories inside a temporary user workspace. They will be used to write outputs."
   ]
  },
  {
   "cell_type": "code",
   "execution_count": null,
   "id": "f2b3fe62-1cc1-437c-be2c-ed13bf3a56f2",
   "metadata": {},
   "outputs": [],
   "source": []
  },
  {
   "cell_type": "markdown",
   "id": "judicial-necessity",
   "metadata": {},
   "source": [
    ">https://docs.python.org/3/library/os.html#os.makedirs\n",
    "\n",
    "## Dataset(s)\n",
    "\n",
    "This example operates on Level 2 Low Resolution Altimetry from Sentinel-6 Michael Freilich (the Near Real Time Reduced distribution). It is most easily identified by its collection *ShortName*, given below:"
   ]
  },
  {
   "cell_type": "code",
   "execution_count": null,
   "id": "cedf997e-b2f2-466f-a167-a6eeec00a195",
   "metadata": {},
   "outputs": [],
   "source": [
    "ShortName = 'JASON_CS_S6A_L2_ALT_LR_RED_OST_NRT_F'"
   ]
  },
  {
   "cell_type": "markdown",
   "id": "70e771f5-5484-45b8-a82c-d927fd0c6b82",
   "metadata": {},
   "source": [
    "#### collection\n",
    "\n",
    "Get metadata about the collection from the CMR."
   ]
  },
  {
   "cell_type": "code",
   "execution_count": null,
   "id": "a2861edd-4ee6-461f-9229-76869ce37e7a",
   "metadata": {},
   "outputs": [],
   "source": []
  },
  {
   "cell_type": "markdown",
   "id": "484cd8bb-d827-4334-be50-21ae4bc53d36",
   "metadata": {},
   "source": [
    "Get the collection's *concept-id* from the record's `meta` object. It uniquely identifies the collection in the CMR and is a component of the OPeNDAP endpoints for its granules."
   ]
  },
  {
   "cell_type": "code",
   "execution_count": null,
   "id": "e0db6d0d-3ea2-4ae1-86a9-26a7094c54a6",
   "metadata": {},
   "outputs": [],
   "source": []
  },
  {
   "cell_type": "markdown",
   "id": "systematic-finder",
   "metadata": {},
   "source": [
    ">https://docs.python-requests.org/en/latest/api/#requests.get\n",
    "\n",
    "#### granules\n",
    "\n",
    "Get metadata about the granules in the collection from the CMR."
   ]
  },
  {
   "cell_type": "code",
   "execution_count": null,
   "id": "final-windows",
   "metadata": {},
   "outputs": [],
   "source": []
  },
  {
   "cell_type": "markdown",
   "id": "f9bd3ca6-b830-4c9e-9058-eb9fc3b968b6",
   "metadata": {},
   "source": [
    ">https://docs.python.org/3/library/io.html#io.StringIO    \n",
    ">https://pandas.pydata.org/pandas-docs/stable/reference/api/pandas.read_csv.html    \n",
    ">https://docs.python-requests.org/en/latest/api/#requests.get     \n",
    "\n",
    "Load the results to a data frame."
   ]
  },
  {
   "cell_type": "code",
   "execution_count": null,
   "id": "b6cd7471-fcb8-46cf-9cbc-42d63af663a8",
   "metadata": {},
   "outputs": [],
   "source": []
  },
  {
   "cell_type": "markdown",
   "id": "3b8e6995-6709-4774-b01f-0afedb7f0650",
   "metadata": {},
   "source": [
    ">https://pandas.pydata.org/pandas-docs/stable/reference/api/pandas.DataFrame.iloc.html\n",
    "\n",
    "Display the list of items created by splitting the a value in the `Granule UR` field."
   ]
  },
  {
   "cell_type": "code",
   "execution_count": null,
   "id": "34cfc70b-4166-4cdb-9c98-bf7c930ee82c",
   "metadata": {},
   "outputs": [],
   "source": []
  },
  {
   "cell_type": "markdown",
   "id": "e6c8aae0-bf23-462b-aef7-b588c32f14cb",
   "metadata": {},
   "source": [
    "References:    \n",
    "https://docs.python.org/3/library/stdtypes.html#str.split    \n",
    "https://pandas.pydata.org/pandas-docs/stable/reference/api/pandas.Series.iloc.html    \n",
    "\n",
    "*Note that cycle and pass are items 8 and 9, respectively, after splitting the `Granule UR` field by `_`.* Add two columns containing the cycle/pass numbers for granules in the table."
   ]
  },
  {
   "cell_type": "code",
   "execution_count": null,
   "id": "1d5b10c3-6484-414c-b072-23de99ebc782",
   "metadata": {},
   "outputs": [],
   "source": []
  },
  {
   "cell_type": "markdown",
   "id": "acc94543-1e0f-4e45-ac2d-276ed8f516c2",
   "metadata": {},
   "source": [
    ">https://pandas.pydata.org/pandas-docs/stable/reference/api/pandas.DataFrame.copy.html    \n",
    ">https://pandas.pydata.org/pandas-docs/stable/reference/api/pandas.Series.apply.html    \n",
    ">https://docs.python.org/3/reference/expressions.html#lambda    \n",
    ">https://pandas.pydata.org/pandas-docs/stable/reference/api/pandas.DataFrame.iloc.html    \n",
    "\n",
    "Now create a table with one row per cycle and with these columns:\n",
    "\n",
    "1. start time\n",
    "2. end time\n",
    "3. granule names (list)"
   ]
  },
  {
   "cell_type": "code",
   "execution_count": null,
   "id": "1955996e-9a43-4bcd-b6d2-21e9a15543a3",
   "metadata": {},
   "outputs": [],
   "source": []
  },
  {
   "cell_type": "markdown",
   "id": "18be7bd7-acc3-4d60-9356-75c4625e8633",
   "metadata": {},
   "source": [
    ">https://pandas.pydata.org/pandas-docs/stable/reference/api/pandas.Series.to_frame.html    \n",
    ">https://pandas.pydata.org/pandas-docs/stable/reference/api/pandas.DataFrame.groupby.html\n",
    "\n",
    "#### Pick a cycle of interest\n",
    "\n",
    "Pick one cycle that is nearly complete, >= 120 orbits/files. Limit options to cycles with at least 120 granules/files available (i.e. orbits in S6 context)."
   ]
  },
  {
   "cell_type": "code",
   "execution_count": null,
   "id": "03608995-d23c-41a5-afa6-eb2acc9b42d5",
   "metadata": {},
   "outputs": [],
   "source": []
  },
  {
   "cell_type": "markdown",
   "id": "957ed4e2-ee4d-41d2-b3db-f46383dd3f8f",
   "metadata": {},
   "source": [
    "Choose from the nearly-complete cycles that remain in the table, which start with cycle number `023` for S6 data in the public domain (and start on June 22). Slice the table of *granules* to exclude all rows that are not from the cycle of interest."
   ]
  },
  {
   "cell_type": "code",
   "execution_count": null,
   "id": "4c80ccc1-3a3d-4270-93e1-57a597b956d1",
   "metadata": {},
   "outputs": [],
   "source": [
    "my_cycle = int"
   ]
  },
  {
   "cell_type": "markdown",
   "id": "b331f29b-4f0e-4c4b-9fe5-0d9c394769d1",
   "metadata": {},
   "source": [
    "#### OPeNDAP Access Endpoints\n",
    "\n",
    "All endpoints for granules/files in OPeNDAP/Hyrax start with the server hostname and path to the parent collection, followed by *granules*. The collection is specified by the *concept-id* given right after *collections* in a valid url. The next cell formats a string giving the base url to which we will append granule filenames (stored in the `Granule UR` column of the *granules* table) to get the full url/endpoint for each granule.\n",
    "\n",
    "*Fyi, the url printed by this cell will not be accessible from your web browser.*"
   ]
  },
  {
   "cell_type": "code",
   "execution_count": null,
   "id": "98f971de-fd9d-4f68-b181-28fb4aaca7a7",
   "metadata": {},
   "outputs": [],
   "source": []
  },
  {
   "cell_type": "markdown",
   "id": "6a3accb9-5ae4-45c4-bcd8-cd2ba0a7fd62",
   "metadata": {},
   "source": [
    ">https://docs.python.org/3/library/string.html#format-string-syntax    \n",
    "\n",
    "Appending the granule name (taken from the `Granule UR` column) to the end of the url above results in a valid endpoint. You can click the one printed by this cell to confirm. A new browser tab should open to the HTML access form served by Hyrax/OPeNDAP.\n",
    "\n",
    "Make a new column with the `nc4` download url for all granules."
   ]
  },
  {
   "cell_type": "code",
   "execution_count": null,
   "id": "expanded-nation",
   "metadata": {},
   "outputs": [],
   "source": []
  },
  {
   "cell_type": "markdown",
   "id": "50288784-0627-4261-8e87-b7b4cdf5158d",
   "metadata": {},
   "source": [
    " >https://pandas.pydata.org/pandas-docs/stable/reference/api/pandas.DataFrame.info.html    \n",
    "\n",
    "##### Pick target data/coordinate variables\n",
    "\n",
    "Display the url to access the DDS file for the first granule:"
   ]
  },
  {
   "cell_type": "code",
   "execution_count": null,
   "id": "ffe5c37d-ac9f-4d4d-a2c6-7800d868ac3d",
   "metadata": {},
   "outputs": [],
   "source": []
  },
  {
   "cell_type": "markdown",
   "id": "strategic-promise",
   "metadata": {},
   "source": [
    ">https://pandas.pydata.org/pandas-docs/stable/reference/api/pandas.Series.iloc.html    \n",
    "\n",
    "Assemble the list of target variables that you will subset from each granule/file using OPeNDAP."
   ]
  },
  {
   "cell_type": "code",
   "execution_count": null,
   "id": "fb4e9b71-ba97-47d9-94f9-3383ff6ba537",
   "metadata": {},
   "outputs": [],
   "source": []
  },
  {
   "cell_type": "markdown",
   "id": "99494b55-0b6e-4a0a-b9dd-8e2cee4d18f1",
   "metadata": {},
   "source": [
    ">https://docs.python.org/3/library/stdtypes.html#list    \n",
    "\n",
    "Join the list of variables with commas and append the resulting string to the end of each opendap `nc4` endpoint created during the steps above. The variables given after the `?` will be subset from the source file on the server-side into a new netCDF4 file that OPeNDAP returns in response content which is downloaded over https.\n",
    "\n",
    "Here's an example for the first granule in the selected cycle. Clicking this link should download a netCDF4 containing the target variables (4 of them, in my case). *You may be prompted to authenticate with your Earthdata Login account info."
   ]
  },
  {
   "cell_type": "code",
   "execution_count": null,
   "id": "ddcdf089-a36b-4045-9fe4-8ec2e1bc9617",
   "metadata": {},
   "outputs": [],
   "source": []
  },
  {
   "cell_type": "markdown",
   "id": "3a78ad9d-e9fb-4b1c-8165-6633185fd67e",
   "metadata": {},
   "source": [
    ">https://opendap.github.io/documentation/UserGuideComprehensive.html#Constraint_Expressions (Hyrax/OPeNDAP docs)    \n",
    "\n",
    "#### Download subsets\n",
    "\n",
    "This function downloads one granule from the remote `url` to a local `target` path, and will reliably manage simultaneous streaming downloads divided between multiple threads."
   ]
  },
  {
   "cell_type": "code",
   "execution_count": null,
   "id": "316c73af-3bd5-46cb-ad97-4778a3f35b06",
   "metadata": {},
   "outputs": [],
   "source": [
    "def download(url: str, target: str, force: bool=False):\n",
    "    if not os.path.isfile(target) or force is True:\n",
    "        with requests.get(url) as response, open(target, 'wb') as file:\n",
    "            if not response.status_code // 100 == 2: \n",
    "                raise Exception(response.text)\n",
    "            for chunk in response.iter_content(chunk_size=1024):\n",
    "                if chunk:\n",
    "                    file.write(chunk)\n",
    "    return target"
   ]
  },
  {
   "cell_type": "markdown",
   "id": "14ac8048-c198-4d6e-a085-48f9b91e07c5",
   "metadata": {},
   "source": [
    ">https://docs.python.org/3/library/os.path.html#os.path.isfile    \n",
    ">https://docs.python-requests.org/en/latest/api/#requests.Response.text    \n",
    ">https://docs.python-requests.org/en/latest/api/#requests.Response.status_code    \n",
    ">https://docs.python-requests.org/en/latest/api/#requests.Response.iter_content    "
   ]
  },
  {
   "cell_type": "code",
   "execution_count": null,
   "id": "dc03ab48-8917-4177-a466-cbf6adab59da",
   "metadata": {},
   "outputs": [],
   "source": [
    "#!ls data/subsets/*NR_025*.nc4 | wc -l\n",
    "#!rm data/subsets/*NR_025*.nc4"
   ]
  },
  {
   "cell_type": "markdown",
   "id": "dedac248-774d-43dd-9e97-bba7b428b931",
   "metadata": {},
   "source": [
    "*This next cell assembles a list of local paths for the subset downloads.*\n",
    "\n",
    "Calling `tolist` on the resulting Series will convert it to a Python list (by way of the *numpy* method, *tolist*). Use *zip* merge the lists of *subset* urls and local paths, itemwise. The result will be a list of lists, each length two and containing a remote url and local path (corresponding to two positional arguments in the *download* function that will be defined in a subsequent cell)."
   ]
  },
  {
   "cell_type": "code",
   "execution_count": null,
   "id": "9c2ac3dc-db78-4175-97b6-0e5894953688",
   "metadata": {},
   "outputs": [],
   "source": []
  },
  {
   "cell_type": "markdown",
   "id": "92e1a7e2-3c83-4772-a757-d284927a8e47",
   "metadata": {},
   "source": [
    ">https://pandas.pydata.org/pandas-docs/stable/reference/api/pandas.Series.tolist.html    \n",
    "\n",
    "*This next cell creates a pool of workers to divide the list of downloads between multiple threads.*\n",
    "\n",
    "Use the `ThreadPoolExecutor` from `concurrent.futures` module (in the Python 3 standard library) to divide the 120+ download jobs between multiple threads and run them concurrently. This should take no more than a minute or two to process all subsets on the server side and download to the local host."
   ]
  },
  {
   "cell_type": "code",
   "execution_count": null,
   "id": "88c42915-502b-424c-ae0a-c21883a36148",
   "metadata": {},
   "outputs": [],
   "source": [
    "with ThreadPoolExecutor(max_workers=12) as pool:\n",
    "    \n",
    "    workers = pool.map(lambda x: download(*x), download_arguments)\n",
    "    \n",
    "    granules['local'] = list(tqdm(workers, total=len(download_arguments)))"
   ]
  },
  {
   "cell_type": "markdown",
   "id": "eff71540-fc2d-424b-b160-b2aa109bbead",
   "metadata": {},
   "source": [
    ">https://docs.python.org/3/library/concurrent.futures.html#threadpoolexecutor    \n",
    "\n",
    "The source files range from 2.5MB to 3.0MB. These OPeNDAP subsets are ~100KB apiece. (anecdote: it took less than 10 minutes to download subsets for >1700 granules/files when I ran this routine for all cycles going back to 2021-06-22.) Here we call the shell *du* and *ls* utilities to get the size of the directory:"
   ]
  },
  {
   "cell_type": "code",
   "execution_count": null,
   "id": "6ffd6489-a1ce-4072-ad75-d671b0dca63c",
   "metadata": {},
   "outputs": [],
   "source": [
    "%%bash\n",
    "#ls\n",
    "#du"
   ]
  },
  {
   "cell_type": "markdown",
   "id": "2dfa60c0-44b7-45db-9f08-a782a29d9d1e",
   "metadata": {},
   "source": [
    ">https://www.gnu.org/software/coreutils/manual/html_node/du-invocation.html    \n",
    "\n",
    "Confirm that a netcdf file exists on disk for all the file paths in the *local* column."
   ]
  },
  {
   "cell_type": "code",
   "execution_count": null,
   "id": "55486897-3aad-4b71-9dcb-fa39ceb93234",
   "metadata": {},
   "outputs": [],
   "source": []
  },
  {
   "cell_type": "markdown",
   "id": "69e27bcc-fa64-4166-89ad-d65f5fd16ea8",
   "metadata": {
    "tags": []
   },
   "source": [
    ">https://docs.python.org/3/library/functions.html#sorted    \n",
    ">https://pandas.pydata.org/pandas-docs/stable/reference/api/pandas.Series.all.html    \n",
    "\n",
    "#### Aggregate to cycle"
   ]
  },
  {
   "cell_type": "markdown",
   "id": "a7b056d7-264f-4211-b77e-e1c8161a341d",
   "metadata": {},
   "source": [
    "Make a dictionary to rename variables so that the `data_01_` prefix is removed from each one."
   ]
  },
  {
   "cell_type": "code",
   "execution_count": null,
   "id": "1e5ea107-05ff-46c2-8cfd-27eab5d9295a",
   "metadata": {},
   "outputs": [],
   "source": []
  },
  {
   "cell_type": "markdown",
   "id": "af07e80c-9715-49c6-9804-efcb3219598a",
   "metadata": {},
   "source": [
    "References:    \n",
    "https://docs.python.org/3/library/functions.html#map    \n",
    "https://docs.python.org/3/library/functions.html#zip    \n",
    "\n",
    "Sort the list of local paths to the downloaded subsets to ensure they concatenate in proper order. Call `open_mfdataset` on the list to open all the subsets in memory as one dataset in xarray."
   ]
  },
  {
   "cell_type": "code",
   "execution_count": null,
   "id": "59bbe2e4-baaa-4991-9bc5-4e99282b9049",
   "metadata": {},
   "outputs": [],
   "source": []
  },
  {
   "cell_type": "markdown",
   "id": "8ea7f254-7fa5-4110-876e-f0bea671cd5e",
   "metadata": {},
   "source": [
    ">https://tqdm.github.io/docs/tqdm/#pandas    \n",
    ">https://xarray.pydata.org/en/stable/generated/xarray.open_mfdataset.html    \n",
    ">https://xarray.pydata.org/en/stable/generated/xarray.Dataset.rename.html  "
   ]
  },
  {
   "cell_type": "markdown",
   "id": "2b3bb6bb-31b8-4ac6-b173-ed530ea5b801",
   "metadata": {},
   "source": [
    "### Render along-track altimetry data to the ECCO grid \n",
    "\n",
    ">**Acknowledgement** *This approach using `pyresample` was shared to me by Ian Fenty, ECCO Lead.*\n",
    "\n",
    "ECCO V4r4 products are distributed in two spatial formats. One set of collections provides the ocean state estimates on the native model grid (LLC0090) and the other provides them after interpolating to a regular grid defined in geographic coordinates with horizontal cell size of 0.5-degrees.\n",
    "\n",
    "#### Download the ECCO V4r4 0.5-Deg Grid Geometry and Mask\n",
    "\n",
    "It's distributed as its own dataset/collection containing just one file. We can access it over OPeNDAP like demonstrated above or simply download it from the HTTPS download endpoint -- the file size is inconsequential. The next cell downloads the file into the *data* folder from the granule's https endpoint."
   ]
  },
  {
   "cell_type": "code",
   "execution_count": null,
   "id": "be8728fc-24fc-49d2-b514-97b929eadfcd",
   "metadata": {},
   "outputs": [],
   "source": []
  },
  {
   "cell_type": "markdown",
   "id": "1cf23573-9982-4f21-88f8-320b451a5c8a",
   "metadata": {},
   "source": [
    ">https://docs.python.org/3/library/os.path.html#os.path.basename    \n",
    ">https://xarray.pydata.org/en/stable/generated/xarray.open_dataset.html    \n",
    "\n",
    "The `maskC` variable contains a boolean mask representing the wet/dry state of the area contained in each cell of the 3d grid defined by `Z` and `latitude` and `longitude`.\n",
    "\n",
    "Here are the variable's attributes:"
   ]
  },
  {
   "cell_type": "code",
   "execution_count": null,
   "id": "c6d9c8a6-1542-47e4-ae84-d26578084f82",
   "metadata": {},
   "outputs": [],
   "source": []
  },
  {
   "cell_type": "markdown",
   "id": "083803e7-82e3-4ad7-981e-26591e05ad12",
   "metadata": {},
   "source": [
    "So, the mask derives from another variable `hFacC` that essentially describes 3d space/volume contained within each model grid cell by the fractional area representing the horizontal coverage (in the `longitude,latitude` dimensions) within each vertical/depth layer."
   ]
  },
  {
   "cell_type": "code",
   "execution_count": null,
   "id": "343a9e56-dcb6-4c77-a305-392a801e0932",
   "metadata": {},
   "outputs": [],
   "source": []
  },
  {
   "cell_type": "markdown",
   "id": "2e803a8d-cd06-421c-893b-7660cf262894",
   "metadata": {},
   "source": [
    "Select the 2d array from `maskC` that corresponds to the depth layer at ocean surface (i.e. at index `0` on the `Z` axis/dimension) and then produce a boolean array where True represents cells with a value greater than `0`. The resulting array/grid is our land/water mask for the 2d grids generated during the next few steps.\n",
    "\n",
    "Plot the land/water mask:"
   ]
  },
  {
   "cell_type": "code",
   "execution_count": null,
   "id": "b0b76731-3d1b-4d18-9ab5-5df4e41caf55",
   "metadata": {},
   "outputs": [],
   "source": []
  },
  {
   "cell_type": "markdown",
   "id": "bccc6c1f-c7ef-4c07-b194-089f95f67175",
   "metadata": {},
   "source": [
    ">https://xarray.pydata.org/en/stable/generated/xarray.DataArray.isel.html    \n",
    ">https://xarray.pydata.org/en/stable/generated/xarray.DataArray.plot.html    \n",
    "\n",
    "### Grid ssha or a similar variable\n",
    "\n",
    "*Jinbo's recommendation: wrap this logic for parameterization by workshop attendees.*\n",
    "\n",
    "Get a single timestamp to represent the midpoint of the cycle."
   ]
  },
  {
   "cell_type": "code",
   "execution_count": null,
   "id": "d6af3c4d-f0f8-4bba-9f27-dd01dc2f654a",
   "metadata": {},
   "outputs": [],
   "source": []
  },
  {
   "cell_type": "markdown",
   "id": "808dd55f-9622-4f4b-ac24-2e7684af45cb",
   "metadata": {},
   "source": [
    "Access the target variable, *ssha* in this case, and make a nan mask."
   ]
  },
  {
   "cell_type": "code",
   "execution_count": null,
   "id": "ca555945-cf60-42ac-98a1-9707c30165ef",
   "metadata": {},
   "outputs": [],
   "source": []
  },
  {
   "cell_type": "markdown",
   "id": "cd4cf0cd-d761-47a1-b28b-51eeca424f32",
   "metadata": {},
   "source": [
    "Define a simple function *get_grid_defn* to validate input arrays of longitudes/latitudes and return a *pyresample.geometry.SwathDefinition* object. (We use it twice to define source/target grids in the next steps.)"
   ]
  },
  {
   "cell_type": "code",
   "execution_count": null,
   "id": "e8ac45ea-2480-4658-999c-2fa1f78dc7bd",
   "metadata": {},
   "outputs": [],
   "source": []
  },
  {
   "cell_type": "markdown",
   "id": "26b5bc9f-d6c4-4b1b-9e66-51d05afcffb9",
   "metadata": {},
   "source": [
    "Define source grid/geometry for the input along-track data. (They are stored as 1-dimensional arrays.)"
   ]
  },
  {
   "cell_type": "code",
   "execution_count": null,
   "id": "4550acc2-e7bb-432a-bf46-c581f2371bec",
   "metadata": {},
   "outputs": [],
   "source": []
  },
  {
   "cell_type": "markdown",
   "id": "ef90979e-580d-444f-9ec7-22f56e599214",
   "metadata": {},
   "source": [
    "Define target grid based on the longitudes and latitudes from the ECCO grid geometry dataset. This time define the grid using two 2-dimensional arrays that give positions of all SSHA values in geographic/longitude-latitude coordinates."
   ]
  },
  {
   "cell_type": "code",
   "execution_count": null,
   "id": "cfc6db11-24da-4320-bc68-f74cc3ca8a51",
   "metadata": {},
   "outputs": [],
   "source": []
  },
  {
   "cell_type": "markdown",
   "id": "22c1130a-effc-4b8c-a092-6e36f3123dd6",
   "metadata": {},
   "source": [
    "Make the *pyresample* object for the target grid and proceed."
   ]
  },
  {
   "cell_type": "code",
   "execution_count": null,
   "id": "15042d24-1040-404a-91d3-032a7ad06a9d",
   "metadata": {},
   "outputs": [],
   "source": []
  },
  {
   "cell_type": "markdown",
   "id": "9280faa9-2b4b-4234-8783-5fcb96729243",
   "metadata": {},
   "source": [
    "Show the help for `pyresample.kdtree.resample_gauss` to aid during the hackathon."
   ]
  },
  {
   "cell_type": "code",
   "execution_count": null,
   "id": "1ac53fa6-146b-4abf-8068-30a8f5d30470",
   "metadata": {},
   "outputs": [],
   "source": [
    "#help(resample_gauss)"
   ]
  },
  {
   "cell_type": "markdown",
   "id": "90ebc1a4-ba50-4d49-afd3-7de954af5aaf",
   "metadata": {},
   "source": [
    "Get the target grid definition defined by the 2d arrays of lons and lats created in the cell above. Apply gaussian resampling with some optional arguments (borrowed from Ian's implementation)."
   ]
  },
  {
   "cell_type": "code",
   "execution_count": null,
   "id": "420cab91-ae51-43a5-ba31-1861f8a28f67",
   "metadata": {},
   "outputs": [],
   "source": []
  },
  {
   "cell_type": "markdown",
   "id": "dec09349-a61f-49fd-bd85-1a4c2430c9ca",
   "metadata": {},
   "source": [
    "Apply the land/water mask in the numpy array created from the ECCO layer in the steps above. Then, convert the masked numpy array to an xarray data array object named *gridded*. Print its header."
   ]
  },
  {
   "cell_type": "code",
   "execution_count": null,
   "id": "ff87ddbe-f11f-4abe-a674-3408bb194b5b",
   "metadata": {},
   "outputs": [],
   "source": [
    "#ssha, stddev, counts"
   ]
  },
  {
   "cell_type": "markdown",
   "id": "dd5cc66e-367e-41be-a35d-90b0240afdca",
   "metadata": {},
   "source": [
    "Plot the resulting arrays with xarray."
   ]
  },
  {
   "cell_type": "code",
   "execution_count": null,
   "id": "0d58c69a-aa93-40c8-927e-f6bd1c77829d",
   "metadata": {},
   "outputs": [],
   "source": [
    "#ssha"
   ]
  },
  {
   "cell_type": "code",
   "execution_count": null,
   "id": "2edc244c-8854-47cc-8095-fd3ff414f3ea",
   "metadata": {},
   "outputs": [],
   "source": [
    "#stddev"
   ]
  },
  {
   "cell_type": "code",
   "execution_count": null,
   "id": "69ada808-a76b-4a58-81be-03a1bb86eb80",
   "metadata": {},
   "outputs": [],
   "source": [
    "#counts"
   ]
  },
  {
   "cell_type": "markdown",
   "id": "a5b69d9f-bec1-42c7-bbf7-4956c746512c",
   "metadata": {},
   "source": [
    "**Additional References:**\n",
    "\n",
    "* *numpy* (https://numpy.org/doc/stable/reference)    \n",
    "    * [numpy.ndarray.data](https://numpy.org/doc/stable/reference/generated/numpy.ndarray.data.html)    \n",
    "    * [numpy.ravel](https://numpy.org/doc/stable/reference/generated/numpy.ravel.html)    \n",
    "    * [numpy.where](https://numpy.org/doc/stable/reference/generated/numpy.where.html)    \n",
    "    * [numpy.isnan](https://numpy.org/doc/stable/reference/generated/numpy.isnan.html)    \n",
    "    * [datetimes](https://numpy.org/doc/stable/reference/arrays.datetime.html)    \n",
    "* *xarray* (https://xarray.pydata.org/en/stable)    \n",
    "    * [xarray.DataArray](https://xarray.pydata.org/en/stable/generated/xarray.DataArray.html)    \n",
    "    * [xarray.DataArray.values](https://xarray.pydata.org/en/stable/generated/xarray.DataArray.values.html)    \n",
    "    * [xarray.DataArray.mean](https://xarray.pydata.org/en/stable/generated/xarray.DataArray.mean.html)    \n",
    "    * https://xarray.pydata.org/en/stable/generated/xarray.DataArray.plot.pcolormesh.html (matplotlib)    \n",
    "* *pyresample* (https://pyresample.readthedocs.io/en/latest/api/pyresample)    \n",
    "    * [pyresample.utils.check_and_wrap](https://pyresample.readthedocs.io/en/latest/api/pyresample.utils.html#pyresample.utils.check_and_wrap)    \n",
    "    * [pyresample.kd_tree.resample_gauss](https://pyresample.readthedocs.io/en/latest/api/pyresample.html#pyresample.kd_tree.resample_gauss)    \n",
    "    * [pyresample.geometry.SwathDefinition](https://pyresample.readthedocs.io/en/latest/api/pyresample.html#pyresample.geometry.SwathDefinition)    \n",
    "\n",
    "\n",
    "**Bonus**: generate a grid for every cycle and get mean/std over all the cycles\n",
    "\n",
    "```python\n",
    "stack = xr.concat(data['grid'].tolist(), dim=\"time\")\n",
    "\n",
    "midlat = stack.sel(latitude=slice(-66.,66.0))\n",
    "\n",
    "stats = xr.concat(objs=[midlat.mean(\"time\"),\n",
    "                        midlat.std(\"time\") ], \n",
    "                  dim=pd.Index(['mean','std'], name=\"stat\"))\n",
    "```\n",
    "\n",
    ">https://xarray.pydata.org/en/stable/generated/xarray.concat.html    \n",
    "\n",
    "**Bonus**: calculate area-weighted mean\n",
    "\n",
    "```python\n",
    "def to_area_weighted_mean(x):\n",
    "    nonzero_mask = np.where(~np.isnan(x), 1, np.nan)            # mask where nans=0 & ~nans=1\n",
    "    nonzero_area = np.sum(nonzero_mask * ecco_grid.area)        # total area where data is nonzero\n",
    "    return float(np.nansum(x * ecco_grid.area) / nonzero_area)  # area-weighted global mean\n",
    "```\n",
    "\n",
    ">https://numpy.org/doc/stable/reference/generated/numpy.sum.html    \n",
    ">https://numpy.org/doc/stable/reference/generated/numpy.nansum.html    "
   ]
  },
  {
   "cell_type": "code",
   "execution_count": null,
   "id": "ce790929-ed28-484e-9806-90952f5177a3",
   "metadata": {},
   "outputs": [],
   "source": []
  }
 ],
 "metadata": {
  "kernelspec": {
   "display_name": "Python 3 (ipykernel)",
   "language": "python",
   "name": "python3"
  },
  "language_info": {
   "codemirror_mode": {
    "name": "ipython",
    "version": 3
   },
   "file_extension": ".py",
   "mimetype": "text/x-python",
   "name": "python",
   "nbconvert_exporter": "python",
   "pygments_lexer": "ipython3",
   "version": "3.9.7"
  }
 },
 "nbformat": 4,
 "nbformat_minor": 5
}
