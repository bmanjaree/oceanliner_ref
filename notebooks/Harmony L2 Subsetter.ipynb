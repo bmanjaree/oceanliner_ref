{
 "cells": [
  {
   "cell_type": "markdown",
   "metadata": {},
   "source": [
    "# Harmony EOSS L2SS API Tutorial"
   ]
  },
  {
   "cell_type": "markdown",
   "metadata": {},
   "source": [
    "## Before you start\n",
    "Before you beginning this tutorial, make sure you have an account in the Earthdata Login UAT environment, which \n",
    "will be used for this notebook by visiting [https://uat.urs.earthdata.nasa.gov](https://uat.urs.earthdata.nasa.gov).\n",
    "These accounts, as all Earthdata Login accounts, are free to create and only take a moment to set up."
   ]
  },
  {
   "cell_type": "markdown",
   "metadata": {},
   "source": [
    "## Set Up Authentication\n",
    "\n",
    "We need some boilerplate up front to log in to Earthdata Login.  The function below will allow Python\n",
    "scripts to log into any Earthdata Login application programmatically.  To avoid being prompted for\n",
    "credentials every time you run and also allow clients such as curl to log in, you can add the following\n",
    "to a `.netrc` (`_netrc` on Windows) file in your home directory:\n",
    "\n",
    "```\n",
    "machine uat.urs.earthdata.nasa.gov\n",
    "    login <your username>\n",
    "    password <your password>\n",
    "```\n",
    "\n",
    "Make sure that this file is only readable by the current user or you will receive an error stating\n",
    "\"netrc access too permissive.\"\n",
    "\n",
    "`$ chmod 0600 ~/.netrc` \n"
   ]
  },
  {
   "cell_type": "code",
   "execution_count": 1,
   "metadata": {},
   "outputs": [],
   "source": [
    "from urllib import request\n",
    "from http.cookiejar import CookieJar\n",
    "import getpass\n",
    "import netrc\n",
    "\n",
    "def setup_earthdata_login_auth(endpoint):\n",
    "    \"\"\"\n",
    "    Set up the request library so that it authenticates against the given Earthdata Login\n",
    "    endpoint and is able to track cookies between requests.  This looks in the .netrc file \n",
    "    first and if no credentials are found, it prompts for them.\n",
    "\n",
    "    Valid endpoints include:\n",
    "        uat.urs.earthdata.nasa.gov - Earthdata Login UAT (Harmony's current default)\n",
    "        urs.earthdata.nasa.gov - Earthdata Login production\n",
    "    \"\"\"\n",
    "    try:\n",
    "        username, _, password = netrc.netrc().authenticators(endpoint)\n",
    "    except (FileNotFoundError, TypeError):\n",
    "        # FileNotFound = There's no .netrc file\n",
    "        # TypeError = The endpoint isn't in the netrc file, causing the above to try unpacking None\n",
    "        print('Please provide your Earthdata Login credentials to allow data access')\n",
    "        print('Your credentials will only be passed to %s and will not be exposed in Jupyter' % (endpoint))\n",
    "        username = input('Username:')\n",
    "        password = getpass.getpass()\n",
    "\n",
    "    manager = request.HTTPPasswordMgrWithDefaultRealm()\n",
    "    manager.add_password(None, endpoint, username, password)\n",
    "    auth = request.HTTPBasicAuthHandler(manager)\n",
    "\n",
    "    jar = CookieJar()\n",
    "    processor = request.HTTPCookieProcessor(jar)\n",
    "    opener = request.build_opener(auth, processor)\n",
    "    request.install_opener(opener)\n"
   ]
  },
  {
   "cell_type": "markdown",
   "metadata": {},
   "source": [
    "Now call the above function to set up Earthdata Login for subsequent requests"
   ]
  },
  {
   "cell_type": "code",
   "execution_count": 2,
   "metadata": {},
   "outputs": [
    {
     "name": "stdout",
     "output_type": "stream",
     "text": [
      "Please provide your Earthdata Login credentials to allow data access\n",
      "Your credentials will only be passed to uat.urs.earthdata.nasa.gov and will not be exposed in Jupyter\n"
     ]
    },
    {
     "name": "stdin",
     "output_type": "stream",
     "text": [
      "Username: mgangl\n",
      " ·········\n"
     ]
    }
   ],
   "source": [
    "setup_earthdata_login_auth('uat.urs.earthdata.nasa.gov')"
   ]
  },
  {
   "cell_type": "markdown",
   "metadata": {},
   "source": [
    "## Build the EOSS Root URL\n",
    "\n",
    "Next we will build a URL for the EOSS service for a given granule.  To get data using the service, you need \n",
    "a [CMR UAT](https://cmr.uat.earthdata.nasa.gov) collection ID for a supported collection and the ID of a\n",
    "granule within that collection.\n",
    "\n",
    "By convention, all Harmony services are accessed through `<harmony_root>/<collection_id>/<service_name>`"
   ]
  },
  {
   "cell_type": "code",
   "execution_count": 13,
   "metadata": {},
   "outputs": [
    {
     "name": "stdout",
     "output_type": "stream",
     "text": [
      "https://harmony.uat.earthdata.nasa.gov/C1225996408-POCUMULUS/eoss/0.1.0/items/\n"
     ]
    }
   ],
   "source": [
    "harmony_root = 'https://harmony.uat.earthdata.nasa.gov'\n",
    "config = {\n",
    "    'collection_id': 'C1225996408-POCUMULUS',\n",
    "    'eoss_version': '0.1.0'\n",
    "}\n",
    "eoss_collection_root = harmony_root+'/{collection_id}/eoss/{eoss_version}/items/'.format(**config)\n",
    "print(eoss_collection_root)"
   ]
  },
  {
   "cell_type": "markdown",
   "metadata": {},
   "source": [
    "### Find a granule for subsetting\n",
    "\n",
    "Below we call out a specific granule (G1226018995-POCUMULUS) on which we will use the podaac L2 subsetter. Finding this information would complicate the tutorial- but po.daac has a tutorial available for using the CMR API to find collections and granules of interest. Please see the following tutorial for that information:\n",
    "\n",
    "PODAAC_CMR.ipynb\n"
   ]
  },
  {
   "cell_type": "markdown",
   "metadata": {},
   "source": [
    "##  Subset of a PO.DAAC Granule\n",
    "\n",
    "We can now build onto the root URL in order to actually perform a transformation.  The first transformation is a subset of a selected granule.  _At this time, this requires discovering the granule id from CMR_.  That information can then be appended to the root URL and used to call Harmony with the help of the `request` library.\n",
    "\n",
    "Above we show how to find a granule id for processing.\n",
    "\n",
    "**Notes:**\n",
    "  The L2 subsetter current streams the data back to the user, and does not stage data in S3 for redirects. This is functionality we will be adding over time.\n",
    "  It doesn't work with URS backed files, which is coming in the next few weeks\n",
    "  it only works on the show dataset, but \n",
    "    "
   ]
  },
  {
   "cell_type": "code",
   "execution_count": 17,
   "metadata": {},
   "outputs": [
    {
     "name": "stdout",
     "output_type": "stream",
     "text": [
      "Request URL https://harmony.uat.earthdata.nasa.gov/C1225996408-POCUMULUS/eoss/0.1.0/items/G1226018995-POCUMULUS/?bbox=-90,-45,90,45\n",
      "Stream response, not saved to S3: https://harmony.uat.earthdata.nasa.gov/C1225996408-POCUMULUS/eoss/0.1.0/items/G1226018995-POCUMULUS/?bbox=-90,-45,90,45\n",
      "Content Size: 6381633\n",
      "Downloaded request to temp.nc\n"
     ]
    }
   ],
   "source": [
    "import shutil \n",
    "\n",
    "granuleConfig = {\n",
    "    'granule_id' : 'G1226018995-POCUMULUS',\n",
    "}\n",
    "spatialSubsetConfig = {\n",
    "    'west' : '-90',\n",
    "    'south' : '-45',\n",
    "    'east' : '90',\n",
    "    'north' : '45'\n",
    "}\n",
    "eoss_var_subset_url = eoss_collection_root+'{granule_id}/?bbox={west},{south},{east},{north}'.format(**granuleConfig, **spatialSubsetConfig)\n",
    "\n",
    "print('Request URL', eoss_var_subset_url)\n",
    "\n",
    "with request.urlopen(eoss_var_subset_url) as response, open('temp.nc', 'wb') as out_file:\n",
    "    print('Stream response, not saved to S3:', response.geturl())\n",
    "    print('Content Size:', response.headers['Content-length'])\n",
    "    shutil.copyfileobj(response, out_file)\n",
    "    print(\"Downloaded request to temp.nc\")"
   ]
  },
  {
   "cell_type": "markdown",
   "metadata": {},
   "source": [
    "## Same operation with OGC API\n",
    "\n",
    "The PO.DAAC Subsetter didn't need any updates for this to work."
   ]
  },
  {
   "cell_type": "code",
   "execution_count": 15,
   "metadata": {},
   "outputs": [
    {
     "name": "stdout",
     "output_type": "stream",
     "text": [
      "Request URL https://harmony.uat.earthdata.nasa.gov/C1225996408-POCUMULUS/ogc-api-coverages/1.0.0/collections/all/coverage/rangeset?granuleid=G1226018995-POCUMULUS&subset=lat(-45.75:45)&subset=lon(-90:90)\n"
     ]
    }
   ],
   "source": [
    "bboxSubsetConfig = {\n",
    "    'collection_id': 'C1225996408-POCUMULUS',\n",
    "    'ogc-api-coverages_version': '1.0.0',\n",
    "    'variable': 'all',\n",
    "    'granuleid': 'G1226018995-POCUMULUS',\n",
    "    'lat': '(-45.75:45)',\n",
    "    'lon': '(-90:90)'\n",
    "}\n",
    "bbox_url = harmony_root+'/{collection_id}/ogc-api-coverages/{ogc-api-coverages_version}/collections/{variable}/coverage/rangeset?granuleid={granuleid}&subset=lat{lat}&subset=lon{lon}'.format(**bboxSubsetConfig)\n",
    "print('Request URL', bbox_url)\n"
   ]
  },
  {
   "cell_type": "code",
   "execution_count": 16,
   "metadata": {},
   "outputs": [
    {
     "name": "stdout",
     "output_type": "stream",
     "text": [
      "Content Size: 6434121\n",
      "Downloaded request to ogc_temp.nc\n"
     ]
    }
   ],
   "source": [
    "with request.urlopen(bbox_url) as response, open('ogc_temp.nc', 'wb') as out_file:\n",
    "    print('Content Size:', response.headers['Content-length'])\n",
    "    shutil.copyfileobj(response, out_file)\n",
    "    print(\"Downloaded request to ogc_temp.nc\")"
   ]
  }
 ],
 "metadata": {
  "kernelspec": {
   "display_name": "Python [python3]",
   "language": "python",
   "name": "conda-env-python3-py"
  },
  "language_info": {
   "codemirror_mode": {
    "name": "ipython",
    "version": 3
   },
   "file_extension": ".py",
   "mimetype": "text/x-python",
   "name": "python",
   "nbconvert_exporter": "python",
   "pygments_lexer": "ipython3",
   "version": "3.7.5"
  }
 },
 "nbformat": 4,
 "nbformat_minor": 4
}
