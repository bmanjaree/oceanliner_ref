{
 "cells": [
  {
   "cell_type": "markdown",
   "metadata": {},
   "source": [
    "# Harmony EOSS L2SS API Tutorial"
   ]
  },
  {
   "cell_type": "markdown",
   "metadata": {},
   "source": [
    "## Before you start\n",
    "Before you beginning this tutorial, make sure you have an account in the Earthdata Login UAT environment, which \n",
    "will be used for this notebook by visiting [https://uat.urs.earthdata.nasa.gov](https://uat.urs.earthdata.nasa.gov).\n",
    "These accounts, as all Earthdata Login accounts, are free to create and only take a moment to set up."
   ]
  },
  {
   "cell_type": "markdown",
   "metadata": {},
   "source": [
    "## Set Up Authentication\n",
    "\n",
    "We need some boilerplate up front to log in to Earthdata Login.  The function below will allow Python\n",
    "scripts to log into any Earthdata Login application programmatically.  To avoid being prompted for\n",
    "credentials every time you run and also allow clients such as curl to log in, you can add the following\n",
    "to a `.netrc` (`_netrc` on Windows) file in your home directory:\n",
    "\n",
    "```\n",
    "machine uat.urs.earthdata.nasa.gov\n",
    "    login <your username>\n",
    "    password <your password>\n",
    "```\n",
    "\n",
    "Make sure that this file is only readable by the current user or you will receive an error stating\n",
    "\"netrc access too permissive.\"\n",
    "\n",
    "`$ chmod 0600 ~/.netrc` \n"
   ]
  },
  {
   "cell_type": "code",
   "execution_count": 9,
   "metadata": {},
   "outputs": [
    {
     "name": "stdout",
     "output_type": "stream",
     "text": [
      "The autoreload extension is already loaded. To reload it, use:\n",
      "  %reload_ext autoreload\n"
     ]
    }
   ],
   "source": [
    "%load_ext autoreload\n",
    "%autoreload\n",
    "%matplotlib inline\n",
    "\n",
    "import sys\n",
    "# Install dependencies into the Jupyter Kernel\n",
    "!{sys.executable} -m pip install -q requests>=2.23.0 \\\n",
    "CacheControl>=0.12.6 \\\n",
    "matplotlib>=3.2.1 \\\n",
    "Pillow>=7.1.1 \\\n",
    "h5py>=2.10.0 \\\n",
    "numpy>=1.18.2 \\\n",
    "geopandas>=0.7.0 \\\n",
    "descartes>=1.1.0 \\\n",
    "contextily>=1.0.0"
   ]
  },
  {
   "cell_type": "code",
   "execution_count": 3,
   "metadata": {},
   "outputs": [],
   "source": [
    "from urllib import request\n",
    "from http.cookiejar import CookieJar\n",
    "import getpass\n",
    "import netrc\n",
    "\n",
    "def setup_earthdata_login_auth(endpoint):\n",
    "    \"\"\"\n",
    "    Set up the request library so that it authenticates against the given Earthdata Login\n",
    "    endpoint and is able to track cookies between requests.  This looks in the .netrc file \n",
    "    first and if no credentials are found, it prompts for them.\n",
    "\n",
    "    Valid endpoints include:\n",
    "        uat.urs.earthdata.nasa.gov - Earthdata Login UAT (Harmony's current default)\n",
    "        urs.earthdata.nasa.gov - Earthdata Login production\n",
    "    \"\"\"\n",
    "    try:\n",
    "        username, _, password = netrc.netrc().authenticators(endpoint)\n",
    "    except (FileNotFoundError, TypeError):\n",
    "        # FileNotFound = There's no .netrc file\n",
    "        # TypeError = The endpoint isn't in the netrc file, causing the above to try unpacking None\n",
    "        print('Please provide your Earthdata Login credentials to allow data access')\n",
    "        print('Your credentials will only be passed to %s and will not be exposed in Jupyter' % (endpoint))\n",
    "        username = input('Username:')\n",
    "        password = getpass.getpass()\n",
    "\n",
    "    manager = request.HTTPPasswordMgrWithDefaultRealm()\n",
    "    manager.add_password(None, endpoint, username, password)\n",
    "    auth = request.HTTPBasicAuthHandler(manager)\n",
    "\n",
    "    jar = CookieJar()\n",
    "    processor = request.HTTPCookieProcessor(jar)\n",
    "    opener = request.build_opener(auth, processor)\n",
    "    request.install_opener(opener)\n"
   ]
  },
  {
   "cell_type": "markdown",
   "metadata": {},
   "source": [
    "Now call the above function to set up Earthdata Login for subsequent requests"
   ]
  },
  {
   "cell_type": "code",
   "execution_count": 4,
   "metadata": {},
   "outputs": [],
   "source": [
    "setup_earthdata_login_auth('uat.urs.earthdata.nasa.gov')"
   ]
  },
  {
   "cell_type": "markdown",
   "metadata": {},
   "source": [
    "# Multiple Granule Subset\n",
    "\n",
    "The cell below shows the ability to subset more than just one granule at a time. It sends a request to subset Jason-1 data by bounding box and time; it then waits for the results to come back and prints the links to the subsetted data."
   ]
  },
  {
   "cell_type": "code",
   "execution_count": 6,
   "metadata": {},
   "outputs": [
    {
     "name": "stdout",
     "output_type": "stream",
     "text": [
      "GET /C1234208437-POCLOUD/ogc-api-coverages/1.0.0/collections/all/coverage/rangeset?subset=lon%28-160%3A160%29&subset=lat%28-80%3A80%29&subset=time%28%222012-03-03T00%3A00%3A00Z%22%3A%222012-03-03T11%3A59%3A59Z%22%29\n",
      "Received application/json; charset=utf-8\n",
      "Async response at 19:54:14\n",
      "{\n",
      "  \"username\": \"greguska\",\n",
      "  \"status\": \"running\",\n",
      "  \"message\": \"The job is being processed\",\n",
      "  \"progress\": 0,\n",
      "  \"createdAt\": \"2020-07-06T19:54:13.700Z\",\n",
      "  \"updatedAt\": \"2020-07-06T19:54:13.700Z\",\n",
      "  \"links\": [],\n",
      "  \"request\": \"https://harmony.uat.earthdata.nasa.gov/C1234208437-POCLOUD/ogc-api-coverages/1.0.0/collections/all/coverage/rangeset?subset=lon(-160%3A160)&subset=lat(-80%3A80)&subset=time(%222012-03-03T00%3A00%3A00Z%22%3A%222012-03-03T11%3A59%3A59Z%22)\",\n",
      "  \"jobID\": \"0d0f916d-b6b4-4cdd-b3f5-8d0c5c2eb445\"\n",
      "}\n",
      "Waiting for updates...\n",
      "Async response at 19:54:50\n",
      "{\n",
      "  \"username\": \"greguska\",\n",
      "  \"status\": \"successful\",\n",
      "  \"message\": \"The job has completed successfully\",\n",
      "  \"progress\": 100,\n",
      "  \"createdAt\": \"2020-07-06T19:54:13.700Z\",\n",
      "  \"updatedAt\": \"2020-07-06T19:54:50.420Z\",\n",
      "  \"links\": [\n",
      "    {\n",
      "      \"href\": \"https://harmony.uat.earthdata.nasa.gov/service-results/harmony-uat-staging/public/podaac/http-service/b9bd14e1-b6cc-4a5e-b86a-93ee7544abb4/subsetted_JA1_GPR_2PeP374_159_20120302_230944_20120303_000551.nc\",\n",
      "      \"type\": \"application/x-netcdf\",\n",
      "      \"rel\": \"data\"\n",
      "    },\n",
      "    {\n",
      "      \"href\": \"https://harmony.uat.earthdata.nasa.gov/service-results/harmony-uat-staging/public/podaac/http-service/b9bd14e1-b6cc-4a5e-b86a-93ee7544abb4/subsetted_JA1_GPR_2PeP374_160_20120303_000552_20120303_010204.nc\",\n",
      "      \"type\": \"application/x-netcdf\",\n",
      "      \"rel\": \"data\"\n",
      "    },\n",
      "    {\n",
      "      \"href\": \"https://harmony.uat.earthdata.nasa.gov/service-results/harmony-uat-staging/public/podaac/http-service/b9bd14e1-b6cc-4a5e-b86a-93ee7544abb4/subsetted_JA1_GPR_2PeP374_161_20120303_010205_20120303_015816.nc\",\n",
      "      \"type\": \"application/x-netcdf\",\n",
      "      \"rel\": \"data\"\n",
      "    },\n",
      "    {\n",
      "      \"href\": \"https://harmony.uat.earthdata.nasa.gov/service-results/harmony-uat-staging/public/podaac/http-service/b9bd14e1-b6cc-4a5e-b86a-93ee7544abb4/subsetted_JA1_GPR_2PeP374_165_20120303_044656_20120303_054304.nc\",\n",
      "      \"type\": \"application/x-netcdf\",\n",
      "      \"rel\": \"data\"\n",
      "    },\n",
      "    {\n",
      "      \"href\": \"https://harmony.uat.earthdata.nasa.gov/service-results/harmony-uat-staging/public/podaac/http-service/b9bd14e1-b6cc-4a5e-b86a-93ee7544abb4/subsetted_JA1_GPR_2PeP374_169_20120303_083148_20120303_092800.nc\",\n",
      "      \"type\": \"application/x-netcdf\",\n",
      "      \"rel\": \"data\"\n",
      "    },\n",
      "    {\n",
      "      \"href\": \"https://harmony.uat.earthdata.nasa.gov/service-results/harmony-uat-staging/public/podaac/http-service/b9bd14e1-b6cc-4a5e-b86a-93ee7544abb4/subsetted_JA1_GPR_2PeP374_166_20120303_054317_20120303_063922.nc\",\n",
      "      \"type\": \"application/x-netcdf\",\n",
      "      \"rel\": \"data\"\n",
      "    },\n",
      "    {\n",
      "      \"href\": \"https://harmony.uat.earthdata.nasa.gov/service-results/harmony-uat-staging/public/podaac/http-service/b9bd14e1-b6cc-4a5e-b86a-93ee7544abb4/subsetted_JA1_GPR_2PeP374_164_20120303_035043_20120303_044655.nc\",\n",
      "      \"type\": \"application/x-netcdf\",\n",
      "      \"rel\": \"data\"\n",
      "    },\n",
      "    {\n",
      "      \"href\": \"https://harmony.uat.earthdata.nasa.gov/service-results/harmony-uat-staging/public/podaac/http-service/b9bd14e1-b6cc-4a5e-b86a-93ee7544abb4/subsetted_JA1_GPR_2PeP374_162_20120303_015817_20120303_025429.nc\",\n",
      "      \"type\": \"application/x-netcdf\",\n",
      "      \"rel\": \"data\"\n",
      "    },\n",
      "    {\n",
      "      \"href\": \"https://harmony.uat.earthdata.nasa.gov/service-results/harmony-uat-staging/public/podaac/http-service/b9bd14e1-b6cc-4a5e-b86a-93ee7544abb4/subsetted_JA1_GPR_2PeP374_163_20120303_025430_20120303_035042.nc\",\n",
      "      \"type\": \"application/x-netcdf\",\n",
      "      \"rel\": \"data\"\n",
      "    },\n",
      "    {\n",
      "      \"href\": \"https://harmony.uat.earthdata.nasa.gov/service-results/harmony-uat-staging/public/podaac/http-service/b9bd14e1-b6cc-4a5e-b86a-93ee7544abb4/subsetted_JA1_GPR_2PeP374_167_20120303_063923_20120303_073534.nc\",\n",
      "      \"type\": \"application/x-netcdf\",\n",
      "      \"rel\": \"data\"\n",
      "    }\n",
      "  ],\n",
      "  \"request\": \"https://harmony.uat.earthdata.nasa.gov/C1234208437-POCLOUD/ogc-api-coverages/1.0.0/collections/all/coverage/rangeset?subset=lon(-160%3A160)&subset=lat(-80%3A80)&subset=time(%222012-03-03T00%3A00%3A00Z%22%3A%222012-03-03T11%3A59%3A59Z%22)\",\n",
      "  \"jobID\": \"0d0f916d-b6b4-4cdd-b3f5-8d0c5c2eb445\"\n",
      "}\n",
      "Async request is complete\n"
     ]
    },
    {
     "data": {
      "text/plain": [
       "<Response [200]>"
      ]
     },
     "execution_count": 6,
     "metadata": {},
     "output_type": "execute_result"
    }
   ],
   "source": [
    "from contextlib import contextmanager\n",
    "import http.client as http_client\n",
    "import logging\n",
    "from datetime import datetime\n",
    "from time import sleep\n",
    "import json\n",
    "\n",
    "import tempfile\n",
    "import os\n",
    "\n",
    "from io import BytesIO\n",
    "import contextily as ctx\n",
    "\n",
    "import requests\n",
    "from cachecontrol import CacheController, CacheControlAdapter\n",
    "\n",
    "def _build_session():\n",
    "  \"\"\"Builds a requests session that caches responses where possible, making redirects faster.\n",
    "\n",
    "  Returns:\n",
    "      requests.Session -- A shared session to use for the notebook\n",
    "  \"\"\"\n",
    "  result = requests.session()\n",
    "\n",
    "  # Set up caching.  Particularly obey and cache 307 redirects to avoid duplicate expensive calls when we already\n",
    "  # have a result\n",
    "  cache_adapter = CacheControlAdapter()\n",
    "  cache_adapter.controller = CacheController(cache=cache_adapter.cache, status_codes=(200, 203, 300, 301, 307))\n",
    "\n",
    "  result.mount('http://', cache_adapter)\n",
    "  result.mount('https://', cache_adapter)\n",
    "  return result\n",
    "\n",
    "# Session accessible by callers\n",
    "session = _build_session()\n",
    "\n",
    "def debug_http():\n",
    "  \"\"\"Adds debugging output to HTTP requests to show redirects, headers, etc\n",
    "  \"\"\"\n",
    "  http_client.HTTPConnection.debuglevel = 1\n",
    "  logging.basicConfig()\n",
    "  logging.getLogger().setLevel(logging.DEBUG)\n",
    "  requests_log = logging.getLogger(\"requests.packages.urllib3\")\n",
    "  requests_log.setLevel(logging.DEBUG)\n",
    "  requests_log.propagate = True\n",
    "\n",
    "def request(*args, **kwargs):\n",
    "  \"\"\"Thin wrapper around requests.Request, logging URL sent and Content-Type received\n",
    "\n",
    "  See https://requests.readthedocs.io/en/master/api/#requests.Request for args\n",
    "\n",
    "  Returns:\n",
    "      requests.Response -- The response to the request\n",
    "  \"\"\"\n",
    "  req = requests.Request(*args, **kwargs)\n",
    "  prepped = session.prepare_request(req)\n",
    "\n",
    "  print('%s %s' % (prepped.method, prepped.path_url))\n",
    "  response = session.send(prepped)\n",
    "  print('Received %s' % (response.headers.get('Content-Type', 'unknown content',)))\n",
    "  return response\n",
    "\n",
    "def get(*args, **kwargs):\n",
    "  \"\"\"Performs a GET request using the request wrapper\n",
    "\n",
    "  See https://requests.readthedocs.io/en/master/api/#requests.Request for args\n",
    "\n",
    "  Returns:\n",
    "      requests.Response -- The response to the request\n",
    "  \"\"\"\n",
    "  return request('GET', *args, **kwargs)\n",
    "\n",
    "def get_data_urls(response):\n",
    "  \"\"\"Returns the data URLs in an async response\n",
    "\n",
    "  Arguments:\n",
    "      response {response.Response} -- The async job response\n",
    "\n",
    "  Returns:\n",
    "      string[] -- An array of URLs for data links\n",
    "  \"\"\"\n",
    "  return [link['href'] for link in response.json()['links'] if link.get('rel', 'data') == 'data']\n",
    "\n",
    "def show_async(response):\n",
    "  \"\"\"Shows an asynchronous Harmony response.\n",
    "\n",
    "  Polls the output, displaying it as it changes, displaying any http data\n",
    "  links in the response as they arrive, and ultimately ending once the request\n",
    "  is successful or failed\n",
    "\n",
    "  Arguments:\n",
    "      response {response.Response} -- the response to display\n",
    "\n",
    "  Returns:\n",
    "      response.Response -- the response from the final successful or failed poll\n",
    "  \"\"\"\n",
    "  def show_response(response, link_count):\n",
    "    print('Async response at', datetime.now().strftime(\"%H:%M:%S\"))\n",
    "    print(json.dumps(response.json(), indent=2))\n",
    "    links = get_data_urls(response)\n",
    "    new_links = links[slice(link_count, None)]\n",
    "    return len(links)\n",
    "\n",
    "  displayed_link_count = 0\n",
    "  body = response.json()\n",
    "  displayed_link_count = show_response(response, displayed_link_count)\n",
    "  waiting_message_printed = False\n",
    "  while body['status'] not in ['successful', 'failed']:\n",
    "    if not waiting_message_printed:\n",
    "      print('Waiting for updates...')\n",
    "      waiting_message_printed = True\n",
    "    sleep(1)\n",
    "    progress = body['progress']\n",
    "    status = body['status']\n",
    "    response = session.get(response.url)\n",
    "    body = response.json()\n",
    "    if progress != body['progress'] or status != body['status']:\n",
    "      displayed_link_count = show_response(response, displayed_link_count)\n",
    "      waiting_message_printed = False\n",
    "  print('Async request is complete')\n",
    "  return response\n",
    "\n",
    "\n",
    "\n",
    "# debug_http()\n",
    "\n",
    "jason1_collection = 'C1234208437-POCLOUD'\n",
    "variable = 'all'\n",
    "params = {\n",
    "    'subset': [\n",
    "        'lon(-160:160)', \n",
    "        'lat(-80:80)', \n",
    "        'time(\"2012-03-03T00:00:00Z\":\"2012-03-03T11:59:59Z\")']\n",
    "}\n",
    "\n",
    "coverages_root = 'https://harmony.uat.earthdata.nasa.gov/{collection}/ogc-api-coverages/1.0.0/collections/{variable}/coverage/rangeset'\n",
    "response = get(\n",
    "    coverages_root.format(\n",
    "        collection=jason1_collection, \n",
    "        variable=variable), \n",
    "    params=params)\n",
    "\n",
    "# print(response)\n",
    "# print(response.text)\n",
    "show_async(response)"
   ]
  },
  {
   "cell_type": "markdown",
   "metadata": {},
   "source": [
    "### Find a granule for subsetting\n",
    "\n",
    "Below we call out a specific granule (G1226018995-POCUMULUS) on which we will use the podaac L2 subsetter. Finding this information would complicate the tutorial- but po.daac has a tutorial available for using the CMR API to find collections and granules of interest. Please see the following tutorial for that information:\n",
    "\n",
    "PODAAC_CMR.ipynb\n"
   ]
  },
  {
   "cell_type": "code",
   "execution_count": 6,
   "metadata": {
    "tags": [
     "parameters"
    ]
   },
   "outputs": [],
   "source": [
    "# JASON-1_L2_OST_GPR_E\n",
    "collection = 'C1234208437-POCLOUD'"
   ]
  },
  {
   "cell_type": "markdown",
   "metadata": {},
   "source": [
    "##  Subset of a PO.DAAC Granule\n",
    "\n",
    "We can now build onto the root URL in order to actually perform a transformation.  The first transformation is a subset of a selected granule.  _At this time, this requires discovering the granule id from CMR_.  That information can then be appended to the root URL and used to call Harmony with the help of the `request` library.\n",
    "\n",
    "Above we show how to find a granule id for processing.\n",
    "\n",
    "**Notes:**\n",
    "  The L2 subsetter current streams the data back to the user, and does not stage data in S3 for redirects. This is functionality we will be adding over time.\n",
    "  It doesn't work with URS backed files, which is coming in the next few weeks\n",
    "  it only works on the show dataset, but \n",
    "    "
   ]
  },
  {
   "cell_type": "code",
   "execution_count": 7,
   "metadata": {},
   "outputs": [
    {
     "name": "stdout",
     "output_type": "stream",
     "text": [
      "{'meta': {'concept-type': 'granule', 'concept-id': 'G1234219810-POCLOUD', 'revision-id': 1, 'native-id': 'JA1_GPR_2PeP001_002_20020115_060706_20020115_070316', 'provider-id': 'POCLOUD', 'format': 'application/vnd.nasa.cmr.umm+json', 'revision-date': '2020-04-07T00:09:13Z'}, 'umm': {'RelatedUrls': [{'URL': 'https://archive.podaac.uat.earthdata.nasa.gov/podaac-uat-cumulus-protected/JA1_GPR_2PeP001_002_20020115_060706_20020115_070316.nc', 'Type': 'GET DATA', 'Description': 'The base directory location for the granule.'}, {'URL': 'https://archive.podaac.uat.earthdata.nasa.gov/podaac-uat-cumulus-public/JA1_GPR_2PeP001_002_20020115_060706_20020115_070316.cmr.json', 'Type': 'EXTENDED METADATA', 'Description': 'File to download'}, {'URL': 'https://archive.podaac.uat.earthdata.nasa.gov/s3credentials', 'Type': 'VIEW RELATED INFORMATION', 'Description': 'api endpoint to retrieve temporary credentials valid for same-region direct s3 access'}], 'SpatialExtent': {'HorizontalSpatialDomain': {'Geometry': {'BoundingRectangles': [{'WestBoundingCoordinate': -176.832, 'EastBoundingCoordinate': -11.433, 'NorthBoundingCoordinate': 66.148, 'SouthBoundingCoordinate': -66.148}]}, 'Track': {'Cycle': 1, 'Passes': [{'Pass': 2}]}}}, 'ProviderDates': [{'Date': '2020-04-07T00:08:43.468Z', 'Type': 'Insert'}, {'Date': '2020-04-07T00:08:43.470Z', 'Type': 'Update'}], 'CollectionReference': {'ShortName': 'JASON-1_L2_OST_GPR_E', 'Version': 'E'}, 'DataGranule': {'DayNightFlag': 'Unspecified', 'ProductionDateTime': '2016-01-15T07:02:33.000Z', 'ArchiveAndDistributionInformation': [{'Name': 'Not provided', 'Size': 0.17650985717773438, 'SizeUnit': 'MB'}]}, 'TemporalExtent': {'RangeDateTime': {'BeginningDateTime': '2002-01-15T06:07:06.818Z', 'EndingDateTime': '2002-01-15T07:03:16.384Z'}}, 'GranuleUR': 'JA1_GPR_2PeP001_002_20020115_060706_20020115_070316', 'MetadataSpecification': {'URL': 'https://cdn.earthdata.nasa.gov/umm/granule/v1.6.1', 'Name': 'UMM-G', 'Version': '1.6.1'}}}\n",
      "G1234219810-POCLOUD\n"
     ]
    }
   ],
   "source": [
    "import requests\n",
    "cmr_url = \"https://cmr.uat.earthdata.nasa.gov/search/granules.umm_json?collection_concept_id=\"+collection+\"&bounding_box=-90,-45.75,90,-45\"\n",
    "response = requests.get(cmr_url)\n",
    "\n",
    "gid=response.json()['items'][0]['meta']['concept-id']\n",
    "print(response.json()['items'][0])\n",
    "print(gid)\n",
    "\n",
    "\n"
   ]
  },
  {
   "cell_type": "code",
   "execution_count": 9,
   "metadata": {},
   "outputs": [
    {
     "name": "stdout",
     "output_type": "stream",
     "text": [
      "Request URL https://harmony.uat.earthdata.nasa.gov/C1234208437-POCLOUD/ogc-api-coverages/1.0.0/collections/all/coverage/rangeset?granuleid=G1234413304-POCLOUD&subset=lat(-45:45)&subset=lon(-45:45)\n"
     ]
    }
   ],
   "source": [
    "harmony_root = 'https://harmony.uat.earthdata.nasa.gov'\n",
    "bboxSubsetConfig = {\n",
    "    'collection_id': collection,\n",
    "    'ogc-api-coverages_version': '1.0.0',\n",
    "    'variable': 'all',\n",
    "    'granuleid': 'G1234413304-POCLOUD',\n",
    "    'lat': '(-45:45)',\n",
    "    'lon': '(-45:45)'\n",
    "}\n",
    "bbox_url = harmony_root+'/{collection_id}/ogc-api-coverages/{ogc-api-coverages_version}/collections/{variable}/coverage/rangeset?granuleid={granuleid}&subset=lat{lat}&subset=lon{lon}'.format(**bboxSubsetConfig)\n",
    "print('Request URL', bbox_url)\n"
   ]
  },
  {
   "cell_type": "code",
   "execution_count": 8,
   "metadata": {},
   "outputs": [
    {
     "name": "stdout",
     "output_type": "stream",
     "text": [
      "Content Size: 7228503\n",
      "Downloaded request to ogc_temp.nc\n"
     ]
    }
   ],
   "source": [
    "import shutil\n",
    "with request.urlopen(bbox_url) as response, open('ogc_temp.nc', 'wb') as out_file:\n",
    "    print('Content Size:', response.headers['Content-length'])\n",
    "    shutil.copyfileobj(response, out_file)\n",
    "    print(\"Downloaded request to ogc_temp.nc\")"
   ]
  },
  {
   "cell_type": "code",
   "execution_count": null,
   "metadata": {},
   "outputs": [],
   "source": [
    "import xarray as xa\n",
    "ds = xa.open_dataset('ogc_temp.nc')\n",
    "ds"
   ]
  },
  {
   "cell_type": "code",
   "execution_count": 11,
   "metadata": {},
   "outputs": [
    {
     "data": {
      "text/plain": [
       "[<matplotlib.lines.Line2D at 0x7fc810a4acd0>]"
      ]
     },
     "execution_count": 11,
     "metadata": {},
     "output_type": "execute_result"
    },
    {
     "data": {
      "image/png": "[encoded data removed]",
      "text/plain": [
       "<Figure size 432x288 with 1 Axes>"
      ]
     },
     "metadata": {
      "needs_background": "light"
     },
     "output_type": "display_data"
    }
   ],
   "source": [
    "ds.ssha.plot()"
   ]
  },
  {
   "cell_type": "markdown",
   "metadata": {},
   "source": [
    "## Verify the subsetting worked\n",
    "\n",
    "Bounds used were: \n",
    "\n",
    "  'lat': '(-45.75:45)',\n",
    "  'lon': '(-90:90)'"
   ]
  },
  {
   "cell_type": "code",
   "execution_count": 12,
   "metadata": {},
   "outputs": [
    {
     "name": "stdout",
     "output_type": "stream",
     "text": [
      "<xarray.DataArray 'lon' ()>\n",
      "array(-89.987954)\n",
      "<xarray.DataArray 'lon' ()>\n",
      "array(-71.373639)\n",
      "Successful Latitude subsetting\n",
      "Successful Longitude subsetting\n"
     ]
    }
   ],
   "source": [
    "lat_max = ds.lat.max()\n",
    "lat_min = ds.lat.min()\n",
    "\n",
    "lon_min = ds.lon.min()\n",
    "lon_max = ds.lon.max()\n",
    "\n",
    "lon_min = (ds.lon.min() + 180) % 360 - 180\n",
    "lon_max = (ds.lon.max() + 180) % 360 - 180\n",
    "\n",
    "print(lon_min)\n",
    "print(lon_max)\n",
    "\n",
    "\n",
    "\n",
    "if lat_max < 45 and lat_min > -45.75:\n",
    "    print(\"Successful Latitude subsetting\")\n",
    "else:\n",
    "    assert False\n",
    "\n",
    "\n",
    "if lon_max < 90 and lon_min > -90:\n",
    "    print(\"Successful Longitude subsetting\")\n",
    "else:\n",
    "    assert False\n",
    "    "
   ]
  }
 ],
 "metadata": {
  "celltoolbar": "Tags",
  "kernelspec": {
   "display_name": "Python [python3]",
   "language": "python",
   "name": "conda-env-python3-py"
  },
  "language_info": {
   "codemirror_mode": {
    "name": "ipython",
    "version": 3
   },
   "file_extension": ".py",
   "mimetype": "text/x-python",
   "name": "python",
   "nbconvert_exporter": "python",
   "pygments_lexer": "ipython3",
   "version": "3.7.7"
  }
 },
 "nbformat": 4,
 "nbformat_minor": 4
}
